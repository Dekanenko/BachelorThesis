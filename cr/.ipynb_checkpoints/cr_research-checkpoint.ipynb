{
 "cells": [
  {
   "cell_type": "code",
   "execution_count": 1,
   "id": "e1def1c8",
   "metadata": {},
   "outputs": [],
   "source": [
    "import tensorflow as tf\n",
    "tf.config.experimental.set_visible_devices([], 'GPU')\n",
    "from tensorflow import keras\n",
    "import numpy as np\n",
    "import pandas as pd\n",
    "import matplotlib.pyplot as plt\n",
    "import xlsxwriter\n",
    "\n",
    "# import module with layers\n",
    "import sys\n",
    "import os\n",
    "module_path = os.path.abspath(os.path.join('..'))\n",
    "if module_path not in sys.path:\n",
    "    sys.path.append(module_path+\"/model_module\")\n",
    "\n",
    "from adaptive_layer import *"
   ]
  },
  {
   "cell_type": "code",
   "execution_count": 2,
   "id": "ef3ae740",
   "metadata": {},
   "outputs": [],
   "source": [
    "tf.random.set_seed(5)\n",
    "np.random.seed(5)"
   ]
  },
  {
   "cell_type": "code",
   "execution_count": 3,
   "id": "f26c27cd",
   "metadata": {},
   "outputs": [],
   "source": [
    "def illustrate_train(name, y_label, static_f, adaptive_f, adaptive_nn, adaptive_conv_nn):\n",
    "    epochs = range(0, len(static_f))\n",
    "    fig = plt.figure(figsize=(10,7))\n",
    "    ax = fig.add_subplot()\n",
    "    plt.title(name, fontsize=\"xx-large\")\n",
    "\n",
    "    ax.set_ylabel(y_label, fontsize=\"large\")\n",
    "    ax.set_xlabel('Epochs', fontsize=\"large\")\n",
    "\n",
    "    ax.plot(epochs, static_f, label='Static Function')\n",
    "    ax.plot(epochs, adaptive_f, label='Adaptive Function')\n",
    "    ax.plot(epochs, adaptive_nn, label='Adaptive NN')\n",
    "    ax.plot(epochs, adaptive_conv_nn, label='Adaptive Conv NN')\n",
    "\n",
    "    ax.legend()\n",
    "    \n",
    "    plt.grid()\n",
    "    plt.show()"
   ]
  },
  {
   "cell_type": "code",
   "execution_count": 4,
   "id": "ab8cca84",
   "metadata": {},
   "outputs": [],
   "source": [
    "def illustrate_test(name, static_f, adaptive_f, adaptive_nn, adaptive_conv_nn):\n",
    "    fig = plt.figure(figsize=(10,7))\n",
    "    ax = fig.add_subplot()\n",
    "    \n",
    "    x = [\"Static Function\", \"Adaptive Function\", \"Adaptive NN\", \"Adaptive Conv NN\"]\n",
    "    y = [static_f, adaptive_f, adaptive_nn, adaptive_conv_nn]\n",
    "    \n",
    "    plt.title(name, fontsize=\"xx-large\")\n",
    "    ax.set_ylabel(\"mean absolute error\", fontsize=\"large\")\n",
    "    \n",
    "    ax.bar(x, y)\n",
    "    \n",
    "    plt.grid()\n",
    "    plt.show()"
   ]
  },
  {
   "cell_type": "code",
   "execution_count": 5,
   "id": "a7b83af7",
   "metadata": {},
   "outputs": [],
   "source": [
    "workbook = xlsxwriter.Workbook('cr_measurements.xlsx')"
   ]
  },
  {
   "cell_type": "code",
   "execution_count": 6,
   "id": "81260211",
   "metadata": {},
   "outputs": [],
   "source": [
    "def save_data(name, static_f_train, adaptive_f_train, adaptive_nn_train, adaptive_conv_nn_train, \n",
    "              static_f_test, adaptive_f_test, adaptive_nn_test, adaptive_conv_nn_test):\n",
    "    \n",
    "    epochs = len(static_f_train[0][:])\n",
    "    worksheet = workbook.add_worksheet(name)\n",
    "    \n",
    "    worksheet.write(1, 1, name + \" Training Loss\")\n",
    "    worksheet.write(1, 7, name + \" Training Accuracy\")\n",
    "    worksheet.write(1, 13, name + \" Test Accuracy\")\n",
    "    \n",
    "    worksheet.write(2, 1, \"Epochs\")\n",
    "    worksheet.write(2, 2, \"Static Function\")\n",
    "    worksheet.write(2, 3, \"Adaptive Function\")\n",
    "    worksheet.write(2, 4, \"Adaptive NN\")\n",
    "    worksheet.write(2, 5, \"Adaptive Conv NN\")\n",
    "    \n",
    "    worksheet.write(2, 7, \"Epochs\")\n",
    "    worksheet.write(2, 8, \"Static Function\")\n",
    "    worksheet.write(2, 9, \"Adaptive Function\")\n",
    "    worksheet.write(2, 10, \"Adaptive NN\")\n",
    "    worksheet.write(2, 11, \"Adaptive Conv NN\")\n",
    "    \n",
    "    worksheet.write(2, 13, \"Static Function\")\n",
    "    worksheet.write(2, 14, \"Adaptive Function\")\n",
    "    worksheet.write(2, 15, \"Adaptive NN\")\n",
    "    worksheet.write(2, 16, \"Adaptive Conv NN\")\n",
    "    \n",
    "    worksheet.write(3, 13, static_f_test)\n",
    "    worksheet.write(3, 14, adaptive_f_test)\n",
    "    worksheet.write(3, 15, adaptive_nn_test)\n",
    "    worksheet.write(3, 16, adaptive_conv_nn_test)\n",
    "    \n",
    "    for i in range(0, epochs):\n",
    "        worksheet.write(3+i, 1, i+1)\n",
    "        worksheet.write(3+i, 2, static_f_train[0][i])\n",
    "        worksheet.write(3+i, 3, adaptive_f_train[0][i])\n",
    "        worksheet.write(3+i, 4, adaptive_nn_train[0][i])\n",
    "        worksheet.write(3+i, 5, adaptive_conv_nn_train[0][i])\n",
    "        \n",
    "        worksheet.write(3+i, 7, i+1)\n",
    "        worksheet.write(3+i, 8, static_f_train[1][i])\n",
    "        worksheet.write(3+i, 9, adaptive_f_train[1][i])\n",
    "        worksheet.write(3+i, 10, adaptive_nn_train[1][i])\n",
    "        worksheet.write(3+i, 11, adaptive_conv_nn_train[1][i])\n",
    "    \n",
    "    workbook.close()"
   ]
  },
  {
   "cell_type": "code",
   "execution_count": 5,
   "id": "4965b33a",
   "metadata": {},
   "outputs": [],
   "source": [
    "# dataset\n",
    "\n",
    "x1 = tf.random.uniform(shape=(2500, 1), minval=-1, maxval=1)\n",
    "x2 = tf.random.uniform(shape=(2500, 1), minval=-1, maxval=1)\n",
    "x3 = tf.random.uniform(shape=(2500, 1), minval=-1, maxval=1)\n",
    "x4 = tf.random.uniform(shape=(2500, 1), minval=-1, maxval=1)\n",
    "x5 = tf.random.uniform(shape=(2500, 1), minval=-1, maxval=1)\n",
    "x6 = tf.random.uniform(shape=(2500, 1), minval=-1, maxval=1)\n",
    "x7 = tf.random.uniform(shape=(2500, 1), minval=-1, maxval=1)\n",
    "x8 = tf.random.uniform(shape=(2500, 1), minval=-1, maxval=1)\n",
    "x9 = tf.random.uniform(shape=(2500, 1), minval=-1, maxval=1)\n",
    "x10 = tf.random.uniform(shape=(2500, 1), minval=-1, maxval=1)\n",
    "\n",
    "x = np.array([x1, x2, x3, x4, x5, x6, x7, x8, x9, x10])\n",
    "x = np.reshape(x.transpose(), (x1.shape[0], 10))\n",
    "\n",
    "x = tf.Variable(x)\n",
    "y = np.array([(0.2*x[i][0]*x[i][1]*x[i][1]+x[i][2]+0.05*x[i][3]+2*x[i][4]+0.5*x[i][5]+0.1*x[i][7]\n",
    "              -12*x[i][7]+x[i][8]*x[i][9]) for i in range(x.shape[0])], dtype=float)\n",
    "\n",
    "x_train, x_test = x[:2000], x[2000:]\n",
    "y_train, y_test = y[:2000], y[2000:]"
   ]
  },
  {
   "cell_type": "code",
   "execution_count": 6,
   "id": "acfbf2db",
   "metadata": {},
   "outputs": [],
   "source": [
    "EPOCHS = 50\n",
    "name = \"Classical regression\"\n",
    "\n",
    "# measurement repetitions\n",
    "flag = measurements = 5\n",
    "\n",
    "static_f_hist = np.zeros(shape=[2, EPOCHS])\n",
    "adaptive_f_hist = np.zeros(shape=[2, EPOCHS])\n",
    "adaptive_nn_hist = np.zeros(shape=[2, EPOCHS])\n",
    "adaptive_conv_nn_hist = np.zeros(shape=[2, EPOCHS])\n",
    "\n",
    "static_f_test = 0\n",
    "adaptive_f_test = 0\n",
    "adaptive_nn_test = 0\n",
    "adaptive_conv_nn_test = 0"
   ]
  },
  {
   "cell_type": "code",
   "execution_count": null,
   "id": "9e99d616",
   "metadata": {},
   "outputs": [],
   "source": []
  },
  {
   "cell_type": "code",
   "execution_count": 7,
   "id": "8df7f88c",
   "metadata": {},
   "outputs": [],
   "source": [
    "static_f_model = keras.Sequential([\n",
    "    keras.layers.Dense(100, activation=\"relu\"),\n",
    "    keras.layers.Dense(1, activation=\"linear\")\n",
    "])"
   ]
  },
  {
   "cell_type": "code",
   "execution_count": 8,
   "id": "55a602e2",
   "metadata": {},
   "outputs": [],
   "source": [
    "adaptive_f_model = keras.Sequential([\n",
    "    keras.layers.Dense(100, activation=tf.nn.swish),\n",
    "    keras.layers.Dense(1, activation=\"linear\")\n",
    "])"
   ]
  },
  {
   "cell_type": "code",
   "execution_count": 9,
   "id": "99177453",
   "metadata": {},
   "outputs": [],
   "source": [
    "# Adaptive Layer\n",
    "adaptive_nn_model = AdaptiveModel([\n",
    "    AdaptiveLayer(100, structure=[4, 2, 1], inner_hidden_activation=tf.nn.leaky_relu, \n",
    "                  inner_out_activation=tf.nn.relu, skip_w=1.7), \n",
    "    AdaptiveLayer(1, structure=[8, 4, 1], inner_hidden_activation=tf.nn.relu, skip_w=0.9) \n",
    "])"
   ]
  },
  {
   "cell_type": "code",
   "execution_count": 10,
   "id": "ddfa62fe",
   "metadata": {},
   "outputs": [],
   "source": [
    "# Adaptive Layer based on 1D Conv\n",
    "adaptive_conv_nn_model = AdaptiveModel([\n",
    "    AdaptiveLayerConv(100, structure=[16], split=2, noise=0, skip_w=3.5, \n",
    "                      inner_hidden_activation=tf.nn.leaky_relu, inner_out_activation=tf.nn.leaky_relu), \n",
    "    AdaptiveLayerConv(1, structure=[32], split=2, noise=0, skip_w=1.5, \n",
    "                      inner_hidden_activation=tf.nn.leaky_relu) \n",
    "])"
   ]
  },
  {
   "cell_type": "code",
   "execution_count": 11,
   "id": "38652992",
   "metadata": {},
   "outputs": [],
   "source": [
    "static_f_model.compile(optimizer=tf.optimizers.legacy.Adam(learning_rate=0.001), \n",
    "                       loss=\"mse\", metrics=['mean_absolute_error'])"
   ]
  },
  {
   "cell_type": "code",
   "execution_count": 12,
   "id": "244180f9",
   "metadata": {},
   "outputs": [],
   "source": [
    "adaptive_f_model.compile(optimizer=tf.optimizers.legacy.Adam(learning_rate=0.001), \n",
    "                       loss=\"mse\", metrics=['mean_absolute_error'])"
   ]
  },
  {
   "cell_type": "code",
   "execution_count": 13,
   "id": "ca5dd089",
   "metadata": {},
   "outputs": [],
   "source": [
    "adaptive_nn_model.compile(optimizer=tf.optimizers.legacy.Adam(learning_rate=0.001), \n",
    "                       loss=\"mse\", metrics=['mean_absolute_error'])"
   ]
  },
  {
   "cell_type": "code",
   "execution_count": 14,
   "id": "dc0a4b48",
   "metadata": {},
   "outputs": [],
   "source": [
    "adaptive_conv_nn_model.compile(optimizer=tf.optimizers.legacy.Adam(learning_rate=0.001), \n",
    "                       loss=\"mse\", metrics=['mean_absolute_error'])"
   ]
  },
  {
   "cell_type": "code",
   "execution_count": 15,
   "id": "ee6ac750",
   "metadata": {
    "scrolled": true
   },
   "outputs": [
    {
     "name": "stdout",
     "output_type": "stream",
     "text": [
      "Epoch 1/50\n",
      "32/32 [==============================] - 0s 540us/step - loss: 48.9968 - mean_absolute_error: 6.0341\n",
      "Epoch 2/50\n",
      "32/32 [==============================] - 0s 427us/step - loss: 45.4299 - mean_absolute_error: 5.8162\n",
      "Epoch 3/50\n",
      "32/32 [==============================] - 0s 470us/step - loss: 41.1713 - mean_absolute_error: 5.5385\n",
      "Epoch 4/50\n",
      "32/32 [==============================] - 0s 471us/step - loss: 35.4891 - mean_absolute_error: 5.1432\n",
      "Epoch 5/50\n",
      "32/32 [==============================] - 0s 472us/step - loss: 28.4099 - mean_absolute_error: 4.5933\n",
      "Epoch 6/50\n",
      "32/32 [==============================] - 0s 441us/step - loss: 20.6657 - mean_absolute_error: 3.8992\n",
      "Epoch 7/50\n",
      "32/32 [==============================] - 0s 466us/step - loss: 13.2735 - mean_absolute_error: 3.0969\n",
      "Epoch 8/50\n",
      "32/32 [==============================] - 0s 455us/step - loss: 7.3204 - mean_absolute_error: 2.2547\n",
      "Epoch 9/50\n",
      "32/32 [==============================] - 0s 461us/step - loss: 3.4071 - mean_absolute_error: 1.4888\n",
      "Epoch 10/50\n",
      "32/32 [==============================] - 0s 459us/step - loss: 1.3554 - mean_absolute_error: 0.8825\n",
      "Epoch 11/50\n",
      "32/32 [==============================] - 0s 464us/step - loss: 0.5686 - mean_absolute_error: 0.5387\n",
      "Epoch 12/50\n",
      "32/32 [==============================] - 0s 471us/step - loss: 0.3218 - mean_absolute_error: 0.4108\n",
      "Epoch 13/50\n",
      "32/32 [==============================] - 0s 417us/step - loss: 0.2549 - mean_absolute_error: 0.3850\n",
      "Epoch 14/50\n",
      "32/32 [==============================] - 0s 423us/step - loss: 0.2338 - mean_absolute_error: 0.3777\n",
      "Epoch 15/50\n",
      "32/32 [==============================] - 0s 445us/step - loss: 0.2209 - mean_absolute_error: 0.3701\n",
      "Epoch 16/50\n",
      "32/32 [==============================] - 0s 418us/step - loss: 0.2095 - mean_absolute_error: 0.3614\n",
      "Epoch 17/50\n",
      "32/32 [==============================] - 0s 413us/step - loss: 0.1995 - mean_absolute_error: 0.3530\n",
      "Epoch 18/50\n",
      "32/32 [==============================] - 0s 412us/step - loss: 0.1886 - mean_absolute_error: 0.3441\n",
      "Epoch 19/50\n",
      "32/32 [==============================] - 0s 447us/step - loss: 0.1794 - mean_absolute_error: 0.3350\n",
      "Epoch 20/50\n",
      "32/32 [==============================] - 0s 407us/step - loss: 0.1703 - mean_absolute_error: 0.3265\n",
      "Epoch 21/50\n",
      "32/32 [==============================] - 0s 393us/step - loss: 0.1619 - mean_absolute_error: 0.3186\n",
      "Epoch 22/50\n",
      "32/32 [==============================] - 0s 430us/step - loss: 0.1539 - mean_absolute_error: 0.3103\n",
      "Epoch 23/50\n",
      "32/32 [==============================] - 0s 446us/step - loss: 0.1458 - mean_absolute_error: 0.3028\n",
      "Epoch 24/50\n",
      "32/32 [==============================] - 0s 440us/step - loss: 0.1379 - mean_absolute_error: 0.2935\n",
      "Epoch 25/50\n",
      "32/32 [==============================] - 0s 427us/step - loss: 0.1309 - mean_absolute_error: 0.2875\n",
      "Epoch 26/50\n",
      "32/32 [==============================] - 0s 419us/step - loss: 0.1236 - mean_absolute_error: 0.2783\n",
      "Epoch 27/50\n",
      "32/32 [==============================] - 0s 424us/step - loss: 0.1170 - mean_absolute_error: 0.2714\n",
      "Epoch 28/50\n",
      "32/32 [==============================] - 0s 429us/step - loss: 0.1102 - mean_absolute_error: 0.2636\n",
      "Epoch 29/50\n",
      "32/32 [==============================] - 0s 417us/step - loss: 0.1041 - mean_absolute_error: 0.2561\n",
      "Epoch 30/50\n",
      "32/32 [==============================] - 0s 409us/step - loss: 0.0981 - mean_absolute_error: 0.2476\n",
      "Epoch 31/50\n",
      "32/32 [==============================] - 0s 392us/step - loss: 0.0918 - mean_absolute_error: 0.2403\n",
      "Epoch 32/50\n",
      "32/32 [==============================] - 0s 445us/step - loss: 0.0864 - mean_absolute_error: 0.2325\n",
      "Epoch 33/50\n",
      "32/32 [==============================] - 0s 440us/step - loss: 0.0810 - mean_absolute_error: 0.2251\n",
      "Epoch 34/50\n",
      "32/32 [==============================] - 0s 462us/step - loss: 0.0762 - mean_absolute_error: 0.2181\n",
      "Epoch 35/50\n",
      "32/32 [==============================] - 0s 435us/step - loss: 0.0713 - mean_absolute_error: 0.2105\n",
      "Epoch 36/50\n",
      "32/32 [==============================] - 0s 428us/step - loss: 0.0667 - mean_absolute_error: 0.2049\n",
      "Epoch 37/50\n",
      "32/32 [==============================] - 0s 435us/step - loss: 0.0624 - mean_absolute_error: 0.1963\n",
      "Epoch 38/50\n",
      "32/32 [==============================] - 0s 428us/step - loss: 0.0588 - mean_absolute_error: 0.1902\n",
      "Epoch 39/50\n",
      "32/32 [==============================] - 0s 425us/step - loss: 0.0552 - mean_absolute_error: 0.1839\n",
      "Epoch 40/50\n",
      "32/32 [==============================] - 0s 410us/step - loss: 0.0523 - mean_absolute_error: 0.1790\n",
      "Epoch 41/50\n",
      "32/32 [==============================] - 0s 413us/step - loss: 0.0491 - mean_absolute_error: 0.1724\n",
      "Epoch 42/50\n",
      "32/32 [==============================] - 0s 423us/step - loss: 0.0465 - mean_absolute_error: 0.1672\n",
      "Epoch 43/50\n",
      "32/32 [==============================] - 0s 427us/step - loss: 0.0441 - mean_absolute_error: 0.1637\n",
      "Epoch 44/50\n",
      "32/32 [==============================] - 0s 440us/step - loss: 0.0421 - mean_absolute_error: 0.1588\n",
      "Epoch 45/50\n",
      "32/32 [==============================] - 0s 432us/step - loss: 0.0403 - mean_absolute_error: 0.1554\n",
      "Epoch 46/50\n",
      "32/32 [==============================] - 0s 440us/step - loss: 0.0382 - mean_absolute_error: 0.1515\n",
      "Epoch 47/50\n",
      "32/32 [==============================] - 0s 458us/step - loss: 0.0365 - mean_absolute_error: 0.1479\n",
      "Epoch 48/50\n",
      "32/32 [==============================] - 0s 449us/step - loss: 0.0351 - mean_absolute_error: 0.1442\n",
      "Epoch 49/50\n",
      "32/32 [==============================] - 0s 446us/step - loss: 0.0337 - mean_absolute_error: 0.1416\n",
      "Epoch 50/50\n",
      "32/32 [==============================] - 0s 448us/step - loss: 0.0325 - mean_absolute_error: 0.1391\n"
     ]
    }
   ],
   "source": [
    "hist = static_f_model.fit(x_train, y_train, epochs=EPOCHS, batch_size=64)"
   ]
  },
  {
   "cell_type": "code",
   "execution_count": 16,
   "id": "fece44b0",
   "metadata": {},
   "outputs": [],
   "source": [
    "static_f_hist[0][:] += np.array(hist.history[\"loss\"])/measurements\n",
    "static_f_hist[1][:] += np.array(hist.history[\"mean_absolute_error\"])/measurements"
   ]
  },
  {
   "cell_type": "code",
   "execution_count": 17,
   "id": "8c508df0",
   "metadata": {
    "scrolled": true
   },
   "outputs": [
    {
     "name": "stdout",
     "output_type": "stream",
     "text": [
      "Epoch 1/50\n",
      "32/32 [==============================] - 0s 504us/step - loss: 47.5829 - mean_absolute_error: 5.9489\n",
      "Epoch 2/50\n",
      "32/32 [==============================] - 0s 510us/step - loss: 44.0197 - mean_absolute_error: 5.7306\n",
      "Epoch 3/50\n",
      "32/32 [==============================] - 0s 473us/step - loss: 40.0565 - mean_absolute_error: 5.4708\n",
      "Epoch 4/50\n",
      "32/32 [==============================] - 0s 453us/step - loss: 35.3282 - mean_absolute_error: 5.1451\n",
      "Epoch 5/50\n",
      "32/32 [==============================] - 0s 458us/step - loss: 29.8772 - mean_absolute_error: 4.7373\n",
      "Epoch 6/50\n",
      "32/32 [==============================] - 0s 445us/step - loss: 24.0052 - mean_absolute_error: 4.2473\n",
      "Epoch 7/50\n",
      "32/32 [==============================] - 0s 450us/step - loss: 18.0146 - mean_absolute_error: 3.6759\n",
      "Epoch 8/50\n",
      "32/32 [==============================] - 0s 437us/step - loss: 12.3831 - mean_absolute_error: 3.0372\n",
      "Epoch 9/50\n",
      "32/32 [==============================] - 0s 435us/step - loss: 7.5846 - mean_absolute_error: 2.3698\n",
      "Epoch 10/50\n",
      "32/32 [==============================] - 0s 465us/step - loss: 4.0081 - mean_absolute_error: 1.7144\n",
      "Epoch 11/50\n",
      "32/32 [==============================] - 0s 430us/step - loss: 1.8364 - mean_absolute_error: 1.1514\n",
      "Epoch 12/50\n",
      "32/32 [==============================] - 0s 476us/step - loss: 0.7444 - mean_absolute_error: 0.7171\n",
      "Epoch 13/50\n",
      "32/32 [==============================] - 0s 419us/step - loss: 0.3082 - mean_absolute_error: 0.4460\n",
      "Epoch 14/50\n",
      "32/32 [==============================] - 0s 406us/step - loss: 0.1688 - mean_absolute_error: 0.3215\n",
      "Epoch 15/50\n",
      "32/32 [==============================] - 0s 406us/step - loss: 0.1311 - mean_absolute_error: 0.2800\n",
      "Epoch 16/50\n",
      "32/32 [==============================] - 0s 444us/step - loss: 0.1196 - mean_absolute_error: 0.2672\n",
      "Epoch 17/50\n",
      "32/32 [==============================] - 0s 443us/step - loss: 0.1146 - mean_absolute_error: 0.2619\n",
      "Epoch 18/50\n",
      "32/32 [==============================] - 0s 430us/step - loss: 0.1100 - mean_absolute_error: 0.2562\n",
      "Epoch 19/50\n",
      "32/32 [==============================] - 0s 429us/step - loss: 0.1061 - mean_absolute_error: 0.2514\n",
      "Epoch 20/50\n",
      "32/32 [==============================] - 0s 432us/step - loss: 0.1026 - mean_absolute_error: 0.2477\n",
      "Epoch 21/50\n",
      "32/32 [==============================] - 0s 436us/step - loss: 0.0989 - mean_absolute_error: 0.2423\n",
      "Epoch 22/50\n",
      "32/32 [==============================] - 0s 428us/step - loss: 0.0955 - mean_absolute_error: 0.2382\n",
      "Epoch 23/50\n",
      "32/32 [==============================] - 0s 425us/step - loss: 0.0922 - mean_absolute_error: 0.2342\n",
      "Epoch 24/50\n",
      "32/32 [==============================] - 0s 411us/step - loss: 0.0887 - mean_absolute_error: 0.2290\n",
      "Epoch 25/50\n",
      "32/32 [==============================] - 0s 423us/step - loss: 0.0853 - mean_absolute_error: 0.2246\n",
      "Epoch 26/50\n",
      "32/32 [==============================] - 0s 438us/step - loss: 0.0819 - mean_absolute_error: 0.2205\n",
      "Epoch 27/50\n",
      "32/32 [==============================] - 0s 460us/step - loss: 0.0789 - mean_absolute_error: 0.2158\n",
      "Epoch 28/50\n",
      "32/32 [==============================] - 0s 456us/step - loss: 0.0754 - mean_absolute_error: 0.2113\n",
      "Epoch 29/50\n",
      "32/32 [==============================] - 0s 427us/step - loss: 0.0721 - mean_absolute_error: 0.2065\n",
      "Epoch 30/50\n",
      "32/32 [==============================] - 0s 441us/step - loss: 0.0692 - mean_absolute_error: 0.2016\n",
      "Epoch 31/50\n",
      "32/32 [==============================] - 0s 438us/step - loss: 0.0657 - mean_absolute_error: 0.1967\n",
      "Epoch 32/50\n",
      "32/32 [==============================] - 0s 440us/step - loss: 0.0626 - mean_absolute_error: 0.1924\n",
      "Epoch 33/50\n",
      "32/32 [==============================] - 0s 444us/step - loss: 0.0593 - mean_absolute_error: 0.1870\n",
      "Epoch 34/50\n",
      "32/32 [==============================] - 0s 445us/step - loss: 0.0562 - mean_absolute_error: 0.1826\n",
      "Epoch 35/50\n",
      "32/32 [==============================] - 0s 427us/step - loss: 0.0526 - mean_absolute_error: 0.1767\n",
      "Epoch 36/50\n",
      "32/32 [==============================] - 0s 413us/step - loss: 0.0493 - mean_absolute_error: 0.1705\n",
      "Epoch 37/50\n",
      "32/32 [==============================] - 0s 428us/step - loss: 0.0459 - mean_absolute_error: 0.1651\n",
      "Epoch 38/50\n",
      "32/32 [==============================] - 0s 436us/step - loss: 0.0429 - mean_absolute_error: 0.1593\n",
      "Epoch 39/50\n",
      "32/32 [==============================] - 0s 442us/step - loss: 0.0397 - mean_absolute_error: 0.1539\n",
      "Epoch 40/50\n",
      "32/32 [==============================] - 0s 446us/step - loss: 0.0368 - mean_absolute_error: 0.1478\n",
      "Epoch 41/50\n",
      "32/32 [==============================] - 0s 447us/step - loss: 0.0338 - mean_absolute_error: 0.1419\n",
      "Epoch 42/50\n",
      "32/32 [==============================] - 0s 448us/step - loss: 0.0309 - mean_absolute_error: 0.1356\n",
      "Epoch 43/50\n",
      "32/32 [==============================] - 0s 438us/step - loss: 0.0283 - mean_absolute_error: 0.1298\n",
      "Epoch 44/50\n",
      "32/32 [==============================] - 0s 440us/step - loss: 0.0255 - mean_absolute_error: 0.1235\n",
      "Epoch 45/50\n",
      "32/32 [==============================] - 0s 446us/step - loss: 0.0230 - mean_absolute_error: 0.1173\n",
      "Epoch 46/50\n",
      "32/32 [==============================] - 0s 435us/step - loss: 0.0207 - mean_absolute_error: 0.1114\n",
      "Epoch 47/50\n",
      "32/32 [==============================] - 0s 442us/step - loss: 0.0184 - mean_absolute_error: 0.1051\n",
      "Epoch 48/50\n",
      "32/32 [==============================] - 0s 437us/step - loss: 0.0164 - mean_absolute_error: 0.0992\n",
      "Epoch 49/50\n",
      "32/32 [==============================] - 0s 432us/step - loss: 0.0146 - mean_absolute_error: 0.0938\n",
      "Epoch 50/50\n",
      "32/32 [==============================] - 0s 441us/step - loss: 0.0130 - mean_absolute_error: 0.0886\n"
     ]
    }
   ],
   "source": [
    "hist = adaptive_f_model.fit(x_train, y_train, epochs=EPOCHS, batch_size=64)"
   ]
  },
  {
   "cell_type": "code",
   "execution_count": 18,
   "id": "a562778c",
   "metadata": {},
   "outputs": [],
   "source": [
    "adaptive_f_hist[0][:] += np.array(hist.history[\"loss\"])/measurements\n",
    "adaptive_f_hist[1][:] += np.array(hist.history[\"mean_absolute_error\"])/measurements"
   ]
  },
  {
   "cell_type": "code",
   "execution_count": 19,
   "id": "61fe894f",
   "metadata": {
    "scrolled": true
   },
   "outputs": [
    {
     "name": "stdout",
     "output_type": "stream",
     "text": [
      "Epoch 1/50\n",
      "32/32 [==============================] - 0s 1ms/step - loss: 46.6194 - mean_absolute_error: 5.8734\n",
      "Epoch 2/50\n",
      "32/32 [==============================] - 0s 1ms/step - loss: 35.5468 - mean_absolute_error: 4.9658\n",
      "Epoch 3/50\n",
      "32/32 [==============================] - 0s 1ms/step - loss: 27.4034 - mean_absolute_error: 4.0326\n",
      "Epoch 4/50\n",
      "32/32 [==============================] - 0s 1ms/step - loss: 23.2870 - mean_absolute_error: 3.3640\n",
      "Epoch 5/50\n",
      "32/32 [==============================] - 0s 1ms/step - loss: 20.7825 - mean_absolute_error: 2.8952\n",
      "Epoch 6/50\n",
      "32/32 [==============================] - 0s 1ms/step - loss: 18.9902 - mean_absolute_error: 2.6811\n",
      "Epoch 7/50\n",
      "32/32 [==============================] - 0s 1ms/step - loss: 17.3050 - mean_absolute_error: 2.5336\n",
      "Epoch 8/50\n",
      "32/32 [==============================] - 0s 1ms/step - loss: 15.5748 - mean_absolute_error: 2.3816\n",
      "Epoch 9/50\n",
      "32/32 [==============================] - 0s 1ms/step - loss: 13.8611 - mean_absolute_error: 2.2285\n",
      "Epoch 10/50\n",
      "32/32 [==============================] - 0s 1ms/step - loss: 12.0739 - mean_absolute_error: 2.0491\n",
      "Epoch 11/50\n",
      "32/32 [==============================] - 0s 1ms/step - loss: 10.3510 - mean_absolute_error: 1.8420\n",
      "Epoch 12/50\n",
      "32/32 [==============================] - 0s 1ms/step - loss: 8.5224 - mean_absolute_error: 1.6077\n",
      "Epoch 13/50\n",
      "32/32 [==============================] - 0s 998us/step - loss: 6.4396 - mean_absolute_error: 1.3541\n",
      "Epoch 14/50\n",
      "32/32 [==============================] - 0s 1ms/step - loss: 4.2972 - mean_absolute_error: 1.0740\n",
      "Epoch 15/50\n",
      "32/32 [==============================] - 0s 1ms/step - loss: 2.7980 - mean_absolute_error: 0.8419\n",
      "Epoch 16/50\n",
      "32/32 [==============================] - 0s 1ms/step - loss: 1.8459 - mean_absolute_error: 0.6721\n",
      "Epoch 17/50\n",
      "32/32 [==============================] - 0s 1ms/step - loss: 1.2254 - mean_absolute_error: 0.5435\n",
      "Epoch 18/50\n",
      "32/32 [==============================] - 0s 1ms/step - loss: 0.8577 - mean_absolute_error: 0.4627\n",
      "Epoch 19/50\n",
      "32/32 [==============================] - 0s 1ms/step - loss: 0.6047 - mean_absolute_error: 0.3797\n",
      "Epoch 20/50\n",
      "32/32 [==============================] - 0s 1ms/step - loss: 0.4456 - mean_absolute_error: 0.3283\n",
      "Epoch 21/50\n",
      "32/32 [==============================] - 0s 1ms/step - loss: 0.3376 - mean_absolute_error: 0.2872\n",
      "Epoch 22/50\n",
      "32/32 [==============================] - 0s 1ms/step - loss: 0.2706 - mean_absolute_error: 0.2643\n",
      "Epoch 23/50\n",
      "32/32 [==============================] - 0s 1ms/step - loss: 0.2177 - mean_absolute_error: 0.2389\n",
      "Epoch 24/50\n",
      "32/32 [==============================] - 0s 1ms/step - loss: 0.1730 - mean_absolute_error: 0.2052\n",
      "Epoch 25/50\n",
      "32/32 [==============================] - 0s 1ms/step - loss: 0.1440 - mean_absolute_error: 0.1846\n",
      "Epoch 26/50\n",
      "32/32 [==============================] - 0s 1ms/step - loss: 0.1203 - mean_absolute_error: 0.1717\n",
      "Epoch 27/50\n",
      "32/32 [==============================] - 0s 1ms/step - loss: 0.1010 - mean_absolute_error: 0.1502\n",
      "Epoch 28/50\n",
      "32/32 [==============================] - 0s 1ms/step - loss: 0.0851 - mean_absolute_error: 0.1337\n",
      "Epoch 29/50\n",
      "32/32 [==============================] - 0s 1ms/step - loss: 0.0736 - mean_absolute_error: 0.1267\n",
      "Epoch 30/50\n",
      "32/32 [==============================] - 0s 1ms/step - loss: 0.0643 - mean_absolute_error: 0.1169\n",
      "Epoch 31/50\n",
      "32/32 [==============================] - 0s 1ms/step - loss: 0.0558 - mean_absolute_error: 0.1073\n",
      "Epoch 32/50\n",
      "32/32 [==============================] - 0s 1ms/step - loss: 0.0495 - mean_absolute_error: 0.1049\n",
      "Epoch 33/50\n",
      "32/32 [==============================] - 0s 1ms/step - loss: 0.0489 - mean_absolute_error: 0.1175\n",
      "Epoch 34/50\n",
      "32/32 [==============================] - 0s 1ms/step - loss: 0.0395 - mean_absolute_error: 0.0969\n",
      "Epoch 35/50\n",
      "32/32 [==============================] - 0s 1ms/step - loss: 0.0352 - mean_absolute_error: 0.0924\n",
      "Epoch 36/50\n",
      "32/32 [==============================] - 0s 1ms/step - loss: 0.0319 - mean_absolute_error: 0.0880\n",
      "Epoch 37/50\n",
      "32/32 [==============================] - 0s 1ms/step - loss: 0.0318 - mean_absolute_error: 0.0975\n",
      "Epoch 38/50\n",
      "32/32 [==============================] - 0s 1ms/step - loss: 0.0290 - mean_absolute_error: 0.0944\n",
      "Epoch 39/50\n",
      "32/32 [==============================] - 0s 1ms/step - loss: 0.0240 - mean_absolute_error: 0.0809\n",
      "Epoch 40/50\n",
      "32/32 [==============================] - 0s 1ms/step - loss: 0.0220 - mean_absolute_error: 0.0785\n",
      "Epoch 41/50\n",
      "32/32 [==============================] - 0s 1ms/step - loss: 0.0213 - mean_absolute_error: 0.0791\n",
      "Epoch 42/50\n",
      "32/32 [==============================] - 0s 1ms/step - loss: 0.0222 - mean_absolute_error: 0.0885\n",
      "Epoch 43/50\n",
      "32/32 [==============================] - 0s 1ms/step - loss: 0.0185 - mean_absolute_error: 0.0762\n",
      "Epoch 44/50\n",
      "32/32 [==============================] - 0s 1ms/step - loss: 0.0170 - mean_absolute_error: 0.0742\n",
      "Epoch 45/50\n",
      "32/32 [==============================] - 0s 1ms/step - loss: 0.0157 - mean_absolute_error: 0.0708\n",
      "Epoch 46/50\n",
      "32/32 [==============================] - 0s 1ms/step - loss: 0.0142 - mean_absolute_error: 0.0670\n",
      "Epoch 47/50\n",
      "32/32 [==============================] - 0s 1ms/step - loss: 0.0142 - mean_absolute_error: 0.0696\n",
      "Epoch 48/50\n",
      "32/32 [==============================] - 0s 1ms/step - loss: 0.0130 - mean_absolute_error: 0.0667\n",
      "Epoch 49/50\n",
      "32/32 [==============================] - 0s 1ms/step - loss: 0.0131 - mean_absolute_error: 0.0709\n",
      "Epoch 50/50\n",
      "32/32 [==============================] - 0s 1ms/step - loss: 0.0126 - mean_absolute_error: 0.0701\n"
     ]
    }
   ],
   "source": [
    "hist = adaptive_nn_model.fit(x_train, y_train, epochs=EPOCHS, batch_size=64)"
   ]
  },
  {
   "cell_type": "code",
   "execution_count": 20,
   "id": "e8f541f1",
   "metadata": {},
   "outputs": [],
   "source": [
    "adaptive_nn_hist[0][:] += np.array(hist.history[\"loss\"])/measurements\n",
    "adaptive_nn_hist[1][:] += np.array(hist.history[\"mean_absolute_error\"])/measurements"
   ]
  },
  {
   "cell_type": "code",
   "execution_count": 21,
   "id": "3cfa80f9",
   "metadata": {
    "scrolled": true
   },
   "outputs": [
    {
     "name": "stdout",
     "output_type": "stream",
     "text": [
      "Epoch 1/50\n",
      "32/32 [==============================] - 0s 1ms/step - loss: 45.8975 - mean_absolute_error: 5.8342\n",
      "Epoch 2/50\n",
      "32/32 [==============================] - 0s 1ms/step - loss: 22.8201 - mean_absolute_error: 3.9327\n",
      "Epoch 3/50\n",
      "32/32 [==============================] - 0s 1ms/step - loss: 1.1203 - mean_absolute_error: 0.8665\n",
      "Epoch 4/50\n",
      "32/32 [==============================] - 0s 1ms/step - loss: 0.5158 - mean_absolute_error: 0.5964\n",
      "Epoch 5/50\n",
      "32/32 [==============================] - 0s 1ms/step - loss: 0.3795 - mean_absolute_error: 0.5127\n",
      "Epoch 6/50\n",
      "32/32 [==============================] - 0s 1ms/step - loss: 0.3009 - mean_absolute_error: 0.4565\n",
      "Epoch 7/50\n",
      "32/32 [==============================] - 0s 1ms/step - loss: 0.2375 - mean_absolute_error: 0.4014\n",
      "Epoch 8/50\n",
      "32/32 [==============================] - 0s 1ms/step - loss: 0.1924 - mean_absolute_error: 0.3582\n",
      "Epoch 9/50\n",
      "32/32 [==============================] - 0s 1ms/step - loss: 0.1546 - mean_absolute_error: 0.3161\n",
      "Epoch 10/50\n",
      "32/32 [==============================] - 0s 1ms/step - loss: 0.1285 - mean_absolute_error: 0.2862\n",
      "Epoch 11/50\n",
      "32/32 [==============================] - 0s 1ms/step - loss: 0.1030 - mean_absolute_error: 0.2538\n",
      "Epoch 12/50\n",
      "32/32 [==============================] - 0s 1ms/step - loss: 0.0900 - mean_absolute_error: 0.2351\n",
      "Epoch 13/50\n",
      "32/32 [==============================] - 0s 1ms/step - loss: 0.0791 - mean_absolute_error: 0.2180\n",
      "Epoch 14/50\n",
      "32/32 [==============================] - 0s 1ms/step - loss: 0.0687 - mean_absolute_error: 0.2029\n",
      "Epoch 15/50\n",
      "32/32 [==============================] - 0s 1ms/step - loss: 0.0634 - mean_absolute_error: 0.1914\n",
      "Epoch 16/50\n",
      "32/32 [==============================] - 0s 1ms/step - loss: 0.0543 - mean_absolute_error: 0.1795\n",
      "Epoch 17/50\n",
      "32/32 [==============================] - 0s 1ms/step - loss: 0.0474 - mean_absolute_error: 0.1646\n",
      "Epoch 18/50\n",
      "32/32 [==============================] - 0s 1ms/step - loss: 0.0427 - mean_absolute_error: 0.1551\n",
      "Epoch 19/50\n",
      "32/32 [==============================] - 0s 1ms/step - loss: 0.0341 - mean_absolute_error: 0.1404\n",
      "Epoch 20/50\n",
      "32/32 [==============================] - 0s 1ms/step - loss: 0.0310 - mean_absolute_error: 0.1352\n",
      "Epoch 21/50\n",
      "32/32 [==============================] - 0s 1ms/step - loss: 0.0272 - mean_absolute_error: 0.1271\n",
      "Epoch 22/50\n",
      "32/32 [==============================] - 0s 1ms/step - loss: 0.0242 - mean_absolute_error: 0.1186\n",
      "Epoch 23/50\n",
      "32/32 [==============================] - 0s 1ms/step - loss: 0.0228 - mean_absolute_error: 0.1156\n",
      "Epoch 24/50\n",
      "32/32 [==============================] - 0s 1ms/step - loss: 0.0219 - mean_absolute_error: 0.1131\n",
      "Epoch 25/50\n",
      "32/32 [==============================] - 0s 1ms/step - loss: 0.0185 - mean_absolute_error: 0.1041\n",
      "Epoch 26/50\n",
      "32/32 [==============================] - 0s 1ms/step - loss: 0.0175 - mean_absolute_error: 0.1010\n",
      "Epoch 27/50\n",
      "32/32 [==============================] - 0s 1ms/step - loss: 0.0166 - mean_absolute_error: 0.0986\n",
      "Epoch 28/50\n",
      "32/32 [==============================] - 0s 1ms/step - loss: 0.0154 - mean_absolute_error: 0.0957\n",
      "Epoch 29/50\n",
      "32/32 [==============================] - 0s 1ms/step - loss: 0.0147 - mean_absolute_error: 0.0924\n",
      "Epoch 30/50\n",
      "32/32 [==============================] - 0s 1ms/step - loss: 0.0130 - mean_absolute_error: 0.0875\n",
      "Epoch 31/50\n",
      "32/32 [==============================] - 0s 1ms/step - loss: 0.0134 - mean_absolute_error: 0.0884\n",
      "Epoch 32/50\n",
      "32/32 [==============================] - 0s 1ms/step - loss: 0.0123 - mean_absolute_error: 0.0846\n",
      "Epoch 33/50\n",
      "32/32 [==============================] - 0s 1ms/step - loss: 0.0116 - mean_absolute_error: 0.0826\n",
      "Epoch 34/50\n",
      "32/32 [==============================] - 0s 1ms/step - loss: 0.0111 - mean_absolute_error: 0.0815\n",
      "Epoch 35/50\n",
      "32/32 [==============================] - 0s 1ms/step - loss: 0.0098 - mean_absolute_error: 0.0754\n",
      "Epoch 36/50\n",
      "32/32 [==============================] - 0s 1ms/step - loss: 0.0096 - mean_absolute_error: 0.0748\n",
      "Epoch 37/50\n",
      "32/32 [==============================] - 0s 1ms/step - loss: 0.0119 - mean_absolute_error: 0.0841\n",
      "Epoch 38/50\n",
      "32/32 [==============================] - 0s 1ms/step - loss: 0.0098 - mean_absolute_error: 0.0763\n",
      "Epoch 39/50\n",
      "32/32 [==============================] - 0s 1ms/step - loss: 0.0093 - mean_absolute_error: 0.0740\n",
      "Epoch 40/50\n",
      "32/32 [==============================] - 0s 1ms/step - loss: 0.0089 - mean_absolute_error: 0.0730\n",
      "Epoch 41/50\n",
      "32/32 [==============================] - 0s 1ms/step - loss: 0.0085 - mean_absolute_error: 0.0714\n",
      "Epoch 42/50\n",
      "32/32 [==============================] - 0s 1ms/step - loss: 0.0081 - mean_absolute_error: 0.0698\n",
      "Epoch 43/50\n",
      "32/32 [==============================] - 0s 1ms/step - loss: 0.0078 - mean_absolute_error: 0.0688\n",
      "Epoch 44/50\n",
      "32/32 [==============================] - 0s 1ms/step - loss: 0.0076 - mean_absolute_error: 0.0668\n",
      "Epoch 45/50\n",
      "32/32 [==============================] - 0s 1ms/step - loss: 0.0070 - mean_absolute_error: 0.0651\n",
      "Epoch 46/50\n",
      "32/32 [==============================] - 0s 1ms/step - loss: 0.0070 - mean_absolute_error: 0.0653\n",
      "Epoch 47/50\n",
      "32/32 [==============================] - 0s 1ms/step - loss: 0.0069 - mean_absolute_error: 0.0649\n",
      "Epoch 48/50\n",
      "32/32 [==============================] - 0s 1ms/step - loss: 0.0072 - mean_absolute_error: 0.0659\n",
      "Epoch 49/50\n",
      "32/32 [==============================] - 0s 1ms/step - loss: 0.0068 - mean_absolute_error: 0.0644\n",
      "Epoch 50/50\n",
      "32/32 [==============================] - 0s 1ms/step - loss: 0.0068 - mean_absolute_error: 0.0646\n"
     ]
    }
   ],
   "source": [
    "hist = adaptive_conv_nn_model.fit(x_train, y_train, epochs=EPOCHS, batch_size=64)"
   ]
  },
  {
   "cell_type": "code",
   "execution_count": 22,
   "id": "cc4d7788",
   "metadata": {},
   "outputs": [],
   "source": [
    "adaptive_conv_nn_hist[0][:] += np.array(hist.history[\"loss\"])/measurements\n",
    "adaptive_conv_nn_hist[1][:] += np.array(hist.history[\"mean_absolute_error\"])/measurements"
   ]
  },
  {
   "cell_type": "code",
   "execution_count": 23,
   "id": "df20e870",
   "metadata": {},
   "outputs": [
    {
     "name": "stdout",
     "output_type": "stream",
     "text": [
      "16/16 [==============================] - 0s 418us/step - loss: 0.0386 - mean_absolute_error: 0.1516\n"
     ]
    }
   ],
   "source": [
    "static_f_test += static_f_model.evaluate(x_test, y_test)[1]/measurements"
   ]
  },
  {
   "cell_type": "code",
   "execution_count": 24,
   "id": "5cc36cc4",
   "metadata": {},
   "outputs": [
    {
     "name": "stdout",
     "output_type": "stream",
     "text": [
      "16/16 [==============================] - 0s 443us/step - loss: 0.0145 - mean_absolute_error: 0.0931\n"
     ]
    }
   ],
   "source": [
    "adaptive_f_test += adaptive_f_model.evaluate(x_test, y_test)[1]/measurements"
   ]
  },
  {
   "cell_type": "code",
   "execution_count": 25,
   "id": "19df7397",
   "metadata": {},
   "outputs": [
    {
     "name": "stdout",
     "output_type": "stream",
     "text": [
      "16/16 [==============================] - 0s 696us/step - loss: 0.0119 - mean_absolute_error: 0.0855\n"
     ]
    }
   ],
   "source": [
    "adaptive_nn_test += adaptive_nn_model.evaluate(x_test, y_test)[1]/measurements"
   ]
  },
  {
   "cell_type": "code",
   "execution_count": 26,
   "id": "ce1aae25",
   "metadata": {},
   "outputs": [
    {
     "name": "stdout",
     "output_type": "stream",
     "text": [
      "16/16 [==============================] - 0s 622us/step - loss: 0.0082 - mean_absolute_error: 0.0697\n",
      "---------FINISH---------\n"
     ]
    }
   ],
   "source": [
    "adaptive_conv_nn_test += adaptive_conv_nn_model.evaluate(x_test, y_test)[1]/measurements\n",
    "flag -= 1\n",
    "if(flag == 0):\n",
    "    print(\"---------FINISH---------\")"
   ]
  },
  {
   "cell_type": "code",
   "execution_count": null,
   "id": "45e08645",
   "metadata": {},
   "outputs": [],
   "source": []
  },
  {
   "cell_type": "code",
   "execution_count": 27,
   "id": "bc1dda17",
   "metadata": {},
   "outputs": [
    {
     "name": "stdout",
     "output_type": "stream",
     "text": [
      "Static Function model\n",
      "Test mean_absolute_error :  0.1516261100769043\n",
      "\n",
      "Adaptive Function model\n",
      "Test mean_absolute_error :  0.09313848614692688\n",
      "\n",
      "Adaptive NN model\n",
      "Test mean_absolute_error :  0.08546525985002518\n",
      "\n",
      "Adaptive Conv NN model\n",
      "Test mean_absolute_error :  0.06970301270484924\n"
     ]
    }
   ],
   "source": [
    "print(\"Static Function model\\nTest mean_absolute_error : \", static_f_test)\n",
    "print(\"\\nAdaptive Function model\\nTest mean_absolute_error : \", adaptive_f_test)\n",
    "print(\"\\nAdaptive NN model\\nTest mean_absolute_error : \", adaptive_nn_test)\n",
    "print(\"\\nAdaptive Conv NN model\\nTest mean_absolute_error : \", adaptive_conv_nn_test)"
   ]
  },
  {
   "cell_type": "code",
   "execution_count": 28,
   "id": "49fe6589",
   "metadata": {},
   "outputs": [
    {
     "data": {
      "image/png": "[encoded data removed]",
      "text/plain": [
       "<Figure size 720x504 with 1 Axes>"
      ]
     },
     "metadata": {
      "needs_background": "light"
     },
     "output_type": "display_data"
    }
   ],
   "source": [
    "illustrate_train(name+\" Training Loss\", \"Loss\", static_f_hist[0][:], \n",
    "                 adaptive_f_hist[0][:], adaptive_nn_hist[0][:], adaptive_conv_nn_hist[0][:])"
   ]
  },
  {
   "cell_type": "code",
   "execution_count": 29,
   "id": "2ed4731a",
   "metadata": {
    "scrolled": false
   },
   "outputs": [
    {
     "data": {
      "image/png": "[encoded data removed]",
      "text/plain": [
       "<Figure size 720x504 with 1 Axes>"
      ]
     },
     "metadata": {
      "needs_background": "light"
     },
     "output_type": "display_data"
    }
   ],
   "source": [
    "illustrate_train(name + \" Training Mean Absolute Error\", \"mean absolute error\", static_f_hist[1][:], \n",
    "                 adaptive_f_hist[1][:], adaptive_nn_hist[1][:], adaptive_conv_nn_hist[1][:])"
   ]
  },
  {
   "cell_type": "code",
   "execution_count": 30,
   "id": "8385dc4e",
   "metadata": {},
   "outputs": [
    {
     "data": {
      "image/png": "[encoded data removed]",
      "text/plain": [
       "<Figure size 720x504 with 1 Axes>"
      ]
     },
     "metadata": {
      "needs_background": "light"
     },
     "output_type": "display_data"
    }
   ],
   "source": [
    "illustrate_test(name + \" Test\", \n",
    "                static_f_test, adaptive_f_test, adaptive_nn_test, adaptive_conv_nn_test)"
   ]
  },
  {
   "cell_type": "code",
   "execution_count": 118,
   "id": "309eb3d1",
   "metadata": {},
   "outputs": [],
   "source": [
    "save_data(name, static_f_hist, adaptive_f_hist, adaptive_nn_hist, \n",
    "          adaptive_conv_nn_hist, static_f_test, adaptive_f_test, adaptive_nn_test, adaptive_conv_nn_test)"
   ]
  }
 ],
 "metadata": {
  "kernelspec": {
   "display_name": "Python 3 (ipykernel)",
   "language": "python",
   "name": "python3"
  },
  "language_info": {
   "codemirror_mode": {
    "name": "ipython",
    "version": 3
   },
   "file_extension": ".py",
   "mimetype": "text/x-python",
   "name": "python",
   "nbconvert_exporter": "python",
   "pygments_lexer": "ipython3",
   "version": "3.9.5"
  }
 },
 "nbformat": 4,
 "nbformat_minor": 5
}
