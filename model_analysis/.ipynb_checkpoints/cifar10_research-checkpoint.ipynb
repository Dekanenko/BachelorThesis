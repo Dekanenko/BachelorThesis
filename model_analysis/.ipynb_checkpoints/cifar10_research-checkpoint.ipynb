{
 "cells": [
  {
   "cell_type": "code",
   "execution_count": 1,
   "id": "e1def1c8",
   "metadata": {},
   "outputs": [],
   "source": [
    "import tensorflow as tf\n",
    "tf.config.experimental.set_visible_devices([], 'GPU')\n",
    "from tensorflow import keras\n",
    "import numpy as np\n",
    "import pandas as pd\n",
    "import matplotlib.pyplot as plt\n",
    "import xlsxwriter\n",
    "\n",
    "from tensorflow.keras.datasets import cifar10"
   ]
  },
  {
   "cell_type": "code",
   "execution_count": 2,
   "id": "ef3ae740",
   "metadata": {},
   "outputs": [],
   "source": [
    "tf.random.set_seed(5)\n",
    "np.random.seed(5)"
   ]
  },
  {
   "cell_type": "code",
   "execution_count": 3,
   "id": "f26c27cd",
   "metadata": {},
   "outputs": [],
   "source": [
    "def illustrate_train(name, y_label, static_f, adaptive_f, adaptive_nn, adaptive_conv_nn):\n",
    "    epochs = range(0, len(static_f))\n",
    "    fig = plt.figure(figsize=(10,7))\n",
    "    ax = fig.add_subplot()\n",
    "    plt.title(name, fontsize=\"xx-large\")\n",
    "\n",
    "    ax.set_ylabel(y_label, fontsize=\"large\")\n",
    "    ax.set_xlabel('Epochs', fontsize=\"large\")\n",
    "\n",
    "    ax.plot(epochs, static_f, label='Static Function')\n",
    "    ax.plot(epochs, adaptive_f, label='Adaptive Function')\n",
    "    ax.plot(epochs, adaptive_nn, label='Adaptive NN')\n",
    "    ax.plot(epochs, adaptive_conv_nn, label='Adaptive Conv NN')\n",
    "\n",
    "    ax.legend()\n",
    "    \n",
    "    plt.grid()\n",
    "    plt.show()"
   ]
  },
  {
   "cell_type": "code",
   "execution_count": 4,
   "id": "ab8cca84",
   "metadata": {},
   "outputs": [],
   "source": [
    "def illustrate_test(name, static_f, adaptive_f, adaptive_nn, adaptive_conv_nn):\n",
    "    fig = plt.figure(figsize=(10,7))\n",
    "    ax = fig.add_subplot()\n",
    "    \n",
    "    x = [\"Static Function\", \"Adaptive Function\", \"Adaptive NN\", \"Adaptive Conv NN\"]\n",
    "    y = [static_f, adaptive_f, adaptive_nn, adaptive_conv_nn]\n",
    "    \n",
    "    plt.title(name, fontsize=\"xx-large\")\n",
    "    ax.set_ylabel(\"Accuracy\", fontsize=\"large\")\n",
    "    \n",
    "    ax.bar(x, y)\n",
    "    \n",
    "    plt.grid()\n",
    "    plt.show()"
   ]
  },
  {
   "cell_type": "code",
   "execution_count": 5,
   "id": "a7b83af7",
   "metadata": {},
   "outputs": [],
   "source": [
    "workbook = xlsxwriter.Workbook('cifar10_measurements.xlsx')"
   ]
  },
  {
   "cell_type": "code",
   "execution_count": 6,
   "id": "81260211",
   "metadata": {},
   "outputs": [],
   "source": [
    "def save_data(name, static_f_train, adaptive_f_train, adaptive_nn_train, adaptive_conv_nn_train, \n",
    "              static_f_test, adaptive_f_test, adaptive_nn_test, adaptive_conv_nn_test):\n",
    "    \n",
    "    epochs = len(static_f_train[0][:])\n",
    "    worksheet = workbook.add_worksheet(name)\n",
    "    \n",
    "    worksheet.write(1, 1, name + \" Training Loss\")\n",
    "    worksheet.write(1, 7, name + \" Training Accuracy\")\n",
    "    worksheet.write(1, 13, name + \" Test Accuracy\")\n",
    "    \n",
    "    worksheet.write(2, 1, \"Epochs\")\n",
    "    worksheet.write(2, 2, \"Static Function\")\n",
    "    worksheet.write(2, 3, \"Adaptive Function\")\n",
    "    worksheet.write(2, 4, \"Adaptive NN\")\n",
    "    worksheet.write(2, 5, \"Adaptive Conv NN\")\n",
    "    \n",
    "    worksheet.write(2, 7, \"Epochs\")\n",
    "    worksheet.write(2, 8, \"Static Function\")\n",
    "    worksheet.write(2, 9, \"Adaptive Function\")\n",
    "    worksheet.write(2, 10, \"Adaptive NN\")\n",
    "    worksheet.write(2, 11, \"Adaptive Conv NN\")\n",
    "    \n",
    "    worksheet.write(2, 13, \"Static Function\")\n",
    "    worksheet.write(2, 14, \"Adaptive Function\")\n",
    "    worksheet.write(2, 15, \"Adaptive NN\")\n",
    "    worksheet.write(2, 16, \"Adaptive Conv NN\")\n",
    "    \n",
    "    worksheet.write(3, 13, static_f_test)\n",
    "    worksheet.write(3, 14, adaptive_f_test)\n",
    "    worksheet.write(3, 15, adaptive_nn_test)\n",
    "    worksheet.write(3, 16, adaptive_conv_nn_test)\n",
    "    \n",
    "    for i in range(0, epochs):\n",
    "        worksheet.write(3+i, 1, i+1)\n",
    "        worksheet.write(3+i, 2, static_f_train[0][i])\n",
    "        worksheet.write(3+i, 3, adaptive_f_train[0][i])\n",
    "        worksheet.write(3+i, 4, adaptive_nn_train[0][i])\n",
    "        worksheet.write(3+i, 5, adaptive_conv_nn_train[0][i])\n",
    "        \n",
    "        worksheet.write(3+i, 7, i+1)\n",
    "        worksheet.write(3+i, 8, static_f_train[1][i])\n",
    "        worksheet.write(3+i, 9, adaptive_f_train[1][i])\n",
    "        worksheet.write(3+i, 10, adaptive_nn_train[1][i])\n",
    "        worksheet.write(3+i, 11, adaptive_conv_nn_train[1][i])\n",
    "    \n",
    "    workbook.close()"
   ]
  },
  {
   "cell_type": "code",
   "execution_count": 7,
   "id": "39f5cb21",
   "metadata": {},
   "outputs": [],
   "source": [
    "class AdaptiveLayer(keras.layers.Layer):\n",
    "    \n",
    "    def __init__(self, units, structure=[2, 2], inner_hidden_activation=tf.nn.tanh, \n",
    "                 inner_out_activation=lambda x : x, skip_w=0.0):\n",
    "        super().__init__()\n",
    "        self.units = units\n",
    "        self.structure = structure\n",
    "        self.structure.append(1)\n",
    "        self.inner_hidden_activation = inner_hidden_activation\n",
    "        self.inner_out_activation = inner_out_activation\n",
    "        self.skip_w = skip_w\n",
    "        \n",
    "        \n",
    "    def build(self, input_shape):\n",
    "        self.outter_w = self.add_weight(shape=(input_shape[-1], self.units), initializer=\"random_normal\")\n",
    "        self.outter_b = self.add_weight(shape=(self.units), initializer=\"zeros\")\n",
    "        \n",
    "        self.inner_w = []\n",
    "        self.inner_b = []\n",
    "        for i in range(len(self.structure)):\n",
    "            if i == 0:\n",
    "                self.inner_w.append(self.add_weight(shape=(self.units, 1, self.structure[i]), \n",
    "                                          initializer=tf.initializers.random_normal(stddev=1.5)))\n",
    "            else:\n",
    "                self.inner_w.append(self.add_weight(shape=(self.units, self.structure[i-1], self.structure[i]), \n",
    "                                          initializer=tf.initializers.random_normal(stddev=0.9)))\n",
    "            \n",
    "            self.inner_b.append(self.add_weight(shape=(self.units, 1, self.structure[i]), initializer=\"zeros\"))\n",
    "   \n",
    "\n",
    "    def call(self, inputs):\n",
    "        z = inputs @ self.outter_w + self.outter_b\n",
    "        a = tf.expand_dims(tf.transpose(z), axis=-1)\n",
    "        \n",
    "        for i in range(len(self.inner_w)-1):\n",
    "            a = a @ self.inner_w[i] + self.inner_b[i]\n",
    "            a = self.inner_hidden_activation(a)\n",
    "        \n",
    "        a = a @ self.inner_w[len(self.inner_w)-1] + self.inner_b[len(self.inner_w)-1]\n",
    "        \n",
    "        a = tf.reshape(tf.transpose(a), shape=(len(inputs), self.units))\n",
    "        a = self.inner_out_activation(a+z*self.skip_w)\n",
    "        \n",
    "        return a\n",
    "        \n",
    "\n",
    "    def activation_show(self, inputs):\n",
    "        inner_z = tf.cast(tf.expand_dims(tf.transpose(inputs), axis=-1), dtype=tf.float32)\n",
    "        a = tf.expand_dims(tf.transpose(inner_z), axis=-1)\n",
    "        \n",
    "        for i in range(len(self.inner_w)-1):\n",
    "            a = a @ self.inner_w[i] + self.inner_b[i]\n",
    "            a = self.inner_hidden_activation(a)\n",
    "        \n",
    "        a = a @ self.inner_w[len(self.inner_w)-1] + self.inner_b[len(self.inner_w)-1]\n",
    "        \n",
    "        a = tf.reshape(tf.transpose(a), shape=(len(inputs), self.units))\n",
    "        a = self.inner_out_activation(a)\n",
    "        \n",
    "        return a\n",
    "        \n"
   ]
  },
  {
   "cell_type": "code",
   "execution_count": 8,
   "id": "4850c5a4",
   "metadata": {},
   "outputs": [],
   "source": [
    "class AdaptiveLayerConv(keras.layers.Layer):\n",
    "    \n",
    "    def __init__(self, units, structure=[4, 8], split=2, inner_hidden_activation=tf.nn.tanh, \n",
    "                 inner_out_activation=lambda x : x, skip_w=0.9, noise=0.0):\n",
    "        super().__init__()\n",
    "        self.units = units\n",
    "        self.structure = structure\n",
    "        self.split = split\n",
    "        self.inner_hidden_activation = inner_hidden_activation\n",
    "        self.inner_out_activation = inner_out_activation\n",
    "        self.skip_w = skip_w\n",
    "        self.noise = noise\n",
    "        \n",
    "        \n",
    "    def build(self, input_shape):\n",
    "        \n",
    "        self.outter_w = []\n",
    "        self.outter_b = []\n",
    "        \n",
    "        for i in range(0, self.split):\n",
    "            self.outter_w.append(self.add_weight(shape=(input_shape[-1], self.units), \n",
    "                                                 initializer=\"random_normal\"))\n",
    "            self.outter_b.append(self.add_weight(shape=(self.units), initializer=\"zeros\"))\n",
    "        \n",
    "        self.inner_conv = []\n",
    "        for i in range(0, len(self.structure)):\n",
    "            self.inner_conv.append(keras.layers.Conv1D(self.structure[i], 1, \n",
    "                                                       activation=self.inner_hidden_activation))\n",
    "            \n",
    "        self.inner_conv.append(keras.layers.AveragePooling1D(pool_size=self.split, data_format='channels_first'))      \n",
    "        self.inner_conv.append(keras.layers.Conv1D(self.units, 1)) \n",
    "\n",
    "   \n",
    "\n",
    "    def call(self, inputs):\n",
    "        z = []\n",
    "        for i in range(0, self.split):\n",
    "            noise = tf.random.truncated_normal(shape=(self.outter_b[i].shape))\n",
    "            z.append(inputs @ self.outter_w[i] + self.outter_b[i] + noise*self.noise)\n",
    "        \n",
    "        a = tf.cast(z, dtype=tf.float32)\n",
    "        z = tf.cast(z, dtype=tf.float32)\n",
    "        \n",
    "        for i in range(len(self.inner_conv)-2):\n",
    "            a = self.inner_conv[i](a)\n",
    "        \n",
    "        a = self.inner_conv[len(self.inner_conv)-2](tf.transpose(a))\n",
    "        a = self.inner_conv[len(self.inner_conv)-1](tf.transpose(a))\n",
    "    \n",
    "        a = tf.reshape(a, shape=(-1, self.units))\n",
    "        z_skip = tf.reduce_sum(z, axis=0)/self.split     \n",
    "        \n",
    "        a = self.inner_out_activation(a + z_skip*self.skip_w)\n",
    "        \n",
    "        return a    \n",
    "\n",
    "    def activation_show(self, inputs):\n",
    "        tmp = []\n",
    "        for i in range(0, self.units):\n",
    "            tmp.append(inputs)\n",
    "        \n",
    "        tmp = tf.cast(tmp, dtype=tf.float32)\n",
    "        a = tf.expand_dims(tf.transpose(tmp), axis=0)\n",
    "            \n",
    "        for i in range(len(self.inner_conv)-2):\n",
    "            a = self.inner_conv[i](a)\n",
    "             \n",
    "        a = self.inner_conv[len(self.inner_conv)-1](a)\n",
    "        a = tf.reshape(a, shape=(-1, self.units))\n",
    "        a = self.inner_out_activation(a)\n",
    "        \n",
    "        return a\n",
    "        \n"
   ]
  },
  {
   "cell_type": "code",
   "execution_count": 9,
   "id": "76e08ad2",
   "metadata": {},
   "outputs": [],
   "source": [
    "class AdaptiveModel(keras.Model):\n",
    "    \n",
    "    def __init__(self, l=[AdaptiveLayer(2), AdaptiveLayer(1)]):\n",
    "        super().__init__()\n",
    "        self.l = l\n",
    "\n",
    "    def call(self, inputs):\n",
    "        a = inputs\n",
    "        for layer in self.l:\n",
    "            a = layer(a)\n",
    "        \n",
    "        return a\n",
    "        \n",
    "    def activation_show(self, inputs):\n",
    "        y = []\n",
    "        \n",
    "        for layer in self.l:\n",
    "            tmp = layer.activation_show(inputs)\n",
    "            \n",
    "            for i in range(tmp.shape[-1]):\n",
    "                y.append(tmp[:, i])\n",
    "        \n",
    "        return y\n",
    "        "
   ]
  },
  {
   "cell_type": "code",
   "execution_count": 10,
   "id": "4965b33a",
   "metadata": {},
   "outputs": [],
   "source": [
    "# dataset\n",
    "\n",
    "(x_train, y_train), (x_test, y_test) = keras.datasets.cifar10.load_data()\n",
    "x_train = x_train/255\n",
    "x_test = x_test/255\n",
    "x_train = np.reshape(x_train, (x_train.shape[0], -1))\n",
    "x_test = np.reshape(x_test, (x_test.shape[0], -1))\n",
    "y_train = keras.utils.to_categorical(y_train, 10)\n",
    "y_test = keras.utils.to_categorical(y_test, 10)"
   ]
  },
  {
   "cell_type": "code",
   "execution_count": 11,
   "id": "acfbf2db",
   "metadata": {},
   "outputs": [],
   "source": [
    "EPOCHS = 30\n",
    "name = \"Cifar10\"\n",
    "\n",
    "flag = measurements = 2\n",
    "\n",
    "static_f_hist = np.zeros(shape=[2, EPOCHS])\n",
    "adaptive_f_hist = np.zeros(shape=[2, EPOCHS])\n",
    "adaptive_nn_hist = np.zeros(shape=[2, EPOCHS])\n",
    "adaptive_conv_nn_hist = np.zeros(shape=[2, EPOCHS])\n",
    "\n",
    "static_f_test = 0\n",
    "adaptive_f_test = 0\n",
    "adaptive_nn_test = 0\n",
    "adaptive_conv_nn_test = 0"
   ]
  },
  {
   "cell_type": "code",
   "execution_count": null,
   "id": "9e99d616",
   "metadata": {},
   "outputs": [],
   "source": []
  },
  {
   "cell_type": "code",
   "execution_count": 32,
   "id": "8df7f88c",
   "metadata": {},
   "outputs": [],
   "source": [
    "static_f_model = keras.Sequential([\n",
    "    keras.layers.Dense(400, activation=\"relu\"),\n",
    "    keras.layers.Dense(50, activation=\"relu\"),\n",
    "    keras.layers.Dense(10, activation=\"softmax\"),\n",
    "])"
   ]
  },
  {
   "cell_type": "code",
   "execution_count": 33,
   "id": "55a602e2",
   "metadata": {},
   "outputs": [],
   "source": [
    "adaptive_f_model = keras.Sequential([\n",
    "    keras.layers.Dense(400, activation=tf.nn.swish),\n",
    "    keras.layers.Dense(50, activation=tf.nn.swish),\n",
    "    keras.layers.Dense(10, activation=\"softmax\"),\n",
    "])"
   ]
  },
  {
   "cell_type": "code",
   "execution_count": 34,
   "id": "99177453",
   "metadata": {},
   "outputs": [],
   "source": [
    "adaptive_nn_model = AdaptiveModel([\n",
    "    AdaptiveLayer(400, structure=[2, 1], inner_hidden_activation=tf.nn.relu, \n",
    "                  inner_out_activation=tf.nn.leaky_relu, skip_w=1.5), \n",
    "    AdaptiveLayer(50, structure=[4, 4, 1], inner_hidden_activation=tf.nn.relu, \n",
    "                  inner_out_activation=tf.nn.leaky_relu, skip_w=0.9), \n",
    "    AdaptiveLayer(10, structure=[8, 4, 1], inner_hidden_activation=tf.nn.relu, \n",
    "                 inner_out_activation=tf.nn.softmax, skip_w=0.9)\n",
    "])"
   ]
  },
  {
   "cell_type": "code",
   "execution_count": 35,
   "id": "ddfa62fe",
   "metadata": {},
   "outputs": [],
   "source": [
    "adaptive_conv_nn_model = AdaptiveModel([\n",
    "    AdaptiveLayerConv(400, structure=[32], split=1, noise=0, skip_w=1.5, \n",
    "                      inner_hidden_activation=tf.nn.leaky_relu, inner_out_activation=tf.nn.leaky_relu), \n",
    "    AdaptiveLayerConv(50, structure=[64], split=2, noise=0, skip_w=0.9, \n",
    "                      inner_hidden_activation=tf.nn.leaky_relu, inner_out_activation=tf.nn.leaky_relu), \n",
    "    AdaptiveLayerConv(10, structure=[128], split=3, noise=0, skip_w=0.9, \n",
    "                      inner_hidden_activation=tf.nn.leaky_relu, inner_out_activation=tf.nn.softmax) \n",
    "])"
   ]
  },
  {
   "cell_type": "code",
   "execution_count": 36,
   "id": "38652992",
   "metadata": {},
   "outputs": [],
   "source": [
    "static_f_model.compile(optimizer=tf.optimizers.Adam(learning_rate=0.001), \n",
    "                       loss=\"categorical_crossentropy\", metrics=['accuracy'])"
   ]
  },
  {
   "cell_type": "code",
   "execution_count": 37,
   "id": "244180f9",
   "metadata": {},
   "outputs": [],
   "source": [
    "adaptive_f_model.compile(optimizer=tf.optimizers.Adam(learning_rate=0.001), \n",
    "                       loss=\"categorical_crossentropy\", metrics=['accuracy'])"
   ]
  },
  {
   "cell_type": "code",
   "execution_count": 38,
   "id": "ca5dd089",
   "metadata": {},
   "outputs": [],
   "source": [
    "adaptive_nn_model.compile(optimizer=tf.optimizers.Adam(learning_rate=0.001), \n",
    "                       loss=\"categorical_crossentropy\", metrics=['accuracy'])"
   ]
  },
  {
   "cell_type": "code",
   "execution_count": 39,
   "id": "dc0a4b48",
   "metadata": {},
   "outputs": [],
   "source": [
    "adaptive_conv_nn_model.compile(optimizer=tf.optimizers.Adam(learning_rate=0.001), \n",
    "                       loss=\"categorical_crossentropy\", metrics=['accuracy'])"
   ]
  },
  {
   "cell_type": "code",
   "execution_count": 40,
   "id": "ee6ac750",
   "metadata": {
    "scrolled": true
   },
   "outputs": [
    {
     "name": "stdout",
     "output_type": "stream",
     "text": [
      "Epoch 1/30\n",
      "782/782 [==============================] - 3s 3ms/step - loss: 1.9122 - accuracy: 0.3091\n",
      "Epoch 2/30\n",
      "782/782 [==============================] - 3s 3ms/step - loss: 1.7161 - accuracy: 0.3834\n",
      "Epoch 3/30\n",
      "782/782 [==============================] - 3s 3ms/step - loss: 1.6373 - accuracy: 0.4155\n",
      "Epoch 4/30\n",
      "782/782 [==============================] - 3s 3ms/step - loss: 1.5814 - accuracy: 0.4357\n",
      "Epoch 5/30\n",
      "782/782 [==============================] - 3s 3ms/step - loss: 1.5409 - accuracy: 0.4494\n",
      "Epoch 6/30\n",
      "782/782 [==============================] - 3s 4ms/step - loss: 1.5069 - accuracy: 0.4625\n",
      "Epoch 7/30\n",
      "782/782 [==============================] - 3s 3ms/step - loss: 1.4811 - accuracy: 0.4742\n",
      "Epoch 8/30\n",
      "782/782 [==============================] - 3s 4ms/step - loss: 1.4588 - accuracy: 0.4824\n",
      "Epoch 9/30\n",
      "782/782 [==============================] - 3s 4ms/step - loss: 1.4346 - accuracy: 0.4908\n",
      "Epoch 10/30\n",
      "782/782 [==============================] - 3s 4ms/step - loss: 1.4108 - accuracy: 0.4981\n",
      "Epoch 11/30\n",
      "782/782 [==============================] - 3s 4ms/step - loss: 1.3892 - accuracy: 0.5065\n",
      "Epoch 12/30\n",
      "782/782 [==============================] - 3s 4ms/step - loss: 1.3736 - accuracy: 0.5091\n",
      "Epoch 13/30\n",
      "782/782 [==============================] - 3s 4ms/step - loss: 1.3574 - accuracy: 0.5183\n",
      "Epoch 14/30\n",
      "782/782 [==============================] - 3s 4ms/step - loss: 1.3440 - accuracy: 0.5238\n",
      "Epoch 15/30\n",
      "782/782 [==============================] - 3s 4ms/step - loss: 1.3290 - accuracy: 0.5286\n",
      "Epoch 16/30\n",
      "782/782 [==============================] - 3s 4ms/step - loss: 1.3157 - accuracy: 0.5309\n",
      "Epoch 17/30\n",
      "782/782 [==============================] - 3s 4ms/step - loss: 1.3044 - accuracy: 0.5353\n",
      "Epoch 18/30\n",
      "782/782 [==============================] - 3s 4ms/step - loss: 1.2927 - accuracy: 0.5395\n",
      "Epoch 19/30\n",
      "782/782 [==============================] - 3s 4ms/step - loss: 1.2745 - accuracy: 0.5449\n",
      "Epoch 20/30\n",
      "782/782 [==============================] - 3s 4ms/step - loss: 1.2688 - accuracy: 0.5496\n",
      "Epoch 21/30\n",
      "782/782 [==============================] - 3s 4ms/step - loss: 1.2564 - accuracy: 0.5532\n",
      "Epoch 22/30\n",
      "782/782 [==============================] - 3s 4ms/step - loss: 1.2467 - accuracy: 0.5568\n",
      "Epoch 23/30\n",
      "782/782 [==============================] - 3s 4ms/step - loss: 1.2365 - accuracy: 0.5595\n",
      "Epoch 24/30\n",
      "782/782 [==============================] - 3s 4ms/step - loss: 1.2266 - accuracy: 0.5606\n",
      "Epoch 25/30\n",
      "782/782 [==============================] - 3s 4ms/step - loss: 1.2184 - accuracy: 0.5656\n",
      "Epoch 26/30\n",
      "782/782 [==============================] - 3s 4ms/step - loss: 1.2123 - accuracy: 0.5651\n",
      "Epoch 27/30\n",
      "782/782 [==============================] - 3s 4ms/step - loss: 1.1997 - accuracy: 0.5710\n",
      "Epoch 28/30\n",
      "782/782 [==============================] - 3s 4ms/step - loss: 1.1962 - accuracy: 0.5740\n",
      "Epoch 29/30\n",
      "782/782 [==============================] - 3s 4ms/step - loss: 1.1890 - accuracy: 0.5731\n",
      "Epoch 30/30\n",
      "782/782 [==============================] - 3s 4ms/step - loss: 1.1797 - accuracy: 0.5785\n"
     ]
    }
   ],
   "source": [
    "hist = static_f_model.fit(x_train, y_train, epochs=EPOCHS, batch_size=64)"
   ]
  },
  {
   "cell_type": "code",
   "execution_count": 41,
   "id": "fece44b0",
   "metadata": {},
   "outputs": [],
   "source": [
    "static_f_hist[0][:] += np.array(hist.history[\"loss\"])/measurements\n",
    "static_f_hist[1][:] += np.array(hist.history[\"accuracy\"])/measurements"
   ]
  },
  {
   "cell_type": "code",
   "execution_count": 42,
   "id": "8c508df0",
   "metadata": {
    "scrolled": true
   },
   "outputs": [
    {
     "name": "stdout",
     "output_type": "stream",
     "text": [
      "Epoch 1/30\n",
      "782/782 [==============================] - 3s 4ms/step - loss: 2.0783 - accuracy: 0.2324\n",
      "Epoch 2/30\n",
      "782/782 [==============================] - 3s 4ms/step - loss: 1.8362 - accuracy: 0.3492\n",
      "Epoch 3/30\n",
      "782/782 [==============================] - 3s 4ms/step - loss: 1.6965 - accuracy: 0.3918\n",
      "Epoch 4/30\n",
      "782/782 [==============================] - 3s 4ms/step - loss: 1.6303 - accuracy: 0.4165\n",
      "Epoch 5/30\n",
      "782/782 [==============================] - 3s 4ms/step - loss: 1.5814 - accuracy: 0.4340\n",
      "Epoch 6/30\n",
      "782/782 [==============================] - 3s 4ms/step - loss: 1.5452 - accuracy: 0.4452\n",
      "Epoch 7/30\n",
      "782/782 [==============================] - 3s 4ms/step - loss: 1.5116 - accuracy: 0.4581\n",
      "Epoch 8/30\n",
      "782/782 [==============================] - 3s 4ms/step - loss: 1.4919 - accuracy: 0.4636\n",
      "Epoch 9/30\n",
      "782/782 [==============================] - 3s 4ms/step - loss: 1.4680 - accuracy: 0.4727\n",
      "Epoch 10/30\n",
      "782/782 [==============================] - 3s 4ms/step - loss: 1.4414 - accuracy: 0.4832\n",
      "Epoch 11/30\n",
      "782/782 [==============================] - 3s 4ms/step - loss: 1.4254 - accuracy: 0.4905\n",
      "Epoch 12/30\n",
      "782/782 [==============================] - 3s 4ms/step - loss: 1.4068 - accuracy: 0.4933\n",
      "Epoch 13/30\n",
      "782/782 [==============================] - 3s 4ms/step - loss: 1.3910 - accuracy: 0.5037\n",
      "Epoch 14/30\n",
      "782/782 [==============================] - 3s 4ms/step - loss: 1.3742 - accuracy: 0.5068\n",
      "Epoch 15/30\n",
      "782/782 [==============================] - 3s 4ms/step - loss: 1.3672 - accuracy: 0.5103\n",
      "Epoch 16/30\n",
      "782/782 [==============================] - 3s 4ms/step - loss: 1.3558 - accuracy: 0.5164\n",
      "Epoch 17/30\n",
      "782/782 [==============================] - 3s 4ms/step - loss: 1.3449 - accuracy: 0.5191\n",
      "Epoch 18/30\n",
      "782/782 [==============================] - 3s 4ms/step - loss: 1.3328 - accuracy: 0.5236\n",
      "Epoch 19/30\n",
      "782/782 [==============================] - 3s 4ms/step - loss: 1.3181 - accuracy: 0.5273\n",
      "Epoch 20/30\n",
      "782/782 [==============================] - 3s 4ms/step - loss: 1.3122 - accuracy: 0.5299\n",
      "Epoch 21/30\n",
      "782/782 [==============================] - 3s 4ms/step - loss: 1.3031 - accuracy: 0.5340\n",
      "Epoch 22/30\n",
      "782/782 [==============================] - 3s 4ms/step - loss: 1.2936 - accuracy: 0.5358\n",
      "Epoch 23/30\n",
      "782/782 [==============================] - 3s 4ms/step - loss: 1.2895 - accuracy: 0.5387\n",
      "Epoch 24/30\n",
      "782/782 [==============================] - 3s 4ms/step - loss: 1.2796 - accuracy: 0.5418\n",
      "Epoch 25/30\n",
      "782/782 [==============================] - 3s 4ms/step - loss: 1.2685 - accuracy: 0.5462\n",
      "Epoch 26/30\n",
      "782/782 [==============================] - 3s 4ms/step - loss: 1.2652 - accuracy: 0.5459\n",
      "Epoch 27/30\n",
      "782/782 [==============================] - 3s 4ms/step - loss: 1.2570 - accuracy: 0.5525\n",
      "Epoch 28/30\n",
      "782/782 [==============================] - 3s 4ms/step - loss: 1.2532 - accuracy: 0.5510\n",
      "Epoch 29/30\n",
      "782/782 [==============================] - 3s 4ms/step - loss: 1.2441 - accuracy: 0.5529\n",
      "Epoch 30/30\n",
      "782/782 [==============================] - 3s 4ms/step - loss: 1.2325 - accuracy: 0.5581\n"
     ]
    }
   ],
   "source": [
    "hist = adaptive_f_model.fit(x_train, y_train, epochs=EPOCHS, batch_size=64)"
   ]
  },
  {
   "cell_type": "code",
   "execution_count": 43,
   "id": "a562778c",
   "metadata": {},
   "outputs": [],
   "source": [
    "adaptive_f_hist[0][:] += np.array(hist.history[\"loss\"])/measurements\n",
    "adaptive_f_hist[1][:] += np.array(hist.history[\"accuracy\"])/measurements"
   ]
  },
  {
   "cell_type": "code",
   "execution_count": 44,
   "id": "61fe894f",
   "metadata": {
    "scrolled": true
   },
   "outputs": [
    {
     "name": "stdout",
     "output_type": "stream",
     "text": [
      "Epoch 1/30\n",
      "782/782 [==============================] - 5s 5ms/step - loss: 1.9467 - accuracy: 0.3017\n",
      "Epoch 2/30\n",
      "782/782 [==============================] - 4s 5ms/step - loss: 1.7083 - accuracy: 0.3901\n",
      "Epoch 3/30\n",
      "782/782 [==============================] - 4s 5ms/step - loss: 1.6064 - accuracy: 0.4270\n",
      "Epoch 4/30\n",
      "782/782 [==============================] - 4s 5ms/step - loss: 1.5533 - accuracy: 0.4468\n",
      "Epoch 5/30\n",
      "782/782 [==============================] - 4s 5ms/step - loss: 1.5124 - accuracy: 0.4595\n",
      "Epoch 6/30\n",
      "782/782 [==============================] - 4s 5ms/step - loss: 1.4736 - accuracy: 0.4736\n",
      "Epoch 7/30\n",
      "782/782 [==============================] - 4s 5ms/step - loss: 1.4464 - accuracy: 0.4833\n",
      "Epoch 8/30\n",
      "782/782 [==============================] - 4s 5ms/step - loss: 1.4175 - accuracy: 0.4917\n",
      "Epoch 9/30\n",
      "782/782 [==============================] - 4s 5ms/step - loss: 1.3916 - accuracy: 0.5032\n",
      "Epoch 10/30\n",
      "782/782 [==============================] - 4s 5ms/step - loss: 1.3664 - accuracy: 0.5138\n",
      "Epoch 11/30\n",
      "782/782 [==============================] - 4s 5ms/step - loss: 1.3396 - accuracy: 0.5219\n",
      "Epoch 12/30\n",
      "782/782 [==============================] - 4s 5ms/step - loss: 1.3218 - accuracy: 0.5244\n",
      "Epoch 13/30\n",
      "782/782 [==============================] - 4s 5ms/step - loss: 1.3045 - accuracy: 0.5321\n",
      "Epoch 14/30\n",
      "782/782 [==============================] - 4s 5ms/step - loss: 1.2797 - accuracy: 0.5421\n",
      "Epoch 15/30\n",
      "782/782 [==============================] - 4s 5ms/step - loss: 1.2645 - accuracy: 0.5490\n",
      "Epoch 16/30\n",
      "782/782 [==============================] - 4s 5ms/step - loss: 1.2466 - accuracy: 0.5549\n",
      "Epoch 17/30\n",
      "782/782 [==============================] - 4s 5ms/step - loss: 1.2298 - accuracy: 0.5617\n",
      "Epoch 18/30\n",
      "782/782 [==============================] - 4s 5ms/step - loss: 1.2164 - accuracy: 0.5639\n",
      "Epoch 19/30\n",
      "782/782 [==============================] - 4s 5ms/step - loss: 1.1897 - accuracy: 0.5743\n",
      "Epoch 20/30\n",
      "782/782 [==============================] - 4s 5ms/step - loss: 1.1791 - accuracy: 0.5803\n",
      "Epoch 21/30\n",
      "782/782 [==============================] - 4s 5ms/step - loss: 1.1646 - accuracy: 0.5811\n",
      "Epoch 22/30\n",
      "782/782 [==============================] - 4s 5ms/step - loss: 1.1510 - accuracy: 0.5909\n",
      "Epoch 23/30\n",
      "782/782 [==============================] - 4s 5ms/step - loss: 1.1338 - accuracy: 0.5947\n",
      "Epoch 24/30\n",
      "782/782 [==============================] - 4s 5ms/step - loss: 1.1221 - accuracy: 0.5979\n",
      "Epoch 25/30\n",
      "782/782 [==============================] - 4s 6ms/step - loss: 1.1034 - accuracy: 0.6071\n",
      "Epoch 26/30\n",
      "782/782 [==============================] - 4s 6ms/step - loss: 1.0934 - accuracy: 0.6087\n",
      "Epoch 27/30\n",
      "782/782 [==============================] - 4s 6ms/step - loss: 1.0770 - accuracy: 0.6146\n",
      "Epoch 28/30\n",
      "782/782 [==============================] - 4s 6ms/step - loss: 1.0588 - accuracy: 0.6224\n",
      "Epoch 29/30\n",
      "782/782 [==============================] - 4s 5ms/step - loss: 1.0482 - accuracy: 0.6255\n",
      "Epoch 30/30\n",
      "782/782 [==============================] - 4s 6ms/step - loss: 1.0359 - accuracy: 0.6273\n"
     ]
    }
   ],
   "source": [
    "hist = adaptive_nn_model.fit(x_train, y_train, epochs=EPOCHS, batch_size=64)"
   ]
  },
  {
   "cell_type": "code",
   "execution_count": 45,
   "id": "e8f541f1",
   "metadata": {},
   "outputs": [],
   "source": [
    "adaptive_nn_hist[0][:] += np.array(hist.history[\"loss\"])/measurements\n",
    "adaptive_nn_hist[1][:] += np.array(hist.history[\"accuracy\"])/measurements"
   ]
  },
  {
   "cell_type": "code",
   "execution_count": 46,
   "id": "3cfa80f9",
   "metadata": {
    "scrolled": true
   },
   "outputs": [
    {
     "name": "stdout",
     "output_type": "stream",
     "text": [
      "Epoch 1/30\n",
      "782/782 [==============================] - 6s 6ms/step - loss: 1.8645 - accuracy: 0.3234\n",
      "Epoch 2/30\n",
      "782/782 [==============================] - 5s 6ms/step - loss: 1.6832 - accuracy: 0.3946\n",
      "Epoch 3/30\n",
      "782/782 [==============================] - 5s 6ms/step - loss: 1.5922 - accuracy: 0.4302\n",
      "Epoch 4/30\n",
      "782/782 [==============================] - 5s 6ms/step - loss: 1.5362 - accuracy: 0.4503\n",
      "Epoch 5/30\n",
      "782/782 [==============================] - 5s 6ms/step - loss: 1.4981 - accuracy: 0.4624\n",
      "Epoch 6/30\n",
      "782/782 [==============================] - 5s 6ms/step - loss: 1.4541 - accuracy: 0.4789\n",
      "Epoch 7/30\n",
      "782/782 [==============================] - 5s 6ms/step - loss: 1.4218 - accuracy: 0.4908\n",
      "Epoch 8/30\n",
      "782/782 [==============================] - 5s 6ms/step - loss: 1.3945 - accuracy: 0.4995\n",
      "Epoch 9/30\n",
      "782/782 [==============================] - 5s 6ms/step - loss: 1.3612 - accuracy: 0.5118\n",
      "Epoch 10/30\n",
      "782/782 [==============================] - 5s 6ms/step - loss: 1.3361 - accuracy: 0.5215\n",
      "Epoch 11/30\n",
      "782/782 [==============================] - 5s 6ms/step - loss: 1.3111 - accuracy: 0.5311\n",
      "Epoch 12/30\n",
      "782/782 [==============================] - 5s 6ms/step - loss: 1.2885 - accuracy: 0.5386\n",
      "Epoch 13/30\n",
      "782/782 [==============================] - 5s 6ms/step - loss: 1.2721 - accuracy: 0.5434\n",
      "Epoch 14/30\n",
      "782/782 [==============================] - 5s 6ms/step - loss: 1.2485 - accuracy: 0.5527\n",
      "Epoch 15/30\n",
      "782/782 [==============================] - 5s 6ms/step - loss: 1.2344 - accuracy: 0.5576\n",
      "Epoch 16/30\n",
      "782/782 [==============================] - 5s 6ms/step - loss: 1.2105 - accuracy: 0.5662\n",
      "Epoch 17/30\n",
      "782/782 [==============================] - 5s 6ms/step - loss: 1.1982 - accuracy: 0.5704\n",
      "Epoch 18/30\n",
      "782/782 [==============================] - 5s 6ms/step - loss: 1.1842 - accuracy: 0.5754\n",
      "Epoch 19/30\n",
      "782/782 [==============================] - 5s 6ms/step - loss: 1.1624 - accuracy: 0.5844\n",
      "Epoch 20/30\n",
      "782/782 [==============================] - 5s 6ms/step - loss: 1.1500 - accuracy: 0.5873\n",
      "Epoch 21/30\n",
      "782/782 [==============================] - 5s 6ms/step - loss: 1.1264 - accuracy: 0.5985\n",
      "Epoch 22/30\n",
      "782/782 [==============================] - 5s 6ms/step - loss: 1.1110 - accuracy: 0.5990\n",
      "Epoch 23/30\n",
      "782/782 [==============================] - 5s 6ms/step - loss: 1.0997 - accuracy: 0.6074\n",
      "Epoch 24/30\n",
      "782/782 [==============================] - 5s 6ms/step - loss: 1.0826 - accuracy: 0.6128\n",
      "Epoch 25/30\n",
      "782/782 [==============================] - 5s 6ms/step - loss: 1.0727 - accuracy: 0.6144\n",
      "Epoch 26/30\n",
      "782/782 [==============================] - 5s 6ms/step - loss: 1.0570 - accuracy: 0.6200\n",
      "Epoch 27/30\n",
      "782/782 [==============================] - 5s 6ms/step - loss: 1.0438 - accuracy: 0.6247\n",
      "Epoch 28/30\n",
      "782/782 [==============================] - 5s 6ms/step - loss: 1.0290 - accuracy: 0.6298\n",
      "Epoch 29/30\n",
      "782/782 [==============================] - 5s 6ms/step - loss: 1.0145 - accuracy: 0.6352\n",
      "Epoch 30/30\n",
      "782/782 [==============================] - 5s 6ms/step - loss: 1.0005 - accuracy: 0.6406\n"
     ]
    }
   ],
   "source": [
    "hist = adaptive_conv_nn_model.fit(x_train, y_train, epochs=EPOCHS, batch_size=64)"
   ]
  },
  {
   "cell_type": "code",
   "execution_count": 47,
   "id": "cc4d7788",
   "metadata": {},
   "outputs": [],
   "source": [
    "adaptive_conv_nn_hist[0][:] += np.array(hist.history[\"loss\"])/measurements\n",
    "adaptive_conv_nn_hist[1][:] += np.array(hist.history[\"accuracy\"])/measurements"
   ]
  },
  {
   "cell_type": "code",
   "execution_count": 48,
   "id": "df20e870",
   "metadata": {},
   "outputs": [
    {
     "name": "stdout",
     "output_type": "stream",
     "text": [
      "313/313 [==============================] - 0s 984us/step - loss: 1.4519 - accuracy: 0.4975\n"
     ]
    }
   ],
   "source": [
    "static_f_test += static_f_model.evaluate(x_test, y_test)[1]/measurements"
   ]
  },
  {
   "cell_type": "code",
   "execution_count": 49,
   "id": "5cc36cc4",
   "metadata": {},
   "outputs": [
    {
     "name": "stdout",
     "output_type": "stream",
     "text": [
      "313/313 [==============================] - 0s 1ms/step - loss: 1.4588 - accuracy: 0.4938\n"
     ]
    }
   ],
   "source": [
    "adaptive_f_test += adaptive_f_model.evaluate(x_test, y_test)[1]/measurements"
   ]
  },
  {
   "cell_type": "code",
   "execution_count": 50,
   "id": "19df7397",
   "metadata": {},
   "outputs": [
    {
     "name": "stdout",
     "output_type": "stream",
     "text": [
      "313/313 [==============================] - 1s 1ms/step - loss: 1.4070 - accuracy: 0.5182\n"
     ]
    }
   ],
   "source": [
    "adaptive_nn_test += adaptive_nn_model.evaluate(x_test, y_test)[1]/measurements"
   ]
  },
  {
   "cell_type": "code",
   "execution_count": 51,
   "id": "ce1aae25",
   "metadata": {},
   "outputs": [
    {
     "name": "stdout",
     "output_type": "stream",
     "text": [
      "313/313 [==============================] - 1s 2ms/step - loss: 1.4681 - accuracy: 0.5051\n",
      "---------FINISH---------\n"
     ]
    }
   ],
   "source": [
    "adaptive_conv_nn_test += adaptive_conv_nn_model.evaluate(x_test, y_test)[1]/measurements\n",
    "flag -= 1\n",
    "if(flag == 0):\n",
    "    print(\"---------FINISH---------\")"
   ]
  },
  {
   "cell_type": "code",
   "execution_count": null,
   "id": "45e08645",
   "metadata": {},
   "outputs": [],
   "source": []
  },
  {
   "cell_type": "code",
   "execution_count": 52,
   "id": "bc1dda17",
   "metadata": {},
   "outputs": [
    {
     "name": "stdout",
     "output_type": "stream",
     "text": [
      "Static Function model\n",
      "Test accuracy :  0.5006000101566315\n",
      "\n",
      "Adaptive Function model\n",
      "Test accuracy :  0.4961500018835068\n",
      "\n",
      "Adaptive NN model\n",
      "Test accuracy :  0.5189999938011169\n",
      "\n",
      "Adaptive Conv NN model\n",
      "Test accuracy :  0.5047500133514404\n"
     ]
    }
   ],
   "source": [
    "print(\"Static Function model\\nTest accuracy : \", static_f_test)\n",
    "print(\"\\nAdaptive Function model\\nTest accuracy : \", adaptive_f_test)\n",
    "print(\"\\nAdaptive NN model\\nTest accuracy : \", adaptive_nn_test)\n",
    "print(\"\\nAdaptive Conv NN model\\nTest accuracy : \", adaptive_conv_nn_test)"
   ]
  },
  {
   "cell_type": "code",
   "execution_count": 53,
   "id": "49fe6589",
   "metadata": {},
   "outputs": [
    {
     "data": {
      "image/png": "[encoded data removed]",
      "text/plain": [
       "<Figure size 720x504 with 1 Axes>"
      ]
     },
     "metadata": {
      "needs_background": "light"
     },
     "output_type": "display_data"
    }
   ],
   "source": [
    "illustrate_train(name+\" Training Loss\", \"Loss\", static_f_hist[0][:], \n",
    "                 adaptive_f_hist[0][:], adaptive_nn_hist[0][:], adaptive_conv_nn_hist[0][:])"
   ]
  },
  {
   "cell_type": "code",
   "execution_count": 54,
   "id": "2ed4731a",
   "metadata": {},
   "outputs": [
    {
     "data": {
      "image/png": "[encoded data removed]",
      "text/plain": [
       "<Figure size 720x504 with 1 Axes>"
      ]
     },
     "metadata": {
      "needs_background": "light"
     },
     "output_type": "display_data"
    }
   ],
   "source": [
    "illustrate_train(name + \" Training Accuracy\", \"Accuracy\", static_f_hist[1][:], \n",
    "                 adaptive_f_hist[1][:], adaptive_nn_hist[1][:], adaptive_conv_nn_hist[1][:])"
   ]
  },
  {
   "cell_type": "code",
   "execution_count": 55,
   "id": "8385dc4e",
   "metadata": {},
   "outputs": [
    {
     "data": {
      "image/png": "[encoded data removed]",
      "text/plain": [
       "<Figure size 720x504 with 1 Axes>"
      ]
     },
     "metadata": {
      "needs_background": "light"
     },
     "output_type": "display_data"
    }
   ],
   "source": [
    "illustrate_test(name + \" Test Accuracy\", \n",
    "                static_f_test, adaptive_f_test, adaptive_nn_test, adaptive_conv_nn_test)"
   ]
  },
  {
   "cell_type": "code",
   "execution_count": 56,
   "id": "309eb3d1",
   "metadata": {},
   "outputs": [],
   "source": [
    "save_data(name, static_f_hist, adaptive_f_hist, adaptive_nn_hist, \n",
    "          adaptive_conv_nn_hist, static_f_test, adaptive_f_test, adaptive_nn_test, adaptive_conv_nn_test)"
   ]
  },
  {
   "cell_type": "code",
   "execution_count": null,
   "id": "07533a8c",
   "metadata": {},
   "outputs": [],
   "source": []
  }
 ],
 "metadata": {
  "kernelspec": {
   "display_name": "Python 3 (ipykernel)",
   "language": "python",
   "name": "python3"
  },
  "language_info": {
   "codemirror_mode": {
    "name": "ipython",
    "version": 3
   },
   "file_extension": ".py",
   "mimetype": "text/x-python",
   "name": "python",
   "nbconvert_exporter": "python",
   "pygments_lexer": "ipython3",
   "version": "3.9.5"
  }
 },
 "nbformat": 4,
 "nbformat_minor": 5
}
