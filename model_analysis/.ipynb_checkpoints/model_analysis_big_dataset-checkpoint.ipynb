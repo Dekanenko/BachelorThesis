{
 "cells": [
  {
   "cell_type": "code",
   "execution_count": 1,
   "id": "e1def1c8",
   "metadata": {},
   "outputs": [],
   "source": [
    "import tensorflow as tf\n",
    "tf.config.experimental.set_visible_devices([], 'GPU')\n",
    "from tensorflow import keras\n",
    "import numpy as np\n",
    "import pandas as pd\n",
    "import matplotlib.pyplot as plt\n",
    "import xlsxwriter\n",
    "\n",
    "from sklearn.datasets import fetch_openml"
   ]
  },
  {
   "cell_type": "code",
   "execution_count": 2,
   "id": "ef3ae740",
   "metadata": {},
   "outputs": [],
   "source": [
    "tf.random.set_seed(5)\n",
    "np.random.seed(5)"
   ]
  },
  {
   "cell_type": "code",
   "execution_count": 3,
   "id": "39f5cb21",
   "metadata": {},
   "outputs": [],
   "source": [
    "class AdaptiveLayer(keras.layers.Layer):\n",
    "    \n",
    "    def __init__(self, units, structure=[2, 2], inner_hidden_activation=tf.nn.tanh, \n",
    "                 inner_out_activation=lambda x : x, skip_w=0.0):\n",
    "        super().__init__()\n",
    "        self.units = units\n",
    "        self.structure = structure\n",
    "        self.inner_hidden_activation = inner_hidden_activation\n",
    "        self.inner_out_activation = inner_out_activation\n",
    "        self.skip_w = skip_w\n",
    "        \n",
    "        \n",
    "    def build(self, input_shape):\n",
    "        self.outer_w = self.add_weight(shape=(input_shape[-1], self.units), initializer=\"random_normal\")\n",
    "        self.outer_b = self.add_weight(shape=(self.units), initializer=\"zeros\")\n",
    "        \n",
    "        self.inner_w = []\n",
    "        self.inner_b = []\n",
    "        for i in range(len(self.structure)):\n",
    "            if i == 0:\n",
    "                self.inner_w.append(self.add_weight(shape=(self.units, 1, self.structure[i]), \n",
    "                                          initializer=tf.initializers.random_normal(stddev=1.5)))\n",
    "            else:\n",
    "                self.inner_w.append(self.add_weight(shape=(self.units, self.structure[i-1], self.structure[i]), \n",
    "                                          initializer=tf.initializers.random_normal(stddev=0.9)))\n",
    "            \n",
    "            self.inner_b.append(self.add_weight(shape=(self.units, 1, self.structure[i]), initializer=\"zeros\"))\n",
    "   \n",
    "\n",
    "    def call(self, inputs):\n",
    "        z = inputs @ self.outer_w + self.outer_b\n",
    "        a = tf.expand_dims(tf.transpose(z), axis=-1)\n",
    "        \n",
    "        for i in range(len(self.structure)-1):\n",
    "            a = a @ self.inner_w[i] + self.inner_b[i]\n",
    "            a = self.inner_hidden_activation(a)\n",
    "        \n",
    "        if len(self.structure) > 0:\n",
    "            a = a @ self.inner_w[-1] + self.inner_b[-1]\n",
    "        \n",
    "        a = tf.reshape(tf.transpose(a), shape=(len(inputs), self.units))\n",
    "        a = self.inner_out_activation(a+z*self.skip_w)\n",
    "        \n",
    "        return a\n",
    "        \n",
    "\n",
    "    def activation_show(self, inputs):\n",
    "        inner_z = tf.cast(tf.expand_dims(tf.transpose(inputs), axis=-1), dtype=tf.float32)\n",
    "        a = tf.expand_dims(tf.transpose(inner_z), axis=-1)\n",
    "        \n",
    "        for i in range(len(self.structure)-1):\n",
    "            a = a @ self.inner_w[i] + self.inner_b[i]\n",
    "            a = self.inner_hidden_activation(a)\n",
    "        \n",
    "        a = a @ self.inner_w[-1] + self.inner_b[-1]\n",
    "        \n",
    "        a = tf.reshape(tf.transpose(a), shape=(len(inputs), self.units))\n",
    "        a = self.inner_out_activation(a)\n",
    "        \n",
    "        return a"
   ]
  },
  {
   "cell_type": "code",
   "execution_count": 4,
   "id": "4850c5a4",
   "metadata": {},
   "outputs": [],
   "source": [
    "class AdaptiveLayerConv(keras.layers.Layer):\n",
    "    \n",
    "    def __init__(self, units, structure=[4, 8], split=2, inner_hidden_activation=tf.nn.tanh, \n",
    "                 inner_out_activation=lambda x : x, skip_w=0.9, noise=0.0):\n",
    "        super().__init__()\n",
    "        self.units = units\n",
    "        self.structure = structure\n",
    "        self.split = split\n",
    "        self.inner_hidden_activation = inner_hidden_activation\n",
    "        self.inner_out_activation = inner_out_activation\n",
    "        self.skip_w = skip_w\n",
    "        self.noise = noise\n",
    "        \n",
    "        \n",
    "    def build(self, input_shape):\n",
    "        \n",
    "        self.outer_w = self.add_weight(shape=(self.split, input_shape[-1], self.units),\n",
    "                                                  initializer=\"random_normal\")\n",
    "        self.outer_b = self.add_weight(shape=(self.split, self.units), initializer=\"zeros\")\n",
    "        \n",
    "        self.inner_w = []\n",
    "        for i in range(0, len(self.structure)):\n",
    "            self.inner_w.append(keras.layers.Conv1D(self.structure[i], 1, \n",
    "                                                       activation=self.inner_hidden_activation))\n",
    "            \n",
    "        self.inner_w.append(keras.layers.AveragePooling1D(pool_size=self.split, data_format='channels_first'))      \n",
    "        self.inner_w.append(keras.layers.Conv1D(self.units, 1)) \n",
    "\n",
    "   \n",
    "\n",
    "    def call(self, inputs):\n",
    "        z = []\n",
    "        for i in range(0, self.split):\n",
    "            noise = tf.random.truncated_normal(shape=(self.outer_b[i].shape))\n",
    "            z.append(inputs @ self.outer_w[i] + self.outer_b[i] + noise*self.noise)\n",
    "        \n",
    "        a = tf.cast(z, dtype=tf.float32)\n",
    "        z = tf.cast(z, dtype=tf.float32)\n",
    "        \n",
    "        for i in range(len(self.inner_w)-2):\n",
    "            a = self.inner_w[i](a)\n",
    "        \n",
    "        if len(self.inner_w) > 0:\n",
    "            a = self.inner_w[-2](tf.transpose(a))\n",
    "            a = self.inner_w[-1](tf.transpose(a))\n",
    "    \n",
    "        a = tf.reshape(a, shape=(-1, self.units))\n",
    "        z_skip = tf.reduce_sum(z, axis=0)/self.split     \n",
    "        \n",
    "        a = self.inner_out_activation(a + z_skip*self.skip_w)\n",
    "        \n",
    "        return a    \n",
    "\n",
    "    def activation_show(self, inputs):\n",
    "        tmp = []\n",
    "        for i in range(0, self.units):\n",
    "            tmp.append(inputs)\n",
    "        \n",
    "        tmp = tf.cast(tmp, dtype=tf.float32)\n",
    "        a = tf.expand_dims(tf.transpose(tmp), axis=0)\n",
    "            \n",
    "        for i in range(len(self.inner_w)-2):\n",
    "            a = self.inner_w[i](a)\n",
    "             \n",
    "        a = self.inner_w[len(self.inner_w)-1](a)\n",
    "        a = tf.reshape(a, shape=(-1, self.units))\n",
    "        a = self.inner_out_activation(a)\n",
    "        \n",
    "        return a\n",
    "        \n"
   ]
  },
  {
   "cell_type": "code",
   "execution_count": 5,
   "id": "76e08ad2",
   "metadata": {},
   "outputs": [],
   "source": [
    "class AdaptiveModel(keras.Model):\n",
    "    \n",
    "    def __init__(self, l=[AdaptiveLayer(2), AdaptiveLayer(1)]):\n",
    "        super().__init__()\n",
    "        self.l = l\n",
    "\n",
    "    def call(self, inputs):\n",
    "        a = inputs\n",
    "        for layer in self.l:\n",
    "            a = layer(a)\n",
    "        \n",
    "        return a\n",
    "        \n",
    "    def activation_show(self, inputs):\n",
    "        y = []\n",
    "        \n",
    "        for layer in self.l:\n",
    "            tmp = layer.activation_show(inputs)\n",
    "            \n",
    "            for i in range(tmp.shape[-1]):\n",
    "                y.append(tmp[:, i])\n",
    "        \n",
    "        return y\n",
    "        "
   ]
  },
  {
   "cell_type": "code",
   "execution_count": 6,
   "id": "4965b33a",
   "metadata": {},
   "outputs": [],
   "source": [
    "# dataset\n",
    "\n",
    "mnist = fetch_openml('mnist_784', version=1, as_frame=False)\n",
    "X, y = mnist['data'], mnist['target']\n",
    "\n",
    "y = y.astype(np.uint8)\n",
    "X_scale = X/255\n",
    "x_train, x_test, y_train, y_test = X_scale[:60000], X_scale[60000:], y[:60000], y[60000:]\n",
    "y_train = keras.utils.to_categorical(y_train, 10)\n",
    "y_test = keras.utils.to_categorical(y_test, 10)"
   ]
  },
  {
   "cell_type": "code",
   "execution_count": 7,
   "id": "99177453",
   "metadata": {},
   "outputs": [],
   "source": [
    "# Adaptive Layer (no inner_structure)\n",
    "# 81285 params\n",
    "adaptive_nn_model_no_inner = AdaptiveModel([\n",
    "    AdaptiveLayer(100, structure=[], inner_hidden_activation=tf.nn.relu, \n",
    "                  inner_out_activation=tf.nn.leaky_relu, skip_w=0.0),\n",
    "    AdaptiveLayer(25, structure=[], inner_hidden_activation=tf.nn.relu, \n",
    "                  inner_out_activation=tf.nn.leaky_relu, skip_w=0.0),\n",
    "    AdaptiveLayer(10, structure=[], inner_hidden_activation=tf.nn.relu, \n",
    "                  inner_out_activation=tf.nn.softmax, skip_w=0.0)\n",
    "])"
   ]
  },
  {
   "cell_type": "code",
   "execution_count": 8,
   "id": "57be6dae",
   "metadata": {},
   "outputs": [],
   "source": [
    "# Adaptive Layer (with inner_structure)\n",
    "# 81270 params\n",
    "adaptive_nn_model_with_inner = AdaptiveModel([\n",
    "    AdaptiveLayer(100, structure=[5, 1], inner_hidden_activation=tf.nn.relu, \n",
    "                  inner_out_activation=tf.nn.leaky_relu, skip_w=0.5),\n",
    "    AdaptiveLayer(10, structure=[5, 1], inner_hidden_activation=tf.nn.relu, \n",
    "                  inner_out_activation=tf.nn.softmax, skip_w=0.5)\n",
    "])"
   ]
  },
  {
   "cell_type": "code",
   "execution_count": 9,
   "id": "ddfa62fe",
   "metadata": {},
   "outputs": [],
   "source": [
    "# Adaptive Layer based on 1D Conv (no inner_structure)\n",
    "# 97905 params\n",
    "adaptive_conv_nn_model_no_inner = AdaptiveModel([\n",
    "    AdaptiveLayerConv(100, structure=[], split=1, inner_hidden_activation=tf.nn.tanh,\n",
    "                  inner_out_activation=tf.nn.relu),\n",
    "    AdaptiveLayerConv(55, structure=[], split=1, inner_hidden_activation=tf.nn.tanh,\n",
    "                  inner_out_activation=tf.nn.relu),\n",
    "    AdaptiveLayerConv(10, structure=[], split=1, inner_hidden_activation=tf.nn.leaky_relu,\n",
    "                  inner_out_activation=tf.nn.softmax)\n",
    "])"
   ]
  },
  {
   "cell_type": "code",
   "execution_count": 10,
   "id": "835efba5",
   "metadata": {},
   "outputs": [],
   "source": [
    "# Adaptive Layer based on 1D Conv (with inner_structure)\n",
    "# 98588 params\n",
    "adaptive_conv_nn_model_with_inner = AdaptiveModel([\n",
    "    AdaptiveLayerConv(100, structure=[128, 4], split=1, inner_hidden_activation=tf.nn.tanh,\n",
    "                  inner_out_activation=tf.nn.relu),\n",
    "    AdaptiveLayerConv(10, structure=[64, 32], split=3, inner_hidden_activation=tf.nn.leaky_relu,\n",
    "                  inner_out_activation=tf.nn.softmax)\n",
    "])"
   ]
  },
  {
   "cell_type": "code",
   "execution_count": 11,
   "id": "ff7a7ae2",
   "metadata": {},
   "outputs": [
    {
     "name": "stdout",
     "output_type": "stream",
     "text": [
      "313/313 [==============================] - 0s 510us/step\n",
      "313/313 [==============================] - 0s 687us/step\n",
      "313/313 [==============================] - 0s 614us/step\n",
      "313/313 [==============================] - 0s 666us/step\n"
     ]
    }
   ],
   "source": [
    "tmp = adaptive_nn_model_no_inner.predict(x_test)\n",
    "tmp = adaptive_nn_model_with_inner.predict(x_test)\n",
    "tmp = adaptive_conv_nn_model_no_inner.predict(x_test)\n",
    "tmp = adaptive_conv_nn_model_with_inner.predict(x_test)"
   ]
  },
  {
   "cell_type": "code",
   "execution_count": 12,
   "id": "74f4554d",
   "metadata": {},
   "outputs": [],
   "source": [
    "def extract_weights(model, outter=True, conv=False):\n",
    "    tmp = []\n",
    "    for i in range(len(model.l)):\n",
    "        if outter:\n",
    "            tmp.append(model.l[i].outer_w.numpy())\n",
    "        else:\n",
    "            if not conv:\n",
    "                tmp.append(model.l[i].inner_w[0].numpy())\n",
    "            else:\n",
    "                tmp.append(model.l[i].inner_w[0].weights[0].numpy())\n",
    "    \n",
    "    return tmp"
   ]
  },
  {
   "cell_type": "code",
   "execution_count": 13,
   "id": "8ef029f2",
   "metadata": {
    "scrolled": true
   },
   "outputs": [],
   "source": [
    "initial_outer_w_anm_no_inner = extract_weights(adaptive_nn_model_no_inner)\n",
    "initial_outer_w_anm_with_inner = extract_weights(adaptive_nn_model_with_inner)\n",
    "initial_inner_w_anm_with_inner = extract_weights(adaptive_nn_model_with_inner, outter=False)\n",
    "initial_outer_w_acnm_no_inner = extract_weights(adaptive_conv_nn_model_no_inner)\n",
    "initial_outer_w_acnm_with_inner = extract_weights(adaptive_conv_nn_model_with_inner)\n",
    "initial_inner_w_acnm_with_inner = extract_weights(adaptive_conv_nn_model_with_inner, outter=False, conv=True)"
   ]
  },
  {
   "cell_type": "code",
   "execution_count": 14,
   "id": "38652992",
   "metadata": {},
   "outputs": [],
   "source": [
    "adaptive_nn_model_no_inner.compile(optimizer=tf.optimizers.legacy.Adam(learning_rate=0.001), \n",
    "                       loss=\"categorical_crossentropy\", metrics=['accuracy'])"
   ]
  },
  {
   "cell_type": "code",
   "execution_count": 15,
   "id": "244180f9",
   "metadata": {},
   "outputs": [],
   "source": [
    "adaptive_nn_model_with_inner.compile(optimizer=tf.optimizers.legacy.Adam(learning_rate=0.001), \n",
    "                       loss=\"categorical_crossentropy\", metrics=['accuracy'])"
   ]
  },
  {
   "cell_type": "code",
   "execution_count": 16,
   "id": "ca5dd089",
   "metadata": {},
   "outputs": [],
   "source": [
    "adaptive_conv_nn_model_no_inner.compile(optimizer=tf.optimizers.legacy.Adam(learning_rate=0.001), \n",
    "                       loss=\"categorical_crossentropy\", metrics=['accuracy'])"
   ]
  },
  {
   "cell_type": "code",
   "execution_count": 17,
   "id": "dc0a4b48",
   "metadata": {},
   "outputs": [],
   "source": [
    "adaptive_conv_nn_model_with_inner.compile(optimizer=tf.optimizers.legacy.Adam(learning_rate=0.001), \n",
    "                       loss=\"categorical_crossentropy\", metrics=['accuracy'])"
   ]
  },
  {
   "cell_type": "code",
   "execution_count": 18,
   "id": "0f18ca9f",
   "metadata": {},
   "outputs": [],
   "source": [
    "EPOCHS = 1"
   ]
  },
  {
   "cell_type": "code",
   "execution_count": 19,
   "id": "ee6ac750",
   "metadata": {
    "scrolled": true
   },
   "outputs": [
    {
     "name": "stdout",
     "output_type": "stream",
     "text": [
      "1875/1875 [==============================] - 2s 751us/step - loss: 0.3684 - accuracy: 0.8942\n"
     ]
    },
    {
     "data": {
      "text/plain": [
       "<keras.src.callbacks.History at 0x28e6b7970>"
      ]
     },
     "execution_count": 19,
     "metadata": {},
     "output_type": "execute_result"
    }
   ],
   "source": [
    "adaptive_nn_model_no_inner.fit(x_train, y_train, epochs=EPOCHS)"
   ]
  },
  {
   "cell_type": "code",
   "execution_count": 20,
   "id": "8c508df0",
   "metadata": {
    "scrolled": true
   },
   "outputs": [
    {
     "name": "stdout",
     "output_type": "stream",
     "text": [
      "1875/1875 [==============================] - 2s 910us/step - loss: 0.3005 - accuracy: 0.9102\n"
     ]
    },
    {
     "data": {
      "text/plain": [
       "<keras.src.callbacks.History at 0x28f975c70>"
      ]
     },
     "execution_count": 20,
     "metadata": {},
     "output_type": "execute_result"
    }
   ],
   "source": [
    "adaptive_nn_model_with_inner.fit(x_train, y_train, epochs=EPOCHS)"
   ]
  },
  {
   "cell_type": "code",
   "execution_count": 21,
   "id": "61fe894f",
   "metadata": {
    "scrolled": true
   },
   "outputs": [
    {
     "name": "stdout",
     "output_type": "stream",
     "text": [
      "1875/1875 [==============================] - 3s 1ms/step - loss: 0.2812 - accuracy: 0.9149\n"
     ]
    },
    {
     "data": {
      "text/plain": [
       "<keras.src.callbacks.History at 0x29dcc3730>"
      ]
     },
     "execution_count": 21,
     "metadata": {},
     "output_type": "execute_result"
    }
   ],
   "source": [
    "adaptive_conv_nn_model_no_inner.fit(x_train, y_train, epochs=EPOCHS)"
   ]
  },
  {
   "cell_type": "code",
   "execution_count": 22,
   "id": "3cfa80f9",
   "metadata": {
    "scrolled": true
   },
   "outputs": [
    {
     "name": "stdout",
     "output_type": "stream",
     "text": [
      "1875/1875 [==============================] - 3s 1ms/step - loss: 0.2878 - accuracy: 0.9151\n"
     ]
    },
    {
     "data": {
      "text/plain": [
       "<keras.src.callbacks.History at 0x29fa13940>"
      ]
     },
     "execution_count": 22,
     "metadata": {},
     "output_type": "execute_result"
    }
   ],
   "source": [
    "adaptive_conv_nn_model_with_inner.fit(x_train, y_train, epochs=EPOCHS)"
   ]
  },
  {
   "cell_type": "code",
   "execution_count": 23,
   "id": "6331ef28",
   "metadata": {},
   "outputs": [],
   "source": [
    "e1_outer_w_anm_no_inner = extract_weights(adaptive_nn_model_no_inner)\n",
    "e1_outer_w_anm_with_inner = extract_weights(adaptive_nn_model_with_inner)\n",
    "e1_inner_w_anm_with_inner = extract_weights(adaptive_nn_model_with_inner, outter=False)\n",
    "e1_outer_w_acnm_no_inner = extract_weights(adaptive_conv_nn_model_no_inner)\n",
    "e1_outer_w_acnm_with_inner = extract_weights(adaptive_conv_nn_model_with_inner)\n",
    "e1_inner_w_acnm_with_inner = extract_weights(adaptive_conv_nn_model_with_inner, outter=False, conv=True)"
   ]
  },
  {
   "cell_type": "code",
   "execution_count": 24,
   "id": "d7c53bb0",
   "metadata": {},
   "outputs": [
    {
     "name": "stdout",
     "output_type": "stream",
     "text": [
      "1 - initial\n",
      "SUM:\n",
      "outer_w_anm_no_inner 4198.464\n",
      "outer_w_anm_with_inner 2706.9407\n",
      "inner_w_anm_with_inner 41.856674\n",
      "outer_w_acnm_no_inner 2578.595\n",
      "outer_w_acnm_with_inner 3045.3696\n",
      "inner_w_acnm_with_inner 466.24384\n",
      "\n",
      "AVERAGE:\n",
      "outer_w_anm_no_inner 0.053551834\n",
      "outer_w_anm_with_inner 0.034527306\n",
      "inner_w_anm_with_inner 0.083713345\n",
      "outer_w_acnm_no_inner 0.03289024\n",
      "outer_w_acnm_with_inner 0.038844\n",
      "inner_w_acnm_with_inner 0.0364253\n"
     ]
    }
   ],
   "source": [
    "print(\"1 - initial\\nSUM:\")\n",
    "index = 0\n",
    "print(\"outer_w_anm_no_inner\", np.sum(np.abs(e1_outer_w_anm_no_inner[index] - initial_outer_w_anm_no_inner[index])))\n",
    "print(\"outer_w_anm_with_inner\", np.sum(np.abs(e1_outer_w_anm_with_inner[index] - initial_outer_w_anm_with_inner[index])))\n",
    "print(\"inner_w_anm_with_inner\", np.sum(np.abs(e1_inner_w_anm_with_inner[index] - initial_inner_w_anm_with_inner[index])))\n",
    "print(\"outer_w_acnm_no_inner\", np.sum(np.abs(e1_outer_w_acnm_no_inner[index] - initial_outer_w_acnm_no_inner[index])))\n",
    "print(\"outer_w_acnm_with_inner\", np.sum(np.abs(e1_outer_w_acnm_with_inner[index] - initial_outer_w_acnm_with_inner[index])))\n",
    "print(\"inner_w_acnm_with_inner\", np.sum(np.abs(e1_inner_w_acnm_with_inner[index] - initial_inner_w_acnm_with_inner[index])))\n",
    "print(\"\\nAVERAGE:\")\n",
    "print(\"outer_w_anm_no_inner\", np.average(np.abs(e1_outer_w_anm_no_inner[index] - initial_outer_w_anm_no_inner[index])))\n",
    "print(\"outer_w_anm_with_inner\", np.average(np.abs(e1_outer_w_anm_with_inner[index] - initial_outer_w_anm_with_inner[index])))\n",
    "print(\"inner_w_anm_with_inner\", np.average(np.abs(e1_inner_w_anm_with_inner[index] - initial_inner_w_anm_with_inner[index])))\n",
    "print(\"outer_w_acnm_no_inner\", np.average(np.abs(e1_outer_w_acnm_no_inner[index] - initial_outer_w_acnm_no_inner[index])))\n",
    "print(\"outer_w_acnm_with_inner\", np.average(np.abs(e1_outer_w_acnm_with_inner[index] - initial_outer_w_acnm_with_inner[index])))\n",
    "print(\"inner_w_acnm_with_inner\", np.average(np.abs(e1_inner_w_acnm_with_inner[index] - initial_inner_w_acnm_with_inner[index])))\n"
   ]
  },
  {
   "cell_type": "code",
   "execution_count": 25,
   "id": "ecb3bb8b",
   "metadata": {},
   "outputs": [],
   "source": [
    "EPOCHS = 9"
   ]
  },
  {
   "cell_type": "code",
   "execution_count": 26,
   "id": "af32c0b2",
   "metadata": {
    "scrolled": true
   },
   "outputs": [
    {
     "name": "stdout",
     "output_type": "stream",
     "text": [
      "Epoch 1/9\n",
      "1875/1875 [==============================] - 1s 738us/step - loss: 0.1773 - accuracy: 0.9477\n",
      "Epoch 2/9\n",
      "1875/1875 [==============================] - 1s 689us/step - loss: 0.1241 - accuracy: 0.9625\n",
      "Epoch 3/9\n",
      "1875/1875 [==============================] - 1s 686us/step - loss: 0.0958 - accuracy: 0.9702\n",
      "Epoch 4/9\n",
      "1875/1875 [==============================] - 1s 685us/step - loss: 0.0774 - accuracy: 0.9758\n",
      "Epoch 5/9\n",
      "1875/1875 [==============================] - 2s 875us/step - loss: 0.0646 - accuracy: 0.9798\n",
      "Epoch 6/9\n",
      "1875/1875 [==============================] - 1s 697us/step - loss: 0.0551 - accuracy: 0.9827\n",
      "Epoch 7/9\n",
      "1875/1875 [==============================] - 1s 682us/step - loss: 0.0478 - accuracy: 0.9847\n",
      "Epoch 8/9\n",
      "1875/1875 [==============================] - 1s 677us/step - loss: 0.0426 - accuracy: 0.9860\n",
      "Epoch 9/9\n",
      "1875/1875 [==============================] - 1s 674us/step - loss: 0.0361 - accuracy: 0.9880\n"
     ]
    },
    {
     "data": {
      "text/plain": [
       "<keras.src.callbacks.History at 0x2f7e58580>"
      ]
     },
     "execution_count": 26,
     "metadata": {},
     "output_type": "execute_result"
    }
   ],
   "source": [
    "adaptive_nn_model_no_inner.fit(x_train, y_train, epochs=EPOCHS)"
   ]
  },
  {
   "cell_type": "code",
   "execution_count": 27,
   "id": "b7dcd755",
   "metadata": {},
   "outputs": [
    {
     "name": "stdout",
     "output_type": "stream",
     "text": [
      "Epoch 1/9\n",
      "1875/1875 [==============================] - 2s 883us/step - loss: 0.1184 - accuracy: 0.9645\n",
      "Epoch 2/9\n",
      "1875/1875 [==============================] - 2s 876us/step - loss: 0.0849 - accuracy: 0.9741\n",
      "Epoch 3/9\n",
      "1875/1875 [==============================] - 2s 857us/step - loss: 0.0668 - accuracy: 0.9789\n",
      "Epoch 4/9\n",
      "1875/1875 [==============================] - 2s 864us/step - loss: 0.0557 - accuracy: 0.9827\n",
      "Epoch 5/9\n",
      "1875/1875 [==============================] - 2s 865us/step - loss: 0.0469 - accuracy: 0.9847\n",
      "Epoch 6/9\n",
      "1875/1875 [==============================] - 2s 871us/step - loss: 0.0403 - accuracy: 0.9864\n",
      "Epoch 7/9\n",
      "1875/1875 [==============================] - 2s 899us/step - loss: 0.0351 - accuracy: 0.9883\n",
      "Epoch 8/9\n",
      "1875/1875 [==============================] - 2s 893us/step - loss: 0.0306 - accuracy: 0.9898\n",
      "Epoch 9/9\n",
      "1875/1875 [==============================] - 2s 886us/step - loss: 0.0245 - accuracy: 0.9917\n"
     ]
    },
    {
     "data": {
      "text/plain": [
       "<keras.src.callbacks.History at 0x30362f370>"
      ]
     },
     "execution_count": 27,
     "metadata": {},
     "output_type": "execute_result"
    }
   ],
   "source": [
    "adaptive_nn_model_with_inner.fit(x_train, y_train, epochs=EPOCHS)"
   ]
  },
  {
   "cell_type": "code",
   "execution_count": 28,
   "id": "5e2b24f8",
   "metadata": {},
   "outputs": [
    {
     "name": "stdout",
     "output_type": "stream",
     "text": [
      "Epoch 1/9\n",
      "1875/1875 [==============================] - 2s 1ms/step - loss: 0.1290 - accuracy: 0.9613\n",
      "Epoch 2/9\n",
      "1875/1875 [==============================] - 2s 1ms/step - loss: 0.1006 - accuracy: 0.9686\n",
      "Epoch 3/9\n",
      "1875/1875 [==============================] - 3s 1ms/step - loss: 0.0849 - accuracy: 0.9736\n",
      "Epoch 4/9\n",
      "1875/1875 [==============================] - 2s 1ms/step - loss: 0.0757 - accuracy: 0.9767\n",
      "Epoch 5/9\n",
      "1875/1875 [==============================] - 2s 1ms/step - loss: 0.0646 - accuracy: 0.9804\n",
      "Epoch 6/9\n",
      "1875/1875 [==============================] - 2s 1ms/step - loss: 0.0594 - accuracy: 0.9815\n",
      "Epoch 7/9\n",
      "1875/1875 [==============================] - 2s 1ms/step - loss: 0.0557 - accuracy: 0.9822\n",
      "Epoch 8/9\n",
      "1875/1875 [==============================] - 2s 1ms/step - loss: 0.0520 - accuracy: 0.9836\n",
      "Epoch 9/9\n",
      "1875/1875 [==============================] - 2s 1ms/step - loss: 0.0465 - accuracy: 0.9851\n"
     ]
    },
    {
     "data": {
      "text/plain": [
       "<keras.src.callbacks.History at 0x30363f9a0>"
      ]
     },
     "execution_count": 28,
     "metadata": {},
     "output_type": "execute_result"
    }
   ],
   "source": [
    "adaptive_conv_nn_model_no_inner.fit(x_train, y_train, epochs=EPOCHS)"
   ]
  },
  {
   "cell_type": "code",
   "execution_count": 29,
   "id": "7e0e8568",
   "metadata": {
    "scrolled": true
   },
   "outputs": [
    {
     "name": "stdout",
     "output_type": "stream",
     "text": [
      "Epoch 1/9\n",
      "1875/1875 [==============================] - 3s 1ms/step - loss: 0.1225 - accuracy: 0.9621\n",
      "Epoch 2/9\n",
      "1875/1875 [==============================] - 3s 1ms/step - loss: 0.0904 - accuracy: 0.9715\n",
      "Epoch 3/9\n",
      "1875/1875 [==============================] - 3s 1ms/step - loss: 0.0698 - accuracy: 0.9783\n",
      "Epoch 4/9\n",
      "1875/1875 [==============================] - 3s 1ms/step - loss: 0.0579 - accuracy: 0.9813\n",
      "Epoch 5/9\n",
      "1875/1875 [==============================] - 3s 1ms/step - loss: 0.0482 - accuracy: 0.9848\n",
      "Epoch 6/9\n",
      "1875/1875 [==============================] - 3s 1ms/step - loss: 0.0419 - accuracy: 0.9865\n",
      "Epoch 7/9\n",
      "1875/1875 [==============================] - 3s 1ms/step - loss: 0.0374 - accuracy: 0.9881\n",
      "Epoch 8/9\n",
      "1875/1875 [==============================] - 3s 1ms/step - loss: 0.0341 - accuracy: 0.9890\n",
      "Epoch 9/9\n",
      "1875/1875 [==============================] - 3s 1ms/step - loss: 0.0289 - accuracy: 0.9905\n"
     ]
    },
    {
     "data": {
      "text/plain": [
       "<keras.src.callbacks.History at 0x303a933a0>"
      ]
     },
     "execution_count": 29,
     "metadata": {},
     "output_type": "execute_result"
    }
   ],
   "source": [
    "adaptive_conv_nn_model_with_inner.fit(x_train, y_train, epochs=EPOCHS)"
   ]
  },
  {
   "cell_type": "code",
   "execution_count": 30,
   "id": "c3b708e8",
   "metadata": {},
   "outputs": [],
   "source": [
    "e10_outer_w_anm_no_inner = extract_weights(adaptive_nn_model_no_inner)\n",
    "e10_outer_w_anm_with_inner = extract_weights(adaptive_nn_model_with_inner)\n",
    "e10_inner_w_anm_with_inner = extract_weights(adaptive_nn_model_with_inner, outter=False)\n",
    "e10_outer_w_acnm_no_inner = extract_weights(adaptive_conv_nn_model_no_inner)\n",
    "e10_outer_w_acnm_with_inner = extract_weights(adaptive_conv_nn_model_with_inner)\n",
    "e10_inner_w_acnm_with_inner = extract_weights(adaptive_conv_nn_model_with_inner, outter=False, conv=True)"
   ]
  },
  {
   "cell_type": "code",
   "execution_count": 31,
   "id": "3fe8495a",
   "metadata": {},
   "outputs": [
    {
     "name": "stdout",
     "output_type": "stream",
     "text": [
      "10 - initial\n",
      "SUM:\n",
      "outer_w_anm_no_inner 9845.504\n",
      "outer_w_anm_with_inner 7801.6313\n",
      "inner_w_anm_with_inner 95.84855\n",
      "outer_w_acnm_no_inner 7517.183\n",
      "outer_w_acnm_with_inner 8073.4365\n",
      "inner_w_acnm_with_inner 1294.9937\n",
      "\n",
      "AVERAGE:\n",
      "outer_w_anm_no_inner 0.1255804\n",
      "outer_w_anm_with_inner 0.0995106\n",
      "inner_w_anm_with_inner 0.19169709\n",
      "outer_w_acnm_no_inner 0.09588244\n",
      "outer_w_acnm_with_inner 0.10297751\n",
      "inner_w_acnm_with_inner 0.10117138\n"
     ]
    }
   ],
   "source": [
    "print(\"10 - initial\\nSUM:\")\n",
    "index = 0\n",
    "print(\"outer_w_anm_no_inner\", np.sum(np.abs(e10_outer_w_anm_no_inner[index] - initial_outer_w_anm_no_inner[index])))\n",
    "print(\"outer_w_anm_with_inner\", np.sum(np.abs(e10_outer_w_anm_with_inner[index] - initial_outer_w_anm_with_inner[index])))\n",
    "print(\"inner_w_anm_with_inner\", np.sum(np.abs(e10_inner_w_anm_with_inner[index] - initial_inner_w_anm_with_inner[index])))\n",
    "print(\"outer_w_acnm_no_inner\", np.sum(np.abs(e10_outer_w_acnm_no_inner[index] - initial_outer_w_acnm_no_inner[index])))\n",
    "print(\"outer_w_acnm_with_inner\", np.sum(np.abs(e10_outer_w_acnm_with_inner[index] - initial_outer_w_acnm_with_inner[index])))\n",
    "print(\"inner_w_acnm_with_inner\", np.sum(np.abs(e10_inner_w_acnm_with_inner[index] - initial_inner_w_acnm_with_inner[index])))\n",
    "print(\"\\nAVERAGE:\")\n",
    "print(\"outer_w_anm_no_inner\", np.average(np.abs(e10_outer_w_anm_no_inner[index] - initial_outer_w_anm_no_inner[index])))\n",
    "print(\"outer_w_anm_with_inner\", np.average(np.abs(e10_outer_w_anm_with_inner[index] - initial_outer_w_anm_with_inner[index])))\n",
    "print(\"inner_w_anm_with_inner\", np.average(np.abs(e10_inner_w_anm_with_inner[index] - initial_inner_w_anm_with_inner[index])))\n",
    "print(\"outer_w_acnm_no_inner\", np.average(np.abs(e10_outer_w_acnm_no_inner[index] - initial_outer_w_acnm_no_inner[index])))\n",
    "print(\"outer_w_acnm_with_inner\", np.average(np.abs(e10_outer_w_acnm_with_inner[index] - initial_outer_w_acnm_with_inner[index])))\n",
    "print(\"inner_w_acnm_with_inner\", np.average(np.abs(e10_inner_w_acnm_with_inner[index] - initial_inner_w_acnm_with_inner[index])))\n"
   ]
  },
  {
   "cell_type": "code",
   "execution_count": 36,
   "id": "4a4c252c",
   "metadata": {},
   "outputs": [
    {
     "data": {
      "image/png": "[encoded data removed]",
      "text/plain": [
       "<Figure size 1296x720 with 1 Axes>"
      ]
     },
     "metadata": {
      "needs_background": "light"
     },
     "output_type": "display_data"
    }
   ],
   "source": [
    "fig = plt.figure(figsize=(18, 10))\n",
    "ax = fig.add_subplot()\n",
    "\n",
    "plt.title(\"Relative change between 1 and 10 epochs of training\", fontsize=\"xx-large\")\n",
    "\n",
    "x = ['outer_w_anm_no_inner', 'outer_w_anm_with_inner', 'inner_w_anm_with_inner',\n",
    "     'outer_w_acnm_no_inner', 'outer_w_acnm_with_inner', 'inner_w_acnm_with_inner']\n",
    "\n",
    "y = [np.sum(np.abs(e10_outer_w_anm_no_inner[index] - initial_outer_w_anm_no_inner[index]))/np.sum(np.abs(e1_outer_w_anm_no_inner[index] - initial_outer_w_anm_no_inner[index])),\n",
    "      np.sum(np.abs(e10_outer_w_anm_with_inner[index] - initial_outer_w_anm_with_inner[index]))/np.sum(np.abs(e1_outer_w_anm_with_inner[index] - initial_outer_w_anm_with_inner[index])),\n",
    "      np.sum(np.abs(e10_inner_w_anm_with_inner[index] - initial_inner_w_anm_with_inner[index]))/np.sum(np.abs(e1_inner_w_anm_with_inner[index] - initial_inner_w_anm_with_inner[index])),\n",
    "      np.sum(np.abs(e10_outer_w_acnm_no_inner[index] - initial_outer_w_acnm_no_inner[index]))/np.sum(np.abs(e1_outer_w_acnm_no_inner[index] - initial_outer_w_acnm_no_inner[index])),\n",
    "      np.sum(np.abs(e10_outer_w_acnm_with_inner[index] - initial_outer_w_acnm_with_inner[index]))/np.sum(np.abs(e1_outer_w_acnm_with_inner[index] - initial_outer_w_acnm_with_inner[index])),\n",
    "      np.sum(np.abs(e10_inner_w_acnm_with_inner[index] - initial_inner_w_acnm_with_inner[index]))/np.sum(np.abs(e1_inner_w_acnm_with_inner[index] - initial_inner_w_acnm_with_inner[index]))]\n",
    "\n",
    "w = 0.8\n",
    "ax.bar(x, y, width=w, color=('blue', 'purple', 'purple', 'orange', 'green', 'green'))\n",
    "\n",
    "plt.grid()\n",
    "plt.show()"
   ]
  },
  {
   "cell_type": "code",
   "execution_count": 35,
   "id": "4e087119",
   "metadata": {},
   "outputs": [
    {
     "data": {
      "image/png": "[encoded data removed]",
      "text/plain": [
       "<Figure size 1296x720 with 1 Axes>"
      ]
     },
     "metadata": {
      "needs_background": "light"
     },
     "output_type": "display_data"
    }
   ],
   "source": [
    "fig = plt.figure(figsize=(18, 10))\n",
    "ax = fig.add_subplot()\n",
    "\n",
    "plt.title(\"Average change per parameter\", fontsize=\"xx-large\")\n",
    "\n",
    "x = np.arange(6)\n",
    "y1 = [np.average(np.abs(e10_outer_w_anm_no_inner[index] - initial_outer_w_anm_no_inner[index])),\n",
    "      np.average(np.abs(e10_outer_w_anm_with_inner[index] - initial_outer_w_anm_with_inner[index])),\n",
    "      np.average(np.abs(e10_inner_w_anm_with_inner[index] - initial_inner_w_anm_with_inner[index])),\n",
    "      np.average(np.abs(e10_outer_w_acnm_no_inner[index] - initial_outer_w_acnm_no_inner[index])),\n",
    "      np.average(np.abs(e10_outer_w_acnm_with_inner[index] - initial_outer_w_acnm_with_inner[index])),\n",
    "      np.average(np.abs(e10_inner_w_acnm_with_inner[index] - initial_inner_w_acnm_with_inner[index]))]\n",
    "\n",
    "y2 = [np.average(np.abs(e1_outer_w_anm_no_inner[index] - initial_outer_w_anm_no_inner[index])),\n",
    "      np.average(np.abs(e1_outer_w_anm_with_inner[index] - initial_outer_w_anm_with_inner[index])),\n",
    "      np.average(np.abs(e1_inner_w_anm_with_inner[index] - initial_inner_w_anm_with_inner[index])),\n",
    "      np.average(np.abs(e1_outer_w_acnm_no_inner[index] - initial_outer_w_acnm_no_inner[index])),\n",
    "      np.average(np.abs(e1_outer_w_acnm_with_inner[index] - initial_outer_w_acnm_with_inner[index])),\n",
    "      np.average(np.abs(e1_inner_w_acnm_with_inner[index] - initial_inner_w_acnm_with_inner[index]))]\n",
    "\n",
    "w = 0.4\n",
    "\n",
    "ax.bar(x - w/2, y1, width = w, label=\"10 epochs\")\n",
    "ax.bar(x + w/2, y2, width = w, label=\"1 epochs\")\n",
    "\n",
    "plt.xticks([r for r in range(len(y1))], \n",
    "        ['outer_w_anm_no_inner', 'outer_w_anm_with_inner', 'inner_w_anm_with_inner',\n",
    "     'outer_w_acnm_no_inner', 'outer_w_acnm_with_inner', 'inner_w_acnm_with_inner'])\n",
    "\n",
    "plt.legend()\n",
    "plt.grid()\n",
    "plt.show()"
   ]
  }
 ],
 "metadata": {
  "kernelspec": {
   "display_name": "Python 3 (ipykernel)",
   "language": "python",
   "name": "python3"
  },
  "language_info": {
   "codemirror_mode": {
    "name": "ipython",
    "version": 3
   },
   "file_extension": ".py",
   "mimetype": "text/x-python",
   "name": "python",
   "nbconvert_exporter": "python",
   "pygments_lexer": "ipython3",
   "version": "3.9.5"
  }
 },
 "nbformat": 4,
 "nbformat_minor": 5
}
