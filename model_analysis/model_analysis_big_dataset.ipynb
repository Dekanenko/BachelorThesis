{
 "cells": [
  {
   "cell_type": "code",
   "execution_count": 1,
   "id": "e1def1c8",
   "metadata": {},
   "outputs": [],
   "source": [
    "import tensorflow as tf\n",
    "tf.config.experimental.set_visible_devices([], 'GPU')\n",
    "from tensorflow import keras\n",
    "import numpy as np\n",
    "import pandas as pd\n",
    "import matplotlib.pyplot as plt\n",
    "import xlsxwriter\n",
    "\n",
    "from sklearn.datasets import fetch_openml"
   ]
  },
  {
   "cell_type": "code",
   "execution_count": 2,
   "id": "ef3ae740",
   "metadata": {},
   "outputs": [],
   "source": [
    "tf.random.set_seed(2)\n",
    "np.random.seed(2)"
   ]
  },
  {
   "cell_type": "code",
   "execution_count": 3,
   "id": "39f5cb21",
   "metadata": {},
   "outputs": [],
   "source": [
    "class AdaptiveLayer(keras.layers.Layer):\n",
    "    \n",
    "    def __init__(self, units, structure=[2, 2], inner_hidden_activation=tf.nn.tanh, \n",
    "                 inner_out_activation=lambda x : x, skip_w=0.0):\n",
    "        super().__init__()\n",
    "        self.units = units\n",
    "        self.structure = structure\n",
    "        self.inner_hidden_activation = inner_hidden_activation\n",
    "        self.inner_out_activation = inner_out_activation\n",
    "        self.skip_w = skip_w\n",
    "        \n",
    "        \n",
    "    def build(self, input_shape):\n",
    "        self.outer_w = self.add_weight(shape=(input_shape[-1], self.units), initializer=\"random_normal\")\n",
    "        self.outer_b = self.add_weight(shape=(self.units), initializer=\"zeros\")\n",
    "        \n",
    "        self.inner_w = []\n",
    "        self.inner_b = []\n",
    "        for i in range(len(self.structure)):\n",
    "            if i == 0:\n",
    "                self.inner_w.append(self.add_weight(shape=(self.units, 1, self.structure[i]), \n",
    "                                          initializer=tf.initializers.random_normal(stddev=1.5)))\n",
    "            else:\n",
    "                self.inner_w.append(self.add_weight(shape=(self.units, self.structure[i-1], self.structure[i]), \n",
    "                                          initializer=tf.initializers.random_normal(stddev=0.9)))\n",
    "            \n",
    "            self.inner_b.append(self.add_weight(shape=(self.units, 1, self.structure[i]), initializer=\"zeros\"))\n",
    "   \n",
    "\n",
    "    def call(self, inputs):\n",
    "        z = inputs @ self.outer_w + self.outer_b\n",
    "        a = tf.expand_dims(tf.transpose(z), axis=-1)\n",
    "        \n",
    "        for i in range(len(self.structure)-1):\n",
    "            a = a @ self.inner_w[i] + self.inner_b[i]\n",
    "            a = self.inner_hidden_activation(a)\n",
    "        \n",
    "        if len(self.structure) > 0:\n",
    "            a = a @ self.inner_w[-1] + self.inner_b[-1]\n",
    "        \n",
    "        a = tf.reshape(tf.transpose(a), shape=(len(inputs), self.units))\n",
    "        a = self.inner_out_activation(a+z*self.skip_w)\n",
    "        \n",
    "        return a\n",
    "        \n",
    "\n",
    "    def activation_show(self, inputs):\n",
    "        inner_z = tf.cast(tf.expand_dims(tf.transpose(inputs), axis=-1), dtype=tf.float32)\n",
    "        a = tf.expand_dims(tf.transpose(inner_z), axis=-1)\n",
    "        \n",
    "        for i in range(len(self.structure)-1):\n",
    "            a = a @ self.inner_w[i] + self.inner_b[i]\n",
    "            a = self.inner_hidden_activation(a)\n",
    "        \n",
    "        a = a @ self.inner_w[-1] + self.inner_b[-1]\n",
    "        \n",
    "        a = tf.reshape(tf.transpose(a), shape=(len(inputs), self.units))\n",
    "        a = self.inner_out_activation(a)\n",
    "        \n",
    "        return a"
   ]
  },
  {
   "cell_type": "code",
   "execution_count": 4,
   "id": "4850c5a4",
   "metadata": {},
   "outputs": [],
   "source": [
    "class AdaptiveLayerConv(keras.layers.Layer):\n",
    "    \n",
    "    def __init__(self, units, structure=[4, 8], split=2, inner_hidden_activation=tf.nn.tanh, \n",
    "                 inner_out_activation=lambda x : x, skip_w=0.9, noise=0.0):\n",
    "        super().__init__()\n",
    "        self.units = units\n",
    "        self.structure = structure\n",
    "        self.split = split\n",
    "        self.inner_hidden_activation = inner_hidden_activation\n",
    "        self.inner_out_activation = inner_out_activation\n",
    "        self.skip_w = skip_w\n",
    "        self.noise = noise\n",
    "        \n",
    "        \n",
    "    def build(self, input_shape):\n",
    "        \n",
    "        self.outer_w = self.add_weight(shape=(self.split, input_shape[-1], self.units),\n",
    "                                                  initializer=\"random_normal\")\n",
    "        self.outer_b = self.add_weight(shape=(self.split, self.units), initializer=\"zeros\")\n",
    "        \n",
    "        self.inner_w = []\n",
    "        for i in range(0, len(self.structure)):\n",
    "            self.inner_w.append(keras.layers.Conv1D(self.structure[i], 1, \n",
    "                                                       activation=self.inner_hidden_activation))\n",
    "            \n",
    "        self.inner_w.append(keras.layers.AveragePooling1D(pool_size=self.split, data_format='channels_first'))      \n",
    "        self.inner_w.append(keras.layers.Conv1D(self.units, 1)) \n",
    "\n",
    "   \n",
    "\n",
    "    def call(self, inputs):\n",
    "        z = []\n",
    "        for i in range(0, self.split):\n",
    "            noise = tf.random.truncated_normal(shape=(self.outer_b[i].shape))\n",
    "            z.append(inputs @ self.outer_w[i] + self.outer_b[i] + noise*self.noise)\n",
    "        \n",
    "        a = tf.cast(z, dtype=tf.float32)\n",
    "        z = tf.cast(z, dtype=tf.float32)\n",
    "        \n",
    "        for i in range(len(self.inner_w)-2):\n",
    "            a = self.inner_w[i](a)\n",
    "        \n",
    "        if len(self.inner_w) > 0:\n",
    "            a = self.inner_w[-2](tf.transpose(a))\n",
    "            a = self.inner_w[-1](tf.transpose(a))\n",
    "    \n",
    "        a = tf.reshape(a, shape=(-1, self.units))\n",
    "        z_skip = tf.reduce_sum(z, axis=0)/self.split     \n",
    "        \n",
    "        a = self.inner_out_activation(a + z_skip*self.skip_w)\n",
    "        \n",
    "        return a    \n",
    "\n",
    "    def activation_show(self, inputs):\n",
    "        tmp = []\n",
    "        for i in range(0, self.units):\n",
    "            tmp.append(inputs)\n",
    "        \n",
    "        tmp = tf.cast(tmp, dtype=tf.float32)\n",
    "        a = tf.expand_dims(tf.transpose(tmp), axis=0)\n",
    "            \n",
    "        for i in range(len(self.inner_w)-2):\n",
    "            a = self.inner_w[i](a)\n",
    "             \n",
    "        a = self.inner_w[len(self.inner_w)-1](a)\n",
    "        a = tf.reshape(a, shape=(-1, self.units))\n",
    "        a = self.inner_out_activation(a)\n",
    "        \n",
    "        return a\n",
    "        \n"
   ]
  },
  {
   "cell_type": "code",
   "execution_count": 5,
   "id": "76e08ad2",
   "metadata": {},
   "outputs": [],
   "source": [
    "class AdaptiveModel(keras.Model):\n",
    "    \n",
    "    def __init__(self, l=[AdaptiveLayer(2), AdaptiveLayer(1)]):\n",
    "        super().__init__()\n",
    "        self.l = l\n",
    "\n",
    "    def call(self, inputs):\n",
    "        a = inputs\n",
    "        for layer in self.l:\n",
    "            a = layer(a)\n",
    "        \n",
    "        return a\n",
    "        \n",
    "    def activation_show(self, inputs):\n",
    "        y = []\n",
    "        \n",
    "        for layer in self.l:\n",
    "            tmp = layer.activation_show(inputs)\n",
    "            \n",
    "            for i in range(tmp.shape[-1]):\n",
    "                y.append(tmp[:, i])\n",
    "        \n",
    "        return y\n",
    "        "
   ]
  },
  {
   "cell_type": "code",
   "execution_count": 6,
   "id": "4965b33a",
   "metadata": {},
   "outputs": [
    {
     "name": "stderr",
     "output_type": "stream",
     "text": [
      "/Users/kyryll/miniforge3/envs/env1/lib/python3.9/site-packages/sklearn/datasets/_openml.py:1002: FutureWarning: The default value of `parser` will change from `'liac-arff'` to `'auto'` in 1.4. You can set `parser='auto'` to silence this warning. Therefore, an `ImportError` will be raised from 1.4 if the dataset is dense and pandas is not installed. Note that the pandas parser may return different data types. See the Notes Section in fetch_openml's API doc for details.\n",
      "  warn(\n"
     ]
    }
   ],
   "source": [
    "# dataset\n",
    "\n",
    "mnist = fetch_openml('mnist_784', version=1, as_frame=False)\n",
    "X, y = mnist['data'], mnist['target']\n",
    "\n",
    "y = y.astype(np.uint8)\n",
    "X_scale = X/255\n",
    "x_train, x_test, y_train, y_test = X_scale[:60000], X_scale[60000:], y[:60000], y[60000:]\n",
    "y_train = keras.utils.to_categorical(y_train, 10)\n",
    "y_test = keras.utils.to_categorical(y_test, 10)"
   ]
  },
  {
   "cell_type": "code",
   "execution_count": 7,
   "id": "99177453",
   "metadata": {},
   "outputs": [],
   "source": [
    "# Adaptive Layer (no inner_structure)\n",
    "# 81285 params\n",
    "adaptive_nn_model_no_inner = AdaptiveModel([\n",
    "    AdaptiveLayer(100, structure=[], inner_hidden_activation=tf.nn.relu, \n",
    "                  inner_out_activation=tf.nn.leaky_relu, skip_w=0.0),\n",
    "    AdaptiveLayer(25, structure=[], inner_hidden_activation=tf.nn.relu, \n",
    "                  inner_out_activation=tf.nn.leaky_relu, skip_w=0.0),\n",
    "    AdaptiveLayer(10, structure=[], inner_hidden_activation=tf.nn.relu, \n",
    "                  inner_out_activation=tf.nn.softmax, skip_w=0.0)\n",
    "])"
   ]
  },
  {
   "cell_type": "code",
   "execution_count": 8,
   "id": "57be6dae",
   "metadata": {},
   "outputs": [],
   "source": [
    "# Adaptive Layer (with inner_structure)\n",
    "# 81270 params\n",
    "adaptive_nn_model_with_inner = AdaptiveModel([\n",
    "    AdaptiveLayer(100, structure=[5, 1], inner_hidden_activation=tf.nn.relu, \n",
    "                  inner_out_activation=tf.nn.leaky_relu, skip_w=0.5),\n",
    "    AdaptiveLayer(10, structure=[5, 1], inner_hidden_activation=tf.nn.relu, \n",
    "                  inner_out_activation=tf.nn.softmax, skip_w=0.5)\n",
    "])"
   ]
  },
  {
   "cell_type": "code",
   "execution_count": 9,
   "id": "ddfa62fe",
   "metadata": {},
   "outputs": [],
   "source": [
    "# Adaptive Layer based on 1D Conv (no inner_structure)\n",
    "# 96820 params\n",
    "adaptive_conv_nn_model_no_inner = AdaptiveModel([\n",
    "    AdaptiveLayerConv(100, structure=[], split=1, skip_w=0.0, inner_hidden_activation=tf.nn.tanh,\n",
    "                  inner_out_activation=tf.nn.relu),\n",
    "    AdaptiveLayerConv(50, structure=[], split=1, skip_w=0.0, inner_hidden_activation=tf.nn.tanh,\n",
    "                  inner_out_activation=tf.nn.relu),\n",
    "    AdaptiveLayerConv(10, structure=[], split=1, skip_w=0.0, inner_hidden_activation=tf.nn.leaky_relu,\n",
    "                  inner_out_activation=tf.nn.softmax)\n",
    "])"
   ]
  },
  {
   "cell_type": "code",
   "execution_count": 10,
   "id": "835efba5",
   "metadata": {},
   "outputs": [],
   "source": [
    "# Adaptive Layer based on 1D Conv (with inner_structure)\n",
    "# 96568 params\n",
    "adaptive_conv_nn_model_with_inner = AdaptiveModel([\n",
    "    AdaptiveLayerConv(100, structure=[128, 4], split=1, skip_w=0.5, inner_hidden_activation=tf.nn.tanh,\n",
    "                  inner_out_activation=tf.nn.relu),\n",
    "    AdaptiveLayerConv(10, structure=[64, 32], split=1, skip_w=0.5, inner_hidden_activation=tf.nn.leaky_relu,\n",
    "                  inner_out_activation=tf.nn.softmax)\n",
    "])"
   ]
  },
  {
   "cell_type": "code",
   "execution_count": 11,
   "id": "ff7a7ae2",
   "metadata": {},
   "outputs": [
    {
     "name": "stdout",
     "output_type": "stream",
     "text": [
      "313/313 [==============================] - 0s 426us/step\n",
      "313/313 [==============================] - 0s 496us/step\n",
      "313/313 [==============================] - 0s 510us/step\n",
      "313/313 [==============================] - 0s 459us/step\n"
     ]
    }
   ],
   "source": [
    "tmp = adaptive_nn_model_no_inner.predict(x_test)\n",
    "tmp = adaptive_nn_model_with_inner.predict(x_test)\n",
    "tmp = adaptive_conv_nn_model_no_inner.predict(x_test)\n",
    "tmp = adaptive_conv_nn_model_with_inner.predict(x_test)"
   ]
  },
  {
   "cell_type": "code",
   "execution_count": 12,
   "id": "74f4554d",
   "metadata": {},
   "outputs": [],
   "source": [
    "def extract_weights(model, outter=True, conv=False):\n",
    "    tmp = []\n",
    "    for i in range(len(model.l)):\n",
    "        if outter:\n",
    "            tmp.append(model.l[i].outer_w.numpy())\n",
    "        else:\n",
    "            if not conv:\n",
    "                tmp.append(model.l[i].inner_w[0].numpy())\n",
    "            else:\n",
    "                tmp.append(model.l[i].inner_w[0].weights[0].numpy())\n",
    "    \n",
    "    return tmp"
   ]
  },
  {
   "cell_type": "code",
   "execution_count": 13,
   "id": "8ef029f2",
   "metadata": {
    "scrolled": true
   },
   "outputs": [],
   "source": [
    "initial_outer_w_anm_no_inner = extract_weights(adaptive_nn_model_no_inner)\n",
    "initial_outer_w_anm_with_inner = extract_weights(adaptive_nn_model_with_inner)\n",
    "initial_inner_w_anm_with_inner = extract_weights(adaptive_nn_model_with_inner, outter=False)\n",
    "initial_outer_w_acnm_no_inner = extract_weights(adaptive_conv_nn_model_no_inner)\n",
    "initial_outer_w_acnm_with_inner = extract_weights(adaptive_conv_nn_model_with_inner)\n",
    "initial_inner_w_acnm_with_inner = extract_weights(adaptive_conv_nn_model_with_inner, outter=False, conv=True)"
   ]
  },
  {
   "cell_type": "code",
   "execution_count": 14,
   "id": "38652992",
   "metadata": {},
   "outputs": [],
   "source": [
    "adaptive_nn_model_no_inner.compile(optimizer=tf.optimizers.legacy.Adam(learning_rate=0.001), \n",
    "                       loss=\"categorical_crossentropy\", metrics=['accuracy'])"
   ]
  },
  {
   "cell_type": "code",
   "execution_count": 15,
   "id": "244180f9",
   "metadata": {},
   "outputs": [],
   "source": [
    "adaptive_nn_model_with_inner.compile(optimizer=tf.optimizers.legacy.Adam(learning_rate=0.001), \n",
    "                       loss=\"categorical_crossentropy\", metrics=['accuracy'])"
   ]
  },
  {
   "cell_type": "code",
   "execution_count": 16,
   "id": "ca5dd089",
   "metadata": {},
   "outputs": [],
   "source": [
    "adaptive_conv_nn_model_no_inner.compile(optimizer=tf.optimizers.legacy.Adam(learning_rate=0.001), \n",
    "                       loss=\"categorical_crossentropy\", metrics=['accuracy'])"
   ]
  },
  {
   "cell_type": "code",
   "execution_count": 17,
   "id": "dc0a4b48",
   "metadata": {},
   "outputs": [],
   "source": [
    "adaptive_conv_nn_model_with_inner.compile(optimizer=tf.optimizers.legacy.Adam(learning_rate=0.001), \n",
    "                       loss=\"categorical_crossentropy\", metrics=['accuracy'])"
   ]
  },
  {
   "cell_type": "code",
   "execution_count": 18,
   "id": "0f18ca9f",
   "metadata": {},
   "outputs": [],
   "source": [
    "EPOCHS = 1"
   ]
  },
  {
   "cell_type": "code",
   "execution_count": 19,
   "id": "ee6ac750",
   "metadata": {
    "scrolled": true
   },
   "outputs": [
    {
     "name": "stdout",
     "output_type": "stream",
     "text": [
      "1875/1875 [==============================] - 1s 700us/step - loss: 0.3670 - accuracy: 0.8925\n"
     ]
    },
    {
     "data": {
      "text/plain": [
       "<keras.src.callbacks.History at 0x169fb7910>"
      ]
     },
     "execution_count": 19,
     "metadata": {},
     "output_type": "execute_result"
    }
   ],
   "source": [
    "adaptive_nn_model_no_inner.fit(x_train, y_train, epochs=EPOCHS)"
   ]
  },
  {
   "cell_type": "code",
   "execution_count": 20,
   "id": "8c508df0",
   "metadata": {
    "scrolled": true
   },
   "outputs": [
    {
     "name": "stdout",
     "output_type": "stream",
     "text": [
      "1875/1875 [==============================] - 2s 902us/step - loss: 0.3031 - accuracy: 0.9104\n"
     ]
    },
    {
     "data": {
      "text/plain": [
       "<keras.src.callbacks.History at 0x16a54ab80>"
      ]
     },
     "execution_count": 20,
     "metadata": {},
     "output_type": "execute_result"
    }
   ],
   "source": [
    "adaptive_nn_model_with_inner.fit(x_train, y_train, epochs=EPOCHS)"
   ]
  },
  {
   "cell_type": "code",
   "execution_count": 21,
   "id": "61fe894f",
   "metadata": {
    "scrolled": true
   },
   "outputs": [
    {
     "name": "stdout",
     "output_type": "stream",
     "text": [
      "1875/1875 [==============================] - 2s 1ms/step - loss: 0.3181 - accuracy: 0.9042\n"
     ]
    },
    {
     "data": {
      "text/plain": [
       "<keras.src.callbacks.History at 0x16a66eaf0>"
      ]
     },
     "execution_count": 21,
     "metadata": {},
     "output_type": "execute_result"
    }
   ],
   "source": [
    "adaptive_conv_nn_model_no_inner.fit(x_train, y_train, epochs=EPOCHS)"
   ]
  },
  {
   "cell_type": "code",
   "execution_count": 22,
   "id": "3cfa80f9",
   "metadata": {
    "scrolled": true
   },
   "outputs": [
    {
     "name": "stdout",
     "output_type": "stream",
     "text": [
      "1875/1875 [==============================] - 3s 1ms/step - loss: 0.3209 - accuracy: 0.9043\n"
     ]
    },
    {
     "data": {
      "text/plain": [
       "<keras.src.callbacks.History at 0x175f6f250>"
      ]
     },
     "execution_count": 22,
     "metadata": {},
     "output_type": "execute_result"
    }
   ],
   "source": [
    "adaptive_conv_nn_model_with_inner.fit(x_train, y_train, epochs=EPOCHS)"
   ]
  },
  {
   "cell_type": "code",
   "execution_count": 23,
   "id": "6331ef28",
   "metadata": {},
   "outputs": [],
   "source": [
    "e1_outer_w_anm_no_inner = extract_weights(adaptive_nn_model_no_inner)\n",
    "e1_outer_w_anm_with_inner = extract_weights(adaptive_nn_model_with_inner)\n",
    "e1_inner_w_anm_with_inner = extract_weights(adaptive_nn_model_with_inner, outter=False)\n",
    "e1_outer_w_acnm_no_inner = extract_weights(adaptive_conv_nn_model_no_inner)\n",
    "e1_outer_w_acnm_with_inner = extract_weights(adaptive_conv_nn_model_with_inner)\n",
    "e1_inner_w_acnm_with_inner = extract_weights(adaptive_conv_nn_model_with_inner, outter=False, conv=True)"
   ]
  },
  {
   "cell_type": "code",
   "execution_count": 24,
   "id": "d7c53bb0",
   "metadata": {},
   "outputs": [
    {
     "name": "stdout",
     "output_type": "stream",
     "text": [
      "1 - initial\n",
      "SUM:\n",
      "outer_w_anm_no_inner 4226.6216\n",
      "outer_w_anm_with_inner 2863.17\n",
      "inner_w_anm_with_inner 48.294746\n",
      "outer_w_acnm_no_inner 2726.8232\n",
      "outer_w_acnm_with_inner 2960.3938\n",
      "inner_w_acnm_with_inner 431.58105\n",
      "\n",
      "AVERAGE:\n",
      "outer_w_anm_no_inner 0.05391099\n",
      "outer_w_anm_with_inner 0.036520023\n",
      "inner_w_anm_with_inner 0.09658949\n",
      "outer_w_acnm_no_inner 0.03478091\n",
      "outer_w_acnm_with_inner 0.037760124\n",
      "inner_w_acnm_with_inner 0.03371727\n"
     ]
    }
   ],
   "source": [
    "print(\"1 - initial\\nSUM:\")\n",
    "index = 0\n",
    "print(\"outer_w_anm_no_inner\", np.sum(np.abs(e1_outer_w_anm_no_inner[index] - initial_outer_w_anm_no_inner[index])))\n",
    "print(\"outer_w_anm_with_inner\", np.sum(np.abs(e1_outer_w_anm_with_inner[index] - initial_outer_w_anm_with_inner[index])))\n",
    "print(\"inner_w_anm_with_inner\", np.sum(np.abs(e1_inner_w_anm_with_inner[index] - initial_inner_w_anm_with_inner[index])))\n",
    "print(\"outer_w_acnm_no_inner\", np.sum(np.abs(e1_outer_w_acnm_no_inner[index] - initial_outer_w_acnm_no_inner[index])))\n",
    "print(\"outer_w_acnm_with_inner\", np.sum(np.abs(e1_outer_w_acnm_with_inner[index] - initial_outer_w_acnm_with_inner[index])))\n",
    "print(\"inner_w_acnm_with_inner\", np.sum(np.abs(e1_inner_w_acnm_with_inner[index] - initial_inner_w_acnm_with_inner[index])))\n",
    "print(\"\\nAVERAGE:\")\n",
    "print(\"outer_w_anm_no_inner\", np.average(np.abs(e1_outer_w_anm_no_inner[index] - initial_outer_w_anm_no_inner[index])))\n",
    "print(\"outer_w_anm_with_inner\", np.average(np.abs(e1_outer_w_anm_with_inner[index] - initial_outer_w_anm_with_inner[index])))\n",
    "print(\"inner_w_anm_with_inner\", np.average(np.abs(e1_inner_w_anm_with_inner[index] - initial_inner_w_anm_with_inner[index])))\n",
    "print(\"outer_w_acnm_no_inner\", np.average(np.abs(e1_outer_w_acnm_no_inner[index] - initial_outer_w_acnm_no_inner[index])))\n",
    "print(\"outer_w_acnm_with_inner\", np.average(np.abs(e1_outer_w_acnm_with_inner[index] - initial_outer_w_acnm_with_inner[index])))\n",
    "print(\"inner_w_acnm_with_inner\", np.average(np.abs(e1_inner_w_acnm_with_inner[index] - initial_inner_w_acnm_with_inner[index])))\n"
   ]
  },
  {
   "cell_type": "code",
   "execution_count": 25,
   "id": "ecb3bb8b",
   "metadata": {},
   "outputs": [],
   "source": [
    "EPOCHS = 9"
   ]
  },
  {
   "cell_type": "code",
   "execution_count": 26,
   "id": "af32c0b2",
   "metadata": {},
   "outputs": [
    {
     "name": "stdout",
     "output_type": "stream",
     "text": [
      "Epoch 1/9\n",
      "1875/1875 [==============================] - 1s 766us/step - loss: 0.1700 - accuracy: 0.9491\n",
      "Epoch 2/9\n",
      "1875/1875 [==============================] - 1s 726us/step - loss: 0.1237 - accuracy: 0.9628\n",
      "Epoch 3/9\n",
      "1875/1875 [==============================] - 1s 708us/step - loss: 0.0957 - accuracy: 0.9708\n",
      "Epoch 4/9\n",
      "1875/1875 [==============================] - 1s 707us/step - loss: 0.0779 - accuracy: 0.9757\n",
      "Epoch 5/9\n",
      "1875/1875 [==============================] - 1s 710us/step - loss: 0.0651 - accuracy: 0.9800\n",
      "Epoch 6/9\n",
      "1875/1875 [==============================] - 1s 714us/step - loss: 0.0553 - accuracy: 0.9819\n",
      "Epoch 7/9\n",
      "1875/1875 [==============================] - 1s 702us/step - loss: 0.0481 - accuracy: 0.9841\n",
      "Epoch 8/9\n",
      "1875/1875 [==============================] - 1s 707us/step - loss: 0.0408 - accuracy: 0.9871\n",
      "Epoch 9/9\n",
      "1875/1875 [==============================] - 1s 693us/step - loss: 0.0362 - accuracy: 0.9884\n"
     ]
    },
    {
     "data": {
      "text/plain": [
       "<keras.src.callbacks.History at 0x176d37220>"
      ]
     },
     "execution_count": 26,
     "metadata": {},
     "output_type": "execute_result"
    }
   ],
   "source": [
    "adaptive_nn_model_no_inner.fit(x_train, y_train, epochs=EPOCHS)"
   ]
  },
  {
   "cell_type": "code",
   "execution_count": 27,
   "id": "b7dcd755",
   "metadata": {},
   "outputs": [
    {
     "name": "stdout",
     "output_type": "stream",
     "text": [
      "Epoch 1/9\n",
      "1875/1875 [==============================] - 2s 923us/step - loss: 0.1107 - accuracy: 0.9666\n",
      "Epoch 2/9\n",
      "1875/1875 [==============================] - 2s 908us/step - loss: 0.0805 - accuracy: 0.9754\n",
      "Epoch 3/9\n",
      "1875/1875 [==============================] - 2s 886us/step - loss: 0.0622 - accuracy: 0.9796\n",
      "Epoch 4/9\n",
      "1875/1875 [==============================] - 2s 884us/step - loss: 0.0509 - accuracy: 0.9839\n",
      "Epoch 5/9\n",
      "1875/1875 [==============================] - 2s 893us/step - loss: 0.0437 - accuracy: 0.9859\n",
      "Epoch 6/9\n",
      "1875/1875 [==============================] - 2s 899us/step - loss: 0.0355 - accuracy: 0.9887\n",
      "Epoch 7/9\n",
      "1875/1875 [==============================] - 2s 900us/step - loss: 0.0317 - accuracy: 0.9894\n",
      "Epoch 8/9\n",
      "1875/1875 [==============================] - 2s 911us/step - loss: 0.0284 - accuracy: 0.9909\n",
      "Epoch 9/9\n",
      "1875/1875 [==============================] - 2s 978us/step - loss: 0.0244 - accuracy: 0.9919\n"
     ]
    },
    {
     "data": {
      "text/plain": [
       "<keras.src.callbacks.History at 0x176e1e0d0>"
      ]
     },
     "execution_count": 27,
     "metadata": {},
     "output_type": "execute_result"
    }
   ],
   "source": [
    "adaptive_nn_model_with_inner.fit(x_train, y_train, epochs=EPOCHS)"
   ]
  },
  {
   "cell_type": "code",
   "execution_count": 28,
   "id": "5e2b24f8",
   "metadata": {},
   "outputs": [
    {
     "name": "stdout",
     "output_type": "stream",
     "text": [
      "Epoch 1/9\n",
      "1875/1875 [==============================] - 2s 1ms/step - loss: 0.1410 - accuracy: 0.9580\n",
      "Epoch 2/9\n",
      "1875/1875 [==============================] - 2s 1ms/step - loss: 0.1108 - accuracy: 0.9655\n",
      "Epoch 3/9\n",
      "1875/1875 [==============================] - 2s 1ms/step - loss: 0.0913 - accuracy: 0.9723\n",
      "Epoch 4/9\n",
      "1875/1875 [==============================] - 2s 1ms/step - loss: 0.0778 - accuracy: 0.9761\n",
      "Epoch 5/9\n",
      "1875/1875 [==============================] - 2s 1ms/step - loss: 0.0713 - accuracy: 0.9772\n",
      "Epoch 6/9\n",
      "1875/1875 [==============================] - 2s 1ms/step - loss: 0.0633 - accuracy: 0.9794\n",
      "Epoch 7/9\n",
      "1875/1875 [==============================] - 2s 1ms/step - loss: 0.0569 - accuracy: 0.9822\n",
      "Epoch 8/9\n",
      "1875/1875 [==============================] - 2s 1ms/step - loss: 0.0536 - accuracy: 0.9826\n",
      "Epoch 9/9\n",
      "1875/1875 [==============================] - 2s 1ms/step - loss: 0.0488 - accuracy: 0.9842\n"
     ]
    },
    {
     "data": {
      "text/plain": [
       "<keras.src.callbacks.History at 0x176e49280>"
      ]
     },
     "execution_count": 28,
     "metadata": {},
     "output_type": "execute_result"
    }
   ],
   "source": [
    "adaptive_conv_nn_model_no_inner.fit(x_train, y_train, epochs=EPOCHS)"
   ]
  },
  {
   "cell_type": "code",
   "execution_count": 29,
   "id": "7e0e8568",
   "metadata": {},
   "outputs": [
    {
     "name": "stdout",
     "output_type": "stream",
     "text": [
      "Epoch 1/9\n",
      "1875/1875 [==============================] - 3s 1ms/step - loss: 0.1401 - accuracy: 0.9578\n",
      "Epoch 2/9\n",
      "1875/1875 [==============================] - 2s 1ms/step - loss: 0.1058 - accuracy: 0.9679\n",
      "Epoch 3/9\n",
      "1875/1875 [==============================] - 3s 1ms/step - loss: 0.0841 - accuracy: 0.9734\n",
      "Epoch 4/9\n",
      "1875/1875 [==============================] - 3s 1ms/step - loss: 0.0689 - accuracy: 0.9783\n",
      "Epoch 5/9\n",
      "1875/1875 [==============================] - 2s 1ms/step - loss: 0.0597 - accuracy: 0.9816\n",
      "Epoch 6/9\n",
      "1875/1875 [==============================] - 3s 1ms/step - loss: 0.0511 - accuracy: 0.9834\n",
      "Epoch 7/9\n",
      "1875/1875 [==============================] - 3s 1ms/step - loss: 0.0467 - accuracy: 0.9847\n",
      "Epoch 8/9\n",
      "1875/1875 [==============================] - 3s 1ms/step - loss: 0.0387 - accuracy: 0.9875\n",
      "Epoch 9/9\n",
      "1875/1875 [==============================] - 2s 1ms/step - loss: 0.0364 - accuracy: 0.9878\n"
     ]
    },
    {
     "data": {
      "text/plain": [
       "<keras.src.callbacks.History at 0x1739c73a0>"
      ]
     },
     "execution_count": 29,
     "metadata": {},
     "output_type": "execute_result"
    }
   ],
   "source": [
    "adaptive_conv_nn_model_with_inner.fit(x_train, y_train, epochs=EPOCHS)"
   ]
  },
  {
   "cell_type": "code",
   "execution_count": 30,
   "id": "c3b708e8",
   "metadata": {},
   "outputs": [],
   "source": [
    "e10_outer_w_anm_no_inner = extract_weights(adaptive_nn_model_no_inner)\n",
    "e10_outer_w_anm_with_inner = extract_weights(adaptive_nn_model_with_inner)\n",
    "e10_inner_w_anm_with_inner = extract_weights(adaptive_nn_model_with_inner, outter=False)\n",
    "e10_outer_w_acnm_no_inner = extract_weights(adaptive_conv_nn_model_no_inner)\n",
    "e10_outer_w_acnm_with_inner = extract_weights(adaptive_conv_nn_model_with_inner)\n",
    "e10_inner_w_acnm_with_inner = extract_weights(adaptive_conv_nn_model_with_inner, outter=False, conv=True)"
   ]
  },
  {
   "cell_type": "code",
   "execution_count": 31,
   "id": "3fe8495a",
   "metadata": {},
   "outputs": [
    {
     "name": "stdout",
     "output_type": "stream",
     "text": [
      "10 - initial\n",
      "SUM:\n",
      "outer_w_anm_no_inner 9814.998\n",
      "outer_w_anm_with_inner 7930.075\n",
      "inner_w_anm_with_inner 97.038994\n",
      "outer_w_acnm_no_inner 7717.771\n",
      "outer_w_acnm_with_inner 8096.4736\n",
      "inner_w_acnm_with_inner 1238.1729\n",
      "\n",
      "AVERAGE:\n",
      "outer_w_anm_no_inner 0.1251913\n",
      "outer_w_anm_with_inner 0.10114892\n",
      "inner_w_anm_with_inner 0.19407798\n",
      "outer_w_acnm_no_inner 0.09844096\n",
      "outer_w_acnm_with_inner 0.10327135\n",
      "inner_w_acnm_with_inner 0.09673225\n"
     ]
    }
   ],
   "source": [
    "print(\"10 - initial\\nSUM:\")\n",
    "index = 0\n",
    "print(\"outer_w_anm_no_inner\", np.sum(np.abs(e10_outer_w_anm_no_inner[index] - initial_outer_w_anm_no_inner[index])))\n",
    "print(\"outer_w_anm_with_inner\", np.sum(np.abs(e10_outer_w_anm_with_inner[index] - initial_outer_w_anm_with_inner[index])))\n",
    "print(\"inner_w_anm_with_inner\", np.sum(np.abs(e10_inner_w_anm_with_inner[index] - initial_inner_w_anm_with_inner[index])))\n",
    "print(\"outer_w_acnm_no_inner\", np.sum(np.abs(e10_outer_w_acnm_no_inner[index] - initial_outer_w_acnm_no_inner[index])))\n",
    "print(\"outer_w_acnm_with_inner\", np.sum(np.abs(e10_outer_w_acnm_with_inner[index] - initial_outer_w_acnm_with_inner[index])))\n",
    "print(\"inner_w_acnm_with_inner\", np.sum(np.abs(e10_inner_w_acnm_with_inner[index] - initial_inner_w_acnm_with_inner[index])))\n",
    "print(\"\\nAVERAGE:\")\n",
    "print(\"outer_w_anm_no_inner\", np.average(np.abs(e10_outer_w_anm_no_inner[index] - initial_outer_w_anm_no_inner[index])))\n",
    "print(\"outer_w_anm_with_inner\", np.average(np.abs(e10_outer_w_anm_with_inner[index] - initial_outer_w_anm_with_inner[index])))\n",
    "print(\"inner_w_anm_with_inner\", np.average(np.abs(e10_inner_w_anm_with_inner[index] - initial_inner_w_anm_with_inner[index])))\n",
    "print(\"outer_w_acnm_no_inner\", np.average(np.abs(e10_outer_w_acnm_no_inner[index] - initial_outer_w_acnm_no_inner[index])))\n",
    "print(\"outer_w_acnm_with_inner\", np.average(np.abs(e10_outer_w_acnm_with_inner[index] - initial_outer_w_acnm_with_inner[index])))\n",
    "print(\"inner_w_acnm_with_inner\", np.average(np.abs(e10_inner_w_acnm_with_inner[index] - initial_inner_w_acnm_with_inner[index])))\n"
   ]
  },
  {
   "cell_type": "code",
   "execution_count": 34,
   "id": "4a4c252c",
   "metadata": {},
   "outputs": [
    {
     "data": {
      "image/png": "[encoded data removed]",
      "text/plain": [
       "<Figure size 1800x1000 with 1 Axes>"
      ]
     },
     "metadata": {},
     "output_type": "display_data"
    }
   ],
   "source": [
    "fig = plt.figure(figsize=(18, 10))\n",
    "ax = fig.add_subplot()\n",
    "\n",
    "plt.title(\"Relative change between 1 and 10 epochs of training\", fontsize=\"xx-large\")\n",
    "\n",
    "x = ['outer_w_anm_no_inner', 'outer_w_anm_with_inner', 'inner_w_anm_with_inner',\n",
    "     'outer_w_acnm_no_inner', 'outer_w_acnm_with_inner', 'inner_w_acnm_with_inner']\n",
    "\n",
    "y = [np.sum(np.abs(e10_outer_w_anm_no_inner[index] - initial_outer_w_anm_no_inner[index]))/np.sum(np.abs(e1_outer_w_anm_no_inner[index] - initial_outer_w_anm_no_inner[index])),\n",
    "      np.sum(np.abs(e10_outer_w_anm_with_inner[index] - initial_outer_w_anm_with_inner[index]))/np.sum(np.abs(e1_outer_w_anm_with_inner[index] - initial_outer_w_anm_with_inner[index])),\n",
    "      np.sum(np.abs(e10_inner_w_anm_with_inner[index] - initial_inner_w_anm_with_inner[index]))/np.sum(np.abs(e1_inner_w_anm_with_inner[index] - initial_inner_w_anm_with_inner[index])),\n",
    "      np.sum(np.abs(e10_outer_w_acnm_no_inner[index] - initial_outer_w_acnm_no_inner[index]))/np.sum(np.abs(e1_outer_w_acnm_no_inner[index] - initial_outer_w_acnm_no_inner[index])),\n",
    "      np.sum(np.abs(e10_outer_w_acnm_with_inner[index] - initial_outer_w_acnm_with_inner[index]))/np.sum(np.abs(e1_outer_w_acnm_with_inner[index] - initial_outer_w_acnm_with_inner[index])),\n",
    "      np.sum(np.abs(e10_inner_w_acnm_with_inner[index] - initial_inner_w_acnm_with_inner[index]))/np.sum(np.abs(e1_inner_w_acnm_with_inner[index] - initial_inner_w_acnm_with_inner[index]))]\n",
    "\n",
    "w = 0.8\n",
    "plt.ylabel(\"Change coefficient\")\n",
    "ax.bar(x, y, width=w, color=('blue', 'purple', 'purple', 'orange', 'green', 'green'))\n",
    "\n",
    "plt.grid()\n",
    "plt.show()"
   ]
  },
  {
   "cell_type": "code",
   "execution_count": 35,
   "id": "4e087119",
   "metadata": {},
   "outputs": [
    {
     "data": {
      "image/png": "[encoded data removed]",
      "text/plain": [
       "<Figure size 1800x1000 with 1 Axes>"
      ]
     },
     "metadata": {},
     "output_type": "display_data"
    }
   ],
   "source": [
    "fig = plt.figure(figsize=(18, 10))\n",
    "ax = fig.add_subplot()\n",
    "\n",
    "plt.title(\"Average change per parameter\", fontsize=\"xx-large\")\n",
    "\n",
    "x = np.arange(6)\n",
    "y1 = [np.average(np.abs(e10_outer_w_anm_no_inner[index] - initial_outer_w_anm_no_inner[index])),\n",
    "      np.average(np.abs(e10_outer_w_anm_with_inner[index] - initial_outer_w_anm_with_inner[index])),\n",
    "      np.average(np.abs(e10_inner_w_anm_with_inner[index] - initial_inner_w_anm_with_inner[index])),\n",
    "      np.average(np.abs(e10_outer_w_acnm_no_inner[index] - initial_outer_w_acnm_no_inner[index])),\n",
    "      np.average(np.abs(e10_outer_w_acnm_with_inner[index] - initial_outer_w_acnm_with_inner[index])),\n",
    "      np.average(np.abs(e10_inner_w_acnm_with_inner[index] - initial_inner_w_acnm_with_inner[index]))]\n",
    "\n",
    "y2 = [np.average(np.abs(e1_outer_w_anm_no_inner[index] - initial_outer_w_anm_no_inner[index])),\n",
    "      np.average(np.abs(e1_outer_w_anm_with_inner[index] - initial_outer_w_anm_with_inner[index])),\n",
    "      np.average(np.abs(e1_inner_w_anm_with_inner[index] - initial_inner_w_anm_with_inner[index])),\n",
    "      np.average(np.abs(e1_outer_w_acnm_no_inner[index] - initial_outer_w_acnm_no_inner[index])),\n",
    "      np.average(np.abs(e1_outer_w_acnm_with_inner[index] - initial_outer_w_acnm_with_inner[index])),\n",
    "      np.average(np.abs(e1_inner_w_acnm_with_inner[index] - initial_inner_w_acnm_with_inner[index]))]\n",
    "\n",
    "w = 0.4\n",
    "\n",
    "plt.ylabel(\"Average change coefficient\")\n",
    "ax.bar(x - w/2, y1, width = w, label=\"10 epochs\")\n",
    "ax.bar(x + w/2, y2, width = w, label=\"1 epochs\")\n",
    "\n",
    "plt.xticks([r for r in range(len(y1))], \n",
    "        ['outer_w_anm_no_inner', 'outer_w_anm_with_inner', 'inner_w_anm_with_inner',\n",
    "     'outer_w_acnm_no_inner', 'outer_w_acnm_with_inner', 'inner_w_acnm_with_inner'])\n",
    "\n",
    "plt.legend()\n",
    "plt.grid()\n",
    "plt.show()"
   ]
  },
  {
   "cell_type": "code",
   "execution_count": null,
   "id": "143081b5-8337-478f-8c56-4b90d5af69e2",
   "metadata": {},
   "outputs": [],
   "source": []
  }
 ],
 "metadata": {
  "kernelspec": {
   "display_name": "Python 3 (ipykernel)",
   "language": "python",
   "name": "python3"
  },
  "language_info": {
   "codemirror_mode": {
    "name": "ipython",
    "version": 3
   },
   "file_extension": ".py",
   "mimetype": "text/x-python",
   "name": "python",
   "nbconvert_exporter": "python",
   "pygments_lexer": "ipython3",
   "version": "3.9.16"
  }
 },
 "nbformat": 4,
 "nbformat_minor": 5
}
