{
 "cells": [
  {
   "cell_type": "code",
   "execution_count": 1,
   "id": "e1def1c8",
   "metadata": {},
   "outputs": [],
   "source": [
    "import tensorflow as tf\n",
    "tf.config.experimental.set_visible_devices([], 'GPU')\n",
    "from tensorflow import keras\n",
    "import numpy as np\n",
    "import matplotlib.pyplot as plt\n",
    "import xlsxwriter\n",
    "import time\n",
    "\n",
    "%matplotlib qt\n",
    "\n",
    "from sklearn.datasets import fetch_openml\n",
    "\n",
    "# import module with layers\n",
    "import sys\n",
    "import os\n",
    "module_path = os.path.abspath(os.path.join('..'))\n",
    "if module_path not in sys.path:\n",
    "    sys.path.append(module_path+\"/model_module\")\n",
    "\n",
    "from adaptive_layer import *"
   ]
  },
  {
   "cell_type": "code",
   "execution_count": 2,
   "id": "ef3ae740",
   "metadata": {},
   "outputs": [],
   "source": [
    "tf.random.set_seed(5)\n",
    "np.random.seed(5)"
   ]
  },
  {
   "cell_type": "code",
   "execution_count": 3,
   "id": "4965b33a",
   "metadata": {},
   "outputs": [
    {
     "name": "stderr",
     "output_type": "stream",
     "text": [
      "/Users/kyryll/miniforge3/envs/env1/lib/python3.9/site-packages/sklearn/datasets/_openml.py:1002: FutureWarning: The default value of `parser` will change from `'liac-arff'` to `'auto'` in 1.4. You can set `parser='auto'` to silence this warning. Therefore, an `ImportError` will be raised from 1.4 if the dataset is dense and pandas is not installed. Note that the pandas parser may return different data types. See the Notes Section in fetch_openml's API doc for details.\n",
      "  warn(\n"
     ]
    }
   ],
   "source": [
    "# dataset\n",
    "\n",
    "mnist = fetch_openml('mnist_784', version=1, as_frame=False)\n",
    "X, y = mnist['data'], mnist['target']\n",
    "\n",
    "y = y.astype(np.uint8)\n",
    "X_scale = X/255\n",
    "x_train, x_test, y_train, y_test = X_scale[:60000], X_scale[60000:], y[:60000], y[60000:]\n",
    "y_train = keras.utils.to_categorical(y_train, 10)\n",
    "y_test = keras.utils.to_categorical(y_test, 10)"
   ]
  },
  {
   "cell_type": "code",
   "execution_count": 4,
   "id": "058b4c6b-6838-47b5-bd67-eada93db71e5",
   "metadata": {},
   "outputs": [],
   "source": [
    "EPOCHS = 10\n",
    "\n",
    "static_f_time = []\n",
    "adaptive_f_time = []\n",
    "adaptive_nn_time = []\n",
    "adaptive_conv_nn_time = []"
   ]
  },
  {
   "cell_type": "code",
   "execution_count": 5,
   "id": "8df7f88c",
   "metadata": {},
   "outputs": [],
   "source": [
    "# 39760\n",
    "static_f_model = keras.Sequential([\n",
    "    keras.layers.Dense(50, activation=\"relu\"),\n",
    "    keras.layers.Dense(10, activation=\"softmax\")\n",
    "])\n",
    "\n",
    "static_f_model.compile(optimizer=tf.optimizers.legacy.Adam(learning_rate=0.001), \n",
    "                       loss=\"categorical_crossentropy\", metrics=['accuracy'])"
   ]
  },
  {
   "cell_type": "code",
   "execution_count": 6,
   "id": "55a602e2",
   "metadata": {},
   "outputs": [],
   "source": [
    "# 39760\n",
    "adaptive_f_model = keras.Sequential([\n",
    "    keras.layers.Dense(50, activation=tf.nn.swish),\n",
    "    keras.layers.Dense(10, activation=\"softmax\")\n",
    "])\n",
    "\n",
    "adaptive_f_model.compile(optimizer=tf.optimizers.legacy.Adam(learning_rate=0.001), \n",
    "                       loss=\"categorical_crossentropy\", metrics=['accuracy'])"
   ]
  },
  {
   "cell_type": "code",
   "execution_count": 7,
   "id": "99177453",
   "metadata": {},
   "outputs": [],
   "source": [
    "# Adaptive Layer\n",
    "# 39818\n",
    "adaptive_nn_model = AdaptiveModel([\n",
    "    AdaptiveLayer(48, structure=[10, 1], inner_hidden_activation=tf.nn.relu, \n",
    "                  inner_out_activation=tf.nn.leaky_relu, skip_w=0.5),\n",
    "    AdaptiveLayer(10, structure=[5, 1], inner_hidden_activation=tf.nn.relu, \n",
    "                  inner_out_activation=tf.nn.softmax, skip_w=0.5)\n",
    "])\n",
    "\n",
    "adaptive_nn_model.compile(optimizer=tf.optimizers.legacy.Adam(learning_rate=0.001), \n",
    "                       loss=\"categorical_crossentropy\", metrics=['accuracy'])"
   ]
  },
  {
   "cell_type": "code",
   "execution_count": 8,
   "id": "ddfa62fe",
   "metadata": {},
   "outputs": [],
   "source": [
    "# Adaptive Layer based on 1D Conv\n",
    "# 39840\n",
    "adaptive_conv_nn_model = AdaptiveModel([\n",
    "    AdaptiveLayerConv(45, structure=[32, 8], split=1, inner_hidden_activation=tf.nn.tanh,\n",
    "                  inner_out_activation=tf.nn.relu),\n",
    "    AdaptiveLayerConv(10, structure=[64, 16], split=1, inner_hidden_activation=tf.nn.leaky_relu,\n",
    "                  inner_out_activation=tf.nn.softmax)\n",
    "])\n",
    "\n",
    "adaptive_conv_nn_model.compile(optimizer=tf.optimizers.legacy.Adam(learning_rate=0.001), \n",
    "                       loss=\"categorical_crossentropy\", metrics=['accuracy'])"
   ]
  },
  {
   "cell_type": "code",
   "execution_count": 9,
   "id": "ee6ac750",
   "metadata": {},
   "outputs": [
    {
     "name": "stdout",
     "output_type": "stream",
     "text": [
      "Epoch 1/10\n",
      "938/938 [==============================] - 1s 527us/step - loss: 0.3695 - accuracy: 0.8984\n",
      "Epoch 2/10\n",
      "938/938 [==============================] - 0s 525us/step - loss: 0.1858 - accuracy: 0.9470\n",
      "Epoch 3/10\n",
      "938/938 [==============================] - 0s 526us/step - loss: 0.1427 - accuracy: 0.9593\n",
      "Epoch 4/10\n",
      "938/938 [==============================] - 0s 526us/step - loss: 0.1169 - accuracy: 0.9664\n",
      "Epoch 5/10\n",
      "938/938 [==============================] - 0s 532us/step - loss: 0.0987 - accuracy: 0.9713\n",
      "Epoch 6/10\n",
      "938/938 [==============================] - 1s 577us/step - loss: 0.0868 - accuracy: 0.9744\n",
      "Epoch 7/10\n",
      "938/938 [==============================] - 0s 528us/step - loss: 0.0761 - accuracy: 0.9773\n",
      "Epoch 8/10\n",
      "938/938 [==============================] - 1s 534us/step - loss: 0.0674 - accuracy: 0.9796\n",
      "Epoch 9/10\n",
      "938/938 [==============================] - 0s 528us/step - loss: 0.0608 - accuracy: 0.9816\n",
      "Epoch 10/10\n",
      "938/938 [==============================] - 1s 533us/step - loss: 0.0550 - accuracy: 0.9837\n"
     ]
    }
   ],
   "source": [
    "start = time.time()\n",
    "static_f_model.fit(x_train, y_train, epochs=EPOCHS, batch_size=64)\n",
    "end = time.time()\n",
    "static_f_time.append(end-start)"
   ]
  },
  {
   "cell_type": "code",
   "execution_count": 10,
   "id": "8c508df0",
   "metadata": {},
   "outputs": [
    {
     "name": "stdout",
     "output_type": "stream",
     "text": [
      "Epoch 1/10\n",
      "938/938 [==============================] - 1s 534us/step - loss: 0.3657 - accuracy: 0.8995\n",
      "Epoch 2/10\n",
      "938/938 [==============================] - 1s 537us/step - loss: 0.1935 - accuracy: 0.9435\n",
      "Epoch 3/10\n",
      "938/938 [==============================] - 1s 539us/step - loss: 0.1482 - accuracy: 0.9570\n",
      "Epoch 4/10\n",
      "938/938 [==============================] - 1s 533us/step - loss: 0.1196 - accuracy: 0.9650\n",
      "Epoch 5/10\n",
      "938/938 [==============================] - 1s 536us/step - loss: 0.0991 - accuracy: 0.9710\n",
      "Epoch 6/10\n",
      "938/938 [==============================] - 1s 537us/step - loss: 0.0851 - accuracy: 0.9748\n",
      "Epoch 7/10\n",
      "938/938 [==============================] - 1s 536us/step - loss: 0.0733 - accuracy: 0.9779\n",
      "Epoch 8/10\n",
      "938/938 [==============================] - 1s 545us/step - loss: 0.0653 - accuracy: 0.9809\n",
      "Epoch 9/10\n",
      "938/938 [==============================] - 1s 542us/step - loss: 0.0573 - accuracy: 0.9828\n",
      "Epoch 10/10\n",
      "938/938 [==============================] - 1s 542us/step - loss: 0.0510 - accuracy: 0.9845\n"
     ]
    }
   ],
   "source": [
    "start = time.time()\n",
    "adaptive_f_model.fit(x_train, y_train, epochs=EPOCHS, batch_size=64)\n",
    "end = time.time()\n",
    "adaptive_f_time.append(end-start)"
   ]
  },
  {
   "cell_type": "code",
   "execution_count": 11,
   "id": "61fe894f",
   "metadata": {},
   "outputs": [
    {
     "name": "stdout",
     "output_type": "stream",
     "text": [
      "Epoch 1/10\n",
      "938/938 [==============================] - 1s 900us/step - loss: 0.4771 - accuracy: 0.8544\n",
      "Epoch 2/10\n",
      "938/938 [==============================] - 1s 895us/step - loss: 0.1621 - accuracy: 0.9521\n",
      "Epoch 3/10\n",
      "938/938 [==============================] - 1s 904us/step - loss: 0.1181 - accuracy: 0.9653\n",
      "Epoch 4/10\n",
      "938/938 [==============================] - 1s 903us/step - loss: 0.0942 - accuracy: 0.9722\n",
      "Epoch 5/10\n",
      "938/938 [==============================] - 1s 907us/step - loss: 0.0785 - accuracy: 0.9762\n",
      "Epoch 6/10\n",
      "938/938 [==============================] - 1s 908us/step - loss: 0.0691 - accuracy: 0.9788\n",
      "Epoch 7/10\n",
      "938/938 [==============================] - 1s 908us/step - loss: 0.0604 - accuracy: 0.9810\n",
      "Epoch 8/10\n",
      "938/938 [==============================] - 1s 906us/step - loss: 0.0531 - accuracy: 0.9833\n",
      "Epoch 9/10\n",
      "938/938 [==============================] - 1s 911us/step - loss: 0.0482 - accuracy: 0.9848\n",
      "Epoch 10/10\n",
      "938/938 [==============================] - 1s 915us/step - loss: 0.0442 - accuracy: 0.9861\n"
     ]
    }
   ],
   "source": [
    "start = time.time()\n",
    "adaptive_nn_model.fit(x_train, y_train, epochs=EPOCHS, batch_size=64)\n",
    "end = time.time()\n",
    "adaptive_nn_time.append(end-start)"
   ]
  },
  {
   "cell_type": "code",
   "execution_count": 12,
   "id": "3cfa80f9",
   "metadata": {},
   "outputs": [
    {
     "name": "stdout",
     "output_type": "stream",
     "text": [
      "Epoch 1/10\n",
      "938/938 [==============================] - 1s 1ms/step - loss: 0.4040 - accuracy: 0.8862\n",
      "Epoch 2/10\n",
      "938/938 [==============================] - 1s 1ms/step - loss: 0.1808 - accuracy: 0.9466\n",
      "Epoch 3/10\n",
      "938/938 [==============================] - 1s 1ms/step - loss: 0.1376 - accuracy: 0.9584\n",
      "Epoch 4/10\n",
      "938/938 [==============================] - 1s 1ms/step - loss: 0.1149 - accuracy: 0.9649\n",
      "Epoch 5/10\n",
      "938/938 [==============================] - 1s 1ms/step - loss: 0.0972 - accuracy: 0.9700\n",
      "Epoch 6/10\n",
      "938/938 [==============================] - 1s 1ms/step - loss: 0.0858 - accuracy: 0.9736\n",
      "Epoch 7/10\n",
      "938/938 [==============================] - 1s 1ms/step - loss: 0.0732 - accuracy: 0.9771\n",
      "Epoch 8/10\n",
      "938/938 [==============================] - 1s 1ms/step - loss: 0.0657 - accuracy: 0.9794\n",
      "Epoch 9/10\n",
      "938/938 [==============================] - 1s 1ms/step - loss: 0.0601 - accuracy: 0.9811\n",
      "Epoch 10/10\n",
      "938/938 [==============================] - 1s 1ms/step - loss: 0.0536 - accuracy: 0.9827\n"
     ]
    }
   ],
   "source": [
    "start = time.time()\n",
    "adaptive_conv_nn_model.fit(x_train, y_train, epochs=EPOCHS, batch_size=64)\n",
    "end = time.time()\n",
    "adaptive_conv_nn_time.append(end-start)"
   ]
  },
  {
   "cell_type": "code",
   "execution_count": 13,
   "id": "bc1dda17",
   "metadata": {},
   "outputs": [
    {
     "name": "stdout",
     "output_type": "stream",
     "text": [
      "Static Function model :  5.383196830749512\n",
      "\n",
      "Adaptive Function model\\ :  5.372308015823364\n",
      "\n",
      "Adaptive NN model:  9.068172216415405\n",
      "\n",
      "Adaptive Conv NN model :  10.478008031845093\n"
     ]
    }
   ],
   "source": [
    "print(\"Static Function model : \", static_f_time[-1])\n",
    "print(\"\\nAdaptive Function model\\ : \", adaptive_f_time[-1])\n",
    "print(\"\\nAdaptive NN model: \", adaptive_nn_time[-1])\n",
    "print(\"\\nAdaptive Conv NN model : \", adaptive_conv_nn_time[-1])"
   ]
  },
  {
   "cell_type": "code",
   "execution_count": null,
   "id": "7332063a-b2fc-41e1-97ff-db621fbd2312",
   "metadata": {},
   "outputs": [],
   "source": []
  },
  {
   "cell_type": "code",
   "execution_count": 14,
   "id": "9970501d-01ad-4038-ac72-be235605f4cc",
   "metadata": {},
   "outputs": [],
   "source": [
    "# 79510\n",
    "static_f_model = keras.Sequential([\n",
    "    keras.layers.Dense(100, activation=\"relu\"),\n",
    "    keras.layers.Dense(10, activation=\"softmax\")\n",
    "])\n",
    "\n",
    "static_f_model.compile(optimizer=tf.optimizers.legacy.Adam(learning_rate=0.001), \n",
    "                       loss=\"categorical_crossentropy\", metrics=['accuracy'])"
   ]
  },
  {
   "cell_type": "code",
   "execution_count": 15,
   "id": "6e9a2745-b78b-4654-a643-5b173b673cd9",
   "metadata": {},
   "outputs": [],
   "source": [
    "# 79510\n",
    "adaptive_f_model = keras.Sequential([\n",
    "    keras.layers.Dense(100, activation=tf.nn.swish),\n",
    "    keras.layers.Dense(10, activation=\"softmax\")\n",
    "])\n",
    "\n",
    "adaptive_f_model.compile(optimizer=tf.optimizers.legacy.Adam(learning_rate=0.001), \n",
    "                       loss=\"categorical_crossentropy\", metrics=['accuracy'])"
   ]
  },
  {
   "cell_type": "code",
   "execution_count": 16,
   "id": "7ca4c64c-66a4-4424-a144-f59e0b595c44",
   "metadata": {},
   "outputs": [],
   "source": [
    "# Adaptive Layer\n",
    "# 79710\n",
    "adaptive_nn_model = AdaptiveModel([\n",
    "    AdaptiveLayer(97, structure=[8, 1], inner_hidden_activation=tf.nn.relu, \n",
    "                  inner_out_activation=tf.nn.leaky_relu, skip_w=0.5),\n",
    "    AdaptiveLayer(10, structure=[5, 1], inner_hidden_activation=tf.nn.relu, \n",
    "                  inner_out_activation=tf.nn.softmax, skip_w=0.5)\n",
    "])\n",
    "\n",
    "adaptive_nn_model.compile(optimizer=tf.optimizers.legacy.Adam(learning_rate=0.001), \n",
    "                       loss=\"categorical_crossentropy\", metrics=['accuracy'])"
   ]
  },
  {
   "cell_type": "code",
   "execution_count": 17,
   "id": "ecadb480-314f-4ed7-ba03-dc5122788a42",
   "metadata": {},
   "outputs": [],
   "source": [
    "# Adaptive Layer based on 1D Conv\n",
    "# 79132\n",
    "adaptive_conv_nn_model = AdaptiveModel([\n",
    "    AdaptiveLayerConv(92, structure=[32, 8], split=1, inner_hidden_activation=tf.nn.tanh,\n",
    "                  inner_out_activation=tf.nn.relu),\n",
    "    AdaptiveLayerConv(10, structure=[64, 16], split=1, inner_hidden_activation=tf.nn.leaky_relu,\n",
    "                  inner_out_activation=tf.nn.softmax)\n",
    "])\n",
    "\n",
    "adaptive_conv_nn_model.compile(optimizer=tf.optimizers.legacy.Adam(learning_rate=0.001), \n",
    "                       loss=\"categorical_crossentropy\", metrics=['accuracy'])"
   ]
  },
  {
   "cell_type": "code",
   "execution_count": 18,
   "id": "2887af2d-5695-4f2b-903c-eec017ce3249",
   "metadata": {},
   "outputs": [
    {
     "name": "stdout",
     "output_type": "stream",
     "text": [
      "Epoch 1/10\n",
      "938/938 [==============================] - 1s 600us/step - loss: 0.3128 - accuracy: 0.9136\n",
      "Epoch 2/10\n",
      "938/938 [==============================] - 1s 641us/step - loss: 0.1463 - accuracy: 0.9582\n",
      "Epoch 3/10\n",
      "938/938 [==============================] - 1s 642us/step - loss: 0.1036 - accuracy: 0.9699\n",
      "Epoch 4/10\n",
      "938/938 [==============================] - 1s 664us/step - loss: 0.0807 - accuracy: 0.9761\n",
      "Epoch 5/10\n",
      "938/938 [==============================] - 1s 616us/step - loss: 0.0627 - accuracy: 0.9815\n",
      "Epoch 6/10\n",
      "938/938 [==============================] - 1s 640us/step - loss: 0.0522 - accuracy: 0.9845\n",
      "Epoch 7/10\n",
      "938/938 [==============================] - 1s 630us/step - loss: 0.0426 - accuracy: 0.9872\n",
      "Epoch 8/10\n",
      "938/938 [==============================] - 1s 608us/step - loss: 0.0357 - accuracy: 0.9894\n",
      "Epoch 9/10\n",
      "938/938 [==============================] - 1s 638us/step - loss: 0.0301 - accuracy: 0.9907\n",
      "Epoch 10/10\n",
      "938/938 [==============================] - 1s 655us/step - loss: 0.0246 - accuracy: 0.9930\n"
     ]
    }
   ],
   "source": [
    "start = time.time()\n",
    "static_f_model.fit(x_train, y_train, epochs=EPOCHS, batch_size=64)\n",
    "end = time.time()\n",
    "static_f_time.append(end-start)"
   ]
  },
  {
   "cell_type": "code",
   "execution_count": 19,
   "id": "e5f403f7-3b06-452f-8b63-19140084f381",
   "metadata": {},
   "outputs": [
    {
     "name": "stdout",
     "output_type": "stream",
     "text": [
      "Epoch 1/10\n",
      "938/938 [==============================] - 1s 630us/step - loss: 0.3339 - accuracy: 0.9074\n",
      "Epoch 2/10\n",
      "938/938 [==============================] - 1s 628us/step - loss: 0.1596 - accuracy: 0.9541\n",
      "Epoch 3/10\n",
      "938/938 [==============================] - 1s 624us/step - loss: 0.1096 - accuracy: 0.9689\n",
      "Epoch 4/10\n",
      "938/938 [==============================] - 1s 629us/step - loss: 0.0826 - accuracy: 0.9756\n",
      "Epoch 5/10\n",
      "938/938 [==============================] - 1s 627us/step - loss: 0.0641 - accuracy: 0.9813\n",
      "Epoch 6/10\n",
      "938/938 [==============================] - 1s 628us/step - loss: 0.0525 - accuracy: 0.9845\n",
      "Epoch 7/10\n",
      "938/938 [==============================] - 1s 624us/step - loss: 0.0432 - accuracy: 0.9873\n",
      "Epoch 8/10\n",
      "938/938 [==============================] - 1s 625us/step - loss: 0.0354 - accuracy: 0.9894\n",
      "Epoch 9/10\n",
      "938/938 [==============================] - 1s 621us/step - loss: 0.0291 - accuracy: 0.9912\n",
      "Epoch 10/10\n",
      "938/938 [==============================] - 1s 625us/step - loss: 0.0242 - accuracy: 0.9931\n"
     ]
    }
   ],
   "source": [
    "start = time.time()\n",
    "adaptive_f_model.fit(x_train, y_train, epochs=EPOCHS, batch_size=64)\n",
    "end = time.time()\n",
    "adaptive_f_time.append(end-start)"
   ]
  },
  {
   "cell_type": "code",
   "execution_count": 20,
   "id": "25914394-3766-467a-accd-0663e7016523",
   "metadata": {},
   "outputs": [
    {
     "name": "stdout",
     "output_type": "stream",
     "text": [
      "Epoch 1/10\n",
      "938/938 [==============================] - 1s 1ms/step - loss: 0.4217 - accuracy: 0.8826\n",
      "Epoch 2/10\n",
      "938/938 [==============================] - 1s 1ms/step - loss: 0.1372 - accuracy: 0.9612\n",
      "Epoch 3/10\n",
      "938/938 [==============================] - 1s 1ms/step - loss: 0.0954 - accuracy: 0.9718\n",
      "Epoch 4/10\n",
      "938/938 [==============================] - 1s 1ms/step - loss: 0.0711 - accuracy: 0.9785\n",
      "Epoch 5/10\n",
      "938/938 [==============================] - 1s 1ms/step - loss: 0.0559 - accuracy: 0.9828\n",
      "Epoch 6/10\n",
      "938/938 [==============================] - 1s 1ms/step - loss: 0.0472 - accuracy: 0.9854\n",
      "Epoch 7/10\n",
      "938/938 [==============================] - 1s 1ms/step - loss: 0.0399 - accuracy: 0.9873\n",
      "Epoch 8/10\n",
      "938/938 [==============================] - 1s 1ms/step - loss: 0.0331 - accuracy: 0.9892\n",
      "Epoch 9/10\n",
      "938/938 [==============================] - 1s 1ms/step - loss: 0.0311 - accuracy: 0.9897\n",
      "Epoch 10/10\n",
      "938/938 [==============================] - 1s 1ms/step - loss: 0.0263 - accuracy: 0.9912\n"
     ]
    }
   ],
   "source": [
    "start = time.time()\n",
    "adaptive_nn_model.fit(x_train, y_train, epochs=EPOCHS, batch_size=64)\n",
    "end = time.time()\n",
    "adaptive_nn_time.append(end-start)"
   ]
  },
  {
   "cell_type": "code",
   "execution_count": 21,
   "id": "7567827a-8e1b-493a-8535-a16edc760713",
   "metadata": {},
   "outputs": [
    {
     "name": "stdout",
     "output_type": "stream",
     "text": [
      "Epoch 1/10\n",
      "938/938 [==============================] - 1s 1ms/step - loss: 0.3334 - accuracy: 0.9055\n",
      "Epoch 2/10\n",
      "938/938 [==============================] - 1s 1ms/step - loss: 0.1468 - accuracy: 0.9564\n",
      "Epoch 3/10\n",
      "938/938 [==============================] - 1s 1ms/step - loss: 0.1092 - accuracy: 0.9668\n",
      "Epoch 4/10\n",
      "938/938 [==============================] - 1s 1ms/step - loss: 0.0873 - accuracy: 0.9731\n",
      "Epoch 5/10\n",
      "938/938 [==============================] - 1s 1ms/step - loss: 0.0687 - accuracy: 0.9786\n",
      "Epoch 6/10\n",
      "938/938 [==============================] - 1s 1ms/step - loss: 0.0610 - accuracy: 0.9806\n",
      "Epoch 7/10\n",
      "938/938 [==============================] - 1s 1ms/step - loss: 0.0510 - accuracy: 0.9836\n",
      "Epoch 8/10\n",
      "938/938 [==============================] - 1s 1ms/step - loss: 0.0436 - accuracy: 0.9852\n",
      "Epoch 9/10\n",
      "938/938 [==============================] - 1s 1ms/step - loss: 0.0401 - accuracy: 0.9864\n",
      "Epoch 10/10\n",
      "938/938 [==============================] - 1s 1ms/step - loss: 0.0332 - accuracy: 0.9888\n"
     ]
    }
   ],
   "source": [
    "start = time.time()\n",
    "adaptive_conv_nn_model.fit(x_train, y_train, epochs=EPOCHS, batch_size=64)\n",
    "end = time.time()\n",
    "adaptive_conv_nn_time.append(end-start)"
   ]
  },
  {
   "cell_type": "code",
   "execution_count": 22,
   "id": "8148f2d1-8ac7-4238-b657-c0dc6792ada8",
   "metadata": {},
   "outputs": [
    {
     "name": "stdout",
     "output_type": "stream",
     "text": [
      "Static Function model :  6.3239758014678955\n",
      "\n",
      "Adaptive Function model\\ :  6.225214958190918\n",
      "\n",
      "Adaptive NN model:  10.490297079086304\n",
      "\n",
      "Adaptive Conv NN model :  11.543746948242188\n"
     ]
    }
   ],
   "source": [
    "print(\"Static Function model : \", static_f_time[-1])\n",
    "print(\"\\nAdaptive Function model\\ : \", adaptive_f_time[-1])\n",
    "print(\"\\nAdaptive NN model: \", adaptive_nn_time[-1])\n",
    "print(\"\\nAdaptive Conv NN model : \", adaptive_conv_nn_time[-1])"
   ]
  },
  {
   "cell_type": "code",
   "execution_count": null,
   "id": "10fbb942-b463-4e14-b8bc-6aa668874a98",
   "metadata": {},
   "outputs": [],
   "source": []
  },
  {
   "cell_type": "code",
   "execution_count": 23,
   "id": "471c95f9-02af-4cbe-80fc-350618fac4cf",
   "metadata": {},
   "outputs": [],
   "source": [
    "# 125010\n",
    "static_f_model = keras.Sequential([\n",
    "    keras.layers.Dense(140, activation=\"relu\"),\n",
    "    keras.layers.Dense(100, activation=\"relu\"),\n",
    "    keras.layers.Dense(10, activation=\"softmax\")\n",
    "])\n",
    "\n",
    "static_f_model.compile(optimizer=tf.optimizers.legacy.Adam(learning_rate=0.001), \n",
    "                       loss=\"categorical_crossentropy\", metrics=['accuracy'])"
   ]
  },
  {
   "cell_type": "code",
   "execution_count": 24,
   "id": "50d789e5-abec-4459-ae50-913ec674cec5",
   "metadata": {},
   "outputs": [],
   "source": [
    "# 125010\n",
    "adaptive_f_model = keras.Sequential([\n",
    "    keras.layers.Dense(140, activation=tf.nn.swish),\n",
    "    keras.layers.Dense(100, activation=tf.nn.swish),\n",
    "    keras.layers.Dense(10, activation=\"softmax\")\n",
    "])\n",
    "\n",
    "adaptive_f_model.compile(optimizer=tf.optimizers.legacy.Adam(learning_rate=0.001), \n",
    "                       loss=\"categorical_crossentropy\", metrics=['accuracy'])"
   ]
  },
  {
   "cell_type": "code",
   "execution_count": 25,
   "id": "698e3009-6f29-4446-957d-fc1761c4a09d",
   "metadata": {},
   "outputs": [],
   "source": [
    "# Adaptive Layer\n",
    "# 125000\n",
    "adaptive_nn_model = AdaptiveModel([\n",
    "    AdaptiveLayer(135, structure=[6, 1], inner_hidden_activation=tf.nn.relu, \n",
    "                  inner_out_activation=tf.nn.leaky_relu, skip_w=0.5),\n",
    "    AdaptiveLayer(100, structure=[5, 1], inner_hidden_activation=tf.nn.relu, \n",
    "                  inner_out_activation=tf.nn.leaky_relu, skip_w=0.5),\n",
    "    AdaptiveLayer(10, structure=[8, 1], inner_hidden_activation=tf.nn.relu, \n",
    "                  inner_out_activation=tf.nn.softmax, skip_w=0.5)\n",
    "])\n",
    "\n",
    "adaptive_nn_model.compile(optimizer=tf.optimizers.legacy.Adam(learning_rate=0.001), \n",
    "                       loss=\"categorical_crossentropy\", metrics=['accuracy'])"
   ]
  },
  {
   "cell_type": "code",
   "execution_count": 26,
   "id": "2a3322b0-a21a-46dc-bfe6-34707dace198",
   "metadata": {},
   "outputs": [],
   "source": [
    "# Adaptive Layer based on 1D Conv\n",
    "# 125054 \n",
    "adaptive_conv_nn_model = AdaptiveModel([\n",
    "    AdaptiveLayerConv(125, structure=[32, 16], split=1, inner_hidden_activation=tf.nn.tanh,\n",
    "                  inner_out_activation=tf.nn.relu),\n",
    "    AdaptiveLayerConv(100, structure=[32, 11], split=1, inner_hidden_activation=tf.nn.tanh,\n",
    "                  inner_out_activation=tf.nn.relu),\n",
    "    AdaptiveLayerConv(10, structure=[64, 15], split=1, inner_hidden_activation=tf.nn.leaky_relu,\n",
    "                  inner_out_activation=tf.nn.softmax)\n",
    "])\n",
    "\n",
    "adaptive_conv_nn_model.compile(optimizer=tf.optimizers.legacy.Adam(learning_rate=0.001), \n",
    "                       loss=\"categorical_crossentropy\", metrics=['accuracy'])"
   ]
  },
  {
   "cell_type": "code",
   "execution_count": 27,
   "id": "727c303e-b259-4a64-a3c9-e4c2a5dfd68f",
   "metadata": {},
   "outputs": [
    {
     "name": "stdout",
     "output_type": "stream",
     "text": [
      "Epoch 1/10\n",
      "938/938 [==============================] - 1s 791us/step - loss: 0.2635 - accuracy: 0.9236\n",
      "Epoch 2/10\n",
      "938/938 [==============================] - 1s 814us/step - loss: 0.1076 - accuracy: 0.9675\n",
      "Epoch 3/10\n",
      "938/938 [==============================] - 1s 835us/step - loss: 0.0748 - accuracy: 0.9772\n",
      "Epoch 4/10\n",
      "938/938 [==============================] - 1s 806us/step - loss: 0.0569 - accuracy: 0.9825\n",
      "Epoch 5/10\n",
      "938/938 [==============================] - 1s 792us/step - loss: 0.0431 - accuracy: 0.9863\n",
      "Epoch 6/10\n",
      "938/938 [==============================] - 1s 788us/step - loss: 0.0371 - accuracy: 0.9882\n",
      "Epoch 7/10\n",
      "938/938 [==============================] - 1s 783us/step - loss: 0.0273 - accuracy: 0.9914\n",
      "Epoch 8/10\n",
      "938/938 [==============================] - 1s 784us/step - loss: 0.0242 - accuracy: 0.9921\n",
      "Epoch 9/10\n",
      "938/938 [==============================] - 1s 789us/step - loss: 0.0203 - accuracy: 0.9931\n",
      "Epoch 10/10\n",
      "938/938 [==============================] - 1s 795us/step - loss: 0.0146 - accuracy: 0.9951\n"
     ]
    }
   ],
   "source": [
    "start = time.time()\n",
    "static_f_model.fit(x_train, y_train, epochs=EPOCHS, batch_size=64)\n",
    "end = time.time()\n",
    "static_f_time.append(end-start)"
   ]
  },
  {
   "cell_type": "code",
   "execution_count": 28,
   "id": "e5c23196-1145-4fa6-87f5-95135122c898",
   "metadata": {},
   "outputs": [
    {
     "name": "stdout",
     "output_type": "stream",
     "text": [
      "Epoch 1/10\n",
      "938/938 [==============================] - 1s 835us/step - loss: 0.2758 - accuracy: 0.9223\n",
      "Epoch 2/10\n",
      "938/938 [==============================] - 1s 831us/step - loss: 0.1099 - accuracy: 0.9671\n",
      "Epoch 3/10\n",
      "938/938 [==============================] - 1s 838us/step - loss: 0.0739 - accuracy: 0.9770\n",
      "Epoch 4/10\n",
      "938/938 [==============================] - 1s 843us/step - loss: 0.0548 - accuracy: 0.9826\n",
      "Epoch 5/10\n",
      "938/938 [==============================] - 1s 840us/step - loss: 0.0405 - accuracy: 0.9871\n",
      "Epoch 6/10\n",
      "938/938 [==============================] - 1s 844us/step - loss: 0.0320 - accuracy: 0.9897\n",
      "Epoch 7/10\n",
      "938/938 [==============================] - 1s 849us/step - loss: 0.0250 - accuracy: 0.9915\n",
      "Epoch 8/10\n",
      "938/938 [==============================] - 1s 849us/step - loss: 0.0199 - accuracy: 0.9936\n",
      "Epoch 9/10\n",
      "938/938 [==============================] - 1s 849us/step - loss: 0.0171 - accuracy: 0.9943\n",
      "Epoch 10/10\n",
      "938/938 [==============================] - 1s 844us/step - loss: 0.0141 - accuracy: 0.9952\n"
     ]
    }
   ],
   "source": [
    "start = time.time()\n",
    "adaptive_f_model.fit(x_train, y_train, epochs=EPOCHS, batch_size=64)\n",
    "end = time.time()\n",
    "adaptive_f_time.append(end-start)"
   ]
  },
  {
   "cell_type": "code",
   "execution_count": 29,
   "id": "88df7110-65f2-4134-94cb-22413151e10c",
   "metadata": {},
   "outputs": [
    {
     "name": "stdout",
     "output_type": "stream",
     "text": [
      "Epoch 1/10\n",
      "938/938 [==============================] - 2s 2ms/step - loss: 0.3731 - accuracy: 0.8883\n",
      "Epoch 2/10\n",
      "938/938 [==============================] - 2s 2ms/step - loss: 0.1138 - accuracy: 0.9660\n",
      "Epoch 3/10\n",
      "938/938 [==============================] - 2s 2ms/step - loss: 0.0794 - accuracy: 0.9758\n",
      "Epoch 4/10\n",
      "938/938 [==============================] - 2s 2ms/step - loss: 0.0601 - accuracy: 0.9813\n",
      "Epoch 5/10\n",
      "938/938 [==============================] - 2s 2ms/step - loss: 0.0489 - accuracy: 0.9842\n",
      "Epoch 6/10\n",
      "938/938 [==============================] - 2s 2ms/step - loss: 0.0406 - accuracy: 0.9871\n",
      "Epoch 7/10\n",
      "938/938 [==============================] - 2s 2ms/step - loss: 0.0343 - accuracy: 0.9887\n",
      "Epoch 8/10\n",
      "938/938 [==============================] - 2s 2ms/step - loss: 0.0310 - accuracy: 0.9895\n",
      "Epoch 9/10\n",
      "938/938 [==============================] - 2s 2ms/step - loss: 0.0279 - accuracy: 0.9908\n",
      "Epoch 10/10\n",
      "938/938 [==============================] - 2s 2ms/step - loss: 0.0233 - accuracy: 0.9923\n"
     ]
    }
   ],
   "source": [
    "start = time.time()\n",
    "adaptive_nn_model.fit(x_train, y_train, epochs=EPOCHS, batch_size=64)\n",
    "end = time.time()\n",
    "adaptive_nn_time.append(end-start)"
   ]
  },
  {
   "cell_type": "code",
   "execution_count": 30,
   "id": "87876181-77e7-449c-a983-6688d3d05632",
   "metadata": {},
   "outputs": [
    {
     "name": "stdout",
     "output_type": "stream",
     "text": [
      "Epoch 1/10\n",
      "938/938 [==============================] - 2s 2ms/step - loss: 0.3110 - accuracy: 0.9090\n",
      "Epoch 2/10\n",
      "938/938 [==============================] - 2s 2ms/step - loss: 0.1301 - accuracy: 0.9607\n",
      "Epoch 3/10\n",
      "938/938 [==============================] - 2s 2ms/step - loss: 0.0926 - accuracy: 0.9713\n",
      "Epoch 4/10\n",
      "938/938 [==============================] - 2s 2ms/step - loss: 0.0721 - accuracy: 0.9773\n",
      "Epoch 5/10\n",
      "938/938 [==============================] - 2s 2ms/step - loss: 0.0594 - accuracy: 0.9811\n",
      "Epoch 6/10\n",
      "938/938 [==============================] - 2s 2ms/step - loss: 0.0498 - accuracy: 0.9844\n",
      "Epoch 7/10\n",
      "938/938 [==============================] - 2s 2ms/step - loss: 0.0426 - accuracy: 0.9863\n",
      "Epoch 8/10\n",
      "938/938 [==============================] - 2s 2ms/step - loss: 0.0390 - accuracy: 0.9873\n",
      "Epoch 9/10\n",
      "938/938 [==============================] - 2s 2ms/step - loss: 0.0314 - accuracy: 0.9893\n",
      "Epoch 10/10\n",
      "938/938 [==============================] - 2s 2ms/step - loss: 0.0281 - accuracy: 0.9908\n"
     ]
    }
   ],
   "source": [
    "start = time.time()\n",
    "adaptive_conv_nn_model.fit(x_train, y_train, epochs=EPOCHS, batch_size=64)\n",
    "end = time.time()\n",
    "adaptive_conv_nn_time.append(end-start)"
   ]
  },
  {
   "cell_type": "code",
   "execution_count": 31,
   "id": "7ee92c61-4cab-4ff5-aab4-5582018504ac",
   "metadata": {},
   "outputs": [
    {
     "name": "stdout",
     "output_type": "stream",
     "text": [
      "Static Function model :  7.887835264205933\n",
      "\n",
      "Adaptive Function model\\ :  8.306852102279663\n",
      "\n",
      "Adaptive NN model:  17.647740840911865\n",
      "\n",
      "Adaptive Conv NN model :  19.107141971588135\n"
     ]
    }
   ],
   "source": [
    "print(\"Static Function model : \", static_f_time[-1])\n",
    "print(\"\\nAdaptive Function model\\ : \", adaptive_f_time[-1])\n",
    "print(\"\\nAdaptive NN model: \", adaptive_nn_time[-1])\n",
    "print(\"\\nAdaptive Conv NN model : \", adaptive_conv_nn_time[-1])"
   ]
  },
  {
   "cell_type": "code",
   "execution_count": null,
   "id": "6e306c9f-43cb-4ad3-aa64-a53cdced30ee",
   "metadata": {},
   "outputs": [],
   "source": []
  },
  {
   "cell_type": "code",
   "execution_count": 32,
   "id": "7373977d-79b0-4b65-9868-0f9d70948e72",
   "metadata": {},
   "outputs": [],
   "source": [
    "# 160410\n",
    "static_f_model = keras.Sequential([\n",
    "    keras.layers.Dense(180, activation=\"relu\"),\n",
    "    keras.layers.Dense(100, activation=\"relu\"),\n",
    "    keras.layers.Dense(10, activation=\"softmax\")\n",
    "])\n",
    "\n",
    "static_f_model.compile(optimizer=tf.optimizers.legacy.Adam(learning_rate=0.001), \n",
    "                       loss=\"categorical_crossentropy\", metrics=['accuracy'])"
   ]
  },
  {
   "cell_type": "code",
   "execution_count": 33,
   "id": "c10e1065-9043-4600-bdc1-4d1840bce83f",
   "metadata": {},
   "outputs": [],
   "source": [
    "# 160410\n",
    "adaptive_f_model = keras.Sequential([\n",
    "    keras.layers.Dense(180, activation=tf.nn.swish),\n",
    "    keras.layers.Dense(100, activation=tf.nn.swish),\n",
    "    keras.layers.Dense(10, activation=\"softmax\")\n",
    "])\n",
    "\n",
    "adaptive_f_model.compile(optimizer=tf.optimizers.legacy.Adam(learning_rate=0.001), \n",
    "                       loss=\"categorical_crossentropy\", metrics=['accuracy'])"
   ]
  },
  {
   "cell_type": "code",
   "execution_count": 34,
   "id": "fdf1923b-2f75-4cd2-b3c9-02cd4dd15bba",
   "metadata": {},
   "outputs": [],
   "source": [
    "# Adaptive Layer\n",
    "# 160020\n",
    "adaptive_nn_model = AdaptiveModel([\n",
    "    AdaptiveLayer(175, structure=[4, 1], inner_hidden_activation=tf.nn.relu, \n",
    "                  inner_out_activation=tf.nn.leaky_relu, skip_w=0.5),\n",
    "    AdaptiveLayer(100, structure=[5, 1], inner_hidden_activation=tf.nn.relu, \n",
    "                  inner_out_activation=tf.nn.leaky_relu, skip_w=0.5),\n",
    "    AdaptiveLayer(10, structure=[5, 1], inner_hidden_activation=tf.nn.relu, \n",
    "                  inner_out_activation=tf.nn.softmax, skip_w=0.5)\n",
    "])\n",
    "\n",
    "adaptive_nn_model.compile(optimizer=tf.optimizers.legacy.Adam(learning_rate=0.001), \n",
    "                       loss=\"categorical_crossentropy\", metrics=['accuracy'])"
   ]
  },
  {
   "cell_type": "code",
   "execution_count": 35,
   "id": "8bd91592-41c0-477e-accf-09e0115c78be",
   "metadata": {},
   "outputs": [],
   "source": [
    "# Adaptive Layer based on 1D Conv\n",
    "# 160442\n",
    "adaptive_conv_nn_model = AdaptiveModel([\n",
    "    AdaptiveLayerConv(165, structure=[32, 12], split=1, inner_hidden_activation=tf.nn.tanh,\n",
    "                  inner_out_activation=tf.nn.relu),\n",
    "    AdaptiveLayerConv(100, structure=[32, 10], split=1, inner_hidden_activation=tf.nn.tanh,\n",
    "                  inner_out_activation=tf.nn.relu),\n",
    "    AdaptiveLayerConv(10, structure=[32, 10], split=1, inner_hidden_activation=tf.nn.leaky_relu,\n",
    "                  inner_out_activation=tf.nn.softmax)\n",
    "])\n",
    "\n",
    "adaptive_conv_nn_model.compile(optimizer=tf.optimizers.legacy.Adam(learning_rate=0.001), \n",
    "                       loss=\"categorical_crossentropy\", metrics=['accuracy'])"
   ]
  },
  {
   "cell_type": "code",
   "execution_count": 36,
   "id": "17bc9f1f-e393-4436-890b-c367d3adfada",
   "metadata": {},
   "outputs": [
    {
     "name": "stdout",
     "output_type": "stream",
     "text": [
      "Epoch 1/10\n",
      "938/938 [==============================] - 1s 884us/step - loss: 0.2456 - accuracy: 0.9286\n",
      "Epoch 2/10\n",
      "938/938 [==============================] - 1s 883us/step - loss: 0.0980 - accuracy: 0.9702\n",
      "Epoch 3/10\n",
      "938/938 [==============================] - 1s 887us/step - loss: 0.0669 - accuracy: 0.9789\n",
      "Epoch 4/10\n",
      "938/938 [==============================] - 1s 878us/step - loss: 0.0490 - accuracy: 0.9849\n",
      "Epoch 5/10\n",
      "938/938 [==============================] - 1s 874us/step - loss: 0.0366 - accuracy: 0.9886\n",
      "Epoch 6/10\n",
      "938/938 [==============================] - 1s 874us/step - loss: 0.0298 - accuracy: 0.9906\n",
      "Epoch 7/10\n",
      "938/938 [==============================] - 1s 882us/step - loss: 0.0243 - accuracy: 0.9921\n",
      "Epoch 8/10\n",
      "938/938 [==============================] - 1s 875us/step - loss: 0.0213 - accuracy: 0.9927\n",
      "Epoch 9/10\n",
      "938/938 [==============================] - 1s 878us/step - loss: 0.0145 - accuracy: 0.9954\n",
      "Epoch 10/10\n",
      "938/938 [==============================] - 1s 876us/step - loss: 0.0160 - accuracy: 0.9946\n"
     ]
    }
   ],
   "source": [
    "start = time.time()\n",
    "static_f_model.fit(x_train, y_train, epochs=EPOCHS, batch_size=64)\n",
    "end = time.time()\n",
    "static_f_time.append(end-start)"
   ]
  },
  {
   "cell_type": "code",
   "execution_count": 37,
   "id": "ae079934-163f-4595-b5fb-48fbaad6b3df",
   "metadata": {},
   "outputs": [
    {
     "name": "stdout",
     "output_type": "stream",
     "text": [
      "Epoch 1/10\n",
      "938/938 [==============================] - 1s 933us/step - loss: 0.2643 - accuracy: 0.9236\n",
      "Epoch 2/10\n",
      "938/938 [==============================] - 1s 955us/step - loss: 0.1042 - accuracy: 0.9692\n",
      "Epoch 3/10\n",
      "938/938 [==============================] - 1s 946us/step - loss: 0.0704 - accuracy: 0.9786\n",
      "Epoch 4/10\n",
      "938/938 [==============================] - 1s 946us/step - loss: 0.0506 - accuracy: 0.9835\n",
      "Epoch 5/10\n",
      "938/938 [==============================] - 1s 947us/step - loss: 0.0372 - accuracy: 0.9882\n",
      "Epoch 6/10\n",
      "938/938 [==============================] - 1s 951us/step - loss: 0.0298 - accuracy: 0.9903\n",
      "Epoch 7/10\n",
      "938/938 [==============================] - 1s 956us/step - loss: 0.0227 - accuracy: 0.9925\n",
      "Epoch 8/10\n",
      "938/938 [==============================] - 1s 947us/step - loss: 0.0199 - accuracy: 0.9935\n",
      "Epoch 9/10\n",
      "938/938 [==============================] - 1s 942us/step - loss: 0.0129 - accuracy: 0.9957\n",
      "Epoch 10/10\n",
      "938/938 [==============================] - 1s 955us/step - loss: 0.0134 - accuracy: 0.9954\n"
     ]
    }
   ],
   "source": [
    "start = time.time()\n",
    "adaptive_f_model.fit(x_train, y_train, epochs=EPOCHS, batch_size=64)\n",
    "end = time.time()\n",
    "adaptive_f_time.append(end-start)"
   ]
  },
  {
   "cell_type": "code",
   "execution_count": 38,
   "id": "4cd6d272-3be1-45dd-a364-0f58d60278e1",
   "metadata": {},
   "outputs": [
    {
     "name": "stdout",
     "output_type": "stream",
     "text": [
      "Epoch 1/10\n",
      "938/938 [==============================] - 2s 2ms/step - loss: 0.3621 - accuracy: 0.8885\n",
      "Epoch 2/10\n",
      "938/938 [==============================] - 2s 2ms/step - loss: 0.1137 - accuracy: 0.9664\n",
      "Epoch 3/10\n",
      "938/938 [==============================] - 2s 2ms/step - loss: 0.0797 - accuracy: 0.9747\n",
      "Epoch 4/10\n",
      "938/938 [==============================] - 2s 2ms/step - loss: 0.0582 - accuracy: 0.9817\n",
      "Epoch 5/10\n",
      "938/938 [==============================] - 2s 2ms/step - loss: 0.0484 - accuracy: 0.9844\n",
      "Epoch 6/10\n",
      "938/938 [==============================] - 2s 2ms/step - loss: 0.0402 - accuracy: 0.9870\n",
      "Epoch 7/10\n",
      "938/938 [==============================] - 2s 2ms/step - loss: 0.0356 - accuracy: 0.9884\n",
      "Epoch 8/10\n",
      "938/938 [==============================] - 2s 2ms/step - loss: 0.0313 - accuracy: 0.9899\n",
      "Epoch 9/10\n",
      "938/938 [==============================] - 2s 2ms/step - loss: 0.0240 - accuracy: 0.9919\n",
      "Epoch 10/10\n",
      "938/938 [==============================] - 2s 2ms/step - loss: 0.0234 - accuracy: 0.9923\n"
     ]
    }
   ],
   "source": [
    "start = time.time()\n",
    "adaptive_nn_model.fit(x_train, y_train, epochs=EPOCHS, batch_size=64)\n",
    "end = time.time()\n",
    "adaptive_nn_time.append(end-start)"
   ]
  },
  {
   "cell_type": "code",
   "execution_count": 39,
   "id": "dad2b0e3-d098-4183-8cb1-a6ceb78e0f1e",
   "metadata": {},
   "outputs": [
    {
     "name": "stdout",
     "output_type": "stream",
     "text": [
      "Epoch 1/10\n",
      "938/938 [==============================] - 2s 2ms/step - loss: 0.3040 - accuracy: 0.9088\n",
      "Epoch 2/10\n",
      "938/938 [==============================] - 2s 2ms/step - loss: 0.1250 - accuracy: 0.9626\n",
      "Epoch 3/10\n",
      "938/938 [==============================] - 2s 2ms/step - loss: 0.0876 - accuracy: 0.9727\n",
      "Epoch 4/10\n",
      "938/938 [==============================] - 2s 2ms/step - loss: 0.0677 - accuracy: 0.9790\n",
      "Epoch 5/10\n",
      "938/938 [==============================] - 2s 2ms/step - loss: 0.0551 - accuracy: 0.9827\n",
      "Epoch 6/10\n",
      "938/938 [==============================] - 2s 2ms/step - loss: 0.0467 - accuracy: 0.9857\n",
      "Epoch 7/10\n",
      "938/938 [==============================] - 2s 2ms/step - loss: 0.0392 - accuracy: 0.9869\n",
      "Epoch 8/10\n",
      "938/938 [==============================] - 2s 2ms/step - loss: 0.0362 - accuracy: 0.9886\n",
      "Epoch 9/10\n",
      "938/938 [==============================] - 2s 2ms/step - loss: 0.0288 - accuracy: 0.9906\n",
      "Epoch 10/10\n",
      "938/938 [==============================] - 2s 2ms/step - loss: 0.0254 - accuracy: 0.9916\n"
     ]
    }
   ],
   "source": [
    "start = time.time()\n",
    "adaptive_conv_nn_model.fit(x_train, y_train, epochs=EPOCHS, batch_size=64)\n",
    "end = time.time()\n",
    "adaptive_conv_nn_time.append(end-start)"
   ]
  },
  {
   "cell_type": "code",
   "execution_count": 40,
   "id": "8a4bc8de-d9ea-4242-a3f3-fdc74522d1e8",
   "metadata": {},
   "outputs": [
    {
     "name": "stdout",
     "output_type": "stream",
     "text": [
      "Static Function model :  8.528810024261475\n",
      "\n",
      "Adaptive Function model\\ :  9.188874006271362\n",
      "\n",
      "Adaptive NN model:  18.503164291381836\n",
      "\n",
      "Adaptive Conv NN model :  20.2519690990448\n"
     ]
    }
   ],
   "source": [
    "print(\"Static Function model : \", static_f_time[-1])\n",
    "print(\"\\nAdaptive Function model\\ : \", adaptive_f_time[-1])\n",
    "print(\"\\nAdaptive NN model: \", adaptive_nn_time[-1])\n",
    "print(\"\\nAdaptive Conv NN model : \", adaptive_conv_nn_time[-1])"
   ]
  },
  {
   "cell_type": "code",
   "execution_count": 41,
   "id": "e8dabc20-42bc-405c-bb67-b0b167d60fc2",
   "metadata": {},
   "outputs": [],
   "source": [
    "sizes = [40000, 80000, 120000, 160000]"
   ]
  },
  {
   "cell_type": "code",
   "execution_count": 42,
   "id": "03e3efe8-43b9-4ccb-8a3a-bc3d84707559",
   "metadata": {},
   "outputs": [],
   "source": [
    "fig = plt.figure(figsize=(10,7))\n",
    "ax = fig.add_subplot()\n",
    "plt.title(\"Parameters - Time\", fontsize=\"xx-large\")\n",
    "\n",
    "ax.set_ylabel(\"time (sec)\", fontsize=\"large\")\n",
    "ax.set_xlabel('Number of parameters', fontsize=\"large\")\n",
    "\n",
    "ax.plot(sizes, static_f_time, label='ReLU Function')\n",
    "ax.plot(sizes, adaptive_f_time, label='Swish Function')\n",
    "ax.plot(sizes, adaptive_nn_time, label='Adaptive NN')\n",
    "ax.plot(sizes, adaptive_conv_nn_time, label='Adaptive Conv NN')\n",
    "\n",
    "plt.xticks(sizes)\n",
    "    \n",
    "ax.legend()\n",
    "    \n",
    "plt.grid()\n",
    "plt.show()"
   ]
  },
  {
   "cell_type": "code",
   "execution_count": 43,
   "id": "624804de-8737-4723-91d0-4cb05c5d1862",
   "metadata": {},
   "outputs": [],
   "source": [
    "workbook = xlsxwriter.Workbook('time_measurements.xlsx')\n",
    "parameters_num = [40000, 80000, 120000, 160000] \n",
    "worksheet = workbook.add_worksheet('time_measurements')\n",
    "    \n",
    "worksheet.write(1, 1, \"Number of parameters\")\n",
    "worksheet.write(1, 2, \"ReLU Function\")\n",
    "worksheet.write(1, 3, \"Swish Function\")\n",
    "worksheet.write(1, 4, \"Adaptive NN\")\n",
    "worksheet.write(1, 5, \"Adaptive Conv NN\")\n",
    "    \n",
    "for i in range(0, len(parameters_num)):\n",
    "    worksheet.write(2+i, 1, parameters_num[i])\n",
    "    worksheet.write(2+i, 2, static_f_time[i])\n",
    "    worksheet.write(2+i, 3, adaptive_f_time[i])\n",
    "    worksheet.write(2+i, 4, adaptive_nn_time[i])\n",
    "    worksheet.write(2+i, 5, adaptive_conv_nn_time[i])\n",
    " \n",
    "workbook.close()"
   ]
  },
  {
   "cell_type": "code",
   "execution_count": null,
   "id": "cc296e2c-e871-4aee-a35d-ec683a20d94d",
   "metadata": {},
   "outputs": [],
   "source": []
  }
 ],
 "metadata": {
  "kernelspec": {
   "display_name": "Python 3 (ipykernel)",
   "language": "python",
   "name": "python3"
  },
  "language_info": {
   "codemirror_mode": {
    "name": "ipython",
    "version": 3
   },
   "file_extension": ".py",
   "mimetype": "text/x-python",
   "name": "python",
   "nbconvert_exporter": "python",
   "pygments_lexer": "ipython3",
   "version": "3.9.16"
  }
 },
 "nbformat": 4,
 "nbformat_minor": 5
}
