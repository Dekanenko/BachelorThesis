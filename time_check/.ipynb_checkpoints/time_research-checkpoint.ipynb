{
 "cells": [
  {
   "cell_type": "code",
   "execution_count": 1,
   "id": "e1def1c8",
   "metadata": {},
   "outputs": [],
   "source": [
    "import tensorflow as tf\n",
    "tf.config.experimental.set_visible_devices([], 'GPU')\n",
    "from tensorflow import keras\n",
    "import numpy as np\n",
    "import matplotlib.pyplot as plt\n",
    "import xlsxwriter\n",
    "import time\n",
    "\n",
    "%matplotlib qt\n",
    "\n",
    "from sklearn.datasets import fetch_openml\n",
    "\n",
    "# import module with layers\n",
    "import sys\n",
    "import os\n",
    "module_path = os.path.abspath(os.path.join('..'))\n",
    "if module_path not in sys.path:\n",
    "    sys.path.append(module_path+\"/model_module\")\n",
    "\n",
    "from adaptive_layer import *"
   ]
  },
  {
   "cell_type": "code",
   "execution_count": 2,
   "id": "ef3ae740",
   "metadata": {},
   "outputs": [],
   "source": [
    "tf.random.set_seed(5)\n",
    "np.random.seed(5)"
   ]
  },
  {
   "cell_type": "code",
   "execution_count": 3,
   "id": "4965b33a",
   "metadata": {},
   "outputs": [
    {
     "name": "stderr",
     "output_type": "stream",
     "text": [
      "/Users/kyryll/miniforge3/envs/env1/lib/python3.9/site-packages/sklearn/datasets/_openml.py:1002: FutureWarning: The default value of `parser` will change from `'liac-arff'` to `'auto'` in 1.4. You can set `parser='auto'` to silence this warning. Therefore, an `ImportError` will be raised from 1.4 if the dataset is dense and pandas is not installed. Note that the pandas parser may return different data types. See the Notes Section in fetch_openml's API doc for details.\n",
      "  warn(\n"
     ]
    }
   ],
   "source": [
    "# dataset\n",
    "\n",
    "mnist = fetch_openml('mnist_784', version=1, as_frame=False)\n",
    "X, y = mnist['data'], mnist['target']\n",
    "\n",
    "y = y.astype(np.uint8)\n",
    "X_scale = X/255\n",
    "x_train, x_test, y_train, y_test = X_scale[:60000], X_scale[60000:], y[:60000], y[60000:]\n",
    "y_train = keras.utils.to_categorical(y_train, 10)\n",
    "y_test = keras.utils.to_categorical(y_test, 10)"
   ]
  },
  {
   "cell_type": "code",
   "execution_count": 4,
   "id": "058b4c6b-6838-47b5-bd67-eada93db71e5",
   "metadata": {},
   "outputs": [],
   "source": [
    "EPOCHS = 10\n",
    "\n",
    "static_f_time = []\n",
    "adaptive_f_time = []\n",
    "adaptive_nn_time = []\n",
    "adaptive_conv_nn_time = []"
   ]
  },
  {
   "cell_type": "code",
   "execution_count": 5,
   "id": "8df7f88c",
   "metadata": {},
   "outputs": [],
   "source": [
    "# 39760\n",
    "static_f_model = keras.Sequential([\n",
    "    keras.layers.Dense(50, activation=\"relu\"),\n",
    "    keras.layers.Dense(10, activation=\"softmax\")\n",
    "])\n",
    "\n",
    "static_f_model.compile(optimizer=tf.optimizers.legacy.Adam(learning_rate=0.001), \n",
    "                       loss=\"categorical_crossentropy\", metrics=['accuracy'])"
   ]
  },
  {
   "cell_type": "code",
   "execution_count": 6,
   "id": "55a602e2",
   "metadata": {},
   "outputs": [],
   "source": [
    "# 39760\n",
    "adaptive_f_model = keras.Sequential([\n",
    "    keras.layers.Dense(50, activation=tf.nn.swish),\n",
    "    keras.layers.Dense(10, activation=\"softmax\")\n",
    "])\n",
    "\n",
    "adaptive_f_model.compile(optimizer=tf.optimizers.legacy.Adam(learning_rate=0.001), \n",
    "                       loss=\"categorical_crossentropy\", metrics=['accuracy'])"
   ]
  },
  {
   "cell_type": "code",
   "execution_count": 7,
   "id": "99177453",
   "metadata": {},
   "outputs": [],
   "source": [
    "# Adaptive Layer\n",
    "# 39818\n",
    "adaptive_nn_model = AdaptiveModel([\n",
    "    AdaptiveLayer(48, structure=[10, 1], inner_hidden_activation=tf.nn.relu, \n",
    "                  inner_out_activation=tf.nn.leaky_relu, skip_w=0.5),\n",
    "    AdaptiveLayer(10, structure=[5, 1], inner_hidden_activation=tf.nn.relu, \n",
    "                  inner_out_activation=tf.nn.softmax, skip_w=0.5)\n",
    "])\n",
    "\n",
    "adaptive_nn_model.compile(optimizer=tf.optimizers.legacy.Adam(learning_rate=0.001), \n",
    "                       loss=\"categorical_crossentropy\", metrics=['accuracy'])"
   ]
  },
  {
   "cell_type": "code",
   "execution_count": 8,
   "id": "ddfa62fe",
   "metadata": {},
   "outputs": [],
   "source": [
    "# Adaptive Layer based on 1D Conv\n",
    "# 39840\n",
    "adaptive_conv_nn_model = AdaptiveModel([\n",
    "    AdaptiveLayerConv(45, structure=[32, 8], split=1, inner_hidden_activation=tf.nn.tanh,\n",
    "                  inner_out_activation=tf.nn.relu),\n",
    "    AdaptiveLayerConv(10, structure=[64, 16], split=1, inner_hidden_activation=tf.nn.leaky_relu,\n",
    "                  inner_out_activation=tf.nn.softmax)\n",
    "])\n",
    "\n",
    "adaptive_conv_nn_model.compile(optimizer=tf.optimizers.legacy.Adam(learning_rate=0.001), \n",
    "                       loss=\"categorical_crossentropy\", metrics=['accuracy'])"
   ]
  },
  {
   "cell_type": "code",
   "execution_count": 9,
   "id": "ee6ac750",
   "metadata": {},
   "outputs": [
    {
     "name": "stdout",
     "output_type": "stream",
     "text": [
      "Epoch 1/10\n",
      "938/938 [==============================] - 1s 523us/step - loss: 0.3699 - accuracy: 0.8982\n",
      "Epoch 2/10\n",
      "938/938 [==============================] - 0s 525us/step - loss: 0.1847 - accuracy: 0.9470\n",
      "Epoch 3/10\n",
      "938/938 [==============================] - 0s 525us/step - loss: 0.1411 - accuracy: 0.9593\n",
      "Epoch 4/10\n",
      "938/938 [==============================] - 0s 523us/step - loss: 0.1153 - accuracy: 0.9666\n",
      "Epoch 5/10\n",
      "938/938 [==============================] - 0s 529us/step - loss: 0.0963 - accuracy: 0.9721\n",
      "Epoch 6/10\n",
      "938/938 [==============================] - 0s 529us/step - loss: 0.0847 - accuracy: 0.9755\n",
      "Epoch 7/10\n",
      "938/938 [==============================] - 0s 525us/step - loss: 0.0738 - accuracy: 0.9788\n",
      "Epoch 8/10\n",
      "938/938 [==============================] - 0s 532us/step - loss: 0.0654 - accuracy: 0.9810\n",
      "Epoch 9/10\n",
      "938/938 [==============================] - 1s 569us/step - loss: 0.0589 - accuracy: 0.9826\n",
      "Epoch 10/10\n",
      "938/938 [==============================] - 1s 576us/step - loss: 0.0521 - accuracy: 0.9845\n"
     ]
    }
   ],
   "source": [
    "start = time.time()\n",
    "static_f_model.fit(x_train, y_train, epochs=EPOCHS, batch_size=64)\n",
    "end = time.time()\n",
    "static_f_time.append(end-start)"
   ]
  },
  {
   "cell_type": "code",
   "execution_count": 10,
   "id": "8c508df0",
   "metadata": {},
   "outputs": [
    {
     "name": "stdout",
     "output_type": "stream",
     "text": [
      "Epoch 1/10\n",
      "938/938 [==============================] - 1s 547us/step - loss: 0.3743 - accuracy: 0.8965\n",
      "Epoch 2/10\n",
      "938/938 [==============================] - 1s 572us/step - loss: 0.1959 - accuracy: 0.9439\n",
      "Epoch 3/10\n",
      "938/938 [==============================] - 1s 540us/step - loss: 0.1472 - accuracy: 0.9578\n",
      "Epoch 4/10\n",
      "938/938 [==============================] - 1s 542us/step - loss: 0.1191 - accuracy: 0.9656\n",
      "Epoch 5/10\n",
      "938/938 [==============================] - 1s 544us/step - loss: 0.0998 - accuracy: 0.9710\n",
      "Epoch 6/10\n",
      "938/938 [==============================] - 1s 540us/step - loss: 0.0856 - accuracy: 0.9755\n",
      "Epoch 7/10\n",
      "938/938 [==============================] - 1s 558us/step - loss: 0.0739 - accuracy: 0.9788\n",
      "Epoch 8/10\n",
      "938/938 [==============================] - 1s 594us/step - loss: 0.0645 - accuracy: 0.9804\n",
      "Epoch 9/10\n",
      "938/938 [==============================] - 1s 556us/step - loss: 0.0567 - accuracy: 0.9834\n",
      "Epoch 10/10\n",
      "938/938 [==============================] - 1s 541us/step - loss: 0.0498 - accuracy: 0.9852\n"
     ]
    }
   ],
   "source": [
    "start = time.time()\n",
    "adaptive_f_model.fit(x_train, y_train, epochs=EPOCHS, batch_size=64)\n",
    "end = time.time()\n",
    "adaptive_f_time.append(end-start)"
   ]
  },
  {
   "cell_type": "code",
   "execution_count": 11,
   "id": "61fe894f",
   "metadata": {},
   "outputs": [
    {
     "name": "stdout",
     "output_type": "stream",
     "text": [
      "Epoch 1/10\n",
      "938/938 [==============================] - 1s 901us/step - loss: 0.4362 - accuracy: 0.8675\n",
      "Epoch 2/10\n",
      "938/938 [==============================] - 1s 904us/step - loss: 0.1557 - accuracy: 0.9534\n",
      "Epoch 3/10\n",
      "938/938 [==============================] - 1s 913us/step - loss: 0.1189 - accuracy: 0.9639\n",
      "Epoch 4/10\n",
      "938/938 [==============================] - 1s 908us/step - loss: 0.0983 - accuracy: 0.9704\n",
      "Epoch 5/10\n",
      "938/938 [==============================] - 1s 906us/step - loss: 0.0827 - accuracy: 0.9746\n",
      "Epoch 6/10\n",
      "938/938 [==============================] - 1s 907us/step - loss: 0.0731 - accuracy: 0.9769\n",
      "Epoch 7/10\n",
      "938/938 [==============================] - 1s 908us/step - loss: 0.0644 - accuracy: 0.9792\n",
      "Epoch 8/10\n",
      "938/938 [==============================] - 1s 907us/step - loss: 0.0583 - accuracy: 0.9812\n",
      "Epoch 9/10\n",
      "938/938 [==============================] - 1s 909us/step - loss: 0.0507 - accuracy: 0.9837\n",
      "Epoch 10/10\n",
      "938/938 [==============================] - 1s 946us/step - loss: 0.0460 - accuracy: 0.9854\n"
     ]
    }
   ],
   "source": [
    "start = time.time()\n",
    "adaptive_nn_model.fit(x_train, y_train, epochs=EPOCHS, batch_size=64)\n",
    "end = time.time()\n",
    "adaptive_nn_time.append(end-start)"
   ]
  },
  {
   "cell_type": "code",
   "execution_count": 12,
   "id": "3cfa80f9",
   "metadata": {},
   "outputs": [
    {
     "name": "stdout",
     "output_type": "stream",
     "text": [
      "Epoch 1/10\n",
      "938/938 [==============================] - 1s 1ms/step - loss: 0.3895 - accuracy: 0.8857\n",
      "Epoch 2/10\n",
      "938/938 [==============================] - 1s 1ms/step - loss: 0.1695 - accuracy: 0.9488\n",
      "Epoch 3/10\n",
      "938/938 [==============================] - 1s 1ms/step - loss: 0.1308 - accuracy: 0.9596\n",
      "Epoch 4/10\n",
      "938/938 [==============================] - 1s 1ms/step - loss: 0.1094 - accuracy: 0.9661\n",
      "Epoch 5/10\n",
      "938/938 [==============================] - 1s 1ms/step - loss: 0.0928 - accuracy: 0.9715\n",
      "Epoch 6/10\n",
      "938/938 [==============================] - 1s 1ms/step - loss: 0.0821 - accuracy: 0.9749\n",
      "Epoch 7/10\n",
      "938/938 [==============================] - 1s 1ms/step - loss: 0.0744 - accuracy: 0.9768\n",
      "Epoch 8/10\n",
      "938/938 [==============================] - 1s 1ms/step - loss: 0.0676 - accuracy: 0.9785\n",
      "Epoch 9/10\n",
      "938/938 [==============================] - 1s 1ms/step - loss: 0.0589 - accuracy: 0.9811\n",
      "Epoch 10/10\n",
      "938/938 [==============================] - 1s 1ms/step - loss: 0.0553 - accuracy: 0.9828\n"
     ]
    }
   ],
   "source": [
    "start = time.time()\n",
    "adaptive_conv_nn_model.fit(x_train, y_train, epochs=EPOCHS, batch_size=64)\n",
    "end = time.time()\n",
    "adaptive_conv_nn_time.append(end-start)"
   ]
  },
  {
   "cell_type": "code",
   "execution_count": 13,
   "id": "bc1dda17",
   "metadata": {},
   "outputs": [
    {
     "name": "stdout",
     "output_type": "stream",
     "text": [
      "Static Function model :  5.654167652130127\n",
      "\n",
      "Adaptive Function model\\ :  5.510678768157959\n",
      "\n",
      "Adaptive NN model:  9.377732992172241\n",
      "\n",
      "Adaptive Conv NN model :  11.349493026733398\n"
     ]
    }
   ],
   "source": [
    "print(\"Static Function model : \", static_f_time[-1])\n",
    "print(\"\\nAdaptive Function model\\ : \", adaptive_f_time[-1])\n",
    "print(\"\\nAdaptive NN model: \", adaptive_nn_time[-1])\n",
    "print(\"\\nAdaptive Conv NN model : \", adaptive_conv_nn_time[-1])"
   ]
  },
  {
   "cell_type": "code",
   "execution_count": null,
   "id": "7332063a-b2fc-41e1-97ff-db621fbd2312",
   "metadata": {},
   "outputs": [],
   "source": []
  },
  {
   "cell_type": "code",
   "execution_count": 14,
   "id": "9970501d-01ad-4038-ac72-be235605f4cc",
   "metadata": {},
   "outputs": [],
   "source": [
    "# 79510\n",
    "static_f_model = keras.Sequential([\n",
    "    keras.layers.Dense(100, activation=\"relu\"),\n",
    "    keras.layers.Dense(10, activation=\"softmax\")\n",
    "])\n",
    "\n",
    "static_f_model.compile(optimizer=tf.optimizers.legacy.Adam(learning_rate=0.001), \n",
    "                       loss=\"categorical_crossentropy\", metrics=['accuracy'])"
   ]
  },
  {
   "cell_type": "code",
   "execution_count": 15,
   "id": "6e9a2745-b78b-4654-a643-5b173b673cd9",
   "metadata": {},
   "outputs": [],
   "source": [
    "# 79510\n",
    "adaptive_f_model = keras.Sequential([\n",
    "    keras.layers.Dense(100, activation=tf.nn.swish),\n",
    "    keras.layers.Dense(10, activation=\"softmax\")\n",
    "])\n",
    "\n",
    "adaptive_f_model.compile(optimizer=tf.optimizers.legacy.Adam(learning_rate=0.001), \n",
    "                       loss=\"categorical_crossentropy\", metrics=['accuracy'])"
   ]
  },
  {
   "cell_type": "code",
   "execution_count": 16,
   "id": "7ca4c64c-66a4-4424-a144-f59e0b595c44",
   "metadata": {},
   "outputs": [],
   "source": [
    "# Adaptive Layer\n",
    "# 79710\n",
    "adaptive_nn_model = AdaptiveModel([\n",
    "    AdaptiveLayer(97, structure=[8, 1], inner_hidden_activation=tf.nn.relu, \n",
    "                  inner_out_activation=tf.nn.leaky_relu, skip_w=0.5),\n",
    "    AdaptiveLayer(10, structure=[5, 1], inner_hidden_activation=tf.nn.relu, \n",
    "                  inner_out_activation=tf.nn.softmax, skip_w=0.5)\n",
    "])\n",
    "\n",
    "adaptive_nn_model.compile(optimizer=tf.optimizers.legacy.Adam(learning_rate=0.001), \n",
    "                       loss=\"categorical_crossentropy\", metrics=['accuracy'])"
   ]
  },
  {
   "cell_type": "code",
   "execution_count": 17,
   "id": "ecadb480-314f-4ed7-ba03-dc5122788a42",
   "metadata": {},
   "outputs": [],
   "source": [
    "# Adaptive Layer based on 1D Conv\n",
    "# 79132\n",
    "adaptive_conv_nn_model = AdaptiveModel([\n",
    "    AdaptiveLayerConv(92, structure=[32, 8], split=1, inner_hidden_activation=tf.nn.tanh,\n",
    "                  inner_out_activation=tf.nn.relu),\n",
    "    AdaptiveLayerConv(10, structure=[64, 16], split=1, inner_hidden_activation=tf.nn.leaky_relu,\n",
    "                  inner_out_activation=tf.nn.softmax)\n",
    "])\n",
    "\n",
    "adaptive_conv_nn_model.compile(optimizer=tf.optimizers.legacy.Adam(learning_rate=0.001), \n",
    "                       loss=\"categorical_crossentropy\", metrics=['accuracy'])"
   ]
  },
  {
   "cell_type": "code",
   "execution_count": 18,
   "id": "2887af2d-5695-4f2b-903c-eec017ce3249",
   "metadata": {},
   "outputs": [
    {
     "name": "stdout",
     "output_type": "stream",
     "text": [
      "Epoch 1/10\n",
      "938/938 [==============================] - 1s 619us/step - loss: 0.3107 - accuracy: 0.9133\n",
      "Epoch 2/10\n",
      "938/938 [==============================] - 1s 615us/step - loss: 0.1393 - accuracy: 0.9598\n",
      "Epoch 3/10\n",
      "938/938 [==============================] - 1s 625us/step - loss: 0.0995 - accuracy: 0.9708\n",
      "Epoch 4/10\n",
      "938/938 [==============================] - 1s 614us/step - loss: 0.0770 - accuracy: 0.9773\n",
      "Epoch 5/10\n",
      "938/938 [==============================] - 1s 640us/step - loss: 0.0609 - accuracy: 0.9824\n",
      "Epoch 6/10\n",
      "938/938 [==============================] - 1s 736us/step - loss: 0.0501 - accuracy: 0.9858\n",
      "Epoch 7/10\n",
      "938/938 [==============================] - 1s 592us/step - loss: 0.0421 - accuracy: 0.9872\n",
      "Epoch 8/10\n",
      "938/938 [==============================] - 1s 626us/step - loss: 0.0351 - accuracy: 0.9895\n",
      "Epoch 9/10\n",
      "938/938 [==============================] - 1s 636us/step - loss: 0.0293 - accuracy: 0.9913\n",
      "Epoch 10/10\n",
      "938/938 [==============================] - 1s 597us/step - loss: 0.0242 - accuracy: 0.9933\n"
     ]
    }
   ],
   "source": [
    "start = time.time()\n",
    "static_f_model.fit(x_train, y_train, epochs=EPOCHS, batch_size=64)\n",
    "end = time.time()\n",
    "static_f_time.append(end-start)"
   ]
  },
  {
   "cell_type": "code",
   "execution_count": 19,
   "id": "e5f403f7-3b06-452f-8b63-19140084f381",
   "metadata": {},
   "outputs": [
    {
     "name": "stdout",
     "output_type": "stream",
     "text": [
      "Epoch 1/10\n",
      "938/938 [==============================] - 1s 910us/step - loss: 0.3307 - accuracy: 0.9081\n",
      "Epoch 2/10\n",
      "938/938 [==============================] - 1s 812us/step - loss: 0.1575 - accuracy: 0.9541\n",
      "Epoch 3/10\n",
      "938/938 [==============================] - 1s 681us/step - loss: 0.1115 - accuracy: 0.9675\n",
      "Epoch 4/10\n",
      "938/938 [==============================] - 1s 647us/step - loss: 0.0855 - accuracy: 0.9748\n",
      "Epoch 5/10\n",
      "938/938 [==============================] - 1s 640us/step - loss: 0.0671 - accuracy: 0.9804\n",
      "Epoch 6/10\n",
      "938/938 [==============================] - 1s 640us/step - loss: 0.0556 - accuracy: 0.9837\n",
      "Epoch 7/10\n",
      "938/938 [==============================] - 1s 646us/step - loss: 0.0449 - accuracy: 0.9866\n",
      "Epoch 8/10\n",
      "938/938 [==============================] - 1s 661us/step - loss: 0.0378 - accuracy: 0.9888\n",
      "Epoch 9/10\n",
      "938/938 [==============================] - 1s 662us/step - loss: 0.0303 - accuracy: 0.9910\n",
      "Epoch 10/10\n",
      "938/938 [==============================] - 1s 695us/step - loss: 0.0255 - accuracy: 0.9929\n"
     ]
    }
   ],
   "source": [
    "start = time.time()\n",
    "adaptive_f_model.fit(x_train, y_train, epochs=EPOCHS, batch_size=64)\n",
    "end = time.time()\n",
    "adaptive_f_time.append(end-start)"
   ]
  },
  {
   "cell_type": "code",
   "execution_count": 20,
   "id": "25914394-3766-467a-accd-0663e7016523",
   "metadata": {},
   "outputs": [
    {
     "name": "stdout",
     "output_type": "stream",
     "text": [
      "Epoch 1/10\n",
      "938/938 [==============================] - 1s 1ms/step - loss: 0.4354 - accuracy: 0.8680\n",
      "Epoch 2/10\n",
      "938/938 [==============================] - 1s 1ms/step - loss: 0.1364 - accuracy: 0.9606\n",
      "Epoch 3/10\n",
      "938/938 [==============================] - 1s 1ms/step - loss: 0.0923 - accuracy: 0.9720\n",
      "Epoch 4/10\n",
      "938/938 [==============================] - 1s 1ms/step - loss: 0.0712 - accuracy: 0.9779\n",
      "Epoch 5/10\n",
      "938/938 [==============================] - 1s 1ms/step - loss: 0.0560 - accuracy: 0.9827\n",
      "Epoch 6/10\n",
      "938/938 [==============================] - 1s 1ms/step - loss: 0.0466 - accuracy: 0.9852\n",
      "Epoch 7/10\n",
      "938/938 [==============================] - 1s 1ms/step - loss: 0.0405 - accuracy: 0.9870\n",
      "Epoch 8/10\n",
      "938/938 [==============================] - 1s 1ms/step - loss: 0.0345 - accuracy: 0.9882\n",
      "Epoch 9/10\n",
      "938/938 [==============================] - 1s 1ms/step - loss: 0.0293 - accuracy: 0.9901\n",
      "Epoch 10/10\n",
      "938/938 [==============================] - 1s 1ms/step - loss: 0.0265 - accuracy: 0.9910\n"
     ]
    }
   ],
   "source": [
    "start = time.time()\n",
    "adaptive_nn_model.fit(x_train, y_train, epochs=EPOCHS, batch_size=64)\n",
    "end = time.time()\n",
    "adaptive_nn_time.append(end-start)"
   ]
  },
  {
   "cell_type": "code",
   "execution_count": 21,
   "id": "7567827a-8e1b-493a-8535-a16edc760713",
   "metadata": {},
   "outputs": [
    {
     "name": "stdout",
     "output_type": "stream",
     "text": [
      "Epoch 1/10\n",
      "938/938 [==============================] - 1s 1ms/step - loss: 0.3273 - accuracy: 0.9054\n",
      "Epoch 2/10\n",
      "938/938 [==============================] - 1s 1ms/step - loss: 0.1408 - accuracy: 0.9573\n",
      "Epoch 3/10\n",
      "938/938 [==============================] - 1s 1ms/step - loss: 0.1027 - accuracy: 0.9684\n",
      "Epoch 4/10\n",
      "938/938 [==============================] - 1s 1ms/step - loss: 0.0814 - accuracy: 0.9743\n",
      "Epoch 5/10\n",
      "938/938 [==============================] - 1s 1ms/step - loss: 0.0655 - accuracy: 0.9793\n",
      "Epoch 6/10\n",
      "938/938 [==============================] - 1s 1ms/step - loss: 0.0554 - accuracy: 0.9824\n",
      "Epoch 7/10\n",
      "938/938 [==============================] - 1s 1ms/step - loss: 0.0502 - accuracy: 0.9837\n",
      "Epoch 8/10\n",
      "938/938 [==============================] - 1s 1ms/step - loss: 0.0425 - accuracy: 0.9862\n",
      "Epoch 9/10\n",
      "938/938 [==============================] - 1s 1ms/step - loss: 0.0366 - accuracy: 0.9882\n",
      "Epoch 10/10\n",
      "938/938 [==============================] - 1s 2ms/step - loss: 0.0322 - accuracy: 0.9893\n"
     ]
    }
   ],
   "source": [
    "start = time.time()\n",
    "adaptive_conv_nn_model.fit(x_train, y_train, epochs=EPOCHS, batch_size=64)\n",
    "end = time.time()\n",
    "adaptive_conv_nn_time.append(end-start)"
   ]
  },
  {
   "cell_type": "code",
   "execution_count": 22,
   "id": "8148f2d1-8ac7-4238-b657-c0dc6792ada8",
   "metadata": {},
   "outputs": [
    {
     "name": "stdout",
     "output_type": "stream",
     "text": [
      "Static Function model :  6.648931980133057\n",
      "\n",
      "Adaptive Function model\\ :  7.0412092208862305\n",
      "\n",
      "Adaptive NN model:  12.107841968536377\n",
      "\n",
      "Adaptive Conv NN model :  12.404167890548706\n"
     ]
    }
   ],
   "source": [
    "print(\"Static Function model : \", static_f_time[-1])\n",
    "print(\"\\nAdaptive Function model\\ : \", adaptive_f_time[-1])\n",
    "print(\"\\nAdaptive NN model: \", adaptive_nn_time[-1])\n",
    "print(\"\\nAdaptive Conv NN model : \", adaptive_conv_nn_time[-1])"
   ]
  },
  {
   "cell_type": "code",
   "execution_count": null,
   "id": "10fbb942-b463-4e14-b8bc-6aa668874a98",
   "metadata": {},
   "outputs": [],
   "source": []
  },
  {
   "cell_type": "code",
   "execution_count": 23,
   "id": "471c95f9-02af-4cbe-80fc-350618fac4cf",
   "metadata": {},
   "outputs": [],
   "source": [
    "# 125010\n",
    "static_f_model = keras.Sequential([\n",
    "    keras.layers.Dense(140, activation=\"relu\"),\n",
    "    keras.layers.Dense(100, activation=\"relu\"),\n",
    "    keras.layers.Dense(10, activation=\"softmax\")\n",
    "])\n",
    "\n",
    "static_f_model.compile(optimizer=tf.optimizers.legacy.Adam(learning_rate=0.001), \n",
    "                       loss=\"categorical_crossentropy\", metrics=['accuracy'])"
   ]
  },
  {
   "cell_type": "code",
   "execution_count": 24,
   "id": "50d789e5-abec-4459-ae50-913ec674cec5",
   "metadata": {},
   "outputs": [],
   "source": [
    "# 125010\n",
    "adaptive_f_model = keras.Sequential([\n",
    "    keras.layers.Dense(140, activation=tf.nn.swish),\n",
    "    keras.layers.Dense(100, activation=tf.nn.swish),\n",
    "    keras.layers.Dense(10, activation=\"softmax\")\n",
    "])\n",
    "\n",
    "adaptive_f_model.compile(optimizer=tf.optimizers.legacy.Adam(learning_rate=0.001), \n",
    "                       loss=\"categorical_crossentropy\", metrics=['accuracy'])"
   ]
  },
  {
   "cell_type": "code",
   "execution_count": 25,
   "id": "698e3009-6f29-4446-957d-fc1761c4a09d",
   "metadata": {},
   "outputs": [],
   "source": [
    "# Adaptive Layer\n",
    "# 125000\n",
    "adaptive_nn_model = AdaptiveModel([\n",
    "    AdaptiveLayer(135, structure=[6, 1], inner_hidden_activation=tf.nn.relu, \n",
    "                  inner_out_activation=tf.nn.leaky_relu, skip_w=0.5),\n",
    "    AdaptiveLayer(100, structure=[5, 1], inner_hidden_activation=tf.nn.relu, \n",
    "                  inner_out_activation=tf.nn.leaky_relu, skip_w=0.5),\n",
    "    AdaptiveLayer(10, structure=[8, 1], inner_hidden_activation=tf.nn.relu, \n",
    "                  inner_out_activation=tf.nn.softmax, skip_w=0.5)\n",
    "])\n",
    "\n",
    "adaptive_nn_model.compile(optimizer=tf.optimizers.legacy.Adam(learning_rate=0.001), \n",
    "                       loss=\"categorical_crossentropy\", metrics=['accuracy'])"
   ]
  },
  {
   "cell_type": "code",
   "execution_count": 26,
   "id": "2a3322b0-a21a-46dc-bfe6-34707dace198",
   "metadata": {},
   "outputs": [],
   "source": [
    "# Adaptive Layer based on 1D Conv\n",
    "# 125054 \n",
    "adaptive_conv_nn_model = AdaptiveModel([\n",
    "    AdaptiveLayerConv(125, structure=[32, 16], split=1, inner_hidden_activation=tf.nn.tanh,\n",
    "                  inner_out_activation=tf.nn.relu),\n",
    "    AdaptiveLayerConv(100, structure=[32, 11], split=1, inner_hidden_activation=tf.nn.tanh,\n",
    "                  inner_out_activation=tf.nn.relu),\n",
    "    AdaptiveLayerConv(10, structure=[64, 15], split=1, inner_hidden_activation=tf.nn.leaky_relu,\n",
    "                  inner_out_activation=tf.nn.softmax)\n",
    "])\n",
    "\n",
    "adaptive_conv_nn_model.compile(optimizer=tf.optimizers.legacy.Adam(learning_rate=0.001), \n",
    "                       loss=\"categorical_crossentropy\", metrics=['accuracy'])"
   ]
  },
  {
   "cell_type": "code",
   "execution_count": 27,
   "id": "727c303e-b259-4a64-a3c9-e4c2a5dfd68f",
   "metadata": {},
   "outputs": [
    {
     "name": "stdout",
     "output_type": "stream",
     "text": [
      "Epoch 1/10\n",
      "938/938 [==============================] - 1s 1ms/step - loss: 0.2692 - accuracy: 0.9228\n",
      "Epoch 2/10\n",
      "938/938 [==============================] - 1s 1ms/step - loss: 0.1060 - accuracy: 0.9684\n",
      "Epoch 3/10\n",
      "938/938 [==============================] - 1s 1ms/step - loss: 0.0730 - accuracy: 0.9772\n",
      "Epoch 4/10\n",
      "938/938 [==============================] - 1s 962us/step - loss: 0.0552 - accuracy: 0.9826\n",
      "Epoch 5/10\n",
      "938/938 [==============================] - 1s 966us/step - loss: 0.0424 - accuracy: 0.9867\n",
      "Epoch 6/10\n",
      "938/938 [==============================] - 1s 950us/step - loss: 0.0358 - accuracy: 0.9881\n",
      "Epoch 7/10\n",
      "938/938 [==============================] - 1s 1ms/step - loss: 0.0282 - accuracy: 0.9905\n",
      "Epoch 8/10\n",
      "938/938 [==============================] - 1s 1ms/step - loss: 0.0238 - accuracy: 0.9923\n",
      "Epoch 9/10\n",
      "938/938 [==============================] - 1s 992us/step - loss: 0.0186 - accuracy: 0.9937\n",
      "Epoch 10/10\n",
      "938/938 [==============================] - 1s 1ms/step - loss: 0.0167 - accuracy: 0.9941\n"
     ]
    }
   ],
   "source": [
    "start = time.time()\n",
    "static_f_model.fit(x_train, y_train, epochs=EPOCHS, batch_size=64)\n",
    "end = time.time()\n",
    "static_f_time.append(end-start)"
   ]
  },
  {
   "cell_type": "code",
   "execution_count": 28,
   "id": "e5c23196-1145-4fa6-87f5-95135122c898",
   "metadata": {},
   "outputs": [
    {
     "name": "stdout",
     "output_type": "stream",
     "text": [
      "Epoch 1/10\n",
      "938/938 [==============================] - 1s 1ms/step - loss: 0.2718 - accuracy: 0.9218\n",
      "Epoch 2/10\n",
      "938/938 [==============================] - 1s 1ms/step - loss: 0.1107 - accuracy: 0.9668\n",
      "Epoch 3/10\n",
      "938/938 [==============================] - 1s 1ms/step - loss: 0.0761 - accuracy: 0.9765\n",
      "Epoch 4/10\n",
      "938/938 [==============================] - 1s 1ms/step - loss: 0.0545 - accuracy: 0.9829\n",
      "Epoch 5/10\n",
      "938/938 [==============================] - 1s 1ms/step - loss: 0.0405 - accuracy: 0.9873\n",
      "Epoch 6/10\n",
      "938/938 [==============================] - 1s 1ms/step - loss: 0.0328 - accuracy: 0.9894\n",
      "Epoch 7/10\n",
      "938/938 [==============================] - 1s 1ms/step - loss: 0.0240 - accuracy: 0.9927\n",
      "Epoch 8/10\n",
      "938/938 [==============================] - 1s 1ms/step - loss: 0.0208 - accuracy: 0.9932\n",
      "Epoch 9/10\n",
      "938/938 [==============================] - 1s 1ms/step - loss: 0.0169 - accuracy: 0.9944\n",
      "Epoch 10/10\n",
      "938/938 [==============================] - 1s 1ms/step - loss: 0.0145 - accuracy: 0.9954\n"
     ]
    }
   ],
   "source": [
    "start = time.time()\n",
    "adaptive_f_model.fit(x_train, y_train, epochs=EPOCHS, batch_size=64)\n",
    "end = time.time()\n",
    "adaptive_f_time.append(end-start)"
   ]
  },
  {
   "cell_type": "code",
   "execution_count": 29,
   "id": "88df7110-65f2-4134-94cb-22413151e10c",
   "metadata": {},
   "outputs": [
    {
     "name": "stdout",
     "output_type": "stream",
     "text": [
      "Epoch 1/10\n",
      "938/938 [==============================] - 2s 2ms/step - loss: 0.3369 - accuracy: 0.8989\n",
      "Epoch 2/10\n",
      "938/938 [==============================] - 2s 2ms/step - loss: 0.1109 - accuracy: 0.9662\n",
      "Epoch 3/10\n",
      "938/938 [==============================] - 2s 2ms/step - loss: 0.0816 - accuracy: 0.9746\n",
      "Epoch 4/10\n",
      "938/938 [==============================] - 2s 2ms/step - loss: 0.0610 - accuracy: 0.9812\n",
      "Epoch 5/10\n",
      "938/938 [==============================] - 2s 2ms/step - loss: 0.0521 - accuracy: 0.9831\n",
      "Epoch 6/10\n",
      "938/938 [==============================] - 2s 2ms/step - loss: 0.0432 - accuracy: 0.9865\n",
      "Epoch 7/10\n",
      "938/938 [==============================] - 2s 2ms/step - loss: 0.0378 - accuracy: 0.9875\n",
      "Epoch 8/10\n",
      "938/938 [==============================] - 2s 2ms/step - loss: 0.0326 - accuracy: 0.9894\n",
      "Epoch 9/10\n",
      "938/938 [==============================] - 2s 2ms/step - loss: 0.0302 - accuracy: 0.9902\n",
      "Epoch 10/10\n",
      "938/938 [==============================] - 2s 2ms/step - loss: 0.0267 - accuracy: 0.9911\n"
     ]
    }
   ],
   "source": [
    "start = time.time()\n",
    "adaptive_nn_model.fit(x_train, y_train, epochs=EPOCHS, batch_size=64)\n",
    "end = time.time()\n",
    "adaptive_nn_time.append(end-start)"
   ]
  },
  {
   "cell_type": "code",
   "execution_count": 30,
   "id": "87876181-77e7-449c-a983-6688d3d05632",
   "metadata": {},
   "outputs": [
    {
     "name": "stdout",
     "output_type": "stream",
     "text": [
      "Epoch 1/10\n",
      "938/938 [==============================] - 3s 2ms/step - loss: 0.3040 - accuracy: 0.9105\n",
      "Epoch 2/10\n",
      "938/938 [==============================] - 2s 2ms/step - loss: 0.1303 - accuracy: 0.9603\n",
      "Epoch 3/10\n",
      "938/938 [==============================] - 2s 2ms/step - loss: 0.0944 - accuracy: 0.9705\n",
      "Epoch 4/10\n",
      "938/938 [==============================] - 2s 2ms/step - loss: 0.0732 - accuracy: 0.9769\n",
      "Epoch 5/10\n",
      "938/938 [==============================] - 2s 2ms/step - loss: 0.0582 - accuracy: 0.9818\n",
      "Epoch 6/10\n",
      "938/938 [==============================] - 2s 2ms/step - loss: 0.0512 - accuracy: 0.9834\n",
      "Epoch 7/10\n",
      "938/938 [==============================] - 2s 2ms/step - loss: 0.0426 - accuracy: 0.9863\n",
      "Epoch 8/10\n",
      "938/938 [==============================] - 2s 2ms/step - loss: 0.0375 - accuracy: 0.9881\n",
      "Epoch 9/10\n",
      "938/938 [==============================] - 2s 2ms/step - loss: 0.0318 - accuracy: 0.9894\n",
      "Epoch 10/10\n",
      "938/938 [==============================] - 2s 2ms/step - loss: 0.0290 - accuracy: 0.9904\n"
     ]
    }
   ],
   "source": [
    "start = time.time()\n",
    "adaptive_conv_nn_model.fit(x_train, y_train, epochs=EPOCHS, batch_size=64)\n",
    "end = time.time()\n",
    "adaptive_conv_nn_time.append(end-start)"
   ]
  },
  {
   "cell_type": "code",
   "execution_count": 31,
   "id": "7ee92c61-4cab-4ff5-aab4-5582018504ac",
   "metadata": {},
   "outputs": [
    {
     "name": "stdout",
     "output_type": "stream",
     "text": [
      "Static Function model :  10.38089895248413\n",
      "\n",
      "Adaptive Function model\\ :  10.806900978088379\n",
      "\n",
      "Adaptive NN model:  20.071056842803955\n",
      "\n",
      "Adaptive Conv NN model :  22.12083601951599\n"
     ]
    }
   ],
   "source": [
    "print(\"Static Function model : \", static_f_time[-1])\n",
    "print(\"\\nAdaptive Function model\\ : \", adaptive_f_time[-1])\n",
    "print(\"\\nAdaptive NN model: \", adaptive_nn_time[-1])\n",
    "print(\"\\nAdaptive Conv NN model : \", adaptive_conv_nn_time[-1])"
   ]
  },
  {
   "cell_type": "code",
   "execution_count": null,
   "id": "6e306c9f-43cb-4ad3-aa64-a53cdced30ee",
   "metadata": {},
   "outputs": [],
   "source": []
  },
  {
   "cell_type": "code",
   "execution_count": 32,
   "id": "7373977d-79b0-4b65-9868-0f9d70948e72",
   "metadata": {},
   "outputs": [],
   "source": [
    "# 160410\n",
    "static_f_model = keras.Sequential([\n",
    "    keras.layers.Dense(180, activation=\"relu\"),\n",
    "    keras.layers.Dense(100, activation=\"relu\"),\n",
    "    keras.layers.Dense(10, activation=\"softmax\")\n",
    "])\n",
    "\n",
    "static_f_model.compile(optimizer=tf.optimizers.legacy.Adam(learning_rate=0.001), \n",
    "                       loss=\"categorical_crossentropy\", metrics=['accuracy'])"
   ]
  },
  {
   "cell_type": "code",
   "execution_count": 33,
   "id": "c10e1065-9043-4600-bdc1-4d1840bce83f",
   "metadata": {},
   "outputs": [],
   "source": [
    "# 160410\n",
    "adaptive_f_model = keras.Sequential([\n",
    "    keras.layers.Dense(180, activation=tf.nn.swish),\n",
    "    keras.layers.Dense(100, activation=tf.nn.swish),\n",
    "    keras.layers.Dense(10, activation=\"softmax\")\n",
    "])\n",
    "\n",
    "adaptive_f_model.compile(optimizer=tf.optimizers.legacy.Adam(learning_rate=0.001), \n",
    "                       loss=\"categorical_crossentropy\", metrics=['accuracy'])"
   ]
  },
  {
   "cell_type": "code",
   "execution_count": 34,
   "id": "fdf1923b-2f75-4cd2-b3c9-02cd4dd15bba",
   "metadata": {},
   "outputs": [],
   "source": [
    "# Adaptive Layer\n",
    "# 160020\n",
    "adaptive_nn_model = AdaptiveModel([\n",
    "    AdaptiveLayer(175, structure=[4, 1], inner_hidden_activation=tf.nn.relu, \n",
    "                  inner_out_activation=tf.nn.leaky_relu, skip_w=0.5),\n",
    "    AdaptiveLayer(100, structure=[5, 1], inner_hidden_activation=tf.nn.relu, \n",
    "                  inner_out_activation=tf.nn.leaky_relu, skip_w=0.5),\n",
    "    AdaptiveLayer(10, structure=[5, 1], inner_hidden_activation=tf.nn.relu, \n",
    "                  inner_out_activation=tf.nn.softmax, skip_w=0.5)\n",
    "])\n",
    "\n",
    "adaptive_nn_model.compile(optimizer=tf.optimizers.legacy.Adam(learning_rate=0.001), \n",
    "                       loss=\"categorical_crossentropy\", metrics=['accuracy'])"
   ]
  },
  {
   "cell_type": "code",
   "execution_count": 35,
   "id": "8bd91592-41c0-477e-accf-09e0115c78be",
   "metadata": {},
   "outputs": [],
   "source": [
    "# Adaptive Layer based on 1D Conv\n",
    "# 160442\n",
    "adaptive_conv_nn_model = AdaptiveModel([\n",
    "    AdaptiveLayerConv(165, structure=[32, 12], split=1, inner_hidden_activation=tf.nn.tanh,\n",
    "                  inner_out_activation=tf.nn.relu),\n",
    "    AdaptiveLayerConv(100, structure=[32, 10], split=1, inner_hidden_activation=tf.nn.tanh,\n",
    "                  inner_out_activation=tf.nn.relu),\n",
    "    AdaptiveLayerConv(10, structure=[32, 10], split=1, inner_hidden_activation=tf.nn.leaky_relu,\n",
    "                  inner_out_activation=tf.nn.softmax)\n",
    "])\n",
    "\n",
    "adaptive_conv_nn_model.compile(optimizer=tf.optimizers.legacy.Adam(learning_rate=0.001), \n",
    "                       loss=\"categorical_crossentropy\", metrics=['accuracy'])"
   ]
  },
  {
   "cell_type": "code",
   "execution_count": 36,
   "id": "17bc9f1f-e393-4436-890b-c367d3adfada",
   "metadata": {},
   "outputs": [
    {
     "name": "stdout",
     "output_type": "stream",
     "text": [
      "Epoch 1/10\n",
      "938/938 [==============================] - 1s 901us/step - loss: 0.2500 - accuracy: 0.9283\n",
      "Epoch 2/10\n",
      "938/938 [==============================] - 1s 933us/step - loss: 0.0992 - accuracy: 0.9700\n",
      "Epoch 3/10\n",
      "938/938 [==============================] - 1s 923us/step - loss: 0.0673 - accuracy: 0.9786\n",
      "Epoch 4/10\n",
      "938/938 [==============================] - 1s 909us/step - loss: 0.0484 - accuracy: 0.9851\n",
      "Epoch 5/10\n",
      "938/938 [==============================] - 1s 919us/step - loss: 0.0382 - accuracy: 0.9878\n",
      "Epoch 6/10\n",
      "938/938 [==============================] - 1s 976us/step - loss: 0.0308 - accuracy: 0.9902\n",
      "Epoch 7/10\n",
      "938/938 [==============================] - 1s 926us/step - loss: 0.0254 - accuracy: 0.9915\n",
      "Epoch 8/10\n",
      "938/938 [==============================] - 1s 932us/step - loss: 0.0217 - accuracy: 0.9931\n",
      "Epoch 9/10\n",
      "938/938 [==============================] - 1s 927us/step - loss: 0.0171 - accuracy: 0.9938\n",
      "Epoch 10/10\n",
      "938/938 [==============================] - 1s 947us/step - loss: 0.0154 - accuracy: 0.9948\n"
     ]
    }
   ],
   "source": [
    "start = time.time()\n",
    "static_f_model.fit(x_train, y_train, epochs=EPOCHS, batch_size=64)\n",
    "end = time.time()\n",
    "static_f_time.append(end-start)"
   ]
  },
  {
   "cell_type": "code",
   "execution_count": 37,
   "id": "ae079934-163f-4595-b5fb-48fbaad6b3df",
   "metadata": {},
   "outputs": [
    {
     "name": "stdout",
     "output_type": "stream",
     "text": [
      "Epoch 1/10\n",
      "938/938 [==============================] - 1s 1ms/step - loss: 0.2627 - accuracy: 0.9243\n",
      "Epoch 2/10\n",
      "938/938 [==============================] - 1s 1ms/step - loss: 0.1031 - accuracy: 0.9689\n",
      "Epoch 3/10\n",
      "938/938 [==============================] - 1s 986us/step - loss: 0.0696 - accuracy: 0.9785\n",
      "Epoch 4/10\n",
      "938/938 [==============================] - 1s 1ms/step - loss: 0.0497 - accuracy: 0.9842\n",
      "Epoch 5/10\n",
      "938/938 [==============================] - 1s 1ms/step - loss: 0.0366 - accuracy: 0.9883\n",
      "Epoch 6/10\n",
      "938/938 [==============================] - 1s 1ms/step - loss: 0.0299 - accuracy: 0.9907\n",
      "Epoch 7/10\n",
      "938/938 [==============================] - 1s 1ms/step - loss: 0.0219 - accuracy: 0.9928\n",
      "Epoch 8/10\n",
      "938/938 [==============================] - 1s 1ms/step - loss: 0.0186 - accuracy: 0.9937\n",
      "Epoch 9/10\n",
      "938/938 [==============================] - 1s 1ms/step - loss: 0.0152 - accuracy: 0.9950\n",
      "Epoch 10/10\n",
      "938/938 [==============================] - 1s 1ms/step - loss: 0.0109 - accuracy: 0.9964\n"
     ]
    }
   ],
   "source": [
    "start = time.time()\n",
    "adaptive_f_model.fit(x_train, y_train, epochs=EPOCHS, batch_size=64)\n",
    "end = time.time()\n",
    "adaptive_f_time.append(end-start)"
   ]
  },
  {
   "cell_type": "code",
   "execution_count": 38,
   "id": "4cd6d272-3be1-45dd-a364-0f58d60278e1",
   "metadata": {},
   "outputs": [
    {
     "name": "stdout",
     "output_type": "stream",
     "text": [
      "Epoch 1/10\n",
      "938/938 [==============================] - 2s 2ms/step - loss: 0.3061 - accuracy: 0.9073\n",
      "Epoch 2/10\n",
      "938/938 [==============================] - 2s 2ms/step - loss: 0.1133 - accuracy: 0.9663\n",
      "Epoch 3/10\n",
      "938/938 [==============================] - 2s 2ms/step - loss: 0.0796 - accuracy: 0.9755\n",
      "Epoch 4/10\n",
      "938/938 [==============================] - 2s 2ms/step - loss: 0.0606 - accuracy: 0.9809\n",
      "Epoch 5/10\n",
      "938/938 [==============================] - 2s 2ms/step - loss: 0.0500 - accuracy: 0.9851\n",
      "Epoch 6/10\n",
      "938/938 [==============================] - 2s 2ms/step - loss: 0.0434 - accuracy: 0.9859\n",
      "Epoch 7/10\n",
      "938/938 [==============================] - 2s 2ms/step - loss: 0.0365 - accuracy: 0.9880\n",
      "Epoch 8/10\n",
      "938/938 [==============================] - 2s 2ms/step - loss: 0.0317 - accuracy: 0.9901\n",
      "Epoch 9/10\n",
      "938/938 [==============================] - 2s 2ms/step - loss: 0.0284 - accuracy: 0.9907\n",
      "Epoch 10/10\n",
      "938/938 [==============================] - 2s 2ms/step - loss: 0.0244 - accuracy: 0.9918\n"
     ]
    }
   ],
   "source": [
    "start = time.time()\n",
    "adaptive_nn_model.fit(x_train, y_train, epochs=EPOCHS, batch_size=64)\n",
    "end = time.time()\n",
    "adaptive_nn_time.append(end-start)"
   ]
  },
  {
   "cell_type": "code",
   "execution_count": 39,
   "id": "dad2b0e3-d098-4183-8cb1-a6ceb78e0f1e",
   "metadata": {},
   "outputs": [
    {
     "name": "stdout",
     "output_type": "stream",
     "text": [
      "Epoch 1/10\n",
      "938/938 [==============================] - 3s 2ms/step - loss: 0.3050 - accuracy: 0.9093\n",
      "Epoch 2/10\n",
      "938/938 [==============================] - 3s 3ms/step - loss: 0.1258 - accuracy: 0.9613\n",
      "Epoch 3/10\n",
      "938/938 [==============================] - 2s 3ms/step - loss: 0.0882 - accuracy: 0.9726\n",
      "Epoch 4/10\n",
      "938/938 [==============================] - 2s 3ms/step - loss: 0.0693 - accuracy: 0.9779\n",
      "Epoch 5/10\n",
      "938/938 [==============================] - 3s 3ms/step - loss: 0.0551 - accuracy: 0.9824\n",
      "Epoch 6/10\n",
      "938/938 [==============================] - 2s 3ms/step - loss: 0.0450 - accuracy: 0.9856\n",
      "Epoch 7/10\n",
      "938/938 [==============================] - 3s 3ms/step - loss: 0.0376 - accuracy: 0.9880\n",
      "Epoch 8/10\n",
      "938/938 [==============================] - 3s 3ms/step - loss: 0.0338 - accuracy: 0.9887\n",
      "Epoch 9/10\n",
      "938/938 [==============================] - 2s 3ms/step - loss: 0.0289 - accuracy: 0.9906\n",
      "Epoch 10/10\n",
      "938/938 [==============================] - 2s 3ms/step - loss: 0.0236 - accuracy: 0.9922\n"
     ]
    }
   ],
   "source": [
    "start = time.time()\n",
    "adaptive_conv_nn_model.fit(x_train, y_train, epochs=EPOCHS, batch_size=64)\n",
    "end = time.time()\n",
    "adaptive_conv_nn_time.append(end-start)"
   ]
  },
  {
   "cell_type": "code",
   "execution_count": 40,
   "id": "8a4bc8de-d9ea-4242-a3f3-fdc74522d1e8",
   "metadata": {},
   "outputs": [
    {
     "name": "stdout",
     "output_type": "stream",
     "text": [
      "Static Function model :  9.391029834747314\n",
      "\n",
      "Adaptive Function model\\ :  10.443556070327759\n",
      "\n",
      "Adaptive NN model:  20.901493072509766\n",
      "\n",
      "Adaptive Conv NN model :  25.95435905456543\n"
     ]
    }
   ],
   "source": [
    "print(\"Static Function model : \", static_f_time[-1])\n",
    "print(\"\\nAdaptive Function model\\ : \", adaptive_f_time[-1])\n",
    "print(\"\\nAdaptive NN model: \", adaptive_nn_time[-1])\n",
    "print(\"\\nAdaptive Conv NN model : \", adaptive_conv_nn_time[-1])"
   ]
  },
  {
   "cell_type": "code",
   "execution_count": 41,
   "id": "e8dabc20-42bc-405c-bb67-b0b167d60fc2",
   "metadata": {},
   "outputs": [],
   "source": [
    "sizes = [40000, 80000, 120000, 160000]"
   ]
  },
  {
   "cell_type": "code",
   "execution_count": 42,
   "id": "03e3efe8-43b9-4ccb-8a3a-bc3d84707559",
   "metadata": {},
   "outputs": [],
   "source": [
    "fig = plt.figure(figsize=(10,7))\n",
    "ax = fig.add_subplot()\n",
    "plt.title(\"Parameters - Time\", fontsize=\"xx-large\")\n",
    "\n",
    "ax.set_ylabel(\"time (sec)\", fontsize=\"large\")\n",
    "ax.set_xlabel('Number of parameters', fontsize=\"large\")\n",
    "\n",
    "ax.plot(sizes, static_f_time, label='Static Function')\n",
    "ax.plot(sizes, adaptive_f_time, label='Adaptive Function')\n",
    "ax.plot(sizes, adaptive_nn_time, label='Adaptive NN')\n",
    "ax.plot(sizes, adaptive_conv_nn_time, label='Adaptive Conv NN')\n",
    "\n",
    "plt.xticks(sizes)\n",
    "    \n",
    "ax.legend()\n",
    "    \n",
    "plt.grid()\n",
    "plt.show()"
   ]
  },
  {
   "cell_type": "code",
   "execution_count": 43,
   "id": "624804de-8737-4723-91d0-4cb05c5d1862",
   "metadata": {},
   "outputs": [
    {
     "ename": "NameError",
     "evalue": "name 'name' is not defined",
     "output_type": "error",
     "traceback": [
      "\u001b[0;31m---------------------------------------------------------------------------\u001b[0m",
      "\u001b[0;31mNameError\u001b[0m                                 Traceback (most recent call last)",
      "Cell \u001b[0;32mIn[43], line 3\u001b[0m\n\u001b[1;32m      1\u001b[0m workbook \u001b[38;5;241m=\u001b[39m xlsxwriter\u001b[38;5;241m.\u001b[39mWorkbook(\u001b[38;5;124m'\u001b[39m\u001b[38;5;124mtime_measurements.xlsx\u001b[39m\u001b[38;5;124m'\u001b[39m)\n\u001b[1;32m      2\u001b[0m parameters_num \u001b[38;5;241m=\u001b[39m [\u001b[38;5;241m40000\u001b[39m, \u001b[38;5;241m80000\u001b[39m, \u001b[38;5;241m120000\u001b[39m, \u001b[38;5;241m160000\u001b[39m] \n\u001b[0;32m----> 3\u001b[0m worksheet \u001b[38;5;241m=\u001b[39m workbook\u001b[38;5;241m.\u001b[39madd_worksheet(\u001b[43mname\u001b[49m)\n\u001b[1;32m      5\u001b[0m worksheet\u001b[38;5;241m.\u001b[39mwrite(\u001b[38;5;241m1\u001b[39m, \u001b[38;5;241m1\u001b[39m, \u001b[38;5;124m\"\u001b[39m\u001b[38;5;124mNumber of parameters\u001b[39m\u001b[38;5;124m\"\u001b[39m)\n\u001b[1;32m      6\u001b[0m worksheet\u001b[38;5;241m.\u001b[39mwrite(\u001b[38;5;241m1\u001b[39m, \u001b[38;5;241m2\u001b[39m, \u001b[38;5;124m\"\u001b[39m\u001b[38;5;124mStatic Function\u001b[39m\u001b[38;5;124m\"\u001b[39m)\n",
      "\u001b[0;31mNameError\u001b[0m: name 'name' is not defined"
     ]
    }
   ],
   "source": [
    "workbook = xlsxwriter.Workbook('time_measurements.xlsx')\n",
    "parameters_num = [40000, 80000, 120000, 160000] \n",
    "worksheet = workbook.add_worksheet('time_measurements')\n",
    "    \n",
    "worksheet.write(1, 1, \"Number of parameters\")\n",
    "worksheet.write(1, 2, \"Static Function\")\n",
    "worksheet.write(1, 3, \"Adaptive Function\")\n",
    "worksheet.write(1, 4, \"Adaptive NN\")\n",
    "worksheet.write(1, 5, \"Adaptive Conv NN\")\n",
    "    \n",
    "for i in range(0, len(parameters_num)):\n",
    "    worksheet.write(2+i, 1, parameters_num[i])\n",
    "    worksheet.write(2+i, 2, static_f_time[0][i])\n",
    "    worksheet.write(2+i, 3, adaptive_f_time[0][i])\n",
    "    worksheet.write(2+i, 4, adaptive_nn_time[0][i])\n",
    "    worksheet.write(2+i, 5, adaptive_conv_nn_time[0][i])\n",
    " \n",
    "workbook.close()"
   ]
  },
  {
   "cell_type": "code",
   "execution_count": null,
   "id": "64034007-4fc2-4f3d-a1af-63ede29e19ce",
   "metadata": {},
   "outputs": [],
   "source": []
  }
 ],
 "metadata": {
  "kernelspec": {
   "display_name": "Python 3 (ipykernel)",
   "language": "python",
   "name": "python3"
  },
  "language_info": {
   "codemirror_mode": {
    "name": "ipython",
    "version": 3
   },
   "file_extension": ".py",
   "mimetype": "text/x-python",
   "name": "python",
   "nbconvert_exporter": "python",
   "pygments_lexer": "ipython3",
   "version": "3.9.16"
  }
 },
 "nbformat": 4,
 "nbformat_minor": 5
}
