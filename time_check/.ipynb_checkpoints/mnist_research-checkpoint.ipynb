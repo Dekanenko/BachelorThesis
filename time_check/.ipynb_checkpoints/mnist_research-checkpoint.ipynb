{
 "cells": [
  {
   "cell_type": "code",
   "execution_count": 1,
   "id": "e1def1c8",
   "metadata": {},
   "outputs": [],
   "source": [
    "import tensorflow as tf\n",
    "tf.config.experimental.set_visible_devices([], 'GPU')\n",
    "from tensorflow import keras\n",
    "import numpy as np\n",
    "import pandas as pd\n",
    "import matplotlib.pyplot as plt\n",
    "import xlsxwriter\n",
    "\n",
    "from sklearn.datasets import fetch_openml\n",
    "\n",
    "# import module with layers\n",
    "import sys\n",
    "import os\n",
    "module_path = os.path.abspath(os.path.join('..'))\n",
    "if module_path not in sys.path:\n",
    "    sys.path.append(module_path+\"/model_module\")\n",
    "\n",
    "from adaptive_layer import *"
   ]
  },
  {
   "cell_type": "code",
   "execution_count": 2,
   "id": "ef3ae740",
   "metadata": {},
   "outputs": [],
   "source": [
    "tf.random.set_seed(5)\n",
    "np.random.seed(5)"
   ]
  },
  {
   "cell_type": "code",
   "execution_count": 3,
   "id": "f26c27cd",
   "metadata": {},
   "outputs": [],
   "source": [
    "def illustrate_train(name, y_label, static_f, adaptive_f, adaptive_nn, adaptive_conv_nn):\n",
    "    epochs = range(0, len(static_f))\n",
    "    fig = plt.figure(figsize=(10,7))\n",
    "    ax = fig.add_subplot()\n",
    "    plt.title(name, fontsize=\"xx-large\")\n",
    "\n",
    "    ax.set_ylabel(y_label, fontsize=\"large\")\n",
    "    ax.set_xlabel('Epochs', fontsize=\"large\")\n",
    "\n",
    "    ax.plot(epochs, static_f, label='Static Function')\n",
    "    ax.plot(epochs, adaptive_f, label='Adaptive Function')\n",
    "    ax.plot(epochs, adaptive_nn, label='Adaptive NN')\n",
    "    ax.plot(epochs, adaptive_conv_nn, label='Adaptive Conv NN')\n",
    "\n",
    "    ax.legend()\n",
    "    \n",
    "    plt.grid()\n",
    "    plt.show()"
   ]
  },
  {
   "cell_type": "code",
   "execution_count": 4,
   "id": "ab8cca84",
   "metadata": {},
   "outputs": [],
   "source": [
    "def illustrate_test(name, static_f, adaptive_f, adaptive_nn, adaptive_conv_nn):\n",
    "    fig = plt.figure(figsize=(10,7))\n",
    "    ax = fig.add_subplot()\n",
    "    \n",
    "    x = [\"Static Function\", \"Adaptive Function\", \"Adaptive NN\", \"Adaptive Conv NN\"]\n",
    "    y = [static_f, adaptive_f, adaptive_nn, adaptive_conv_nn]\n",
    "    \n",
    "    plt.title(name, fontsize=\"xx-large\")\n",
    "    ax.set_ylabel(\"Accuracy\", fontsize=\"large\")\n",
    "    \n",
    "    ax.bar(x, y)\n",
    "    \n",
    "    plt.grid()\n",
    "    plt.show()"
   ]
  },
  {
   "cell_type": "code",
   "execution_count": 5,
   "id": "a7b83af7",
   "metadata": {},
   "outputs": [],
   "source": [
    "workbook = xlsxwriter.Workbook('mnist_measurements.xlsx')"
   ]
  },
  {
   "cell_type": "code",
   "execution_count": 6,
   "id": "81260211",
   "metadata": {},
   "outputs": [],
   "source": [
    "def save_data(name, static_f_train, adaptive_f_train, adaptive_nn_train, adaptive_conv_nn_train, \n",
    "              static_f_test, adaptive_f_test, adaptive_nn_test, adaptive_conv_nn_test):\n",
    "    \n",
    "    epochs = len(static_f_train[0][:])\n",
    "    worksheet = workbook.add_worksheet(name)\n",
    "    \n",
    "    worksheet.write(1, 1, name + \" Training Loss\")\n",
    "    worksheet.write(1, 7, name + \" Training Accuracy\")\n",
    "    worksheet.write(1, 13, name + \" Test Accuracy\")\n",
    "    \n",
    "    worksheet.write(2, 1, \"Epochs\")\n",
    "    worksheet.write(2, 2, \"Static Function\")\n",
    "    worksheet.write(2, 3, \"Adaptive Function\")\n",
    "    worksheet.write(2, 4, \"Adaptive NN\")\n",
    "    worksheet.write(2, 5, \"Adaptive Conv NN\")\n",
    "    \n",
    "    worksheet.write(2, 7, \"Epochs\")\n",
    "    worksheet.write(2, 8, \"Static Function\")\n",
    "    worksheet.write(2, 9, \"Adaptive Function\")\n",
    "    worksheet.write(2, 10, \"Adaptive NN\")\n",
    "    worksheet.write(2, 11, \"Adaptive Conv NN\")\n",
    "    \n",
    "    worksheet.write(2, 13, \"Static Function\")\n",
    "    worksheet.write(2, 14, \"Adaptive Function\")\n",
    "    worksheet.write(2, 15, \"Adaptive NN\")\n",
    "    worksheet.write(2, 16, \"Adaptive Conv NN\")\n",
    "    \n",
    "    worksheet.write(3, 13, static_f_test)\n",
    "    worksheet.write(3, 14, adaptive_f_test)\n",
    "    worksheet.write(3, 15, adaptive_nn_test)\n",
    "    worksheet.write(3, 16, adaptive_conv_nn_test)\n",
    "    \n",
    "    for i in range(0, epochs):\n",
    "        worksheet.write(3+i, 1, i+1)\n",
    "        worksheet.write(3+i, 2, static_f_train[0][i])\n",
    "        worksheet.write(3+i, 3, adaptive_f_train[0][i])\n",
    "        worksheet.write(3+i, 4, adaptive_nn_train[0][i])\n",
    "        worksheet.write(3+i, 5, adaptive_conv_nn_train[0][i])\n",
    "        \n",
    "        worksheet.write(3+i, 7, i+1)\n",
    "        worksheet.write(3+i, 8, static_f_train[1][i])\n",
    "        worksheet.write(3+i, 9, adaptive_f_train[1][i])\n",
    "        worksheet.write(3+i, 10, adaptive_nn_train[1][i])\n",
    "        worksheet.write(3+i, 11, adaptive_conv_nn_train[1][i])\n",
    "    \n",
    "    workbook.close()"
   ]
  },
  {
   "cell_type": "code",
   "execution_count": 5,
   "id": "4965b33a",
   "metadata": {},
   "outputs": [],
   "source": [
    "# dataset\n",
    "\n",
    "mnist = fetch_openml('mnist_784', version=1, as_frame=False)\n",
    "X, y = mnist['data'], mnist['target']\n",
    "\n",
    "y = y.astype(np.uint8)\n",
    "X_scale = X/255\n",
    "x_train, x_test, y_train, y_test = X_scale[:60000], X_scale[60000:], y[:60000], y[60000:]\n",
    "y_train = keras.utils.to_categorical(y_train, 10)\n",
    "y_test = keras.utils.to_categorical(y_test, 10)"
   ]
  },
  {
   "cell_type": "code",
   "execution_count": 6,
   "id": "acfbf2db",
   "metadata": {},
   "outputs": [],
   "source": [
    "EPOCHS = 10\n",
    "name = \"Hand-written Digits\"\n",
    "\n",
    "# measurement repetitions\n",
    "flag = measurements = 3\n",
    "\n",
    "static_f_hist = np.zeros(shape=[2, EPOCHS])\n",
    "adaptive_f_hist = np.zeros(shape=[2, EPOCHS])\n",
    "adaptive_nn_hist = np.zeros(shape=[2, EPOCHS])\n",
    "adaptive_conv_nn_hist = np.zeros(shape=[2, EPOCHS])\n",
    "\n",
    "static_f_test = 0\n",
    "adaptive_f_test = 0\n",
    "adaptive_nn_test = 0\n",
    "adaptive_conv_nn_test = 0"
   ]
  },
  {
   "cell_type": "code",
   "execution_count": null,
   "id": "9e99d616",
   "metadata": {},
   "outputs": [],
   "source": []
  },
  {
   "cell_type": "code",
   "execution_count": 7,
   "id": "8df7f88c",
   "metadata": {},
   "outputs": [],
   "source": [
    "static_f_model = keras.Sequential([\n",
    "    keras.layers.Dense(100, activation=\"relu\"),\n",
    "    keras.layers.Dense(10, activation=\"softmax\")\n",
    "])"
   ]
  },
  {
   "cell_type": "code",
   "execution_count": 8,
   "id": "55a602e2",
   "metadata": {},
   "outputs": [],
   "source": [
    "adaptive_f_model = keras.Sequential([\n",
    "    keras.layers.Dense(100, activation=tf.nn.swish),\n",
    "    keras.layers.Dense(10, activation=\"softmax\")\n",
    "])"
   ]
  },
  {
   "cell_type": "code",
   "execution_count": 9,
   "id": "99177453",
   "metadata": {},
   "outputs": [],
   "source": [
    "# Adaptive Layer\n",
    "adaptive_nn_model = AdaptiveModel([\n",
    "    AdaptiveLayer(100, structure=[5, 1], inner_hidden_activation=tf.nn.relu, \n",
    "                  inner_out_activation=tf.nn.leaky_relu, skip_w=0.5),\n",
    "    AdaptiveLayer(10, structure=[5, 1], inner_hidden_activation=tf.nn.relu, \n",
    "                  inner_out_activation=tf.nn.softmax, skip_w=0.5)\n",
    "])"
   ]
  },
  {
   "cell_type": "code",
   "execution_count": 10,
   "id": "ddfa62fe",
   "metadata": {},
   "outputs": [],
   "source": [
    "# Adaptive Layer based on 1D Conv\n",
    "adaptive_conv_nn_model = AdaptiveModel([\n",
    "    AdaptiveLayerConv(100, structure=[128, 4], split=1, inner_hidden_activation=tf.nn.tanh,\n",
    "                  inner_out_activation=tf.nn.relu),\n",
    "    AdaptiveLayerConv(10, structure=[64, 32], split=5, inner_hidden_activation=tf.nn.leaky_relu,\n",
    "                  inner_out_activation=tf.nn.softmax)\n",
    "])"
   ]
  },
  {
   "cell_type": "code",
   "execution_count": 11,
   "id": "38652992",
   "metadata": {},
   "outputs": [],
   "source": [
    "static_f_model.compile(optimizer=tf.optimizers.legacy.Adam(learning_rate=0.001), \n",
    "                       loss=\"categorical_crossentropy\", metrics=['accuracy'])"
   ]
  },
  {
   "cell_type": "code",
   "execution_count": 12,
   "id": "244180f9",
   "metadata": {},
   "outputs": [],
   "source": [
    "adaptive_f_model.compile(optimizer=tf.optimizers.legacy.Adam(learning_rate=0.001), \n",
    "                       loss=\"categorical_crossentropy\", metrics=['accuracy'])"
   ]
  },
  {
   "cell_type": "code",
   "execution_count": 13,
   "id": "ca5dd089",
   "metadata": {},
   "outputs": [],
   "source": [
    "adaptive_nn_model.compile(optimizer=tf.optimizers.legacy.Adam(learning_rate=0.001), \n",
    "                       loss=\"categorical_crossentropy\", metrics=['accuracy'])"
   ]
  },
  {
   "cell_type": "code",
   "execution_count": 14,
   "id": "dc0a4b48",
   "metadata": {},
   "outputs": [],
   "source": [
    "adaptive_conv_nn_model.compile(optimizer=tf.optimizers.legacy.Adam(learning_rate=0.001), \n",
    "                       loss=\"categorical_crossentropy\", metrics=['accuracy'])"
   ]
  },
  {
   "cell_type": "code",
   "execution_count": 15,
   "id": "ee6ac750",
   "metadata": {},
   "outputs": [
    {
     "name": "stdout",
     "output_type": "stream",
     "text": [
      "Epoch 1/10\n",
      "938/938 [==============================] - 1s 646us/step - loss: 0.3145 - accuracy: 0.9133\n",
      "Epoch 2/10\n",
      "938/938 [==============================] - 1s 661us/step - loss: 0.1430 - accuracy: 0.9589\n",
      "Epoch 3/10\n",
      "938/938 [==============================] - 1s 635us/step - loss: 0.1019 - accuracy: 0.9700\n",
      "Epoch 4/10\n",
      "938/938 [==============================] - 1s 581us/step - loss: 0.0791 - accuracy: 0.9765\n",
      "Epoch 5/10\n",
      "938/938 [==============================] - 1s 586us/step - loss: 0.0626 - accuracy: 0.9821\n",
      "Epoch 6/10\n",
      "938/938 [==============================] - 1s 581us/step - loss: 0.0521 - accuracy: 0.9847\n",
      "Epoch 7/10\n",
      "938/938 [==============================] - 1s 599us/step - loss: 0.0432 - accuracy: 0.9874\n",
      "Epoch 8/10\n",
      "938/938 [==============================] - 1s 608us/step - loss: 0.0355 - accuracy: 0.9898\n",
      "Epoch 9/10\n",
      "938/938 [==============================] - 1s 608us/step - loss: 0.0293 - accuracy: 0.9915\n",
      "Epoch 10/10\n",
      "938/938 [==============================] - 1s 748us/step - loss: 0.0254 - accuracy: 0.9926\n"
     ]
    }
   ],
   "source": [
    "hist = static_f_model.fit(x_train, y_train, epochs=EPOCHS, batch_size=64)"
   ]
  },
  {
   "cell_type": "code",
   "execution_count": 16,
   "id": "fece44b0",
   "metadata": {},
   "outputs": [],
   "source": [
    "static_f_hist[0][:] += np.array(hist.history[\"loss\"])/measurements\n",
    "static_f_hist[1][:] += np.array(hist.history[\"accuracy\"])/measurements"
   ]
  },
  {
   "cell_type": "code",
   "execution_count": 17,
   "id": "8c508df0",
   "metadata": {},
   "outputs": [
    {
     "name": "stdout",
     "output_type": "stream",
     "text": [
      "Epoch 1/10\n",
      "938/938 [==============================] - 1s 623us/step - loss: 0.3311 - accuracy: 0.9090\n",
      "Epoch 2/10\n",
      "938/938 [==============================] - 1s 645us/step - loss: 0.1582 - accuracy: 0.9552\n",
      "Epoch 3/10\n",
      "938/938 [==============================] - 1s 671us/step - loss: 0.1111 - accuracy: 0.9682\n",
      "Epoch 4/10\n",
      "938/938 [==============================] - 1s 640us/step - loss: 0.0848 - accuracy: 0.9753\n",
      "Epoch 5/10\n",
      "938/938 [==============================] - 1s 611us/step - loss: 0.0663 - accuracy: 0.9807\n",
      "Epoch 6/10\n",
      "938/938 [==============================] - 1s 665us/step - loss: 0.0548 - accuracy: 0.9837\n",
      "Epoch 7/10\n",
      "938/938 [==============================] - 1s 649us/step - loss: 0.0442 - accuracy: 0.9872\n",
      "Epoch 8/10\n",
      "938/938 [==============================] - 1s 619us/step - loss: 0.0361 - accuracy: 0.9893\n",
      "Epoch 9/10\n",
      "938/938 [==============================] - 1s 660us/step - loss: 0.0295 - accuracy: 0.9913\n",
      "Epoch 10/10\n",
      "938/938 [==============================] - 1s 607us/step - loss: 0.0250 - accuracy: 0.9929\n"
     ]
    }
   ],
   "source": [
    "hist = adaptive_f_model.fit(x_train, y_train, epochs=EPOCHS, batch_size=64)"
   ]
  },
  {
   "cell_type": "code",
   "execution_count": 18,
   "id": "a562778c",
   "metadata": {},
   "outputs": [],
   "source": [
    "adaptive_f_hist[0][:] += np.array(hist.history[\"loss\"])/measurements\n",
    "adaptive_f_hist[1][:] += np.array(hist.history[\"accuracy\"])/measurements"
   ]
  },
  {
   "cell_type": "code",
   "execution_count": 19,
   "id": "61fe894f",
   "metadata": {},
   "outputs": [
    {
     "name": "stdout",
     "output_type": "stream",
     "text": [
      "Epoch 1/10\n",
      "938/938 [==============================] - 1s 1ms/step - loss: 0.3800 - accuracy: 0.8903\n",
      "Epoch 2/10\n",
      "938/938 [==============================] - 1s 1ms/step - loss: 0.1386 - accuracy: 0.9593\n",
      "Epoch 3/10\n",
      "938/938 [==============================] - 1s 1ms/step - loss: 0.0989 - accuracy: 0.9701\n",
      "Epoch 4/10\n",
      "938/938 [==============================] - 1s 1ms/step - loss: 0.0774 - accuracy: 0.9756\n",
      "Epoch 5/10\n",
      "938/938 [==============================] - 1s 1ms/step - loss: 0.0628 - accuracy: 0.9804\n",
      "Epoch 6/10\n",
      "938/938 [==============================] - 1s 1ms/step - loss: 0.0538 - accuracy: 0.9832\n",
      "Epoch 7/10\n",
      "938/938 [==============================] - 1s 1ms/step - loss: 0.0456 - accuracy: 0.9856\n",
      "Epoch 8/10\n",
      "938/938 [==============================] - 1s 1ms/step - loss: 0.0408 - accuracy: 0.9868\n",
      "Epoch 9/10\n",
      "938/938 [==============================] - 1s 1ms/step - loss: 0.0349 - accuracy: 0.9887\n",
      "Epoch 10/10\n",
      "938/938 [==============================] - 1s 1ms/step - loss: 0.0304 - accuracy: 0.9904\n"
     ]
    }
   ],
   "source": [
    "hist = adaptive_nn_model.fit(x_train, y_train, epochs=EPOCHS, batch_size=64)"
   ]
  },
  {
   "cell_type": "code",
   "execution_count": 20,
   "id": "e8f541f1",
   "metadata": {},
   "outputs": [],
   "source": [
    "adaptive_nn_hist[0][:] += np.array(hist.history[\"loss\"])/measurements\n",
    "adaptive_nn_hist[1][:] += np.array(hist.history[\"accuracy\"])/measurements"
   ]
  },
  {
   "cell_type": "code",
   "execution_count": 21,
   "id": "3cfa80f9",
   "metadata": {},
   "outputs": [
    {
     "name": "stdout",
     "output_type": "stream",
     "text": [
      "Epoch 1/10\n",
      "938/938 [==============================] - 2s 2ms/step - loss: 0.3416 - accuracy: 0.8999\n",
      "Epoch 2/10\n",
      "938/938 [==============================] - 2s 2ms/step - loss: 0.1400 - accuracy: 0.9572\n",
      "Epoch 3/10\n",
      "938/938 [==============================] - 2s 2ms/step - loss: 0.0997 - accuracy: 0.9686\n",
      "Epoch 4/10\n",
      "938/938 [==============================] - 2s 2ms/step - loss: 0.0777 - accuracy: 0.9756\n",
      "Epoch 5/10\n",
      "938/938 [==============================] - 2s 2ms/step - loss: 0.0626 - accuracy: 0.9801\n",
      "Epoch 6/10\n",
      "938/938 [==============================] - 2s 2ms/step - loss: 0.0523 - accuracy: 0.9835\n",
      "Epoch 7/10\n",
      "938/938 [==============================] - 2s 2ms/step - loss: 0.0444 - accuracy: 0.9857\n",
      "Epoch 8/10\n",
      "938/938 [==============================] - 2s 2ms/step - loss: 0.0382 - accuracy: 0.9878\n",
      "Epoch 9/10\n",
      "938/938 [==============================] - 2s 2ms/step - loss: 0.0318 - accuracy: 0.9897\n",
      "Epoch 10/10\n",
      "938/938 [==============================] - 2s 2ms/step - loss: 0.0295 - accuracy: 0.9898\n"
     ]
    }
   ],
   "source": [
    "hist = adaptive_conv_nn_model.fit(x_train, y_train, epochs=EPOCHS, batch_size=64)"
   ]
  },
  {
   "cell_type": "code",
   "execution_count": 22,
   "id": "cc4d7788",
   "metadata": {},
   "outputs": [],
   "source": [
    "adaptive_conv_nn_hist[0][:] += np.array(hist.history[\"loss\"])/measurements\n",
    "adaptive_conv_nn_hist[1][:] += np.array(hist.history[\"accuracy\"])/measurements"
   ]
  },
  {
   "cell_type": "code",
   "execution_count": 23,
   "id": "df20e870",
   "metadata": {},
   "outputs": [
    {
     "name": "stdout",
     "output_type": "stream",
     "text": [
      "313/313 [==============================] - 0s 374us/step - loss: 0.0752 - accuracy: 0.9769\n"
     ]
    }
   ],
   "source": [
    "static_f_test += static_f_model.evaluate(x_test, y_test)[1]/measurements"
   ]
  },
  {
   "cell_type": "code",
   "execution_count": 24,
   "id": "5cc36cc4",
   "metadata": {},
   "outputs": [
    {
     "name": "stdout",
     "output_type": "stream",
     "text": [
      "313/313 [==============================] - 0s 387us/step - loss: 0.0746 - accuracy: 0.9796\n"
     ]
    }
   ],
   "source": [
    "adaptive_f_test += adaptive_f_model.evaluate(x_test, y_test)[1]/measurements"
   ]
  },
  {
   "cell_type": "code",
   "execution_count": 25,
   "id": "19df7397",
   "metadata": {},
   "outputs": [
    {
     "name": "stdout",
     "output_type": "stream",
     "text": [
      "313/313 [==============================] - 0s 536us/step - loss: 0.1078 - accuracy: 0.9723\n"
     ]
    }
   ],
   "source": [
    "adaptive_nn_test += adaptive_nn_model.evaluate(x_test, y_test)[1]/measurements"
   ]
  },
  {
   "cell_type": "code",
   "execution_count": 26,
   "id": "ce1aae25",
   "metadata": {},
   "outputs": [
    {
     "name": "stdout",
     "output_type": "stream",
     "text": [
      "313/313 [==============================] - 0s 570us/step - loss: 0.1039 - accuracy: 0.9744\n",
      "---------FINISH---------\n"
     ]
    }
   ],
   "source": [
    "adaptive_conv_nn_test += adaptive_conv_nn_model.evaluate(x_test, y_test)[1]/measurements\n",
    "flag -= 1\n",
    "if(flag == 0):\n",
    "    print(\"---------FINISH---------\")"
   ]
  },
  {
   "cell_type": "code",
   "execution_count": null,
   "id": "45e08645",
   "metadata": {},
   "outputs": [],
   "source": []
  },
  {
   "cell_type": "code",
   "execution_count": 27,
   "id": "bc1dda17",
   "metadata": {},
   "outputs": [
    {
     "name": "stdout",
     "output_type": "stream",
     "text": [
      "Static Function model\n",
      "Test accuracy :  0.9768999814987183\n",
      "\n",
      "Adaptive Function model\n",
      "Test accuracy :  0.9796000123023987\n",
      "\n",
      "Adaptive NN model\n",
      "Test accuracy :  0.9722999930381775\n",
      "\n",
      "Adaptive Conv NN model\n",
      "Test accuracy :  0.974399983882904\n"
     ]
    }
   ],
   "source": [
    "print(\"Static Function model\\nTest accuracy : \", static_f_test)\n",
    "print(\"\\nAdaptive Function model\\nTest accuracy : \", adaptive_f_test)\n",
    "print(\"\\nAdaptive NN model\\nTest accuracy : \", adaptive_nn_test)\n",
    "print(\"\\nAdaptive Conv NN model\\nTest accuracy : \", adaptive_conv_nn_test)"
   ]
  },
  {
   "cell_type": "code",
   "execution_count": 28,
   "id": "49fe6589",
   "metadata": {},
   "outputs": [
    {
     "data": {
      "image/png": "[encoded data removed]",
      "text/plain": [
       "<Figure size 720x504 with 1 Axes>"
      ]
     },
     "metadata": {
      "needs_background": "light"
     },
     "output_type": "display_data"
    }
   ],
   "source": [
    "illustrate_train(name+\" Training Loss\", \"Loss\", static_f_hist[0][:], \n",
    "                 adaptive_f_hist[0][:], adaptive_nn_hist[0][:], adaptive_conv_nn_hist[0][:])"
   ]
  },
  {
   "cell_type": "code",
   "execution_count": 29,
   "id": "2ed4731a",
   "metadata": {},
   "outputs": [
    {
     "data": {
      "image/png": "[encoded data removed]",
      "text/plain": [
       "<Figure size 720x504 with 1 Axes>"
      ]
     },
     "metadata": {
      "needs_background": "light"
     },
     "output_type": "display_data"
    }
   ],
   "source": [
    "illustrate_train(name + \" Training Accuracy\", \"Accuracy\", static_f_hist[1][:], \n",
    "                 adaptive_f_hist[1][:], adaptive_nn_hist[1][:], adaptive_conv_nn_hist[1][:])"
   ]
  },
  {
   "cell_type": "code",
   "execution_count": 30,
   "id": "8385dc4e",
   "metadata": {},
   "outputs": [
    {
     "data": {
      "image/png": "[encoded data removed]",
      "text/plain": [
       "<Figure size 720x504 with 1 Axes>"
      ]
     },
     "metadata": {
      "needs_background": "light"
     },
     "output_type": "display_data"
    }
   ],
   "source": [
    "illustrate_test(name + \" Test Accuracy\", \n",
    "                static_f_test, adaptive_f_test, adaptive_nn_test, adaptive_conv_nn_test)"
   ]
  },
  {
   "cell_type": "code",
   "execution_count": 76,
   "id": "309eb3d1",
   "metadata": {},
   "outputs": [],
   "source": [
    "save_data(name, static_f_hist, adaptive_f_hist, adaptive_nn_hist, \n",
    "          adaptive_conv_nn_hist, static_f_test, adaptive_f_test, adaptive_nn_test, adaptive_conv_nn_test)"
   ]
  },
  {
   "cell_type": "code",
   "execution_count": null,
   "id": "07533a8c",
   "metadata": {},
   "outputs": [],
   "source": []
  }
 ],
 "metadata": {
  "kernelspec": {
   "display_name": "Python 3 (ipykernel)",
   "language": "python",
   "name": "python3"
  },
  "language_info": {
   "codemirror_mode": {
    "name": "ipython",
    "version": 3
   },
   "file_extension": ".py",
   "mimetype": "text/x-python",
   "name": "python",
   "nbconvert_exporter": "python",
   "pygments_lexer": "ipython3",
   "version": "3.9.5"
  }
 },
 "nbformat": 4,
 "nbformat_minor": 5
}
