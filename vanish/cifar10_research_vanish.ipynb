{
 "cells": [
  {
   "cell_type": "code",
   "execution_count": 1,
   "id": "e1def1c8",
   "metadata": {},
   "outputs": [],
   "source": [
    "import tensorflow as tf\n",
    "tf.config.experimental.set_visible_devices([], 'GPU')\n",
    "from tensorflow import keras\n",
    "import numpy as np\n",
    "import pandas as pd\n",
    "import matplotlib.pyplot as plt\n",
    "import xlsxwriter\n",
    "\n",
    "from tensorflow.keras.datasets import cifar10"
   ]
  },
  {
   "cell_type": "code",
   "execution_count": 2,
   "id": "ef3ae740",
   "metadata": {},
   "outputs": [],
   "source": [
    "tf.random.set_seed(5)\n",
    "np.random.seed(5)"
   ]
  },
  {
   "cell_type": "code",
   "execution_count": 80,
   "id": "c84eb840",
   "metadata": {},
   "outputs": [],
   "source": [
    "workbook = xlsxwriter.Workbook('vanish_measurements.xlsx')\n",
    "worksheet = workbook.add_worksheet(\"vanish test\")\n",
    "sp = [1]"
   ]
  },
  {
   "cell_type": "code",
   "execution_count": 81,
   "id": "5a8eee4d",
   "metadata": {},
   "outputs": [],
   "source": [
    "def save_data(name, initial, one_e, ten_e):    \n",
    "    worksheet.write(1, sp[0], name)\n",
    "    worksheet.write(2, sp[0], \"initial\")\n",
    "    worksheet.write(3, sp[0], \"1st epoch\")\n",
    "    worksheet.write(4, sp[0], \"Cumulative change\")\n",
    "    worksheet.write(5, sp[0], \"10th epoch\")\n",
    "    worksheet.write(6, sp[0], \"Cumulative change\")\n",
    "    \n",
    "    sp[0] += 1\n",
    "    \n",
    "    for i in range(len(initial)):\n",
    "        worksheet.write(2, sp[0]+i, initial[i])\n",
    "        worksheet.write(3, sp[0]+i, one_e[i])\n",
    "        worksheet.write(4, sp[0]+i, np.abs(one_e[i] - initial[i]))\n",
    "        worksheet.write(4, sp[0]+i+1, np.sum(np.abs(one_e[:] - initial[:])))\n",
    "        worksheet.write(5, sp[0]+i, ten_e[i])\n",
    "        worksheet.write(6, sp[0]+i, np.abs(ten_e[i] - initial[i]))\n",
    "        worksheet.write(6, sp[0]+i+1, np.sum(np.abs(ten_e[:] - initial[:])))\n",
    "        \n",
    "    sp[0] += len(initial)+2"
   ]
  },
  {
   "cell_type": "code",
   "execution_count": 6,
   "id": "39f5cb21",
   "metadata": {},
   "outputs": [],
   "source": [
    "class AdaptiveLayer(keras.layers.Layer):\n",
    "    \n",
    "    def __init__(self, units, structure=[2, 2], inner_hidden_activation=tf.nn.tanh, \n",
    "                 inner_out_activation=lambda x : x, skip_w=0.0):\n",
    "        super().__init__()\n",
    "        self.units = units\n",
    "        self.structure = structure\n",
    "        if structure[-1] != 1:\n",
    "            self.structure.append(1)\n",
    "        self.inner_hidden_activation = inner_hidden_activation\n",
    "        self.inner_out_activation = inner_out_activation\n",
    "        self.skip_w = skip_w\n",
    "        \n",
    "        \n",
    "    def build(self, input_shape):\n",
    "        self.outer_w = self.add_weight(shape=(input_shape[-1], self.units), initializer=\"random_normal\")\n",
    "        self.outer_b = self.add_weight(shape=(self.units), initializer=\"zeros\")\n",
    "        \n",
    "        self.inner_w = []\n",
    "        self.inner_b = []\n",
    "        for i in range(len(self.structure)):\n",
    "            if i == 0:\n",
    "                self.inner_w.append(self.add_weight(shape=(self.units, 1, self.structure[i]), \n",
    "                                          initializer=tf.initializers.random_normal(stddev=1.5)))\n",
    "            else:\n",
    "                self.inner_w.append(self.add_weight(shape=(self.units, self.structure[i-1], self.structure[i]), \n",
    "                                          initializer=tf.initializers.random_normal(stddev=0.9)))\n",
    "            \n",
    "            self.inner_b.append(self.add_weight(shape=(self.units, 1, self.structure[i]), initializer=\"zeros\"))\n",
    "   \n",
    "\n",
    "    def call(self, inputs):\n",
    "        z = inputs @ self.outer_w + self.outer_b\n",
    "        a = tf.expand_dims(tf.transpose(z), axis=-1)\n",
    "        \n",
    "        for i in range(len(self.structure)-1):\n",
    "            a = a @ self.inner_w[i] + self.inner_b[i]\n",
    "            a = self.inner_hidden_activation(a)\n",
    "        \n",
    "        a = a @ self.inner_w[-1] + self.inner_b[-1]\n",
    "        \n",
    "        a = tf.reshape(tf.transpose(a), shape=(len(inputs), self.units))\n",
    "        a = self.inner_out_activation(a+z*self.skip_w)\n",
    "        \n",
    "        return a\n",
    "        \n",
    "\n",
    "    def activation_show(self, inputs):\n",
    "        inner_z = tf.cast(tf.expand_dims(tf.transpose(inputs), axis=-1), dtype=tf.float32)\n",
    "        a = tf.expand_dims(tf.transpose(inner_z), axis=-1)\n",
    "        \n",
    "        for i in range(len(self.structure)-1):\n",
    "            a = a @ self.inner_w[i] + self.inner_b[i]\n",
    "            a = self.inner_hidden_activation(a)\n",
    "        \n",
    "        a = a @ self.inner_w[-1] + self.inner_b[-1]\n",
    "        \n",
    "        a = tf.reshape(tf.transpose(a), shape=(len(inputs), self.units))\n",
    "        a = self.inner_out_activation(a)\n",
    "        \n",
    "        return a"
   ]
  },
  {
   "cell_type": "code",
   "execution_count": 7,
   "id": "4850c5a4",
   "metadata": {},
   "outputs": [],
   "source": [
    "class AdaptiveLayerConv(keras.layers.Layer):\n",
    "    \n",
    "    def __init__(self, units, structure=[4, 8], split=2, inner_hidden_activation=tf.nn.tanh, \n",
    "                 inner_out_activation=lambda x : x, skip_w=0.9, noise=0.0):\n",
    "        super().__init__()\n",
    "        self.units = units\n",
    "        self.structure = structure\n",
    "        self.split = split\n",
    "        self.inner_hidden_activation = inner_hidden_activation\n",
    "        self.inner_out_activation = inner_out_activation\n",
    "        self.skip_w = skip_w\n",
    "        self.noise = noise\n",
    "        \n",
    "        \n",
    "    def build(self, input_shape):\n",
    "        \n",
    "        self.outer_w = []\n",
    "        self.outer_b = []\n",
    "        \n",
    "        for i in range(0, self.split):\n",
    "            self.outer_w.append(self.add_weight(shape=(input_shape[-1], self.units), \n",
    "                                                 initializer=\"random_normal\"))\n",
    "            self.outer_b.append(self.add_weight(shape=(self.units), initializer=\"zeros\"))\n",
    "        \n",
    "        self.inner_conv = []\n",
    "        for i in range(0, len(self.structure)):\n",
    "            self.inner_conv.append(keras.layers.Conv1D(self.structure[i], 1, \n",
    "                                                       activation=self.inner_hidden_activation))\n",
    "            \n",
    "        self.inner_conv.append(keras.layers.AveragePooling1D(pool_size=self.split, data_format='channels_first'))      \n",
    "        self.inner_conv.append(keras.layers.Conv1D(self.units, 1)) \n",
    "\n",
    "   \n",
    "\n",
    "    def call(self, inputs):\n",
    "        z = []\n",
    "        for i in range(0, self.split):\n",
    "            noise = tf.random.truncated_normal(shape=(self.outer_b[i].shape))\n",
    "            z.append(inputs @ self.outer_w[i] + self.outer_b[i] + noise*self.noise)\n",
    "        \n",
    "        a = tf.cast(z, dtype=tf.float32)\n",
    "        z = tf.cast(z, dtype=tf.float32)\n",
    "        \n",
    "        for i in range(len(self.inner_conv)-2):\n",
    "            a = self.inner_conv[i](a)\n",
    "        \n",
    "        a = self.inner_conv[len(self.inner_conv)-2](tf.transpose(a))\n",
    "        a = self.inner_conv[len(self.inner_conv)-1](tf.transpose(a))\n",
    "    \n",
    "        a = tf.reshape(a, shape=(-1, self.units))\n",
    "        z_skip = tf.reduce_sum(z, axis=0)/self.split     \n",
    "        \n",
    "        a = self.inner_out_activation(a + z_skip*self.skip_w)\n",
    "        \n",
    "        return a    \n",
    "\n",
    "    def activation_show(self, inputs):\n",
    "        tmp = []\n",
    "        for i in range(0, self.units):\n",
    "            tmp.append(inputs)\n",
    "        \n",
    "        tmp = tf.cast(tmp, dtype=tf.float32)\n",
    "        a = tf.expand_dims(tf.transpose(tmp), axis=0)\n",
    "            \n",
    "        for i in range(len(self.inner_conv)-2):\n",
    "            a = self.inner_conv[i](a)\n",
    "             \n",
    "        a = self.inner_conv[len(self.inner_conv)-1](a)\n",
    "        a = tf.reshape(a, shape=(-1, self.units))\n",
    "        a = self.inner_out_activation(a)\n",
    "        \n",
    "        return a\n",
    "        \n"
   ]
  },
  {
   "cell_type": "code",
   "execution_count": 8,
   "id": "76e08ad2",
   "metadata": {},
   "outputs": [],
   "source": [
    "class AdaptiveModel(keras.Model):\n",
    "    \n",
    "    def __init__(self, l=[AdaptiveLayer(2), AdaptiveLayer(1)]):\n",
    "        super().__init__()\n",
    "        self.l = l\n",
    "\n",
    "    def call(self, inputs):\n",
    "        a = inputs\n",
    "        for layer in self.l:\n",
    "            a = layer(a)\n",
    "        \n",
    "        return a\n",
    "        \n",
    "    def activation_show(self, inputs):\n",
    "        y = []\n",
    "        \n",
    "        for layer in self.l:\n",
    "            tmp = layer.activation_show(inputs)\n",
    "            \n",
    "            for i in range(tmp.shape[-1]):\n",
    "                y.append(tmp[:, i])\n",
    "        \n",
    "        return y\n",
    "        "
   ]
  },
  {
   "cell_type": "code",
   "execution_count": 9,
   "id": "4965b33a",
   "metadata": {},
   "outputs": [],
   "source": [
    "# dataset\n",
    "\n",
    "(x_train, y_train), (x_test, y_test) = keras.datasets.cifar10.load_data()\n",
    "x_train = x_train/255\n",
    "x_test = x_test/255\n",
    "x_train = np.reshape(x_train, (x_train.shape[0], -1))\n",
    "x_test = np.reshape(x_test, (x_test.shape[0], -1))\n",
    "y_train = keras.utils.to_categorical(y_train, 10)\n",
    "y_test = keras.utils.to_categorical(y_test, 10)"
   ]
  },
  {
   "cell_type": "code",
   "execution_count": 10,
   "id": "8df7f88c",
   "metadata": {},
   "outputs": [],
   "source": [
    "static_f_model = keras.Sequential([\n",
    "    keras.layers.InputLayer(input_shape=(3072, )),\n",
    "    keras.layers.Dense(100, activation=\"relu\"),\n",
    "    keras.layers.Dense(50, activation=\"relu\"),\n",
    "    keras.layers.Dense(40, activation=\"relu\"),\n",
    "    keras.layers.Dense(20, activation=\"relu\"),\n",
    "    keras.layers.Dense(20, activation=\"relu\"),\n",
    "    keras.layers.Dense(10, activation=\"relu\"),\n",
    "    keras.layers.Dense(10, activation=\"softmax\"),\n",
    "])"
   ]
  },
  {
   "cell_type": "code",
   "execution_count": 11,
   "id": "55a602e2",
   "metadata": {},
   "outputs": [],
   "source": [
    "adaptive_f_model = keras.Sequential([\n",
    "    keras.layers.InputLayer(input_shape=(3072, )),\n",
    "    keras.layers.Dense(100, activation=tf.nn.swish),\n",
    "    keras.layers.Dense(50, activation=tf.nn.swish),\n",
    "    keras.layers.Dense(40, activation=tf.nn.swish),\n",
    "    keras.layers.Dense(20, activation=tf.nn.swish),\n",
    "    keras.layers.Dense(20, activation=tf.nn.swish),\n",
    "    keras.layers.Dense(10, activation=tf.nn.swish),\n",
    "    keras.layers.Dense(10, activation=\"softmax\"),\n",
    "])"
   ]
  },
  {
   "cell_type": "code",
   "execution_count": 65,
   "id": "99177453",
   "metadata": {},
   "outputs": [],
   "source": [
    "# Adaptive Layer (skip_connection-on)\n",
    "adaptive_nn_model = AdaptiveModel([\n",
    "    keras.layers.InputLayer(input_shape=(3072, )),\n",
    "    AdaptiveLayer(100, structure=[2, 1], inner_hidden_activation=tf.nn.relu, \n",
    "                  inner_out_activation=tf.nn.leaky_relu, skip_w=1.9), \n",
    "    AdaptiveLayer(50, structure=[4, 4, 1], inner_hidden_activation=tf.nn.relu, \n",
    "                  inner_out_activation=tf.nn.leaky_relu, skip_w=1.3), \n",
    "    AdaptiveLayer(40, structure=[4, 4, 1], inner_hidden_activation=tf.nn.relu, \n",
    "                  inner_out_activation=tf.nn.leaky_relu, skip_w=1.3), \n",
    "    AdaptiveLayer(20, structure=[4, 4, 1], inner_hidden_activation=tf.nn.relu, \n",
    "                  inner_out_activation=tf.nn.leaky_relu, skip_w=1.1),\n",
    "    AdaptiveLayer(20, structure=[4, 4, 1], inner_hidden_activation=tf.nn.relu, \n",
    "                  inner_out_activation=tf.nn.leaky_relu, skip_w=0.9), \n",
    "    AdaptiveLayer(10, structure=[4, 4, 1], inner_hidden_activation=tf.nn.relu, \n",
    "                  inner_out_activation=tf.nn.leaky_relu, skip_w=0.9), \n",
    "    AdaptiveLayer(10, structure=[8, 4, 1], inner_hidden_activation=tf.nn.relu, \n",
    "                 inner_out_activation=tf.nn.softmax, skip_w=0.9)\n",
    "])"
   ]
  },
  {
   "cell_type": "code",
   "execution_count": 43,
   "id": "57be6dae",
   "metadata": {},
   "outputs": [],
   "source": [
    "# Adaptive Layer (skip_connection-off)\n",
    "adaptive_nn_model_noskip = AdaptiveModel([\n",
    "    keras.layers.InputLayer(input_shape=(3072, )),\n",
    "    AdaptiveLayer(100, structure=[2, 1], inner_hidden_activation=tf.nn.relu, \n",
    "                  inner_out_activation=tf.nn.leaky_relu, skip_w=0), \n",
    "    AdaptiveLayer(50, structure=[4, 4, 1], inner_hidden_activation=tf.nn.relu, \n",
    "                  inner_out_activation=tf.nn.leaky_relu, skip_w=0), \n",
    "    AdaptiveLayer(40, structure=[4, 4, 1], inner_hidden_activation=tf.nn.relu, \n",
    "                  inner_out_activation=tf.nn.leaky_relu, skip_w=0), \n",
    "    AdaptiveLayer(20, structure=[4, 4, 1], inner_hidden_activation=tf.nn.relu, \n",
    "                  inner_out_activation=tf.nn.leaky_relu, skip_w=0),\n",
    "    AdaptiveLayer(20, structure=[4, 4, 1], inner_hidden_activation=tf.nn.relu, \n",
    "                  inner_out_activation=tf.nn.leaky_relu, skip_w=0), \n",
    "    AdaptiveLayer(10, structure=[4, 4, 1], inner_hidden_activation=tf.nn.relu, \n",
    "                  inner_out_activation=tf.nn.leaky_relu, skip_w=0), \n",
    "    AdaptiveLayer(10, structure=[8, 4, 1], inner_hidden_activation=tf.nn.relu, \n",
    "                 inner_out_activation=tf.nn.softmax, skip_w=0)\n",
    "])"
   ]
  },
  {
   "cell_type": "code",
   "execution_count": 44,
   "id": "ddfa62fe",
   "metadata": {},
   "outputs": [],
   "source": [
    "# Adaptive Layer based on 1D Conv (skip_connection-on)\n",
    "adaptive_conv_nn_model = AdaptiveModel([\n",
    "    keras.layers.InputLayer(input_shape=(3072, )),\n",
    "    AdaptiveLayerConv(100, structure=[32], split=1, noise=0, skip_w=1.9, \n",
    "                      inner_hidden_activation=tf.nn.leaky_relu, inner_out_activation=tf.nn.leaky_relu), \n",
    "    AdaptiveLayerConv(50, structure=[64], split=2, noise=0, skip_w=1.3, \n",
    "                      inner_hidden_activation=tf.nn.leaky_relu, inner_out_activation=tf.nn.leaky_relu),\n",
    "    AdaptiveLayerConv(40, structure=[64], split=2, noise=0, skip_w=1.3, \n",
    "                      inner_hidden_activation=tf.nn.leaky_relu, inner_out_activation=tf.nn.leaky_relu),\n",
    "    AdaptiveLayerConv(20, structure=[64], split=2, noise=0, skip_w=1.1, \n",
    "                      inner_hidden_activation=tf.nn.leaky_relu, inner_out_activation=tf.nn.leaky_relu),\n",
    "    AdaptiveLayerConv(20, structure=[64], split=2, noise=0, skip_w=0.9, \n",
    "                      inner_hidden_activation=tf.nn.leaky_relu, inner_out_activation=tf.nn.leaky_relu),\n",
    "    AdaptiveLayerConv(10, structure=[64], split=2, noise=0, skip_w=0.9, \n",
    "                      inner_hidden_activation=tf.nn.leaky_relu, inner_out_activation=tf.nn.leaky_relu),\n",
    "    AdaptiveLayerConv(10, structure=[128], split=3, noise=0, skip_w=0.9, \n",
    "                      inner_hidden_activation=tf.nn.leaky_relu, inner_out_activation=tf.nn.softmax) \n",
    "])"
   ]
  },
  {
   "cell_type": "code",
   "execution_count": 45,
   "id": "835efba5",
   "metadata": {},
   "outputs": [],
   "source": [
    "# Adaptive Layer based on 1D Conv (skip_connection-off)\n",
    "adaptive_conv_nn_model_noskip = AdaptiveModel([\n",
    "    keras.layers.InputLayer(input_shape=(3072, )),\n",
    "    AdaptiveLayerConv(100, structure=[32], split=1, noise=0, skip_w=0, \n",
    "                      inner_hidden_activation=tf.nn.leaky_relu, inner_out_activation=tf.nn.leaky_relu), \n",
    "    AdaptiveLayerConv(50, structure=[64], split=2, noise=0, skip_w=0, \n",
    "                      inner_hidden_activation=tf.nn.leaky_relu, inner_out_activation=tf.nn.leaky_relu),\n",
    "    AdaptiveLayerConv(40, structure=[64], split=2, noise=0, skip_w=0, \n",
    "                      inner_hidden_activation=tf.nn.leaky_relu, inner_out_activation=tf.nn.leaky_relu),\n",
    "    AdaptiveLayerConv(20, structure=[64], split=2, noise=0, skip_w=0, \n",
    "                      inner_hidden_activation=tf.nn.leaky_relu, inner_out_activation=tf.nn.leaky_relu),\n",
    "    AdaptiveLayerConv(20, structure=[64], split=2, noise=0, skip_w=0, \n",
    "                      inner_hidden_activation=tf.nn.leaky_relu, inner_out_activation=tf.nn.leaky_relu),\n",
    "    AdaptiveLayerConv(10, structure=[64], split=2, noise=0, skip_w=0, \n",
    "                      inner_hidden_activation=tf.nn.leaky_relu, inner_out_activation=tf.nn.leaky_relu),\n",
    "    AdaptiveLayerConv(10, structure=[128], split=3, noise=0, skip_w=0, \n",
    "                      inner_hidden_activation=tf.nn.leaky_relu, inner_out_activation=tf.nn.softmax) \n",
    "])"
   ]
  },
  {
   "cell_type": "code",
   "execution_count": 66,
   "id": "ff7a7ae2",
   "metadata": {},
   "outputs": [
    {
     "name": "stdout",
     "output_type": "stream",
     "text": [
      "313/313 [==============================] - 0s 859us/step\n",
      "313/313 [==============================] - 1s 1ms/step\n",
      "313/313 [==============================] - 0s 836us/step\n",
      "313/313 [==============================] - 1s 1ms/step\n"
     ]
    }
   ],
   "source": [
    "tmp = adaptive_nn_model.predict(x_test)\n",
    "tmp = adaptive_conv_nn_model.predict(x_test)\n",
    "tmp = adaptive_nn_model_noskip.predict(x_test)\n",
    "tmp = adaptive_conv_nn_model_noskip.predict(x_test)"
   ]
  },
  {
   "cell_type": "code",
   "execution_count": 67,
   "id": "461f7c09",
   "metadata": {},
   "outputs": [],
   "source": [
    "# initial_static_f_model_w = static_f_model.weights[0][0, 0:10]\n",
    "# initial_adaptive_f_model_w = adaptive_f_model.weights[0][0, 0:10]\n",
    "initial_adaptive_nn_model_w = adaptive_nn_model.weights[0][0, 0:10]\n",
    "# initial_adaptive_conv_nn_model_w = adaptive_conv_nn_model.weights[0][0, 0:10]\n",
    "# initial_adaptive_nn_model_w_noskip = adaptive_nn_model_noskip.weights[0][0, 0:10]\n",
    "# initial_adaptive_conv_nn_model_w_noskip = adaptive_conv_nn_model_noskip.weights[0][0, 0:10]"
   ]
  },
  {
   "cell_type": "code",
   "execution_count": 18,
   "id": "bf49e290",
   "metadata": {},
   "outputs": [
    {
     "name": "stdout",
     "output_type": "stream",
     "text": [
      "Initial\n",
      "Static fun : tf.Tensor(\n",
      "[-0.02639575  0.03312974 -0.00521431 -0.01736678  0.04001208  0.03889133\n",
      " -0.03063603  0.01337568 -0.01033268 -0.02156243], shape=(10,), dtype=float32) \n",
      "Adaptive fun :  tf.Tensor(\n",
      "[-0.01111929  0.02480051 -0.03394404  0.03879064 -0.00428951  0.00850152\n",
      "  0.00739829  0.04054184 -0.01352848  0.03779843], shape=(10,), dtype=float32) \n",
      "Adaptive NN :  tf.Tensor(\n",
      "[ 0.04076729 -0.03476807 -0.07974146  0.04353393  0.00626314 -0.09546327\n",
      "  0.1415981  -0.06426024 -0.03710301 -0.03714851], shape=(10,), dtype=float32) \n",
      "Adaptive Conv NN :  tf.Tensor(\n",
      "[ 0.03704462  0.04567838 -0.04318453  0.07491991  0.04731445 -0.02023408\n",
      " -0.05866965 -0.06612662  0.02800447  0.0218181 ], shape=(10,), dtype=float32) \n",
      "Adaptive NN (no skip):  tf.Tensor(\n",
      "[-0.0192234  -0.01829169 -0.01616429  0.1061985  -0.02222374 -0.09139032\n",
      "  0.08440258 -0.01981097 -0.02532266  0.00219273], shape=(10,), dtype=float32) \n",
      "Adaptive Conv NN (no skip):  tf.Tensor(\n",
      "[ 0.00452195 -0.00524835 -0.026572   -0.05998719  0.03012413  0.098274\n",
      " -0.00880882 -0.05091793  0.00368534  0.02556875], shape=(10,), dtype=float32)\n"
     ]
    }
   ],
   "source": [
    "print(\"Initial\\nStatic fun :\", initial_static_f_model_w, \"\\nAdaptive fun : \", initial_adaptive_f_model_w, \n",
    "      \"\\nAdaptive NN : \", initial_adaptive_nn_model_w, \"\\nAdaptive Conv NN : \", initial_adaptive_conv_nn_model_w,\n",
    "      \"\\nAdaptive NN (no skip): \", initial_adaptive_nn_model_w_noskip, \n",
    "      \"\\nAdaptive Conv NN (no skip): \", initial_adaptive_conv_nn_model_w_noskip)"
   ]
  },
  {
   "cell_type": "code",
   "execution_count": 19,
   "id": "38652992",
   "metadata": {},
   "outputs": [],
   "source": [
    "static_f_model.compile(optimizer=tf.optimizers.legacy.Adam(learning_rate=0.001), \n",
    "                       loss=\"categorical_crossentropy\", metrics=['accuracy'])"
   ]
  },
  {
   "cell_type": "code",
   "execution_count": 20,
   "id": "244180f9",
   "metadata": {},
   "outputs": [],
   "source": [
    "adaptive_f_model.compile(optimizer=tf.optimizers.legacy.Adam(learning_rate=0.001), \n",
    "                       loss=\"categorical_crossentropy\", metrics=['accuracy'])"
   ]
  },
  {
   "cell_type": "code",
   "execution_count": 68,
   "id": "ca5dd089",
   "metadata": {},
   "outputs": [],
   "source": [
    "adaptive_nn_model.compile(optimizer=tf.optimizers.legacy.Adam(learning_rate=0.001), \n",
    "                       loss=\"categorical_crossentropy\", metrics=['accuracy'])"
   ]
  },
  {
   "cell_type": "code",
   "execution_count": 49,
   "id": "dc0a4b48",
   "metadata": {},
   "outputs": [],
   "source": [
    "adaptive_conv_nn_model.compile(optimizer=tf.optimizers.legacy.Adam(learning_rate=0.001), \n",
    "                       loss=\"categorical_crossentropy\", metrics=['accuracy'])"
   ]
  },
  {
   "cell_type": "code",
   "execution_count": 50,
   "id": "fe78363b",
   "metadata": {},
   "outputs": [],
   "source": [
    "adaptive_nn_model_noskip.compile(optimizer=tf.optimizers.legacy.Adam(learning_rate=0.001), \n",
    "                       loss=\"categorical_crossentropy\", metrics=['accuracy'])"
   ]
  },
  {
   "cell_type": "code",
   "execution_count": 51,
   "id": "d9298e61",
   "metadata": {},
   "outputs": [],
   "source": [
    "adaptive_conv_nn_model_noskip.compile(optimizer=tf.optimizers.legacy.Adam(learning_rate=0.001), \n",
    "                       loss=\"categorical_crossentropy\", metrics=['accuracy'])"
   ]
  },
  {
   "cell_type": "code",
   "execution_count": 69,
   "id": "0f18ca9f",
   "metadata": {},
   "outputs": [],
   "source": [
    "EPOCHS = 1"
   ]
  },
  {
   "cell_type": "code",
   "execution_count": 26,
   "id": "ee6ac750",
   "metadata": {
    "scrolled": true
   },
   "outputs": [
    {
     "name": "stdout",
     "output_type": "stream",
     "text": [
      "1563/1563 [==============================] - 2s 1ms/step - loss: 2.0504 - accuracy: 0.2129\n"
     ]
    },
    {
     "data": {
      "text/plain": [
       "<keras.src.callbacks.History at 0x16cf969a0>"
      ]
     },
     "execution_count": 26,
     "metadata": {},
     "output_type": "execute_result"
    }
   ],
   "source": [
    "static_f_model.fit(x_train, y_train, epochs=EPOCHS)"
   ]
  },
  {
   "cell_type": "code",
   "execution_count": 27,
   "id": "8c508df0",
   "metadata": {
    "scrolled": true
   },
   "outputs": [
    {
     "name": "stdout",
     "output_type": "stream",
     "text": [
      "1563/1563 [==============================] - 2s 1ms/step - loss: 1.9556 - accuracy: 0.2736\n"
     ]
    },
    {
     "data": {
      "text/plain": [
       "<keras.src.callbacks.History at 0x16d403d90>"
      ]
     },
     "execution_count": 27,
     "metadata": {},
     "output_type": "execute_result"
    }
   ],
   "source": [
    "adaptive_f_model.fit(x_train, y_train, epochs=EPOCHS)"
   ]
  },
  {
   "cell_type": "code",
   "execution_count": 70,
   "id": "61fe894f",
   "metadata": {
    "scrolled": true
   },
   "outputs": [
    {
     "name": "stdout",
     "output_type": "stream",
     "text": [
      "1563/1563 [==============================] - 4s 2ms/step - loss: 2.0914 - accuracy: 0.1914\n"
     ]
    },
    {
     "data": {
      "text/plain": [
       "<keras.src.callbacks.History at 0x127b54160>"
      ]
     },
     "execution_count": 70,
     "metadata": {},
     "output_type": "execute_result"
    }
   ],
   "source": [
    "adaptive_nn_model.fit(x_train, y_train, epochs=EPOCHS)"
   ]
  },
  {
   "cell_type": "code",
   "execution_count": 54,
   "id": "3cfa80f9",
   "metadata": {
    "scrolled": true
   },
   "outputs": [
    {
     "name": "stdout",
     "output_type": "stream",
     "text": [
      "1563/1563 [==============================] - 8s 4ms/step - loss: 2.0738 - accuracy: 0.1836\n"
     ]
    },
    {
     "data": {
      "text/plain": [
       "<keras.src.callbacks.History at 0x166f19970>"
      ]
     },
     "execution_count": 54,
     "metadata": {},
     "output_type": "execute_result"
    }
   ],
   "source": [
    "adaptive_conv_nn_model.fit(x_train, y_train, epochs=EPOCHS)"
   ]
  },
  {
   "cell_type": "code",
   "execution_count": 55,
   "id": "241e9645",
   "metadata": {},
   "outputs": [
    {
     "name": "stdout",
     "output_type": "stream",
     "text": [
      "1563/1563 [==============================] - 4s 2ms/step - loss: 2.1458 - accuracy: 0.1623\n"
     ]
    },
    {
     "data": {
      "text/plain": [
       "<keras.src.callbacks.History at 0x167f4ab20>"
      ]
     },
     "execution_count": 55,
     "metadata": {},
     "output_type": "execute_result"
    }
   ],
   "source": [
    "adaptive_nn_model_noskip.fit(x_train, y_train, epochs=EPOCHS)"
   ]
  },
  {
   "cell_type": "code",
   "execution_count": 56,
   "id": "db70bab4",
   "metadata": {},
   "outputs": [
    {
     "name": "stdout",
     "output_type": "stream",
     "text": [
      "1563/1563 [==============================] - 8s 4ms/step - loss: 2.3030 - accuracy: 0.0991\n"
     ]
    },
    {
     "data": {
      "text/plain": [
       "<keras.src.callbacks.History at 0x169f23bb0>"
      ]
     },
     "execution_count": 56,
     "metadata": {},
     "output_type": "execute_result"
    }
   ],
   "source": [
    "adaptive_conv_nn_model_noskip.fit(x_train, y_train, epochs=EPOCHS)"
   ]
  },
  {
   "cell_type": "code",
   "execution_count": 71,
   "id": "6331ef28",
   "metadata": {},
   "outputs": [],
   "source": [
    "# one_e_static_f_model_w = static_f_model.weights[0][0, 0:10]\n",
    "# one_e_adaptive_f_model_w = adaptive_f_model.weights[0][0, 0:10]\n",
    "one_e_adaptive_nn_model_w = adaptive_nn_model.weights[0][0, 0:10]\n",
    "# one_e_adaptive_conv_nn_model_w = adaptive_conv_nn_model.weights[0][0, 0:10]\n",
    "# one_e_adaptive_nn_model_w_noskip = adaptive_nn_model_noskip.weights[0][0, 0:10]\n",
    "# one_e_adaptive_conv_nn_model_w_noskip = adaptive_conv_nn_model_noskip.weights[0][0, 0:10]"
   ]
  },
  {
   "cell_type": "code",
   "execution_count": 72,
   "id": "ecb3bb8b",
   "metadata": {},
   "outputs": [],
   "source": [
    "EPOCHS = 9"
   ]
  },
  {
   "cell_type": "code",
   "execution_count": 34,
   "id": "af32c0b2",
   "metadata": {},
   "outputs": [
    {
     "name": "stdout",
     "output_type": "stream",
     "text": [
      "Epoch 1/9\n",
      "1563/1563 [==============================] - 2s 1ms/step - loss: 1.8264 - accuracy: 0.3340\n",
      "Epoch 2/9\n",
      "1563/1563 [==============================] - 2s 1ms/step - loss: 1.7314 - accuracy: 0.3703\n",
      "Epoch 3/9\n",
      "1563/1563 [==============================] - 2s 1ms/step - loss: 1.6802 - accuracy: 0.3936\n",
      "Epoch 4/9\n",
      "1563/1563 [==============================] - 2s 1ms/step - loss: 1.6470 - accuracy: 0.4049\n",
      "Epoch 5/9\n",
      "1563/1563 [==============================] - 2s 1ms/step - loss: 1.6239 - accuracy: 0.4132\n",
      "Epoch 6/9\n",
      "1563/1563 [==============================] - 2s 1ms/step - loss: 1.5989 - accuracy: 0.4216\n",
      "Epoch 7/9\n",
      "1563/1563 [==============================] - 2s 1ms/step - loss: 1.5814 - accuracy: 0.4285\n",
      "Epoch 8/9\n",
      "1563/1563 [==============================] - 2s 1ms/step - loss: 1.5680 - accuracy: 0.4373\n",
      "Epoch 9/9\n",
      "1563/1563 [==============================] - 2s 1ms/step - loss: 1.5510 - accuracy: 0.4436\n"
     ]
    },
    {
     "data": {
      "text/plain": [
       "<keras.src.callbacks.History at 0x28f3cef70>"
      ]
     },
     "execution_count": 34,
     "metadata": {},
     "output_type": "execute_result"
    }
   ],
   "source": [
    "static_f_model.fit(x_train, y_train, epochs=EPOCHS)"
   ]
  },
  {
   "cell_type": "code",
   "execution_count": 35,
   "id": "b7dcd755",
   "metadata": {},
   "outputs": [
    {
     "name": "stdout",
     "output_type": "stream",
     "text": [
      "Epoch 1/9\n",
      "1563/1563 [==============================] - 2s 1ms/step - loss: 1.7677 - accuracy: 0.3554\n",
      "Epoch 2/9\n",
      "1563/1563 [==============================] - 2s 1ms/step - loss: 1.6807 - accuracy: 0.3926\n",
      "Epoch 3/9\n",
      "1563/1563 [==============================] - 2s 1ms/step - loss: 1.6236 - accuracy: 0.4115\n",
      "Epoch 4/9\n",
      "1563/1563 [==============================] - 2s 1ms/step - loss: 1.5850 - accuracy: 0.4302\n",
      "Epoch 5/9\n",
      "1563/1563 [==============================] - 2s 1ms/step - loss: 1.5576 - accuracy: 0.4404\n",
      "Epoch 6/9\n",
      "1563/1563 [==============================] - 2s 1ms/step - loss: 1.5324 - accuracy: 0.4477\n",
      "Epoch 7/9\n",
      "1563/1563 [==============================] - 2s 1ms/step - loss: 1.5133 - accuracy: 0.4565\n",
      "Epoch 8/9\n",
      "1563/1563 [==============================] - 2s 1ms/step - loss: 1.4968 - accuracy: 0.4614\n",
      "Epoch 9/9\n",
      "1563/1563 [==============================] - 2s 1ms/step - loss: 1.4776 - accuracy: 0.4709\n"
     ]
    },
    {
     "data": {
      "text/plain": [
       "<keras.src.callbacks.History at 0x28f3fb340>"
      ]
     },
     "execution_count": 35,
     "metadata": {},
     "output_type": "execute_result"
    }
   ],
   "source": [
    "adaptive_f_model.fit(x_train, y_train, epochs=EPOCHS)"
   ]
  },
  {
   "cell_type": "code",
   "execution_count": 73,
   "id": "5e2b24f8",
   "metadata": {},
   "outputs": [
    {
     "name": "stdout",
     "output_type": "stream",
     "text": [
      "Epoch 1/9\n",
      "1563/1563 [==============================] - 4s 2ms/step - loss: 1.8579 - accuracy: 0.3042\n",
      "Epoch 2/9\n",
      "1563/1563 [==============================] - 4s 2ms/step - loss: 1.7592 - accuracy: 0.3564\n",
      "Epoch 3/9\n",
      "1563/1563 [==============================] - 4s 2ms/step - loss: 1.6790 - accuracy: 0.3923\n",
      "Epoch 4/9\n",
      "1563/1563 [==============================] - 4s 2ms/step - loss: 1.6223 - accuracy: 0.4136\n",
      "Epoch 5/9\n",
      "1563/1563 [==============================] - 3s 2ms/step - loss: 1.5822 - accuracy: 0.4283\n",
      "Epoch 6/9\n",
      "1563/1563 [==============================] - 4s 2ms/step - loss: 1.5490 - accuracy: 0.4415\n",
      "Epoch 7/9\n",
      "1563/1563 [==============================] - 4s 2ms/step - loss: 1.5182 - accuracy: 0.4512\n",
      "Epoch 8/9\n",
      "1563/1563 [==============================] - 3s 2ms/step - loss: 1.4946 - accuracy: 0.4637\n",
      "Epoch 9/9\n",
      "1563/1563 [==============================] - 3s 2ms/step - loss: 1.4719 - accuracy: 0.4699\n"
     ]
    },
    {
     "data": {
      "text/plain": [
       "<keras.src.callbacks.History at 0x163b9c8b0>"
      ]
     },
     "execution_count": 73,
     "metadata": {},
     "output_type": "execute_result"
    }
   ],
   "source": [
    "adaptive_nn_model.fit(x_train, y_train, epochs=EPOCHS)"
   ]
  },
  {
   "cell_type": "code",
   "execution_count": 60,
   "id": "7e0e8568",
   "metadata": {},
   "outputs": [
    {
     "name": "stdout",
     "output_type": "stream",
     "text": [
      "Epoch 1/9\n",
      "1563/1563 [==============================] - 7s 5ms/step - loss: 1.9090 - accuracy: 0.2637\n",
      "Epoch 2/9\n",
      "1563/1563 [==============================] - 8s 5ms/step - loss: 1.7924 - accuracy: 0.3201\n",
      "Epoch 3/9\n",
      "1563/1563 [==============================] - 8s 5ms/step - loss: 1.7223 - accuracy: 0.3551\n",
      "Epoch 4/9\n",
      "1563/1563 [==============================] - 8s 5ms/step - loss: 1.6575 - accuracy: 0.3913\n",
      "Epoch 5/9\n",
      "1563/1563 [==============================] - 8s 5ms/step - loss: 1.6043 - accuracy: 0.4186\n",
      "Epoch 6/9\n",
      "1563/1563 [==============================] - 8s 5ms/step - loss: 1.5678 - accuracy: 0.4334\n",
      "Epoch 7/9\n",
      "1563/1563 [==============================] - 8s 5ms/step - loss: 1.5360 - accuracy: 0.4456\n",
      "Epoch 8/9\n",
      "1563/1563 [==============================] - 8s 5ms/step - loss: 1.5098 - accuracy: 0.4564\n",
      "Epoch 9/9\n",
      "1563/1563 [==============================] - 8s 5ms/step - loss: 1.4839 - accuracy: 0.4674\n"
     ]
    },
    {
     "data": {
      "text/plain": [
       "<keras.src.callbacks.History at 0x16a82ac70>"
      ]
     },
     "execution_count": 60,
     "metadata": {},
     "output_type": "execute_result"
    }
   ],
   "source": [
    "adaptive_conv_nn_model.fit(x_train, y_train, epochs=EPOCHS)"
   ]
  },
  {
   "cell_type": "code",
   "execution_count": 61,
   "id": "249be5b7",
   "metadata": {},
   "outputs": [
    {
     "name": "stdout",
     "output_type": "stream",
     "text": [
      "Epoch 1/9\n",
      "1563/1563 [==============================] - 4s 2ms/step - loss: 2.0372 - accuracy: 0.1914\n",
      "Epoch 2/9\n",
      "1563/1563 [==============================] - 4s 2ms/step - loss: 1.9962 - accuracy: 0.2005\n",
      "Epoch 3/9\n",
      "1563/1563 [==============================] - 4s 2ms/step - loss: 1.9698 - accuracy: 0.2149\n",
      "Epoch 4/9\n",
      "1563/1563 [==============================] - 4s 2ms/step - loss: 1.9142 - accuracy: 0.2582\n",
      "Epoch 5/9\n",
      "1563/1563 [==============================] - 4s 2ms/step - loss: 1.8167 - accuracy: 0.3121\n",
      "Epoch 6/9\n",
      "1563/1563 [==============================] - 4s 2ms/step - loss: 1.7655 - accuracy: 0.3380\n",
      "Epoch 7/9\n",
      "1563/1563 [==============================] - 4s 2ms/step - loss: 1.7144 - accuracy: 0.3624\n",
      "Epoch 8/9\n",
      "1563/1563 [==============================] - 4s 2ms/step - loss: 1.6735 - accuracy: 0.3830\n",
      "Epoch 9/9\n",
      "1563/1563 [==============================] - 4s 2ms/step - loss: 1.6453 - accuracy: 0.3964\n"
     ]
    },
    {
     "data": {
      "text/plain": [
       "<keras.src.callbacks.History at 0x16a842400>"
      ]
     },
     "execution_count": 61,
     "metadata": {},
     "output_type": "execute_result"
    }
   ],
   "source": [
    "adaptive_nn_model_noskip.fit(x_train, y_train, epochs=EPOCHS)"
   ]
  },
  {
   "cell_type": "code",
   "execution_count": 62,
   "id": "46531436",
   "metadata": {},
   "outputs": [
    {
     "name": "stdout",
     "output_type": "stream",
     "text": [
      "Epoch 1/9\n",
      "1563/1563 [==============================] - 7s 4ms/step - loss: 2.3030 - accuracy: 0.0991\n",
      "Epoch 2/9\n",
      "1563/1563 [==============================] - 7s 5ms/step - loss: 2.3029 - accuracy: 0.0977\n",
      "Epoch 3/9\n",
      "1563/1563 [==============================] - 7s 5ms/step - loss: 2.3030 - accuracy: 0.0988\n",
      "Epoch 4/9\n",
      "1563/1563 [==============================] - 7s 5ms/step - loss: 2.3029 - accuracy: 0.1009\n",
      "Epoch 5/9\n",
      "1563/1563 [==============================] - 7s 5ms/step - loss: 2.3029 - accuracy: 0.0970\n",
      "Epoch 6/9\n",
      "1563/1563 [==============================] - 7s 5ms/step - loss: 2.3029 - accuracy: 0.0998\n",
      "Epoch 7/9\n",
      "1563/1563 [==============================] - 7s 5ms/step - loss: 2.1469 - accuracy: 0.1598\n",
      "Epoch 8/9\n",
      "1563/1563 [==============================] - 8s 5ms/step - loss: 2.0291 - accuracy: 0.2061\n",
      "Epoch 9/9\n",
      "1563/1563 [==============================] - 7s 5ms/step - loss: 1.9912 - accuracy: 0.2299\n"
     ]
    },
    {
     "data": {
      "text/plain": [
       "<keras.src.callbacks.History at 0x16a85daf0>"
      ]
     },
     "execution_count": 62,
     "metadata": {},
     "output_type": "execute_result"
    }
   ],
   "source": [
    "adaptive_conv_nn_model_noskip.fit(x_train, y_train, epochs=EPOCHS)"
   ]
  },
  {
   "cell_type": "code",
   "execution_count": 74,
   "id": "c3b708e8",
   "metadata": {},
   "outputs": [],
   "source": [
    "# ten_e_static_f_model_w = static_f_model.weights[0][0, 0:10]\n",
    "# ten_e_adaptive_f_model_w = adaptive_f_model.weights[0][0, 0:10]\n",
    "ten_e_adaptive_nn_model_w = adaptive_nn_model.weights[0][0, 0:10]\n",
    "# ten_e_adaptive_conv_nn_model_w = adaptive_conv_nn_model.weights[0][0, 0:10]\n",
    "# ten_e_adaptive_nn_model_w_noskip = adaptive_nn_model_noskip.weights[0][0, 0:10]\n",
    "# ten_e_adaptive_conv_nn_model_w_noskip = adaptive_conv_nn_model_noskip.weights[0][0, 0:10]"
   ]
  },
  {
   "cell_type": "code",
   "execution_count": 78,
   "id": "1dae8100-dc15-45cf-be10-ac45c9ea45e0",
   "metadata": {},
   "outputs": [
    {
     "data": {
      "image/png": "[encoded data removed]",
      "text/plain": [
       "<Figure size 1800x1000 with 1 Axes>"
      ]
     },
     "metadata": {},
     "output_type": "display_data"
    }
   ],
   "source": [
    "fig = plt.figure(figsize=(18, 10))\n",
    "ax = fig.add_subplot()\n",
    "\n",
    "plt.title(\"Cumulative change (1-st layer parameters)\", fontsize=\"xx-large\")\n",
    "\n",
    "x = np.arange(6)\n",
    "\n",
    "y1 = [np.sum(np.abs(initial_static_f_model_w - one_e_static_f_model_w)),\n",
    "      np.sum(np.abs(initial_adaptive_f_model_w - one_e_adaptive_f_model_w)),\n",
    "      np.sum(np.abs(initial_adaptive_nn_model_w - one_e_adaptive_nn_model_w)),\n",
    "      np.sum(np.abs(initial_adaptive_conv_nn_model_w - one_e_adaptive_conv_nn_model_w)),\n",
    "      np.sum(np.abs(initial_adaptive_nn_model_w_noskip - one_e_adaptive_nn_model_w_noskip)),\n",
    "      np.sum(np.abs(initial_adaptive_conv_nn_model_w_noskip - one_e_adaptive_conv_nn_model_w_noskip))]\n",
    "\n",
    "y2 = [np.sum(np.abs(initial_static_f_model_w - ten_e_static_f_model_w)),\n",
    "      np.sum(np.abs(initial_adaptive_f_model_w - ten_e_adaptive_f_model_w)),\n",
    "      np.sum(np.abs(initial_adaptive_nn_model_w - ten_e_adaptive_nn_model_w)),\n",
    "      np.sum(np.abs(initial_adaptive_conv_nn_model_w - ten_e_adaptive_conv_nn_model_w)),\n",
    "      np.sum(np.abs(initial_adaptive_nn_model_w_noskip - ten_e_adaptive_nn_model_w_noskip)),\n",
    "      np.sum(np.abs(initial_adaptive_conv_nn_model_w_noskip - ten_e_adaptive_conv_nn_model_w_noskip))]\n",
    "\n",
    "w = 0.4\n",
    "\n",
    "plt.ylabel(\"Change coefficient\")\n",
    "ax.bar(x - w/2, y1, width = w, label=\"1 epoch\")\n",
    "ax.bar(x + w/2, y2, width = w, label=\"10 epochs\")\n",
    "\n",
    "plt.xticks([r for r in range(len(y1))], \n",
    "        ['ReLU Function', 'Swish Function', 'Adaptive NN',\n",
    "     'Adaptive Conv NN', 'Adaptive NN (no skip)', 'Adaptive Conv NN (no skip)'])\n",
    "\n",
    "plt.legend()\n",
    "plt.grid()\n",
    "plt.show()"
   ]
  },
  {
   "cell_type": "code",
   "execution_count": 82,
   "id": "a2eae4ae",
   "metadata": {},
   "outputs": [],
   "source": [
    "save_data(\"ReLU f\", initial_static_f_model_w,  one_e_static_f_model_w, ten_e_static_f_model_w)\n",
    "save_data(\"Swish f\", initial_adaptive_f_model_w,  one_e_adaptive_f_model_w, ten_e_adaptive_f_model_w)\n",
    "save_data(\"Adaptive NN\", initial_adaptive_nn_model_w,  one_e_adaptive_nn_model_w, ten_e_adaptive_nn_model_w)\n",
    "save_data(\"Adaptive Conv NN\", initial_adaptive_conv_nn_model_w,  one_e_adaptive_conv_nn_model_w, ten_e_adaptive_conv_nn_model_w)\n",
    "save_data(\"Adaptive NN (no skip)\", initial_adaptive_nn_model_w_noskip,  one_e_adaptive_nn_model_w_noskip, ten_e_adaptive_nn_model_w_noskip)\n",
    "save_data(\"Adaptive Conv NN (no skip)\", initial_adaptive_conv_nn_model_w_noskip,  one_e_adaptive_conv_nn_model_w_noskip, ten_e_adaptive_conv_nn_model_w_noskip)"
   ]
  },
  {
   "cell_type": "code",
   "execution_count": 83,
   "id": "00ec729f",
   "metadata": {},
   "outputs": [],
   "source": [
    "workbook.close()"
   ]
  },
  {
   "cell_type": "code",
   "execution_count": null,
   "id": "d97b770e",
   "metadata": {},
   "outputs": [],
   "source": []
  }
 ],
 "metadata": {
  "kernelspec": {
   "display_name": "Python 3 (ipykernel)",
   "language": "python",
   "name": "python3"
  },
  "language_info": {
   "codemirror_mode": {
    "name": "ipython",
    "version": 3
   },
   "file_extension": ".py",
   "mimetype": "text/x-python",
   "name": "python",
   "nbconvert_exporter": "python",
   "pygments_lexer": "ipython3",
   "version": "3.9.16"
  }
 },
 "nbformat": 4,
 "nbformat_minor": 5
}
