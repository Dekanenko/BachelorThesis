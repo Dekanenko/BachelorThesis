{
 "cells": [
  {
   "cell_type": "code",
   "execution_count": 1,
   "id": "e1def1c8",
   "metadata": {},
   "outputs": [],
   "source": [
    "import tensorflow as tf\n",
    "tf.config.experimental.set_visible_devices([], 'GPU')\n",
    "from tensorflow import keras\n",
    "import numpy as np\n",
    "import pandas as pd\n",
    "import matplotlib.pyplot as plt\n",
    "import xlsxwriter\n",
    "\n",
    "from sklearn.datasets import fetch_openml\n",
    "%matplotlib qt\n",
    "\n",
    "# import module with layers\n",
    "import sys\n",
    "import os\n",
    "module_path = os.path.abspath(os.path.join('..'))\n",
    "if module_path not in sys.path:\n",
    "    sys.path.append(module_path+\"/model_module\")\n",
    "\n",
    "from adaptive_layer import *"
   ]
  },
  {
   "cell_type": "code",
   "execution_count": 2,
   "id": "ef3ae740",
   "metadata": {},
   "outputs": [],
   "source": [
    "tf.random.set_seed(5)\n",
    "np.random.seed(5)"
   ]
  },
  {
   "cell_type": "code",
   "execution_count": 70,
   "id": "f26c27cd",
   "metadata": {},
   "outputs": [],
   "source": [
    "def illustrate_train(name, y_label, static_f, adaptive_f, adaptive_nn, adaptive_conv_nn):\n",
    "    epochs = range(1, len(static_f)+1)\n",
    "    fig = plt.figure(figsize=(10,7))\n",
    "    ax = fig.add_subplot()\n",
    "    plt.title(name, fontsize=\"xx-large\")\n",
    "\n",
    "    ax.set_ylabel(y_label, fontsize=\"large\")\n",
    "    ax.set_xlabel('Epochs', fontsize=\"large\")\n",
    "\n",
    "    ax.plot(epochs, static_f, label='ReLU Function')\n",
    "    ax.plot(epochs, adaptive_f, label='Swish Function')\n",
    "    ax.plot(epochs, adaptive_nn, label='Adaptive NN')\n",
    "    ax.plot(epochs, adaptive_conv_nn, label='Adaptive Conv NN')\n",
    "\n",
    "    ax.legend()\n",
    "    \n",
    "    plt.grid()\n",
    "    plt.show()"
   ]
  },
  {
   "cell_type": "code",
   "execution_count": 3,
   "id": "ab8cca84",
   "metadata": {},
   "outputs": [],
   "source": [
    "def illustrate_test(name, static_f, adaptive_f, adaptive_nn, adaptive_conv_nn):\n",
    "    fig = plt.figure(figsize=(10,7))\n",
    "    ax = fig.add_subplot()\n",
    "    \n",
    "    x = [\"ReLU Function\", \"Swish Function\", \"Adaptive NN\", \"Adaptive Conv NN\"]\n",
    "    y = [static_f, adaptive_f, adaptive_nn, adaptive_conv_nn]\n",
    "    \n",
    "    plt.title(name, fontsize=\"xx-large\")\n",
    "    ax.set_ylabel(\"Accuracy\", fontsize=\"large\")\n",
    "    \n",
    "    ax.bar(x, y)\n",
    "    \n",
    "    plt.grid()\n",
    "    plt.show()"
   ]
  },
  {
   "cell_type": "code",
   "execution_count": 4,
   "id": "a7b83af7",
   "metadata": {},
   "outputs": [],
   "source": [
    "workbook = xlsxwriter.Workbook('mnist_measurements.xlsx')"
   ]
  },
  {
   "cell_type": "code",
   "execution_count": 5,
   "id": "81260211",
   "metadata": {},
   "outputs": [],
   "source": [
    "def save_data(name, static_f_train, adaptive_f_train, adaptive_nn_train, adaptive_conv_nn_train, \n",
    "              static_f_test, adaptive_f_test, adaptive_nn_test, adaptive_conv_nn_test):\n",
    "    \n",
    "    epochs = len(static_f_train[0][:])\n",
    "    worksheet = workbook.add_worksheet(name)\n",
    "    \n",
    "    worksheet.write(1, 1, name + \" Training Loss\")\n",
    "    worksheet.write(1, 7, name + \" Training Accuracy\")\n",
    "    worksheet.write(1, 13, name + \" Test Accuracy\")\n",
    "    \n",
    "    worksheet.write(2, 1, \"Epochs\")\n",
    "    worksheet.write(2, 2, \"ReLU Function\")\n",
    "    worksheet.write(2, 3, \"Swish Function\")\n",
    "    worksheet.write(2, 4, \"Adaptive NN\")\n",
    "    worksheet.write(2, 5, \"Adaptive Conv NN\")\n",
    "    \n",
    "    worksheet.write(2, 7, \"Epochs\")\n",
    "    worksheet.write(2, 8, \"ReLU Function\")\n",
    "    worksheet.write(2, 9, \"Swish Function\")\n",
    "    worksheet.write(2, 10, \"Adaptive NN\")\n",
    "    worksheet.write(2, 11, \"Adaptive Conv NN\")\n",
    "    \n",
    "    worksheet.write(2, 13, \"ReLU Function\")\n",
    "    worksheet.write(2, 14, \"Swish Function\")\n",
    "    worksheet.write(2, 15, \"Adaptive NN\")\n",
    "    worksheet.write(2, 16, \"Adaptive Conv NN\")\n",
    "    \n",
    "    worksheet.write(3, 13, static_f_test)\n",
    "    worksheet.write(3, 14, adaptive_f_test)\n",
    "    worksheet.write(3, 15, adaptive_nn_test)\n",
    "    worksheet.write(3, 16, adaptive_conv_nn_test)\n",
    "    \n",
    "    for i in range(0, epochs):\n",
    "        worksheet.write(3+i, 1, i+1)\n",
    "        worksheet.write(3+i, 2, static_f_train[0][i])\n",
    "        worksheet.write(3+i, 3, adaptive_f_train[0][i])\n",
    "        worksheet.write(3+i, 4, adaptive_nn_train[0][i])\n",
    "        worksheet.write(3+i, 5, adaptive_conv_nn_train[0][i])\n",
    "        \n",
    "        worksheet.write(3+i, 7, i+1)\n",
    "        worksheet.write(3+i, 8, static_f_train[1][i])\n",
    "        worksheet.write(3+i, 9, adaptive_f_train[1][i])\n",
    "        worksheet.write(3+i, 10, adaptive_nn_train[1][i])\n",
    "        worksheet.write(3+i, 11, adaptive_conv_nn_train[1][i])\n",
    "    \n",
    "    workbook.close()"
   ]
  },
  {
   "cell_type": "code",
   "execution_count": 6,
   "id": "4965b33a",
   "metadata": {},
   "outputs": [
    {
     "name": "stderr",
     "output_type": "stream",
     "text": [
      "/Users/kyryll/miniforge3/envs/env1/lib/python3.9/site-packages/sklearn/datasets/_openml.py:1002: FutureWarning: The default value of `parser` will change from `'liac-arff'` to `'auto'` in 1.4. You can set `parser='auto'` to silence this warning. Therefore, an `ImportError` will be raised from 1.4 if the dataset is dense and pandas is not installed. Note that the pandas parser may return different data types. See the Notes Section in fetch_openml's API doc for details.\n",
      "  warn(\n"
     ]
    }
   ],
   "source": [
    "# dataset\n",
    "\n",
    "mnist = fetch_openml('mnist_784', version=1, as_frame=False)\n",
    "X, y = mnist['data'], mnist['target']\n",
    "\n",
    "y = y.astype(np.uint8)\n",
    "X_scale = X/255\n",
    "x_train, x_test, y_train, y_test = X_scale[:60000], X_scale[60000:], y[:60000], y[60000:]\n",
    "y_train = keras.utils.to_categorical(y_train, 10)\n",
    "y_test = keras.utils.to_categorical(y_test, 10)"
   ]
  },
  {
   "cell_type": "code",
   "execution_count": 7,
   "id": "acfbf2db",
   "metadata": {},
   "outputs": [],
   "source": [
    "EPOCHS = 10\n",
    "name = \"Hand-written Digits\"\n",
    "\n",
    "# measurement repetitions\n",
    "flag = measurements = 3\n",
    "\n",
    "static_f_hist = np.zeros(shape=[2, EPOCHS])\n",
    "adaptive_f_hist = np.zeros(shape=[2, EPOCHS])\n",
    "adaptive_nn_hist = np.zeros(shape=[2, EPOCHS])\n",
    "adaptive_conv_nn_hist = np.zeros(shape=[2, EPOCHS])\n",
    "\n",
    "static_f_test = 0\n",
    "adaptive_f_test = 0\n",
    "adaptive_nn_test = 0\n",
    "adaptive_conv_nn_test = 0"
   ]
  },
  {
   "cell_type": "code",
   "execution_count": null,
   "id": "9e99d616",
   "metadata": {},
   "outputs": [],
   "source": []
  },
  {
   "cell_type": "code",
   "execution_count": 48,
   "id": "8df7f88c",
   "metadata": {},
   "outputs": [],
   "source": [
    "static_f_model = keras.Sequential([\n",
    "    keras.layers.Dense(100, activation=\"relu\"),\n",
    "    keras.layers.Dense(10, activation=\"softmax\")\n",
    "])"
   ]
  },
  {
   "cell_type": "code",
   "execution_count": 49,
   "id": "55a602e2",
   "metadata": {},
   "outputs": [],
   "source": [
    "adaptive_f_model = keras.Sequential([\n",
    "    keras.layers.Dense(100, activation=tf.nn.swish),\n",
    "    keras.layers.Dense(10, activation=\"softmax\")\n",
    "])"
   ]
  },
  {
   "cell_type": "code",
   "execution_count": 50,
   "id": "99177453",
   "metadata": {},
   "outputs": [],
   "source": [
    "# Adaptive Layer\n",
    "adaptive_nn_model = AdaptiveModel([\n",
    "    AdaptiveLayer(100, structure=[5, 1], inner_hidden_activation=tf.nn.relu, \n",
    "                  inner_out_activation=tf.nn.leaky_relu, skip_w=0.5),\n",
    "    AdaptiveLayer(10, structure=[5, 1], inner_hidden_activation=tf.nn.relu, \n",
    "                  inner_out_activation=tf.nn.softmax, skip_w=0.5)\n",
    "])"
   ]
  },
  {
   "cell_type": "code",
   "execution_count": 51,
   "id": "ddfa62fe",
   "metadata": {},
   "outputs": [],
   "source": [
    "# Adaptive Layer based on 1D Conv\n",
    "adaptive_conv_nn_model = AdaptiveModel([\n",
    "    AdaptiveLayerConv(100, structure=[128, 4], split=1, inner_hidden_activation=tf.nn.tanh,\n",
    "                  inner_out_activation=tf.nn.relu),\n",
    "    AdaptiveLayerConv(10, structure=[64, 32], split=5, inner_hidden_activation=tf.nn.leaky_relu,\n",
    "                  inner_out_activation=tf.nn.softmax)\n",
    "])"
   ]
  },
  {
   "cell_type": "code",
   "execution_count": 52,
   "id": "38652992",
   "metadata": {},
   "outputs": [],
   "source": [
    "static_f_model.compile(optimizer=tf.optimizers.legacy.Adam(learning_rate=0.001), \n",
    "                       loss=\"categorical_crossentropy\", metrics=['accuracy'])"
   ]
  },
  {
   "cell_type": "code",
   "execution_count": 53,
   "id": "244180f9",
   "metadata": {},
   "outputs": [],
   "source": [
    "adaptive_f_model.compile(optimizer=tf.optimizers.legacy.Adam(learning_rate=0.001), \n",
    "                       loss=\"categorical_crossentropy\", metrics=['accuracy'])"
   ]
  },
  {
   "cell_type": "code",
   "execution_count": 54,
   "id": "ca5dd089",
   "metadata": {},
   "outputs": [],
   "source": [
    "adaptive_nn_model.compile(optimizer=tf.optimizers.legacy.Adam(learning_rate=0.001), \n",
    "                       loss=\"categorical_crossentropy\", metrics=['accuracy'])"
   ]
  },
  {
   "cell_type": "code",
   "execution_count": 55,
   "id": "dc0a4b48",
   "metadata": {},
   "outputs": [],
   "source": [
    "adaptive_conv_nn_model.compile(optimizer=tf.optimizers.legacy.Adam(learning_rate=0.001), \n",
    "                       loss=\"categorical_crossentropy\", metrics=['accuracy'])"
   ]
  },
  {
   "cell_type": "code",
   "execution_count": 56,
   "id": "ee6ac750",
   "metadata": {},
   "outputs": [
    {
     "name": "stdout",
     "output_type": "stream",
     "text": [
      "Epoch 1/10\n",
      "938/938 [==============================] - 1s 595us/step - loss: 0.3234 - accuracy: 0.9096\n",
      "Epoch 2/10\n",
      "938/938 [==============================] - 1s 587us/step - loss: 0.1503 - accuracy: 0.9571\n",
      "Epoch 3/10\n",
      "938/938 [==============================] - 1s 570us/step - loss: 0.1051 - accuracy: 0.9697\n",
      "Epoch 4/10\n",
      "938/938 [==============================] - 1s 580us/step - loss: 0.0810 - accuracy: 0.9759\n",
      "Epoch 5/10\n",
      "938/938 [==============================] - 1s 584us/step - loss: 0.0640 - accuracy: 0.9810\n",
      "Epoch 6/10\n",
      "938/938 [==============================] - 1s 598us/step - loss: 0.0539 - accuracy: 0.9843\n",
      "Epoch 7/10\n",
      "938/938 [==============================] - 1s 600us/step - loss: 0.0439 - accuracy: 0.9867\n",
      "Epoch 8/10\n",
      "938/938 [==============================] - 1s 607us/step - loss: 0.0364 - accuracy: 0.9895\n",
      "Epoch 9/10\n",
      "938/938 [==============================] - 1s 613us/step - loss: 0.0310 - accuracy: 0.9912\n",
      "Epoch 10/10\n",
      "938/938 [==============================] - 1s 604us/step - loss: 0.0251 - accuracy: 0.9927\n"
     ]
    }
   ],
   "source": [
    "hist = static_f_model.fit(x_train, y_train, epochs=EPOCHS, batch_size=64)"
   ]
  },
  {
   "cell_type": "code",
   "execution_count": 57,
   "id": "fece44b0",
   "metadata": {},
   "outputs": [],
   "source": [
    "static_f_hist[0][:] += np.array(hist.history[\"loss\"])/measurements\n",
    "static_f_hist[1][:] += np.array(hist.history[\"accuracy\"])/measurements"
   ]
  },
  {
   "cell_type": "code",
   "execution_count": 58,
   "id": "8c508df0",
   "metadata": {},
   "outputs": [
    {
     "name": "stdout",
     "output_type": "stream",
     "text": [
      "Epoch 1/10\n",
      "938/938 [==============================] - 1s 608us/step - loss: 0.3287 - accuracy: 0.9082\n",
      "Epoch 2/10\n",
      "938/938 [==============================] - 1s 608us/step - loss: 0.1557 - accuracy: 0.9550\n",
      "Epoch 3/10\n",
      "938/938 [==============================] - 1s 614us/step - loss: 0.1097 - accuracy: 0.9679\n",
      "Epoch 4/10\n",
      "938/938 [==============================] - 1s 616us/step - loss: 0.0844 - accuracy: 0.9747\n",
      "Epoch 5/10\n",
      "938/938 [==============================] - 1s 618us/step - loss: 0.0660 - accuracy: 0.9808\n",
      "Epoch 6/10\n",
      "938/938 [==============================] - 1s 616us/step - loss: 0.0541 - accuracy: 0.9843\n",
      "Epoch 7/10\n",
      "938/938 [==============================] - 1s 619us/step - loss: 0.0450 - accuracy: 0.9868\n",
      "Epoch 8/10\n",
      "938/938 [==============================] - 1s 621us/step - loss: 0.0372 - accuracy: 0.9892\n",
      "Epoch 9/10\n",
      "938/938 [==============================] - 1s 625us/step - loss: 0.0308 - accuracy: 0.9910\n",
      "Epoch 10/10\n",
      "938/938 [==============================] - 1s 626us/step - loss: 0.0253 - accuracy: 0.9928\n"
     ]
    }
   ],
   "source": [
    "hist = adaptive_f_model.fit(x_train, y_train, epochs=EPOCHS, batch_size=64)"
   ]
  },
  {
   "cell_type": "code",
   "execution_count": 59,
   "id": "a562778c",
   "metadata": {},
   "outputs": [],
   "source": [
    "adaptive_f_hist[0][:] += np.array(hist.history[\"loss\"])/measurements\n",
    "adaptive_f_hist[1][:] += np.array(hist.history[\"accuracy\"])/measurements"
   ]
  },
  {
   "cell_type": "code",
   "execution_count": 60,
   "id": "61fe894f",
   "metadata": {},
   "outputs": [
    {
     "name": "stdout",
     "output_type": "stream",
     "text": [
      "Epoch 1/10\n",
      "938/938 [==============================] - 1s 1ms/step - loss: 0.3953 - accuracy: 0.8831\n",
      "Epoch 2/10\n",
      "938/938 [==============================] - 1s 1ms/step - loss: 0.1368 - accuracy: 0.9600\n",
      "Epoch 3/10\n",
      "938/938 [==============================] - 1s 1ms/step - loss: 0.0960 - accuracy: 0.9708\n",
      "Epoch 4/10\n",
      "938/938 [==============================] - 1s 1ms/step - loss: 0.0739 - accuracy: 0.9771\n",
      "Epoch 5/10\n",
      "938/938 [==============================] - 1s 1ms/step - loss: 0.0588 - accuracy: 0.9818\n",
      "Epoch 6/10\n",
      "938/938 [==============================] - 1s 1ms/step - loss: 0.0514 - accuracy: 0.9833\n",
      "Epoch 7/10\n",
      "938/938 [==============================] - 1s 1ms/step - loss: 0.0428 - accuracy: 0.9863\n",
      "Epoch 8/10\n",
      "938/938 [==============================] - 1s 1ms/step - loss: 0.0347 - accuracy: 0.9889\n",
      "Epoch 9/10\n",
      "938/938 [==============================] - 1s 1ms/step - loss: 0.0327 - accuracy: 0.9900\n",
      "Epoch 10/10\n",
      "938/938 [==============================] - 1s 1ms/step - loss: 0.0262 - accuracy: 0.9916\n"
     ]
    }
   ],
   "source": [
    "hist = adaptive_nn_model.fit(x_train, y_train, epochs=EPOCHS, batch_size=64)"
   ]
  },
  {
   "cell_type": "code",
   "execution_count": 61,
   "id": "e8f541f1",
   "metadata": {},
   "outputs": [],
   "source": [
    "adaptive_nn_hist[0][:] += np.array(hist.history[\"loss\"])/measurements\n",
    "adaptive_nn_hist[1][:] += np.array(hist.history[\"accuracy\"])/measurements"
   ]
  },
  {
   "cell_type": "code",
   "execution_count": 62,
   "id": "3cfa80f9",
   "metadata": {},
   "outputs": [
    {
     "name": "stdout",
     "output_type": "stream",
     "text": [
      "Epoch 1/10\n",
      "938/938 [==============================] - 2s 2ms/step - loss: 0.3571 - accuracy: 0.8970\n",
      "Epoch 2/10\n",
      "938/938 [==============================] - 2s 2ms/step - loss: 0.1492 - accuracy: 0.9551\n",
      "Epoch 3/10\n",
      "938/938 [==============================] - 2s 2ms/step - loss: 0.1020 - accuracy: 0.9687\n",
      "Epoch 4/10\n",
      "938/938 [==============================] - 2s 2ms/step - loss: 0.0783 - accuracy: 0.9758\n",
      "Epoch 5/10\n",
      "938/938 [==============================] - 2s 2ms/step - loss: 0.0625 - accuracy: 0.9804\n",
      "Epoch 6/10\n",
      "938/938 [==============================] - 2s 2ms/step - loss: 0.0544 - accuracy: 0.9827\n",
      "Epoch 7/10\n",
      "938/938 [==============================] - 2s 2ms/step - loss: 0.0423 - accuracy: 0.9868\n",
      "Epoch 8/10\n",
      "938/938 [==============================] - 2s 2ms/step - loss: 0.0396 - accuracy: 0.9873\n",
      "Epoch 9/10\n",
      "938/938 [==============================] - 2s 2ms/step - loss: 0.0337 - accuracy: 0.9887\n",
      "Epoch 10/10\n",
      "938/938 [==============================] - 2s 2ms/step - loss: 0.0303 - accuracy: 0.9903\n"
     ]
    }
   ],
   "source": [
    "hist = adaptive_conv_nn_model.fit(x_train, y_train, epochs=EPOCHS, batch_size=64)"
   ]
  },
  {
   "cell_type": "code",
   "execution_count": 63,
   "id": "cc4d7788",
   "metadata": {},
   "outputs": [],
   "source": [
    "adaptive_conv_nn_hist[0][:] += np.array(hist.history[\"loss\"])/measurements\n",
    "adaptive_conv_nn_hist[1][:] += np.array(hist.history[\"accuracy\"])/measurements"
   ]
  },
  {
   "cell_type": "code",
   "execution_count": 64,
   "id": "df20e870",
   "metadata": {},
   "outputs": [
    {
     "name": "stdout",
     "output_type": "stream",
     "text": [
      "313/313 [==============================] - 0s 382us/step - loss: 0.0823 - accuracy: 0.9762\n"
     ]
    }
   ],
   "source": [
    "static_f_test += static_f_model.evaluate(x_test, y_test)[1]/measurements"
   ]
  },
  {
   "cell_type": "code",
   "execution_count": 65,
   "id": "5cc36cc4",
   "metadata": {},
   "outputs": [
    {
     "name": "stdout",
     "output_type": "stream",
     "text": [
      "313/313 [==============================] - 0s 387us/step - loss: 0.0785 - accuracy: 0.9769\n"
     ]
    }
   ],
   "source": [
    "adaptive_f_test += adaptive_f_model.evaluate(x_test, y_test)[1]/measurements"
   ]
  },
  {
   "cell_type": "code",
   "execution_count": 66,
   "id": "19df7397",
   "metadata": {},
   "outputs": [
    {
     "name": "stdout",
     "output_type": "stream",
     "text": [
      "313/313 [==============================] - 0s 530us/step - loss: 0.0973 - accuracy: 0.9741\n"
     ]
    }
   ],
   "source": [
    "adaptive_nn_test += adaptive_nn_model.evaluate(x_test, y_test)[1]/measurements"
   ]
  },
  {
   "cell_type": "code",
   "execution_count": 67,
   "id": "ce1aae25",
   "metadata": {},
   "outputs": [
    {
     "name": "stdout",
     "output_type": "stream",
     "text": [
      "313/313 [==============================] - 0s 578us/step - loss: 0.1062 - accuracy: 0.9726\n",
      "---------FINISH---------\n"
     ]
    }
   ],
   "source": [
    "adaptive_conv_nn_test += adaptive_conv_nn_model.evaluate(x_test, y_test)[1]/measurements\n",
    "flag -= 1\n",
    "if(flag == 0):\n",
    "    print(\"---------FINISH---------\")"
   ]
  },
  {
   "cell_type": "code",
   "execution_count": null,
   "id": "45e08645",
   "metadata": {},
   "outputs": [],
   "source": []
  },
  {
   "cell_type": "code",
   "execution_count": 68,
   "id": "bc1dda17",
   "metadata": {},
   "outputs": [
    {
     "name": "stdout",
     "output_type": "stream",
     "text": [
      "Static Function model\n",
      "Test accuracy :  0.9763000011444092\n",
      "\n",
      "Adaptive Function model\n",
      "Test accuracy :  0.9775999983151753\n",
      "\n",
      "Adaptive NN model\n",
      "Test accuracy :  0.9737333257993063\n",
      "\n",
      "Adaptive Conv NN model\n",
      "Test accuracy :  0.9740999937057495\n"
     ]
    }
   ],
   "source": [
    "print(\"Static Function model\\nTest accuracy : \", static_f_test)\n",
    "print(\"\\nAdaptive Function model\\nTest accuracy : \", adaptive_f_test)\n",
    "print(\"\\nAdaptive NN model\\nTest accuracy : \", adaptive_nn_test)\n",
    "print(\"\\nAdaptive Conv NN model\\nTest accuracy : \", adaptive_conv_nn_test)"
   ]
  },
  {
   "cell_type": "code",
   "execution_count": 71,
   "id": "49fe6589",
   "metadata": {},
   "outputs": [],
   "source": [
    "illustrate_train(name+\" Training Loss\", \"Loss\", static_f_hist[0][:], \n",
    "                 adaptive_f_hist[0][:], adaptive_nn_hist[0][:], adaptive_conv_nn_hist[0][:])"
   ]
  },
  {
   "cell_type": "code",
   "execution_count": 72,
   "id": "2ed4731a",
   "metadata": {},
   "outputs": [],
   "source": [
    "illustrate_train(name + \" Training Accuracy\", \"Accuracy\", static_f_hist[1][:], \n",
    "                 adaptive_f_hist[1][:], adaptive_nn_hist[1][:], adaptive_conv_nn_hist[1][:])"
   ]
  },
  {
   "cell_type": "code",
   "execution_count": 73,
   "id": "8385dc4e",
   "metadata": {},
   "outputs": [],
   "source": [
    "illustrate_test(name + \" Test Accuracy\", \n",
    "                static_f_test, adaptive_f_test, adaptive_nn_test, adaptive_conv_nn_test)"
   ]
  },
  {
   "cell_type": "code",
   "execution_count": 74,
   "id": "309eb3d1",
   "metadata": {},
   "outputs": [],
   "source": [
    "save_data(name, static_f_hist, adaptive_f_hist, adaptive_nn_hist, \n",
    "          adaptive_conv_nn_hist, static_f_test, adaptive_f_test, adaptive_nn_test, adaptive_conv_nn_test)"
   ]
  },
  {
   "cell_type": "code",
   "execution_count": null,
   "id": "07533a8c",
   "metadata": {},
   "outputs": [],
   "source": []
  }
 ],
 "metadata": {
  "kernelspec": {
   "display_name": "Python 3 (ipykernel)",
   "language": "python",
   "name": "python3"
  },
  "language_info": {
   "codemirror_mode": {
    "name": "ipython",
    "version": 3
   },
   "file_extension": ".py",
   "mimetype": "text/x-python",
   "name": "python",
   "nbconvert_exporter": "python",
   "pygments_lexer": "ipython3",
   "version": "3.9.16"
  }
 },
 "nbformat": 4,
 "nbformat_minor": 5
}
