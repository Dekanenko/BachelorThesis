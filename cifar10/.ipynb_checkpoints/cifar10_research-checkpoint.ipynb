{
 "cells": [
  {
   "cell_type": "code",
   "execution_count": 1,
   "id": "e1def1c8",
   "metadata": {},
   "outputs": [],
   "source": [
    "import tensorflow as tf\n",
    "tf.config.experimental.set_visible_devices([], 'GPU')\n",
    "from tensorflow import keras\n",
    "import numpy as np\n",
    "import pandas as pd\n",
    "import matplotlib.pyplot as plt\n",
    "import xlsxwriter\n",
    "\n",
    "%matplotlib qt\n",
    "\n",
    "from tensorflow.keras.datasets import cifar10\n",
    "\n",
    "# import module with layers\n",
    "import sys\n",
    "import os\n",
    "module_path = os.path.abspath(os.path.join('..'))\n",
    "if module_path not in sys.path:\n",
    "    sys.path.append(module_path+\"/model_module\")\n",
    "\n",
    "from adaptive_layer import *"
   ]
  },
  {
   "cell_type": "code",
   "execution_count": 2,
   "id": "ef3ae740",
   "metadata": {},
   "outputs": [],
   "source": [
    "tf.random.set_seed(5)\n",
    "np.random.seed(5)"
   ]
  },
  {
   "cell_type": "code",
   "execution_count": 3,
   "id": "f26c27cd",
   "metadata": {},
   "outputs": [],
   "source": [
    "def illustrate_train(name, y_label, static_f, adaptive_f, adaptive_nn, adaptive_conv_nn):\n",
    "    epochs = range(1, len(static_f)+1)\n",
    "    fig = plt.figure(figsize=(10,7))\n",
    "    ax = fig.add_subplot()\n",
    "    plt.title(name, fontsize=\"xx-large\")\n",
    "\n",
    "    ax.set_ylabel(y_label, fontsize=\"large\")\n",
    "    ax.set_xlabel('Epochs', fontsize=\"large\")\n",
    "\n",
    "    ax.plot(epochs, static_f, label='ReLU Function')\n",
    "    ax.plot(epochs, adaptive_f, label='Swish Function')\n",
    "    ax.plot(epochs, adaptive_nn, label='Adaptive NN')\n",
    "    ax.plot(epochs, adaptive_conv_nn, label='Adaptive Conv NN')\n",
    "\n",
    "    ax.legend()\n",
    "    \n",
    "    plt.grid()\n",
    "    plt.show()"
   ]
  },
  {
   "cell_type": "code",
   "execution_count": 4,
   "id": "ab8cca84",
   "metadata": {},
   "outputs": [],
   "source": [
    "def illustrate_test(name, static_f, adaptive_f, adaptive_nn, adaptive_conv_nn):\n",
    "    fig = plt.figure(figsize=(10,7))\n",
    "    ax = fig.add_subplot()\n",
    "    \n",
    "    x = [\"ReLU Function\", \"Swish Function\", \"Adaptive NN\", \"Adaptive Conv NN\"]\n",
    "    y = [static_f, adaptive_f, adaptive_nn, adaptive_conv_nn]\n",
    "    \n",
    "    plt.title(name, fontsize=\"xx-large\")\n",
    "    ax.set_ylabel(\"Accuracy\", fontsize=\"large\")\n",
    "    \n",
    "    ax.bar(x, y)\n",
    "    \n",
    "    plt.grid()\n",
    "    plt.show()"
   ]
  },
  {
   "cell_type": "code",
   "execution_count": 5,
   "id": "a7b83af7",
   "metadata": {},
   "outputs": [],
   "source": [
    "workbook = xlsxwriter.Workbook('cifar10_measurements.xlsx')"
   ]
  },
  {
   "cell_type": "code",
   "execution_count": 6,
   "id": "81260211",
   "metadata": {},
   "outputs": [],
   "source": [
    "def save_data(name, static_f_train, adaptive_f_train, adaptive_nn_train, adaptive_conv_nn_train, \n",
    "              static_f_test, adaptive_f_test, adaptive_nn_test, adaptive_conv_nn_test):\n",
    "    \n",
    "    epochs = len(static_f_train[0][:])\n",
    "    worksheet = workbook.add_worksheet(name)\n",
    "    \n",
    "    worksheet.write(1, 1, name + \" Training Loss\")\n",
    "    worksheet.write(1, 7, name + \" Training Accuracy\")\n",
    "    worksheet.write(1, 13, name + \" Test Accuracy\")\n",
    "    \n",
    "    worksheet.write(2, 1, \"Epochs\")\n",
    "    worksheet.write(2, 2, \"Static Function\")\n",
    "    worksheet.write(2, 3, \"Adaptive Function\")\n",
    "    worksheet.write(2, 4, \"Adaptive NN\")\n",
    "    worksheet.write(2, 5, \"Adaptive Conv NN\")\n",
    "    \n",
    "    worksheet.write(2, 7, \"Epochs\")\n",
    "    worksheet.write(2, 8, \"Static Function\")\n",
    "    worksheet.write(2, 9, \"Adaptive Function\")\n",
    "    worksheet.write(2, 10, \"Adaptive NN\")\n",
    "    worksheet.write(2, 11, \"Adaptive Conv NN\")\n",
    "    \n",
    "    worksheet.write(2, 13, \"Static Function\")\n",
    "    worksheet.write(2, 14, \"Adaptive Function\")\n",
    "    worksheet.write(2, 15, \"Adaptive NN\")\n",
    "    worksheet.write(2, 16, \"Adaptive Conv NN\")\n",
    "    \n",
    "    worksheet.write(3, 13, static_f_test)\n",
    "    worksheet.write(3, 14, adaptive_f_test)\n",
    "    worksheet.write(3, 15, adaptive_nn_test)\n",
    "    worksheet.write(3, 16, adaptive_conv_nn_test)\n",
    "    \n",
    "    for i in range(0, epochs):\n",
    "        worksheet.write(3+i, 1, i+1)\n",
    "        worksheet.write(3+i, 2, static_f_train[0][i])\n",
    "        worksheet.write(3+i, 3, adaptive_f_train[0][i])\n",
    "        worksheet.write(3+i, 4, adaptive_nn_train[0][i])\n",
    "        worksheet.write(3+i, 5, adaptive_conv_nn_train[0][i])\n",
    "        \n",
    "        worksheet.write(3+i, 7, i+1)\n",
    "        worksheet.write(3+i, 8, static_f_train[1][i])\n",
    "        worksheet.write(3+i, 9, adaptive_f_train[1][i])\n",
    "        worksheet.write(3+i, 10, adaptive_nn_train[1][i])\n",
    "        worksheet.write(3+i, 11, adaptive_conv_nn_train[1][i])\n",
    "    \n",
    "    workbook.close()"
   ]
  },
  {
   "cell_type": "code",
   "execution_count": 7,
   "id": "4965b33a",
   "metadata": {},
   "outputs": [],
   "source": [
    "# dataset\n",
    "\n",
    "(x_train, y_train), (x_test, y_test) = keras.datasets.cifar10.load_data()\n",
    "x_train = x_train/255\n",
    "x_test = x_test/255\n",
    "x_train = np.reshape(x_train, (x_train.shape[0], -1))\n",
    "x_test = np.reshape(x_test, (x_test.shape[0], -1))\n",
    "y_train = keras.utils.to_categorical(y_train, 10)\n",
    "y_test = keras.utils.to_categorical(y_test, 10)"
   ]
  },
  {
   "cell_type": "code",
   "execution_count": 8,
   "id": "acfbf2db",
   "metadata": {},
   "outputs": [],
   "source": [
    "EPOCHS = 30\n",
    "name = \"Cifar10\"\n",
    "\n",
    "# measurement repetitions\n",
    "flag = measurements = 2\n",
    "\n",
    "static_f_hist = np.zeros(shape=[2, EPOCHS])\n",
    "adaptive_f_hist = np.zeros(shape=[2, EPOCHS])\n",
    "adaptive_nn_hist = np.zeros(shape=[2, EPOCHS])\n",
    "adaptive_conv_nn_hist = np.zeros(shape=[2, EPOCHS])\n",
    "\n",
    "static_f_test = 0\n",
    "adaptive_f_test = 0\n",
    "adaptive_nn_test = 0\n",
    "adaptive_conv_nn_test = 0"
   ]
  },
  {
   "cell_type": "code",
   "execution_count": null,
   "id": "9e99d616",
   "metadata": {},
   "outputs": [],
   "source": []
  },
  {
   "cell_type": "code",
   "execution_count": 29,
   "id": "8df7f88c",
   "metadata": {},
   "outputs": [],
   "source": [
    "static_f_model = keras.Sequential([\n",
    "    keras.layers.Dense(400, activation=\"relu\"),\n",
    "    keras.layers.Dense(50, activation=\"relu\"),\n",
    "    keras.layers.Dense(10, activation=\"softmax\"),\n",
    "])"
   ]
  },
  {
   "cell_type": "code",
   "execution_count": 30,
   "id": "55a602e2",
   "metadata": {},
   "outputs": [],
   "source": [
    "adaptive_f_model = keras.Sequential([\n",
    "    keras.layers.Dense(400, activation=tf.nn.swish),\n",
    "    keras.layers.Dense(50, activation=tf.nn.swish),\n",
    "    keras.layers.Dense(10, activation=\"softmax\"),\n",
    "])"
   ]
  },
  {
   "cell_type": "code",
   "execution_count": 31,
   "id": "99177453",
   "metadata": {},
   "outputs": [],
   "source": [
    "# Adaptive Layer\n",
    "adaptive_nn_model = AdaptiveModel([\n",
    "    AdaptiveLayer(400, structure=[2, 1], inner_hidden_activation=tf.nn.relu, \n",
    "                  inner_out_activation=tf.nn.leaky_relu, skip_w=1.5), \n",
    "    AdaptiveLayer(50, structure=[4, 4, 1], inner_hidden_activation=tf.nn.relu, \n",
    "                  inner_out_activation=tf.nn.leaky_relu, skip_w=0.9), \n",
    "    AdaptiveLayer(10, structure=[8, 4, 1], inner_hidden_activation=tf.nn.relu, \n",
    "                 inner_out_activation=tf.nn.softmax, skip_w=0.9)\n",
    "])"
   ]
  },
  {
   "cell_type": "code",
   "execution_count": 32,
   "id": "ddfa62fe",
   "metadata": {},
   "outputs": [],
   "source": [
    "# Adaptive Layer based on 1D Conv\n",
    "adaptive_conv_nn_model = AdaptiveModel([\n",
    "    AdaptiveLayerConv(400, structure=[32], split=1, noise=0, skip_w=1.5, \n",
    "                      inner_hidden_activation=tf.nn.leaky_relu, inner_out_activation=tf.nn.leaky_relu), \n",
    "    AdaptiveLayerConv(50, structure=[64], split=2, noise=0, skip_w=0.9, \n",
    "                      inner_hidden_activation=tf.nn.leaky_relu, inner_out_activation=tf.nn.leaky_relu), \n",
    "    AdaptiveLayerConv(10, structure=[128], split=3, noise=0, skip_w=0.9, \n",
    "                      inner_hidden_activation=tf.nn.leaky_relu, inner_out_activation=tf.nn.softmax) \n",
    "])"
   ]
  },
  {
   "cell_type": "code",
   "execution_count": 33,
   "id": "38652992",
   "metadata": {},
   "outputs": [],
   "source": [
    "static_f_model.compile(optimizer=tf.optimizers.legacy.Adam(learning_rate=0.001), \n",
    "                       loss=\"categorical_crossentropy\", metrics=['accuracy'])"
   ]
  },
  {
   "cell_type": "code",
   "execution_count": 34,
   "id": "244180f9",
   "metadata": {},
   "outputs": [],
   "source": [
    "adaptive_f_model.compile(optimizer=tf.optimizers.legacy.Adam(learning_rate=0.001), \n",
    "                       loss=\"categorical_crossentropy\", metrics=['accuracy'])"
   ]
  },
  {
   "cell_type": "code",
   "execution_count": 35,
   "id": "ca5dd089",
   "metadata": {},
   "outputs": [],
   "source": [
    "adaptive_nn_model.compile(optimizer=tf.optimizers.legacy.Adam(learning_rate=0.001), \n",
    "                       loss=\"categorical_crossentropy\", metrics=['accuracy'])"
   ]
  },
  {
   "cell_type": "code",
   "execution_count": 36,
   "id": "dc0a4b48",
   "metadata": {},
   "outputs": [],
   "source": [
    "adaptive_conv_nn_model.compile(optimizer=tf.optimizers.legacy.Adam(learning_rate=0.001), \n",
    "                       loss=\"categorical_crossentropy\", metrics=['accuracy'])"
   ]
  },
  {
   "cell_type": "code",
   "execution_count": 37,
   "id": "ee6ac750",
   "metadata": {
    "scrolled": true
   },
   "outputs": [
    {
     "name": "stdout",
     "output_type": "stream",
     "text": [
      "Epoch 1/30\n",
      "782/782 [==============================] - 3s 4ms/step - loss: 2.0014 - accuracy: 0.2559\n",
      "Epoch 2/30\n",
      "782/782 [==============================] - 3s 4ms/step - loss: 1.8083 - accuracy: 0.3309\n",
      "Epoch 3/30\n",
      "782/782 [==============================] - 3s 3ms/step - loss: 1.7200 - accuracy: 0.3703\n",
      "Epoch 4/30\n",
      "782/782 [==============================] - 3s 3ms/step - loss: 1.6538 - accuracy: 0.3982\n",
      "Epoch 5/30\n",
      "782/782 [==============================] - 3s 4ms/step - loss: 1.5994 - accuracy: 0.4224\n",
      "Epoch 6/30\n",
      "782/782 [==============================] - 3s 4ms/step - loss: 1.5537 - accuracy: 0.4414\n",
      "Epoch 7/30\n",
      "782/782 [==============================] - 3s 4ms/step - loss: 1.5170 - accuracy: 0.4530\n",
      "Epoch 8/30\n",
      "782/782 [==============================] - 3s 3ms/step - loss: 1.4867 - accuracy: 0.4665\n",
      "Epoch 9/30\n",
      "782/782 [==============================] - 3s 3ms/step - loss: 1.4621 - accuracy: 0.4770\n",
      "Epoch 10/30\n",
      "782/782 [==============================] - 3s 3ms/step - loss: 1.4405 - accuracy: 0.4858\n",
      "Epoch 11/30\n",
      "782/782 [==============================] - 3s 3ms/step - loss: 1.4183 - accuracy: 0.4927\n",
      "Epoch 12/30\n",
      "782/782 [==============================] - 3s 3ms/step - loss: 1.3960 - accuracy: 0.5015\n",
      "Epoch 13/30\n",
      "782/782 [==============================] - 3s 3ms/step - loss: 1.3829 - accuracy: 0.5065\n",
      "Epoch 14/30\n",
      "782/782 [==============================] - 3s 3ms/step - loss: 1.3649 - accuracy: 0.5148\n",
      "Epoch 15/30\n",
      "782/782 [==============================] - 3s 3ms/step - loss: 1.3494 - accuracy: 0.5188\n",
      "Epoch 16/30\n",
      "782/782 [==============================] - 3s 3ms/step - loss: 1.3349 - accuracy: 0.5235\n",
      "Epoch 17/30\n",
      "782/782 [==============================] - 3s 3ms/step - loss: 1.3207 - accuracy: 0.5279\n",
      "Epoch 18/30\n",
      "782/782 [==============================] - 3s 3ms/step - loss: 1.3105 - accuracy: 0.5337\n",
      "Epoch 19/30\n",
      "782/782 [==============================] - 3s 3ms/step - loss: 1.2939 - accuracy: 0.5399\n",
      "Epoch 20/30\n",
      "782/782 [==============================] - 3s 3ms/step - loss: 1.2857 - accuracy: 0.5397\n",
      "Epoch 21/30\n",
      "782/782 [==============================] - 3s 3ms/step - loss: 1.2720 - accuracy: 0.5445\n",
      "Epoch 22/30\n",
      "782/782 [==============================] - 3s 3ms/step - loss: 1.2594 - accuracy: 0.5522\n",
      "Epoch 23/30\n",
      "782/782 [==============================] - 3s 3ms/step - loss: 1.2537 - accuracy: 0.5542\n",
      "Epoch 24/30\n",
      "782/782 [==============================] - 3s 3ms/step - loss: 1.2403 - accuracy: 0.5579\n",
      "Epoch 25/30\n",
      "782/782 [==============================] - 3s 3ms/step - loss: 1.2357 - accuracy: 0.5576\n",
      "Epoch 26/30\n",
      "782/782 [==============================] - 3s 3ms/step - loss: 1.2251 - accuracy: 0.5647\n",
      "Epoch 27/30\n",
      "782/782 [==============================] - 3s 3ms/step - loss: 1.2142 - accuracy: 0.5672\n",
      "Epoch 28/30\n",
      "782/782 [==============================] - 3s 3ms/step - loss: 1.2074 - accuracy: 0.5681\n",
      "Epoch 29/30\n",
      "782/782 [==============================] - 3s 3ms/step - loss: 1.1999 - accuracy: 0.5703\n",
      "Epoch 30/30\n",
      "782/782 [==============================] - 3s 3ms/step - loss: 1.1868 - accuracy: 0.5751\n"
     ]
    }
   ],
   "source": [
    "hist = static_f_model.fit(x_train, y_train, epochs=EPOCHS, batch_size=64)"
   ]
  },
  {
   "cell_type": "code",
   "execution_count": 38,
   "id": "fece44b0",
   "metadata": {},
   "outputs": [],
   "source": [
    "static_f_hist[0][:] += np.array(hist.history[\"loss\"])/measurements\n",
    "static_f_hist[1][:] += np.array(hist.history[\"accuracy\"])/measurements"
   ]
  },
  {
   "cell_type": "code",
   "execution_count": 39,
   "id": "8c508df0",
   "metadata": {
    "scrolled": true
   },
   "outputs": [
    {
     "name": "stdout",
     "output_type": "stream",
     "text": [
      "Epoch 1/30\n",
      "782/782 [==============================] - 3s 3ms/step - loss: 2.0207 - accuracy: 0.2569\n",
      "Epoch 2/30\n",
      "782/782 [==============================] - 3s 3ms/step - loss: 1.7830 - accuracy: 0.3604\n",
      "Epoch 3/30\n",
      "782/782 [==============================] - 3s 3ms/step - loss: 1.6670 - accuracy: 0.4019\n",
      "Epoch 4/30\n",
      "782/782 [==============================] - 3s 3ms/step - loss: 1.6066 - accuracy: 0.4213\n",
      "Epoch 5/30\n",
      "782/782 [==============================] - 3s 3ms/step - loss: 1.5630 - accuracy: 0.4382\n",
      "Epoch 6/30\n",
      "782/782 [==============================] - 3s 3ms/step - loss: 1.5311 - accuracy: 0.4504\n",
      "Epoch 7/30\n",
      "782/782 [==============================] - 3s 3ms/step - loss: 1.4997 - accuracy: 0.4630\n",
      "Epoch 8/30\n",
      "782/782 [==============================] - 3s 3ms/step - loss: 1.4761 - accuracy: 0.4696\n",
      "Epoch 9/30\n",
      "782/782 [==============================] - 3s 3ms/step - loss: 1.4557 - accuracy: 0.4768\n",
      "Epoch 10/30\n",
      "782/782 [==============================] - 3s 3ms/step - loss: 1.4329 - accuracy: 0.4877\n",
      "Epoch 11/30\n",
      "782/782 [==============================] - 3s 3ms/step - loss: 1.4125 - accuracy: 0.4964\n",
      "Epoch 12/30\n",
      "782/782 [==============================] - 3s 3ms/step - loss: 1.3949 - accuracy: 0.5003\n",
      "Epoch 13/30\n",
      "782/782 [==============================] - 3s 3ms/step - loss: 1.3812 - accuracy: 0.5078\n",
      "Epoch 14/30\n",
      "782/782 [==============================] - 3s 3ms/step - loss: 1.3619 - accuracy: 0.5135\n",
      "Epoch 15/30\n",
      "782/782 [==============================] - 3s 3ms/step - loss: 1.3520 - accuracy: 0.5177\n",
      "Epoch 16/30\n",
      "782/782 [==============================] - 3s 3ms/step - loss: 1.3410 - accuracy: 0.5206\n",
      "Epoch 17/30\n",
      "782/782 [==============================] - 3s 3ms/step - loss: 1.3237 - accuracy: 0.5287\n",
      "Epoch 18/30\n",
      "782/782 [==============================] - 3s 3ms/step - loss: 1.3110 - accuracy: 0.5334\n",
      "Epoch 19/30\n",
      "782/782 [==============================] - 3s 3ms/step - loss: 1.2969 - accuracy: 0.5356\n",
      "Epoch 20/30\n",
      "782/782 [==============================] - 3s 3ms/step - loss: 1.2908 - accuracy: 0.5375\n",
      "Epoch 21/30\n",
      "782/782 [==============================] - 3s 3ms/step - loss: 1.2830 - accuracy: 0.5417\n",
      "Epoch 22/30\n",
      "782/782 [==============================] - 3s 3ms/step - loss: 1.2688 - accuracy: 0.5464\n",
      "Epoch 23/30\n",
      "782/782 [==============================] - 3s 3ms/step - loss: 1.2650 - accuracy: 0.5465\n",
      "Epoch 24/30\n",
      "782/782 [==============================] - 3s 3ms/step - loss: 1.2490 - accuracy: 0.5541\n",
      "Epoch 25/30\n",
      "782/782 [==============================] - 3s 3ms/step - loss: 1.2412 - accuracy: 0.5581\n",
      "Epoch 26/30\n",
      "782/782 [==============================] - 3s 3ms/step - loss: 1.2375 - accuracy: 0.5562\n",
      "Epoch 27/30\n",
      "782/782 [==============================] - 3s 3ms/step - loss: 1.2288 - accuracy: 0.5599\n",
      "Epoch 28/30\n",
      "782/782 [==============================] - 3s 3ms/step - loss: 1.2208 - accuracy: 0.5622\n",
      "Epoch 29/30\n",
      "782/782 [==============================] - 3s 3ms/step - loss: 1.2150 - accuracy: 0.5656\n",
      "Epoch 30/30\n",
      "782/782 [==============================] - 3s 3ms/step - loss: 1.2058 - accuracy: 0.5700\n"
     ]
    }
   ],
   "source": [
    "hist = adaptive_f_model.fit(x_train, y_train, epochs=EPOCHS, batch_size=64)"
   ]
  },
  {
   "cell_type": "code",
   "execution_count": 40,
   "id": "a562778c",
   "metadata": {},
   "outputs": [],
   "source": [
    "adaptive_f_hist[0][:] += np.array(hist.history[\"loss\"])/measurements\n",
    "adaptive_f_hist[1][:] += np.array(hist.history[\"accuracy\"])/measurements"
   ]
  },
  {
   "cell_type": "code",
   "execution_count": 41,
   "id": "61fe894f",
   "metadata": {
    "scrolled": true
   },
   "outputs": [
    {
     "name": "stdout",
     "output_type": "stream",
     "text": [
      "Epoch 1/30\n",
      "782/782 [==============================] - 4s 5ms/step - loss: 2.0735 - accuracy: 0.2569\n",
      "Epoch 2/30\n",
      "782/782 [==============================] - 4s 5ms/step - loss: 1.7605 - accuracy: 0.3698\n",
      "Epoch 3/30\n",
      "782/782 [==============================] - 4s 5ms/step - loss: 1.6577 - accuracy: 0.4084\n",
      "Epoch 4/30\n",
      "782/782 [==============================] - 4s 5ms/step - loss: 1.5951 - accuracy: 0.4319\n",
      "Epoch 5/30\n",
      "782/782 [==============================] - 4s 5ms/step - loss: 1.5422 - accuracy: 0.4457\n",
      "Epoch 6/30\n",
      "782/782 [==============================] - 4s 5ms/step - loss: 1.5063 - accuracy: 0.4604\n",
      "Epoch 7/30\n",
      "782/782 [==============================] - 4s 5ms/step - loss: 1.4802 - accuracy: 0.4695\n",
      "Epoch 8/30\n",
      "782/782 [==============================] - 4s 5ms/step - loss: 1.4540 - accuracy: 0.4812\n",
      "Epoch 9/30\n",
      "782/782 [==============================] - 4s 5ms/step - loss: 1.4328 - accuracy: 0.4861\n",
      "Epoch 10/30\n",
      "782/782 [==============================] - 4s 5ms/step - loss: 1.4012 - accuracy: 0.5004\n",
      "Epoch 11/30\n",
      "782/782 [==============================] - 4s 5ms/step - loss: 1.3855 - accuracy: 0.5053\n",
      "Epoch 12/30\n",
      "782/782 [==============================] - 4s 5ms/step - loss: 1.3550 - accuracy: 0.5149\n",
      "Epoch 13/30\n",
      "782/782 [==============================] - 4s 5ms/step - loss: 1.3410 - accuracy: 0.5211\n",
      "Epoch 14/30\n",
      "782/782 [==============================] - 4s 5ms/step - loss: 1.3201 - accuracy: 0.5261\n",
      "Epoch 15/30\n",
      "782/782 [==============================] - 4s 5ms/step - loss: 1.3013 - accuracy: 0.5366\n",
      "Epoch 16/30\n",
      "782/782 [==============================] - 4s 5ms/step - loss: 1.2841 - accuracy: 0.5417\n",
      "Epoch 17/30\n",
      "782/782 [==============================] - 4s 5ms/step - loss: 1.2669 - accuracy: 0.5463\n",
      "Epoch 18/30\n",
      "782/782 [==============================] - 4s 5ms/step - loss: 1.2497 - accuracy: 0.5535\n",
      "Epoch 19/30\n",
      "782/782 [==============================] - 4s 5ms/step - loss: 1.2281 - accuracy: 0.5607\n",
      "Epoch 20/30\n",
      "782/782 [==============================] - 4s 5ms/step - loss: 1.2192 - accuracy: 0.5632\n",
      "Epoch 21/30\n",
      "782/782 [==============================] - 4s 5ms/step - loss: 1.2047 - accuracy: 0.5704\n",
      "Epoch 22/30\n",
      "782/782 [==============================] - 4s 5ms/step - loss: 1.1806 - accuracy: 0.5790\n",
      "Epoch 23/30\n",
      "782/782 [==============================] - 4s 5ms/step - loss: 1.1786 - accuracy: 0.5783\n",
      "Epoch 24/30\n",
      "782/782 [==============================] - 4s 5ms/step - loss: 1.1539 - accuracy: 0.5870\n",
      "Epoch 25/30\n",
      "782/782 [==============================] - 4s 5ms/step - loss: 1.1471 - accuracy: 0.5892\n",
      "Epoch 26/30\n",
      "782/782 [==============================] - 4s 5ms/step - loss: 1.1342 - accuracy: 0.5906\n",
      "Epoch 27/30\n",
      "782/782 [==============================] - 4s 5ms/step - loss: 1.1172 - accuracy: 0.5992\n",
      "Epoch 28/30\n",
      "782/782 [==============================] - 4s 5ms/step - loss: 1.1086 - accuracy: 0.6012\n",
      "Epoch 29/30\n",
      "782/782 [==============================] - 4s 5ms/step - loss: 1.0930 - accuracy: 0.6090\n",
      "Epoch 30/30\n",
      "782/782 [==============================] - 4s 5ms/step - loss: 1.0786 - accuracy: 0.6119\n"
     ]
    }
   ],
   "source": [
    "hist = adaptive_nn_model.fit(x_train, y_train, epochs=EPOCHS, batch_size=64)"
   ]
  },
  {
   "cell_type": "code",
   "execution_count": 42,
   "id": "e8f541f1",
   "metadata": {},
   "outputs": [],
   "source": [
    "adaptive_nn_hist[0][:] += np.array(hist.history[\"loss\"])/measurements\n",
    "adaptive_nn_hist[1][:] += np.array(hist.history[\"accuracy\"])/measurements"
   ]
  },
  {
   "cell_type": "code",
   "execution_count": 43,
   "id": "3cfa80f9",
   "metadata": {
    "scrolled": true
   },
   "outputs": [
    {
     "name": "stdout",
     "output_type": "stream",
     "text": [
      "Epoch 1/30\n",
      "782/782 [==============================] - 6s 6ms/step - loss: 1.8519 - accuracy: 0.3262\n",
      "Epoch 2/30\n",
      "782/782 [==============================] - 5s 7ms/step - loss: 1.6706 - accuracy: 0.3988\n",
      "Epoch 3/30\n",
      "782/782 [==============================] - 5s 7ms/step - loss: 1.5857 - accuracy: 0.4315\n",
      "Epoch 4/30\n",
      "782/782 [==============================] - 5s 7ms/step - loss: 1.5318 - accuracy: 0.4519\n",
      "Epoch 5/30\n",
      "782/782 [==============================] - 5s 7ms/step - loss: 1.4919 - accuracy: 0.4658\n",
      "Epoch 6/30\n",
      "782/782 [==============================] - 5s 7ms/step - loss: 1.4567 - accuracy: 0.4776\n",
      "Epoch 7/30\n",
      "782/782 [==============================] - 5s 7ms/step - loss: 1.4258 - accuracy: 0.4896\n",
      "Epoch 8/30\n",
      "782/782 [==============================] - 5s 7ms/step - loss: 1.3986 - accuracy: 0.4978\n",
      "Epoch 9/30\n",
      "782/782 [==============================] - 5s 7ms/step - loss: 1.3633 - accuracy: 0.5131\n",
      "Epoch 10/30\n",
      "782/782 [==============================] - 5s 7ms/step - loss: 1.3437 - accuracy: 0.5190\n",
      "Epoch 11/30\n",
      "782/782 [==============================] - 5s 7ms/step - loss: 1.3200 - accuracy: 0.5276\n",
      "Epoch 12/30\n",
      "782/782 [==============================] - 5s 7ms/step - loss: 1.2939 - accuracy: 0.5372\n",
      "Epoch 13/30\n",
      "782/782 [==============================] - 5s 7ms/step - loss: 1.2698 - accuracy: 0.5468\n",
      "Epoch 14/30\n",
      "782/782 [==============================] - 5s 7ms/step - loss: 1.2503 - accuracy: 0.5535\n",
      "Epoch 15/30\n",
      "782/782 [==============================] - 5s 7ms/step - loss: 1.2312 - accuracy: 0.5601\n",
      "Epoch 16/30\n",
      "782/782 [==============================] - 5s 7ms/step - loss: 1.2144 - accuracy: 0.5648\n",
      "Epoch 17/30\n",
      "782/782 [==============================] - 5s 7ms/step - loss: 1.1963 - accuracy: 0.5712\n",
      "Epoch 18/30\n",
      "782/782 [==============================] - 5s 7ms/step - loss: 1.1819 - accuracy: 0.5778\n",
      "Epoch 19/30\n",
      "782/782 [==============================] - 5s 7ms/step - loss: 1.1564 - accuracy: 0.5860\n",
      "Epoch 20/30\n",
      "782/782 [==============================] - 5s 7ms/step - loss: 1.1465 - accuracy: 0.5898\n",
      "Epoch 21/30\n",
      "782/782 [==============================] - 5s 7ms/step - loss: 1.1306 - accuracy: 0.5946\n",
      "Epoch 22/30\n",
      "782/782 [==============================] - 5s 7ms/step - loss: 1.1109 - accuracy: 0.6021\n",
      "Epoch 23/30\n",
      "782/782 [==============================] - 5s 7ms/step - loss: 1.0992 - accuracy: 0.6049\n",
      "Epoch 24/30\n",
      "782/782 [==============================] - 5s 7ms/step - loss: 1.0787 - accuracy: 0.6134\n",
      "Epoch 25/30\n",
      "782/782 [==============================] - 5s 7ms/step - loss: 1.0648 - accuracy: 0.6161\n",
      "Epoch 26/30\n",
      "782/782 [==============================] - 5s 7ms/step - loss: 1.0634 - accuracy: 0.6179\n",
      "Epoch 27/30\n",
      "782/782 [==============================] - 5s 7ms/step - loss: 1.0408 - accuracy: 0.6275\n",
      "Epoch 28/30\n",
      "782/782 [==============================] - 5s 7ms/step - loss: 1.0217 - accuracy: 0.6334\n",
      "Epoch 29/30\n",
      "782/782 [==============================] - 5s 7ms/step - loss: 1.0057 - accuracy: 0.6386\n",
      "Epoch 30/30\n",
      "782/782 [==============================] - 5s 7ms/step - loss: 0.9962 - accuracy: 0.6426\n"
     ]
    }
   ],
   "source": [
    "hist = adaptive_conv_nn_model.fit(x_train, y_train, epochs=EPOCHS, batch_size=64)"
   ]
  },
  {
   "cell_type": "code",
   "execution_count": 44,
   "id": "cc4d7788",
   "metadata": {},
   "outputs": [],
   "source": [
    "adaptive_conv_nn_hist[0][:] += np.array(hist.history[\"loss\"])/measurements\n",
    "adaptive_conv_nn_hist[1][:] += np.array(hist.history[\"accuracy\"])/measurements"
   ]
  },
  {
   "cell_type": "code",
   "execution_count": 45,
   "id": "df20e870",
   "metadata": {},
   "outputs": [
    {
     "name": "stdout",
     "output_type": "stream",
     "text": [
      "313/313 [==============================] - 0s 932us/step - loss: 1.4310 - accuracy: 0.4992\n"
     ]
    }
   ],
   "source": [
    "static_f_test += static_f_model.evaluate(x_test, y_test)[1]/measurements"
   ]
  },
  {
   "cell_type": "code",
   "execution_count": 46,
   "id": "5cc36cc4",
   "metadata": {},
   "outputs": [
    {
     "name": "stdout",
     "output_type": "stream",
     "text": [
      "313/313 [==============================] - 0s 951us/step - loss: 1.4711 - accuracy: 0.4877\n"
     ]
    }
   ],
   "source": [
    "adaptive_f_test += adaptive_f_model.evaluate(x_test, y_test)[1]/measurements"
   ]
  },
  {
   "cell_type": "code",
   "execution_count": 47,
   "id": "19df7397",
   "metadata": {},
   "outputs": [
    {
     "name": "stdout",
     "output_type": "stream",
     "text": [
      "313/313 [==============================] - 0s 1ms/step - loss: 1.3973 - accuracy: 0.5234\n"
     ]
    }
   ],
   "source": [
    "adaptive_nn_test += adaptive_nn_model.evaluate(x_test, y_test)[1]/measurements"
   ]
  },
  {
   "cell_type": "code",
   "execution_count": 48,
   "id": "ce1aae25",
   "metadata": {},
   "outputs": [
    {
     "name": "stdout",
     "output_type": "stream",
     "text": [
      "313/313 [==============================] - 1s 1ms/step - loss: 1.4791 - accuracy: 0.4993\n",
      "---------FINISH---------\n"
     ]
    }
   ],
   "source": [
    "adaptive_conv_nn_test += adaptive_conv_nn_model.evaluate(x_test, y_test)[1]/measurements\n",
    "flag -= 1\n",
    "if(flag == 0):\n",
    "    print(\"---------FINISH---------\")"
   ]
  },
  {
   "cell_type": "code",
   "execution_count": null,
   "id": "45e08645",
   "metadata": {},
   "outputs": [],
   "source": []
  },
  {
   "cell_type": "code",
   "execution_count": 49,
   "id": "bc1dda17",
   "metadata": {},
   "outputs": [
    {
     "name": "stdout",
     "output_type": "stream",
     "text": [
      "Static Function model\n",
      "Test accuracy :  0.4948499947786331\n",
      "\n",
      "Adaptive Function model\n",
      "Test accuracy :  0.4932499974966049\n",
      "\n",
      "Adaptive NN model\n",
      "Test accuracy :  0.5270000100135803\n",
      "\n",
      "Adaptive Conv NN model\n",
      "Test accuracy :  0.5051999986171722\n"
     ]
    }
   ],
   "source": [
    "print(\"Static Function model\\nTest accuracy : \", static_f_test)\n",
    "print(\"\\nAdaptive Function model\\nTest accuracy : \", adaptive_f_test)\n",
    "print(\"\\nAdaptive NN model\\nTest accuracy : \", adaptive_nn_test)\n",
    "print(\"\\nAdaptive Conv NN model\\nTest accuracy : \", adaptive_conv_nn_test)"
   ]
  },
  {
   "cell_type": "code",
   "execution_count": 50,
   "id": "49fe6589",
   "metadata": {},
   "outputs": [],
   "source": [
    "illustrate_train(name+\" Training Loss\", \"Loss\", static_f_hist[0][:], \n",
    "                 adaptive_f_hist[0][:], adaptive_nn_hist[0][:], adaptive_conv_nn_hist[0][:])"
   ]
  },
  {
   "cell_type": "code",
   "execution_count": null,
   "id": "2ed4731a",
   "metadata": {},
   "outputs": [],
   "source": [
    "illustrate_train(name + \" Training Accuracy\", \"Accuracy\", static_f_hist[1][:], \n",
    "                 adaptive_f_hist[1][:], adaptive_nn_hist[1][:], adaptive_conv_nn_hist[1][:])"
   ]
  },
  {
   "cell_type": "code",
   "execution_count": 55,
   "id": "8385dc4e",
   "metadata": {},
   "outputs": [],
   "source": [
    "illustrate_test(name + \" Test Accuracy\", \n",
    "                static_f_test, adaptive_f_test, adaptive_nn_test, adaptive_conv_nn_test)"
   ]
  },
  {
   "cell_type": "code",
   "execution_count": 1,
   "id": "309eb3d1",
   "metadata": {},
   "outputs": [
    {
     "ename": "NameError",
     "evalue": "name 'save_data' is not defined",
     "output_type": "error",
     "traceback": [
      "\u001b[0;31m---------------------------------------------------------------------------\u001b[0m",
      "\u001b[0;31mNameError\u001b[0m                                 Traceback (most recent call last)",
      "Cell \u001b[0;32mIn[1], line 1\u001b[0m\n\u001b[0;32m----> 1\u001b[0m \u001b[43msave_data\u001b[49m(name, static_f_hist, adaptive_f_hist, adaptive_nn_hist, \n\u001b[1;32m      2\u001b[0m           adaptive_conv_nn_hist, static_f_test, adaptive_f_test, adaptive_nn_test, adaptive_conv_nn_test)\n",
      "\u001b[0;31mNameError\u001b[0m: name 'save_data' is not defined"
     ]
    }
   ],
   "source": [
    "save_data(name, static_f_hist, adaptive_f_hist, adaptive_nn_hist, \n",
    "          adaptive_conv_nn_hist, static_f_test, adaptive_f_test, adaptive_nn_test, adaptive_conv_nn_test)"
   ]
  },
  {
   "cell_type": "code",
   "execution_count": null,
   "id": "07533a8c",
   "metadata": {},
   "outputs": [],
   "source": []
  }
 ],
 "metadata": {
  "kernelspec": {
   "display_name": "Python 3 (ipykernel)",
   "language": "python",
   "name": "python3"
  },
  "language_info": {
   "codemirror_mode": {
    "name": "ipython",
    "version": 3
   },
   "file_extension": ".py",
   "mimetype": "text/x-python",
   "name": "python",
   "nbconvert_exporter": "python",
   "pygments_lexer": "ipython3",
   "version": "3.9.16"
  }
 },
 "nbformat": 4,
 "nbformat_minor": 5
}
