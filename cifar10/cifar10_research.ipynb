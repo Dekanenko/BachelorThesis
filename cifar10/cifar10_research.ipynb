{
 "cells": [
  {
   "cell_type": "code",
   "execution_count": 1,
   "id": "e1def1c8",
   "metadata": {},
   "outputs": [],
   "source": [
    "import tensorflow as tf\n",
    "tf.config.experimental.set_visible_devices([], 'GPU')\n",
    "from tensorflow import keras\n",
    "import numpy as np\n",
    "import pandas as pd\n",
    "import matplotlib.pyplot as plt\n",
    "import xlsxwriter\n",
    "\n",
    "%matplotlib qt\n",
    "\n",
    "from tensorflow.keras.datasets import cifar10\n",
    "\n",
    "# import module with layers\n",
    "import sys\n",
    "import os\n",
    "module_path = os.path.abspath(os.path.join('..'))\n",
    "if module_path not in sys.path:\n",
    "    sys.path.append(module_path+\"/model_module\")\n",
    "\n",
    "from adaptive_layer import *"
   ]
  },
  {
   "cell_type": "code",
   "execution_count": 2,
   "id": "ef3ae740",
   "metadata": {},
   "outputs": [],
   "source": [
    "tf.random.set_seed(5)\n",
    "np.random.seed(5)"
   ]
  },
  {
   "cell_type": "code",
   "execution_count": 3,
   "id": "f26c27cd",
   "metadata": {},
   "outputs": [],
   "source": [
    "def illustrate_train(name, y_label, static_f, adaptive_f, adaptive_nn, adaptive_conv_nn):\n",
    "    epochs = range(1, len(static_f)+1)\n",
    "    fig = plt.figure(figsize=(10,7))\n",
    "    ax = fig.add_subplot()\n",
    "    plt.title(name, fontsize=\"xx-large\")\n",
    "\n",
    "    ax.set_ylabel(y_label, fontsize=\"large\")\n",
    "    ax.set_xlabel('Epochs', fontsize=\"large\")\n",
    "\n",
    "    ax.plot(epochs, static_f, label='ReLU Function')\n",
    "    ax.plot(epochs, adaptive_f, label='Swish Function')\n",
    "    ax.plot(epochs, adaptive_nn, label='Adaptive NN')\n",
    "    ax.plot(epochs, adaptive_conv_nn, label='Adaptive Conv NN')\n",
    "\n",
    "    ax.legend()\n",
    "    \n",
    "    plt.grid()\n",
    "    plt.show()"
   ]
  },
  {
   "cell_type": "code",
   "execution_count": 4,
   "id": "ab8cca84",
   "metadata": {},
   "outputs": [],
   "source": [
    "def illustrate_test(name, static_f, adaptive_f, adaptive_nn, adaptive_conv_nn):\n",
    "    fig = plt.figure(figsize=(10,7))\n",
    "    ax = fig.add_subplot()\n",
    "    \n",
    "    x = [\"ReLU Function\", \"Swish Function\", \"Adaptive NN\", \"Adaptive Conv NN\"]\n",
    "    y = [static_f, adaptive_f, adaptive_nn, adaptive_conv_nn]\n",
    "    \n",
    "    plt.title(name, fontsize=\"xx-large\")\n",
    "    ax.set_ylabel(\"Accuracy\", fontsize=\"large\")\n",
    "    \n",
    "    ax.bar(x, y)\n",
    "    \n",
    "    plt.grid()\n",
    "    plt.show()"
   ]
  },
  {
   "cell_type": "code",
   "execution_count": 5,
   "id": "a7b83af7",
   "metadata": {},
   "outputs": [],
   "source": [
    "workbook = xlsxwriter.Workbook('cifar10_measurements.xlsx')"
   ]
  },
  {
   "cell_type": "code",
   "execution_count": 6,
   "id": "81260211",
   "metadata": {},
   "outputs": [],
   "source": [
    "def save_data(name, static_f_train, adaptive_f_train, adaptive_nn_train, adaptive_conv_nn_train, \n",
    "              static_f_test, adaptive_f_test, adaptive_nn_test, adaptive_conv_nn_test):\n",
    "    \n",
    "    epochs = len(static_f_train[0][:])\n",
    "    worksheet = workbook.add_worksheet(name)\n",
    "    \n",
    "    worksheet.write(1, 1, name + \" Training Loss\")\n",
    "    worksheet.write(1, 7, name + \" Training Accuracy\")\n",
    "    worksheet.write(1, 13, name + \" Test Accuracy\")\n",
    "    \n",
    "    worksheet.write(2, 1, \"Epochs\")\n",
    "    worksheet.write(2, 2, \"ReLU Function\")\n",
    "    worksheet.write(2, 3, \"Swish Function\")\n",
    "    worksheet.write(2, 4, \"Adaptive NN\")\n",
    "    worksheet.write(2, 5, \"Adaptive Conv NN\")\n",
    "    \n",
    "    worksheet.write(2, 7, \"Epochs\")\n",
    "    worksheet.write(2, 8, \"ReLU Function\")\n",
    "    worksheet.write(2, 9, \"Swish Function\")\n",
    "    worksheet.write(2, 10, \"Adaptive NN\")\n",
    "    worksheet.write(2, 11, \"Adaptive Conv NN\")\n",
    "    \n",
    "    worksheet.write(2, 13, \"ReLU Function\")\n",
    "    worksheet.write(2, 14, \"Swish Function\")\n",
    "    worksheet.write(2, 15, \"Adaptive NN\")\n",
    "    worksheet.write(2, 16, \"Adaptive Conv NN\")\n",
    "    \n",
    "    worksheet.write(3, 13, static_f_test)\n",
    "    worksheet.write(3, 14, adaptive_f_test)\n",
    "    worksheet.write(3, 15, adaptive_nn_test)\n",
    "    worksheet.write(3, 16, adaptive_conv_nn_test)\n",
    "    \n",
    "    for i in range(0, epochs):\n",
    "        worksheet.write(3+i, 1, i+1)\n",
    "        worksheet.write(3+i, 2, static_f_train[0][i])\n",
    "        worksheet.write(3+i, 3, adaptive_f_train[0][i])\n",
    "        worksheet.write(3+i, 4, adaptive_nn_train[0][i])\n",
    "        worksheet.write(3+i, 5, adaptive_conv_nn_train[0][i])\n",
    "        \n",
    "        worksheet.write(3+i, 7, i+1)\n",
    "        worksheet.write(3+i, 8, static_f_train[1][i])\n",
    "        worksheet.write(3+i, 9, adaptive_f_train[1][i])\n",
    "        worksheet.write(3+i, 10, adaptive_nn_train[1][i])\n",
    "        worksheet.write(3+i, 11, adaptive_conv_nn_train[1][i])\n",
    "    \n",
    "    workbook.close()"
   ]
  },
  {
   "cell_type": "code",
   "execution_count": 7,
   "id": "4965b33a",
   "metadata": {},
   "outputs": [],
   "source": [
    "# dataset\n",
    "\n",
    "(x_train, y_train), (x_test, y_test) = keras.datasets.cifar10.load_data()\n",
    "x_train = x_train/255\n",
    "x_test = x_test/255\n",
    "x_train = np.reshape(x_train, (x_train.shape[0], -1))\n",
    "x_test = np.reshape(x_test, (x_test.shape[0], -1))\n",
    "y_train = keras.utils.to_categorical(y_train, 10)\n",
    "y_test = keras.utils.to_categorical(y_test, 10)"
   ]
  },
  {
   "cell_type": "code",
   "execution_count": 8,
   "id": "acfbf2db",
   "metadata": {},
   "outputs": [],
   "source": [
    "EPOCHS = 30\n",
    "name = \"Cifar10\"\n",
    "\n",
    "# measurement repetitions\n",
    "flag = measurements = 2\n",
    "\n",
    "static_f_hist = np.zeros(shape=[2, EPOCHS])\n",
    "adaptive_f_hist = np.zeros(shape=[2, EPOCHS])\n",
    "adaptive_nn_hist = np.zeros(shape=[2, EPOCHS])\n",
    "adaptive_conv_nn_hist = np.zeros(shape=[2, EPOCHS])\n",
    "\n",
    "static_f_test = 0\n",
    "adaptive_f_test = 0\n",
    "adaptive_nn_test = 0\n",
    "adaptive_conv_nn_test = 0"
   ]
  },
  {
   "cell_type": "code",
   "execution_count": null,
   "id": "9e99d616",
   "metadata": {},
   "outputs": [],
   "source": []
  },
  {
   "cell_type": "code",
   "execution_count": 29,
   "id": "8df7f88c",
   "metadata": {},
   "outputs": [],
   "source": [
    "static_f_model = keras.Sequential([\n",
    "    keras.layers.Dense(400, activation=\"relu\"),\n",
    "    keras.layers.Dense(50, activation=\"relu\"),\n",
    "    keras.layers.Dense(10, activation=\"softmax\"),\n",
    "])"
   ]
  },
  {
   "cell_type": "code",
   "execution_count": 30,
   "id": "55a602e2",
   "metadata": {},
   "outputs": [],
   "source": [
    "adaptive_f_model = keras.Sequential([\n",
    "    keras.layers.Dense(400, activation=tf.nn.swish),\n",
    "    keras.layers.Dense(50, activation=tf.nn.swish),\n",
    "    keras.layers.Dense(10, activation=\"softmax\"),\n",
    "])"
   ]
  },
  {
   "cell_type": "code",
   "execution_count": 31,
   "id": "99177453",
   "metadata": {},
   "outputs": [],
   "source": [
    "# Adaptive Layer\n",
    "adaptive_nn_model = AdaptiveModel([\n",
    "    AdaptiveLayer(400, structure=[2, 1], inner_hidden_activation=tf.nn.relu, \n",
    "                  inner_out_activation=tf.nn.leaky_relu, skip_w=1.5), \n",
    "    AdaptiveLayer(50, structure=[4, 4, 1], inner_hidden_activation=tf.nn.relu, \n",
    "                  inner_out_activation=tf.nn.leaky_relu, skip_w=0.9), \n",
    "    AdaptiveLayer(10, structure=[8, 4, 1], inner_hidden_activation=tf.nn.relu, \n",
    "                 inner_out_activation=tf.nn.softmax, skip_w=0.9)\n",
    "])"
   ]
  },
  {
   "cell_type": "code",
   "execution_count": 32,
   "id": "ddfa62fe",
   "metadata": {},
   "outputs": [],
   "source": [
    "# Adaptive Layer based on 1D Conv\n",
    "adaptive_conv_nn_model = AdaptiveModel([\n",
    "    AdaptiveLayerConv(400, structure=[32], split=1, noise=0, skip_w=1.5, \n",
    "                      inner_hidden_activation=tf.nn.leaky_relu, inner_out_activation=tf.nn.leaky_relu), \n",
    "    AdaptiveLayerConv(50, structure=[64], split=2, noise=0, skip_w=0.9, \n",
    "                      inner_hidden_activation=tf.nn.leaky_relu, inner_out_activation=tf.nn.leaky_relu), \n",
    "    AdaptiveLayerConv(10, structure=[128], split=3, noise=0, skip_w=0.9, \n",
    "                      inner_hidden_activation=tf.nn.leaky_relu, inner_out_activation=tf.nn.softmax) \n",
    "])"
   ]
  },
  {
   "cell_type": "code",
   "execution_count": 33,
   "id": "38652992",
   "metadata": {},
   "outputs": [],
   "source": [
    "static_f_model.compile(optimizer=tf.optimizers.legacy.Adam(learning_rate=0.001), \n",
    "                       loss=\"categorical_crossentropy\", metrics=['accuracy'])"
   ]
  },
  {
   "cell_type": "code",
   "execution_count": 34,
   "id": "244180f9",
   "metadata": {},
   "outputs": [],
   "source": [
    "adaptive_f_model.compile(optimizer=tf.optimizers.legacy.Adam(learning_rate=0.001), \n",
    "                       loss=\"categorical_crossentropy\", metrics=['accuracy'])"
   ]
  },
  {
   "cell_type": "code",
   "execution_count": 35,
   "id": "ca5dd089",
   "metadata": {},
   "outputs": [],
   "source": [
    "adaptive_nn_model.compile(optimizer=tf.optimizers.legacy.Adam(learning_rate=0.001), \n",
    "                       loss=\"categorical_crossentropy\", metrics=['accuracy'])"
   ]
  },
  {
   "cell_type": "code",
   "execution_count": 36,
   "id": "dc0a4b48",
   "metadata": {},
   "outputs": [],
   "source": [
    "adaptive_conv_nn_model.compile(optimizer=tf.optimizers.legacy.Adam(learning_rate=0.001), \n",
    "                       loss=\"categorical_crossentropy\", metrics=['accuracy'])"
   ]
  },
  {
   "cell_type": "code",
   "execution_count": 37,
   "id": "ee6ac750",
   "metadata": {
    "scrolled": true
   },
   "outputs": [
    {
     "name": "stdout",
     "output_type": "stream",
     "text": [
      "Epoch 1/30\n",
      "782/782 [==============================] - 3s 3ms/step - loss: 2.0802 - accuracy: 0.2039\n",
      "Epoch 2/30\n",
      "782/782 [==============================] - 3s 3ms/step - loss: 1.8564 - accuracy: 0.3165\n",
      "Epoch 3/30\n",
      "782/782 [==============================] - 3s 3ms/step - loss: 1.7343 - accuracy: 0.3726\n",
      "Epoch 4/30\n",
      "782/782 [==============================] - 3s 3ms/step - loss: 1.6744 - accuracy: 0.3984\n",
      "Epoch 5/30\n",
      "782/782 [==============================] - 3s 3ms/step - loss: 1.6277 - accuracy: 0.4142\n",
      "Epoch 6/30\n",
      "782/782 [==============================] - 3s 3ms/step - loss: 1.5840 - accuracy: 0.4321\n",
      "Epoch 7/30\n",
      "782/782 [==============================] - 3s 3ms/step - loss: 1.5460 - accuracy: 0.4458\n",
      "Epoch 8/30\n",
      "782/782 [==============================] - 3s 3ms/step - loss: 1.5187 - accuracy: 0.4568\n",
      "Epoch 9/30\n",
      "782/782 [==============================] - 3s 3ms/step - loss: 1.4879 - accuracy: 0.4665\n",
      "Epoch 10/30\n",
      "782/782 [==============================] - 3s 3ms/step - loss: 1.4636 - accuracy: 0.4771\n",
      "Epoch 11/30\n",
      "782/782 [==============================] - 3s 3ms/step - loss: 1.4430 - accuracy: 0.4835\n",
      "Epoch 12/30\n",
      "782/782 [==============================] - 3s 3ms/step - loss: 1.4248 - accuracy: 0.4904\n",
      "Epoch 13/30\n",
      "782/782 [==============================] - 3s 4ms/step - loss: 1.4034 - accuracy: 0.4995\n",
      "Epoch 14/30\n",
      "782/782 [==============================] - 3s 3ms/step - loss: 1.3900 - accuracy: 0.5034\n",
      "Epoch 15/30\n",
      "782/782 [==============================] - 3s 3ms/step - loss: 1.3733 - accuracy: 0.5088\n",
      "Epoch 16/30\n",
      "782/782 [==============================] - 3s 3ms/step - loss: 1.3665 - accuracy: 0.5098\n",
      "Epoch 17/30\n",
      "782/782 [==============================] - 3s 3ms/step - loss: 1.3557 - accuracy: 0.5170\n",
      "Epoch 18/30\n",
      "782/782 [==============================] - 3s 3ms/step - loss: 1.3413 - accuracy: 0.5204\n",
      "Epoch 19/30\n",
      "782/782 [==============================] - 3s 3ms/step - loss: 1.3264 - accuracy: 0.5288\n",
      "Epoch 20/30\n",
      "782/782 [==============================] - 3s 4ms/step - loss: 1.3148 - accuracy: 0.5310\n",
      "Epoch 21/30\n",
      "782/782 [==============================] - 3s 3ms/step - loss: 1.3033 - accuracy: 0.5339\n",
      "Epoch 22/30\n",
      "782/782 [==============================] - 3s 3ms/step - loss: 1.2911 - accuracy: 0.5391\n",
      "Epoch 23/30\n",
      "782/782 [==============================] - 3s 4ms/step - loss: 1.2854 - accuracy: 0.5417\n",
      "Epoch 24/30\n",
      "782/782 [==============================] - 3s 3ms/step - loss: 1.2731 - accuracy: 0.5476\n",
      "Epoch 25/30\n",
      "782/782 [==============================] - 3s 4ms/step - loss: 1.2638 - accuracy: 0.5496\n",
      "Epoch 26/30\n",
      "782/782 [==============================] - 3s 4ms/step - loss: 1.2583 - accuracy: 0.5497\n",
      "Epoch 27/30\n",
      "782/782 [==============================] - 3s 4ms/step - loss: 1.2478 - accuracy: 0.5540\n",
      "Epoch 28/30\n",
      "782/782 [==============================] - 3s 4ms/step - loss: 1.2405 - accuracy: 0.5574\n",
      "Epoch 29/30\n",
      "782/782 [==============================] - 3s 4ms/step - loss: 1.2381 - accuracy: 0.5569\n",
      "Epoch 30/30\n",
      "782/782 [==============================] - 3s 4ms/step - loss: 1.2268 - accuracy: 0.5612\n"
     ]
    }
   ],
   "source": [
    "hist = static_f_model.fit(x_train, y_train, epochs=EPOCHS, batch_size=64)"
   ]
  },
  {
   "cell_type": "code",
   "execution_count": 38,
   "id": "fece44b0",
   "metadata": {},
   "outputs": [],
   "source": [
    "static_f_hist[0][:] += np.array(hist.history[\"loss\"])/measurements\n",
    "static_f_hist[1][:] += np.array(hist.history[\"accuracy\"])/measurements"
   ]
  },
  {
   "cell_type": "code",
   "execution_count": 39,
   "id": "8c508df0",
   "metadata": {
    "scrolled": true
   },
   "outputs": [
    {
     "name": "stdout",
     "output_type": "stream",
     "text": [
      "Epoch 1/30\n",
      "782/782 [==============================] - 3s 4ms/step - loss: 1.9795 - accuracy: 0.2823\n",
      "Epoch 2/30\n",
      "782/782 [==============================] - 3s 4ms/step - loss: 1.7383 - accuracy: 0.3764\n",
      "Epoch 3/30\n",
      "782/782 [==============================] - 3s 4ms/step - loss: 1.6381 - accuracy: 0.4135\n",
      "Epoch 4/30\n",
      "782/782 [==============================] - 3s 4ms/step - loss: 1.5835 - accuracy: 0.4326\n",
      "Epoch 5/30\n",
      "782/782 [==============================] - 3s 4ms/step - loss: 1.5314 - accuracy: 0.4501\n",
      "Epoch 6/30\n",
      "782/782 [==============================] - 3s 4ms/step - loss: 1.4970 - accuracy: 0.4632\n",
      "Epoch 7/30\n",
      "782/782 [==============================] - 3s 4ms/step - loss: 1.4642 - accuracy: 0.4726\n",
      "Epoch 8/30\n",
      "782/782 [==============================] - 3s 4ms/step - loss: 1.4403 - accuracy: 0.4845\n",
      "Epoch 9/30\n",
      "782/782 [==============================] - 3s 4ms/step - loss: 1.4172 - accuracy: 0.4928\n",
      "Epoch 10/30\n",
      "782/782 [==============================] - 3s 4ms/step - loss: 1.3882 - accuracy: 0.5010\n",
      "Epoch 11/30\n",
      "782/782 [==============================] - 3s 4ms/step - loss: 1.3658 - accuracy: 0.5112\n",
      "Epoch 12/30\n",
      "782/782 [==============================] - 3s 4ms/step - loss: 1.3450 - accuracy: 0.5168\n",
      "Epoch 13/30\n",
      "782/782 [==============================] - 3s 4ms/step - loss: 1.3300 - accuracy: 0.5245\n",
      "Epoch 14/30\n",
      "782/782 [==============================] - 3s 4ms/step - loss: 1.3170 - accuracy: 0.5297\n",
      "Epoch 15/30\n",
      "782/782 [==============================] - 3s 4ms/step - loss: 1.2983 - accuracy: 0.5369\n",
      "Epoch 16/30\n",
      "782/782 [==============================] - 3s 4ms/step - loss: 1.2895 - accuracy: 0.5400\n",
      "Epoch 17/30\n",
      "782/782 [==============================] - 3s 4ms/step - loss: 1.2720 - accuracy: 0.5445\n",
      "Epoch 18/30\n",
      "782/782 [==============================] - 3s 4ms/step - loss: 1.2610 - accuracy: 0.5486\n",
      "Epoch 19/30\n",
      "782/782 [==============================] - 3s 4ms/step - loss: 1.2493 - accuracy: 0.5539\n",
      "Epoch 20/30\n",
      "782/782 [==============================] - 3s 4ms/step - loss: 1.2404 - accuracy: 0.5562\n",
      "Epoch 21/30\n",
      "782/782 [==============================] - 3s 4ms/step - loss: 1.2293 - accuracy: 0.5595\n",
      "Epoch 22/30\n",
      "782/782 [==============================] - 3s 4ms/step - loss: 1.2190 - accuracy: 0.5626\n",
      "Epoch 23/30\n",
      "782/782 [==============================] - 3s 4ms/step - loss: 1.2039 - accuracy: 0.5695\n",
      "Epoch 24/30\n",
      "782/782 [==============================] - 3s 4ms/step - loss: 1.2018 - accuracy: 0.5693\n",
      "Epoch 25/30\n",
      "782/782 [==============================] - 3s 4ms/step - loss: 1.1940 - accuracy: 0.5723\n",
      "Epoch 26/30\n",
      "782/782 [==============================] - 3s 4ms/step - loss: 1.1869 - accuracy: 0.5761\n",
      "Epoch 27/30\n",
      "782/782 [==============================] - 3s 4ms/step - loss: 1.1765 - accuracy: 0.5779\n",
      "Epoch 28/30\n",
      "782/782 [==============================] - 3s 4ms/step - loss: 1.1661 - accuracy: 0.5826\n",
      "Epoch 29/30\n",
      "782/782 [==============================] - 3s 4ms/step - loss: 1.1607 - accuracy: 0.5849\n",
      "Epoch 30/30\n",
      "782/782 [==============================] - 3s 4ms/step - loss: 1.1448 - accuracy: 0.5913\n"
     ]
    }
   ],
   "source": [
    "hist = adaptive_f_model.fit(x_train, y_train, epochs=EPOCHS, batch_size=64)"
   ]
  },
  {
   "cell_type": "code",
   "execution_count": 40,
   "id": "a562778c",
   "metadata": {},
   "outputs": [],
   "source": [
    "adaptive_f_hist[0][:] += np.array(hist.history[\"loss\"])/measurements\n",
    "adaptive_f_hist[1][:] += np.array(hist.history[\"accuracy\"])/measurements"
   ]
  },
  {
   "cell_type": "code",
   "execution_count": 41,
   "id": "61fe894f",
   "metadata": {
    "scrolled": true
   },
   "outputs": [
    {
     "name": "stdout",
     "output_type": "stream",
     "text": [
      "Epoch 1/30\n",
      "782/782 [==============================] - 4s 5ms/step - loss: 2.2109 - accuracy: 0.2304\n",
      "Epoch 2/30\n",
      "782/782 [==============================] - 4s 5ms/step - loss: 1.8494 - accuracy: 0.3424\n",
      "Epoch 3/30\n",
      "782/782 [==============================] - 4s 5ms/step - loss: 1.7244 - accuracy: 0.3884\n",
      "Epoch 4/30\n",
      "782/782 [==============================] - 4s 5ms/step - loss: 1.6518 - accuracy: 0.4122\n",
      "Epoch 5/30\n",
      "782/782 [==============================] - 4s 5ms/step - loss: 1.6016 - accuracy: 0.4291\n",
      "Epoch 6/30\n",
      "782/782 [==============================] - 4s 5ms/step - loss: 1.5526 - accuracy: 0.4463\n",
      "Epoch 7/30\n",
      "782/782 [==============================] - 4s 5ms/step - loss: 1.5129 - accuracy: 0.4577\n",
      "Epoch 8/30\n",
      "782/782 [==============================] - 4s 5ms/step - loss: 1.4822 - accuracy: 0.4689\n",
      "Epoch 9/30\n",
      "782/782 [==============================] - 4s 5ms/step - loss: 1.4485 - accuracy: 0.4800\n",
      "Epoch 10/30\n",
      "782/782 [==============================] - 4s 5ms/step - loss: 1.4268 - accuracy: 0.4914\n",
      "Epoch 11/30\n",
      "782/782 [==============================] - 4s 5ms/step - loss: 1.3984 - accuracy: 0.5013\n",
      "Epoch 12/30\n",
      "782/782 [==============================] - 4s 5ms/step - loss: 1.3770 - accuracy: 0.5054\n",
      "Epoch 13/30\n",
      "782/782 [==============================] - 4s 5ms/step - loss: 1.3524 - accuracy: 0.5170\n",
      "Epoch 14/30\n",
      "782/782 [==============================] - 4s 5ms/step - loss: 1.3318 - accuracy: 0.5258\n",
      "Epoch 15/30\n",
      "782/782 [==============================] - 4s 5ms/step - loss: 1.3120 - accuracy: 0.5313\n",
      "Epoch 16/30\n",
      "782/782 [==============================] - 4s 5ms/step - loss: 1.2934 - accuracy: 0.5411\n",
      "Epoch 17/30\n",
      "782/782 [==============================] - 4s 5ms/step - loss: 1.2731 - accuracy: 0.5473\n",
      "Epoch 18/30\n",
      "782/782 [==============================] - 4s 5ms/step - loss: 1.2595 - accuracy: 0.5502\n",
      "Epoch 19/30\n",
      "782/782 [==============================] - 4s 5ms/step - loss: 1.2348 - accuracy: 0.5597\n",
      "Epoch 20/30\n",
      "782/782 [==============================] - 4s 5ms/step - loss: 1.2244 - accuracy: 0.5643\n",
      "Epoch 21/30\n",
      "782/782 [==============================] - 4s 5ms/step - loss: 1.2095 - accuracy: 0.5683\n",
      "Epoch 22/30\n",
      "782/782 [==============================] - 4s 5ms/step - loss: 1.1922 - accuracy: 0.5757\n",
      "Epoch 23/30\n",
      "782/782 [==============================] - 4s 5ms/step - loss: 1.1778 - accuracy: 0.5787\n",
      "Epoch 24/30\n",
      "782/782 [==============================] - 4s 5ms/step - loss: 1.1581 - accuracy: 0.5854\n",
      "Epoch 25/30\n",
      "782/782 [==============================] - 4s 5ms/step - loss: 1.1511 - accuracy: 0.5900\n",
      "Epoch 26/30\n",
      "782/782 [==============================] - 4s 5ms/step - loss: 1.1358 - accuracy: 0.5936\n",
      "Epoch 27/30\n",
      "782/782 [==============================] - 4s 5ms/step - loss: 1.1189 - accuracy: 0.6006\n",
      "Epoch 28/30\n",
      "782/782 [==============================] - 4s 5ms/step - loss: 1.1054 - accuracy: 0.6062\n",
      "Epoch 29/30\n",
      "782/782 [==============================] - 4s 5ms/step - loss: 1.0849 - accuracy: 0.6154\n",
      "Epoch 30/30\n",
      "782/782 [==============================] - 4s 5ms/step - loss: 1.0715 - accuracy: 0.6155\n"
     ]
    }
   ],
   "source": [
    "hist = adaptive_nn_model.fit(x_train, y_train, epochs=EPOCHS, batch_size=64)"
   ]
  },
  {
   "cell_type": "code",
   "execution_count": 42,
   "id": "e8f541f1",
   "metadata": {},
   "outputs": [],
   "source": [
    "adaptive_nn_hist[0][:] += np.array(hist.history[\"loss\"])/measurements\n",
    "adaptive_nn_hist[1][:] += np.array(hist.history[\"accuracy\"])/measurements"
   ]
  },
  {
   "cell_type": "code",
   "execution_count": 43,
   "id": "3cfa80f9",
   "metadata": {
    "scrolled": true
   },
   "outputs": [
    {
     "name": "stdout",
     "output_type": "stream",
     "text": [
      "Epoch 1/30\n",
      "782/782 [==============================] - 5s 6ms/step - loss: 1.8614 - accuracy: 0.3212\n",
      "Epoch 2/30\n",
      "782/782 [==============================] - 5s 6ms/step - loss: 1.6744 - accuracy: 0.3967\n",
      "Epoch 3/30\n",
      "782/782 [==============================] - 5s 7ms/step - loss: 1.5884 - accuracy: 0.4289\n",
      "Epoch 4/30\n",
      "782/782 [==============================] - 5s 7ms/step - loss: 1.5368 - accuracy: 0.4526\n",
      "Epoch 5/30\n",
      "782/782 [==============================] - 5s 7ms/step - loss: 1.4944 - accuracy: 0.4630\n",
      "Epoch 6/30\n",
      "782/782 [==============================] - 5s 6ms/step - loss: 1.4582 - accuracy: 0.4771\n",
      "Epoch 7/30\n",
      "782/782 [==============================] - 5s 7ms/step - loss: 1.4277 - accuracy: 0.4884\n",
      "Epoch 8/30\n",
      "782/782 [==============================] - 5s 7ms/step - loss: 1.3980 - accuracy: 0.4986\n",
      "Epoch 9/30\n",
      "782/782 [==============================] - 5s 7ms/step - loss: 1.3653 - accuracy: 0.5107\n",
      "Epoch 10/30\n",
      "782/782 [==============================] - 5s 7ms/step - loss: 1.3410 - accuracy: 0.5218\n",
      "Epoch 11/30\n",
      "782/782 [==============================] - 5s 7ms/step - loss: 1.3184 - accuracy: 0.5286\n",
      "Epoch 12/30\n",
      "782/782 [==============================] - 5s 6ms/step - loss: 1.2954 - accuracy: 0.5344\n",
      "Epoch 13/30\n",
      "782/782 [==============================] - 5s 6ms/step - loss: 1.2720 - accuracy: 0.5445\n",
      "Epoch 14/30\n",
      "782/782 [==============================] - 5s 6ms/step - loss: 1.2514 - accuracy: 0.5502\n",
      "Epoch 15/30\n",
      "782/782 [==============================] - 5s 6ms/step - loss: 1.2383 - accuracy: 0.5576\n",
      "Epoch 16/30\n",
      "782/782 [==============================] - 5s 6ms/step - loss: 1.2133 - accuracy: 0.5672\n",
      "Epoch 17/30\n",
      "782/782 [==============================] - 5s 7ms/step - loss: 1.1956 - accuracy: 0.5712\n",
      "Epoch 18/30\n",
      "782/782 [==============================] - 5s 7ms/step - loss: 1.1887 - accuracy: 0.5742\n",
      "Epoch 19/30\n",
      "782/782 [==============================] - 5s 7ms/step - loss: 1.1608 - accuracy: 0.5835\n",
      "Epoch 20/30\n",
      "782/782 [==============================] - 5s 7ms/step - loss: 1.1471 - accuracy: 0.5879\n",
      "Epoch 21/30\n",
      "782/782 [==============================] - 5s 7ms/step - loss: 1.1312 - accuracy: 0.5946\n",
      "Epoch 22/30\n",
      "782/782 [==============================] - 5s 7ms/step - loss: 1.1134 - accuracy: 0.6011\n",
      "Epoch 23/30\n",
      "782/782 [==============================] - 5s 7ms/step - loss: 1.1013 - accuracy: 0.6039\n",
      "Epoch 24/30\n",
      "782/782 [==============================] - 5s 7ms/step - loss: 1.0817 - accuracy: 0.6109\n",
      "Epoch 25/30\n",
      "782/782 [==============================] - 5s 7ms/step - loss: 1.0711 - accuracy: 0.6140\n",
      "Epoch 26/30\n",
      "782/782 [==============================] - 5s 7ms/step - loss: 1.0611 - accuracy: 0.6167\n",
      "Epoch 27/30\n",
      "782/782 [==============================] - 5s 7ms/step - loss: 1.0445 - accuracy: 0.6235\n",
      "Epoch 28/30\n",
      "782/782 [==============================] - 5s 6ms/step - loss: 1.0244 - accuracy: 0.6308\n",
      "Epoch 29/30\n",
      "782/782 [==============================] - 5s 6ms/step - loss: 1.0182 - accuracy: 0.6322\n",
      "Epoch 30/30\n",
      "782/782 [==============================] - 5s 7ms/step - loss: 1.0005 - accuracy: 0.6416\n"
     ]
    }
   ],
   "source": [
    "hist = adaptive_conv_nn_model.fit(x_train, y_train, epochs=EPOCHS, batch_size=64)"
   ]
  },
  {
   "cell_type": "code",
   "execution_count": 44,
   "id": "cc4d7788",
   "metadata": {},
   "outputs": [],
   "source": [
    "adaptive_conv_nn_hist[0][:] += np.array(hist.history[\"loss\"])/measurements\n",
    "adaptive_conv_nn_hist[1][:] += np.array(hist.history[\"accuracy\"])/measurements"
   ]
  },
  {
   "cell_type": "code",
   "execution_count": 45,
   "id": "df20e870",
   "metadata": {},
   "outputs": [
    {
     "name": "stdout",
     "output_type": "stream",
     "text": [
      "313/313 [==============================] - 0s 985us/step - loss: 1.4666 - accuracy: 0.4878\n"
     ]
    }
   ],
   "source": [
    "static_f_test += static_f_model.evaluate(x_test, y_test)[1]/measurements"
   ]
  },
  {
   "cell_type": "code",
   "execution_count": 46,
   "id": "5cc36cc4",
   "metadata": {},
   "outputs": [
    {
     "name": "stdout",
     "output_type": "stream",
     "text": [
      "313/313 [==============================] - 0s 923us/step - loss: 1.4823 - accuracy: 0.4919\n"
     ]
    }
   ],
   "source": [
    "adaptive_f_test += adaptive_f_model.evaluate(x_test, y_test)[1]/measurements"
   ]
  },
  {
   "cell_type": "code",
   "execution_count": 47,
   "id": "19df7397",
   "metadata": {},
   "outputs": [
    {
     "name": "stdout",
     "output_type": "stream",
     "text": [
      "313/313 [==============================] - 0s 1ms/step - loss: 1.4375 - accuracy: 0.5141\n"
     ]
    }
   ],
   "source": [
    "adaptive_nn_test += adaptive_nn_model.evaluate(x_test, y_test)[1]/measurements"
   ]
  },
  {
   "cell_type": "code",
   "execution_count": 48,
   "id": "ce1aae25",
   "metadata": {},
   "outputs": [
    {
     "name": "stdout",
     "output_type": "stream",
     "text": [
      "313/313 [==============================] - 1s 1ms/step - loss: 1.4192 - accuracy: 0.5185\n",
      "---------FINISH---------\n"
     ]
    }
   ],
   "source": [
    "adaptive_conv_nn_test += adaptive_conv_nn_model.evaluate(x_test, y_test)[1]/measurements\n",
    "flag -= 1\n",
    "if(flag == 0):\n",
    "    print(\"---------FINISH---------\")"
   ]
  },
  {
   "cell_type": "code",
   "execution_count": null,
   "id": "45e08645",
   "metadata": {},
   "outputs": [],
   "source": []
  },
  {
   "cell_type": "code",
   "execution_count": 49,
   "id": "bc1dda17",
   "metadata": {},
   "outputs": [
    {
     "name": "stdout",
     "output_type": "stream",
     "text": [
      "Static Function model\n",
      "Test accuracy :  0.49050000309944153\n",
      "\n",
      "Adaptive Function model\n",
      "Test accuracy :  0.4943999946117401\n",
      "\n",
      "Adaptive NN model\n",
      "Test accuracy :  0.5115500092506409\n",
      "\n",
      "Adaptive Conv NN model\n",
      "Test accuracy :  0.5206499993801117\n"
     ]
    }
   ],
   "source": [
    "print(\"Static Function model\\nTest accuracy : \", static_f_test)\n",
    "print(\"\\nAdaptive Function model\\nTest accuracy : \", adaptive_f_test)\n",
    "print(\"\\nAdaptive NN model\\nTest accuracy : \", adaptive_nn_test)\n",
    "print(\"\\nAdaptive Conv NN model\\nTest accuracy : \", adaptive_conv_nn_test)"
   ]
  },
  {
   "cell_type": "code",
   "execution_count": 50,
   "id": "49fe6589",
   "metadata": {},
   "outputs": [],
   "source": [
    "illustrate_train(name+\" Training Loss\", \"Loss\", static_f_hist[0][:], \n",
    "                 adaptive_f_hist[0][:], adaptive_nn_hist[0][:], adaptive_conv_nn_hist[0][:])"
   ]
  },
  {
   "cell_type": "code",
   "execution_count": 51,
   "id": "2ed4731a",
   "metadata": {},
   "outputs": [],
   "source": [
    "illustrate_train(name + \" Training Accuracy\", \"Accuracy\", static_f_hist[1][:], \n",
    "                 adaptive_f_hist[1][:], adaptive_nn_hist[1][:], adaptive_conv_nn_hist[1][:])"
   ]
  },
  {
   "cell_type": "code",
   "execution_count": 52,
   "id": "8385dc4e",
   "metadata": {},
   "outputs": [],
   "source": [
    "illustrate_test(name + \" Test Accuracy\", \n",
    "                static_f_test, adaptive_f_test, adaptive_nn_test, adaptive_conv_nn_test)"
   ]
  },
  {
   "cell_type": "code",
   "execution_count": 1,
   "id": "309eb3d1",
   "metadata": {},
   "outputs": [
    {
     "ename": "NameError",
     "evalue": "name 'save_data' is not defined",
     "output_type": "error",
     "traceback": [
      "\u001b[0;31m---------------------------------------------------------------------------\u001b[0m",
      "\u001b[0;31mNameError\u001b[0m                                 Traceback (most recent call last)",
      "Cell \u001b[0;32mIn[1], line 1\u001b[0m\n\u001b[0;32m----> 1\u001b[0m \u001b[43msave_data\u001b[49m(name, static_f_hist, adaptive_f_hist, adaptive_nn_hist, \n\u001b[1;32m      2\u001b[0m           adaptive_conv_nn_hist, static_f_test, adaptive_f_test, adaptive_nn_test, adaptive_conv_nn_test)\n",
      "\u001b[0;31mNameError\u001b[0m: name 'save_data' is not defined"
     ]
    }
   ],
   "source": [
    "save_data(name, static_f_hist, adaptive_f_hist, adaptive_nn_hist, \n",
    "          adaptive_conv_nn_hist, static_f_test, adaptive_f_test, adaptive_nn_test, adaptive_conv_nn_test)"
   ]
  },
  {
   "cell_type": "code",
   "execution_count": null,
   "id": "07533a8c",
   "metadata": {},
   "outputs": [],
   "source": []
  }
 ],
 "metadata": {
  "kernelspec": {
   "display_name": "Python 3 (ipykernel)",
   "language": "python",
   "name": "python3"
  },
  "language_info": {
   "codemirror_mode": {
    "name": "ipython",
    "version": 3
   },
   "file_extension": ".py",
   "mimetype": "text/x-python",
   "name": "python",
   "nbconvert_exporter": "python",
   "pygments_lexer": "ipython3",
   "version": "3.9.16"
  }
 },
 "nbformat": 4,
 "nbformat_minor": 5
}
