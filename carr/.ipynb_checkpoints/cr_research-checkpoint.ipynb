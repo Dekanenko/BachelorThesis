{
 "cells": [
  {
   "cell_type": "code",
   "execution_count": 1,
   "id": "e1def1c8",
   "metadata": {},
   "outputs": [],
   "source": [
    "import tensorflow as tf\n",
    "tf.config.experimental.set_visible_devices([], 'GPU')\n",
    "from tensorflow import keras\n",
    "import numpy as np\n",
    "import pandas as pd\n",
    "import matplotlib.pyplot as plt\n",
    "import xlsxwriter"
   ]
  },
  {
   "cell_type": "code",
   "execution_count": 2,
   "id": "ef3ae740",
   "metadata": {},
   "outputs": [],
   "source": [
    "tf.random.set_seed(5)\n",
    "np.random.seed(5)"
   ]
  },
  {
   "cell_type": "code",
   "execution_count": 3,
   "id": "f26c27cd",
   "metadata": {},
   "outputs": [],
   "source": [
    "def illustrate_train(name, y_label, static_f, adaptive_f, adaptive_nn, adaptive_conv_nn):\n",
    "    epochs = range(0, len(static_f))\n",
    "    fig = plt.figure(figsize=(10,7))\n",
    "    ax = fig.add_subplot()\n",
    "    plt.title(name, fontsize=\"xx-large\")\n",
    "\n",
    "    ax.set_ylabel(y_label, fontsize=\"large\")\n",
    "    ax.set_xlabel('Epochs', fontsize=\"large\")\n",
    "\n",
    "    ax.plot(epochs, static_f, label='Static Function')\n",
    "    ax.plot(epochs, adaptive_f, label='Adaptive Function')\n",
    "    ax.plot(epochs, adaptive_nn, label='Adaptive NN')\n",
    "    ax.plot(epochs, adaptive_conv_nn, label='Adaptive Conv NN')\n",
    "\n",
    "    ax.legend()\n",
    "    \n",
    "    plt.grid()\n",
    "    plt.show()"
   ]
  },
  {
   "cell_type": "code",
   "execution_count": 132,
   "id": "ab8cca84",
   "metadata": {},
   "outputs": [],
   "source": [
    "def illustrate_test(name, static_f, adaptive_f, adaptive_nn, adaptive_conv_nn):\n",
    "    fig = plt.figure(figsize=(10,7))\n",
    "    ax = fig.add_subplot()\n",
    "    \n",
    "    x = [\"Static Function\", \"Adaptive Function\", \"Adaptive NN\", \"Adaptive Conv NN\"]\n",
    "    y = [static_f, adaptive_f, adaptive_nn, adaptive_conv_nn]\n",
    "    \n",
    "    plt.title(name, fontsize=\"xx-large\")\n",
    "    ax.set_ylabel(\"mean absolute error\", fontsize=\"large\")\n",
    "    \n",
    "    ax.bar(x, y)\n",
    "    \n",
    "    plt.grid()\n",
    "    plt.show()"
   ]
  },
  {
   "cell_type": "code",
   "execution_count": 5,
   "id": "a7b83af7",
   "metadata": {},
   "outputs": [],
   "source": [
    "workbook = xlsxwriter.Workbook('rc_measurements.xlsx')"
   ]
  },
  {
   "cell_type": "code",
   "execution_count": 6,
   "id": "81260211",
   "metadata": {},
   "outputs": [],
   "source": [
    "def save_data(name, static_f_train, adaptive_f_train, adaptive_nn_train, adaptive_conv_nn_train, \n",
    "              static_f_test, adaptive_f_test, adaptive_nn_test, adaptive_conv_nn_test):\n",
    "    \n",
    "    epochs = len(static_f_train[0][:])\n",
    "    worksheet = workbook.add_worksheet(name)\n",
    "    \n",
    "    worksheet.write(1, 1, name + \" Training Loss\")\n",
    "    worksheet.write(1, 7, name + \" Training Accuracy\")\n",
    "    worksheet.write(1, 13, name + \" Test Accuracy\")\n",
    "    \n",
    "    worksheet.write(2, 1, \"Epochs\")\n",
    "    worksheet.write(2, 2, \"Static Function\")\n",
    "    worksheet.write(2, 3, \"Adaptive Function\")\n",
    "    worksheet.write(2, 4, \"Adaptive NN\")\n",
    "    worksheet.write(2, 5, \"Adaptive Conv NN\")\n",
    "    \n",
    "    worksheet.write(2, 7, \"Epochs\")\n",
    "    worksheet.write(2, 8, \"Static Function\")\n",
    "    worksheet.write(2, 9, \"Adaptive Function\")\n",
    "    worksheet.write(2, 10, \"Adaptive NN\")\n",
    "    worksheet.write(2, 11, \"Adaptive Conv NN\")\n",
    "    \n",
    "    worksheet.write(2, 13, \"Static Function\")\n",
    "    worksheet.write(2, 14, \"Adaptive Function\")\n",
    "    worksheet.write(2, 15, \"Adaptive NN\")\n",
    "    worksheet.write(2, 16, \"Adaptive Conv NN\")\n",
    "    \n",
    "    worksheet.write(3, 13, static_f_test)\n",
    "    worksheet.write(3, 14, adaptive_f_test)\n",
    "    worksheet.write(3, 15, adaptive_nn_test)\n",
    "    worksheet.write(3, 16, adaptive_conv_nn_test)\n",
    "    \n",
    "    for i in range(0, epochs):\n",
    "        worksheet.write(3+i, 1, i+1)\n",
    "        worksheet.write(3+i, 2, static_f_train[0][i])\n",
    "        worksheet.write(3+i, 3, adaptive_f_train[0][i])\n",
    "        worksheet.write(3+i, 4, adaptive_nn_train[0][i])\n",
    "        worksheet.write(3+i, 5, adaptive_conv_nn_train[0][i])\n",
    "        \n",
    "        worksheet.write(3+i, 7, i+1)\n",
    "        worksheet.write(3+i, 8, static_f_train[1][i])\n",
    "        worksheet.write(3+i, 9, adaptive_f_train[1][i])\n",
    "        worksheet.write(3+i, 10, adaptive_nn_train[1][i])\n",
    "        worksheet.write(3+i, 11, adaptive_conv_nn_train[1][i])\n",
    "    \n",
    "    workbook.close()"
   ]
  },
  {
   "cell_type": "code",
   "execution_count": 7,
   "id": "39f5cb21",
   "metadata": {},
   "outputs": [],
   "source": [
    "class AdaptiveLayer(keras.layers.Layer):\n",
    "    \n",
    "    def __init__(self, units, structure=[2, 2], inner_hidden_activation=tf.nn.tanh, \n",
    "                 inner_out_activation=lambda x : x, skip_w=0.0):\n",
    "        super().__init__()\n",
    "        self.units = units\n",
    "        self.structure = structure\n",
    "        self.structure.append(1)\n",
    "        self.inner_hidden_activation = inner_hidden_activation\n",
    "        self.inner_out_activation = inner_out_activation\n",
    "        self.skip_w = skip_w\n",
    "        \n",
    "        \n",
    "    def build(self, input_shape):\n",
    "        self.outter_w = self.add_weight(shape=(input_shape[-1], self.units), initializer=\"random_normal\")\n",
    "        self.outter_b = self.add_weight(shape=(self.units), initializer=\"zeros\")\n",
    "        \n",
    "        self.inner_w = []\n",
    "        self.inner_b = []\n",
    "        for i in range(len(self.structure)):\n",
    "            if i == 0:\n",
    "                self.inner_w.append(self.add_weight(shape=(self.units, 1, self.structure[i]), \n",
    "                                          initializer=tf.initializers.random_normal(stddev=1.5)))\n",
    "            else:\n",
    "                self.inner_w.append(self.add_weight(shape=(self.units, self.structure[i-1], self.structure[i]), \n",
    "                                          initializer=tf.initializers.random_normal(stddev=0.9)))\n",
    "            \n",
    "            self.inner_b.append(self.add_weight(shape=(self.units, 1, self.structure[i]), initializer=\"zeros\"))\n",
    "   \n",
    "\n",
    "    def call(self, inputs):\n",
    "        z = inputs @ self.outter_w + self.outter_b\n",
    "        a = tf.expand_dims(tf.transpose(z), axis=-1)\n",
    "        \n",
    "        for i in range(len(self.inner_w)-1):\n",
    "            a = a @ self.inner_w[i] + self.inner_b[i]\n",
    "            a = self.inner_hidden_activation(a)\n",
    "        \n",
    "        a = a @ self.inner_w[len(self.inner_w)-1] + self.inner_b[len(self.inner_w)-1]\n",
    "        \n",
    "        a = tf.reshape(tf.transpose(a), shape=(len(inputs), self.units))\n",
    "        a = self.inner_out_activation(a+z*self.skip_w)\n",
    "        \n",
    "        return a\n",
    "        \n",
    "\n",
    "    def activation_show(self, inputs):\n",
    "        inner_z = tf.cast(tf.expand_dims(tf.transpose(inputs), axis=-1), dtype=tf.float32)\n",
    "        a = tf.expand_dims(tf.transpose(inner_z), axis=-1)\n",
    "        \n",
    "        for i in range(len(self.inner_w)-1):\n",
    "            a = a @ self.inner_w[i] + self.inner_b[i]\n",
    "            a = self.inner_hidden_activation(a)\n",
    "        \n",
    "        a = a @ self.inner_w[len(self.inner_w)-1] + self.inner_b[len(self.inner_w)-1]\n",
    "        \n",
    "        a = tf.reshape(tf.transpose(a), shape=(len(inputs), self.units))\n",
    "        a = self.inner_out_activation(a)\n",
    "        \n",
    "        return a\n",
    "        \n"
   ]
  },
  {
   "cell_type": "code",
   "execution_count": 8,
   "id": "4850c5a4",
   "metadata": {},
   "outputs": [],
   "source": [
    "class AdaptiveLayerConv(keras.layers.Layer):\n",
    "    \n",
    "    def __init__(self, units, structure=[4, 8], split=2, inner_hidden_activation=tf.nn.tanh, \n",
    "                 inner_out_activation=lambda x : x, skip_w=0.9, noise=0.0):\n",
    "        super().__init__()\n",
    "        self.units = units\n",
    "        self.structure = structure\n",
    "        self.split = split\n",
    "        self.inner_hidden_activation = inner_hidden_activation\n",
    "        self.inner_out_activation = inner_out_activation\n",
    "        self.skip_w = skip_w\n",
    "        self.noise = noise\n",
    "        \n",
    "        \n",
    "    def build(self, input_shape):\n",
    "        \n",
    "        self.outter_w = []\n",
    "        self.outter_b = []\n",
    "        \n",
    "        for i in range(0, self.split):\n",
    "            self.outter_w.append(self.add_weight(shape=(input_shape[-1], self.units), \n",
    "                                                 initializer=\"random_normal\"))\n",
    "            self.outter_b.append(self.add_weight(shape=(self.units), initializer=\"zeros\"))\n",
    "        \n",
    "        self.inner_conv = []\n",
    "        for i in range(0, len(self.structure)):\n",
    "            self.inner_conv.append(keras.layers.Conv1D(self.structure[i], 1, \n",
    "                                                       activation=self.inner_hidden_activation))\n",
    "            \n",
    "        self.inner_conv.append(keras.layers.AveragePooling1D(pool_size=self.split, data_format='channels_first'))      \n",
    "        self.inner_conv.append(keras.layers.Conv1D(self.units, 1)) \n",
    "\n",
    "   \n",
    "\n",
    "    def call(self, inputs):\n",
    "        z = []\n",
    "        for i in range(0, self.split):\n",
    "            noise = tf.random.truncated_normal(shape=(self.outter_b[i].shape))\n",
    "            z.append(inputs @ self.outter_w[i] + self.outter_b[i] + noise*self.noise)\n",
    "        \n",
    "        a = tf.cast(z, dtype=tf.float32)\n",
    "        z = tf.cast(z, dtype=tf.float32)\n",
    "        \n",
    "        for i in range(len(self.inner_conv)-2):\n",
    "            a = self.inner_conv[i](a)\n",
    "        \n",
    "        a = self.inner_conv[len(self.inner_conv)-2](tf.transpose(a))\n",
    "        a = self.inner_conv[len(self.inner_conv)-1](tf.transpose(a))\n",
    "    \n",
    "        a = tf.reshape(a, shape=(-1, self.units))\n",
    "        z_skip = tf.reduce_sum(z, axis=0)/self.split     \n",
    "        \n",
    "        a = self.inner_out_activation(a + z_skip*self.skip_w)\n",
    "        \n",
    "        return a    \n",
    "\n",
    "    def activation_show(self, inputs):\n",
    "        tmp = []\n",
    "        for i in range(0, self.units):\n",
    "            tmp.append(inputs)\n",
    "        \n",
    "        tmp = tf.cast(tmp, dtype=tf.float32)\n",
    "        a = tf.expand_dims(tf.transpose(tmp), axis=0)\n",
    "            \n",
    "        for i in range(len(self.inner_conv)-2):\n",
    "            a = self.inner_conv[i](a)\n",
    "             \n",
    "        a = self.inner_conv[len(self.inner_conv)-1](a)\n",
    "        a = tf.reshape(a, shape=(-1, self.units))\n",
    "        a = self.inner_out_activation(a)\n",
    "        \n",
    "        return a\n",
    "        \n"
   ]
  },
  {
   "cell_type": "code",
   "execution_count": 9,
   "id": "76e08ad2",
   "metadata": {},
   "outputs": [],
   "source": [
    "class AdaptiveModel(keras.Model):\n",
    "    \n",
    "    def __init__(self, l=[AdaptiveLayer(2), AdaptiveLayer(1)]):\n",
    "        super().__init__()\n",
    "        self.l = l\n",
    "\n",
    "    def call(self, inputs):\n",
    "        a = inputs\n",
    "        for layer in self.l:\n",
    "            a = layer(a)\n",
    "        \n",
    "        return a\n",
    "        \n",
    "    def activation_show(self, inputs):\n",
    "        y = []\n",
    "        \n",
    "        for layer in self.l:\n",
    "            tmp = layer.activation_show(inputs)\n",
    "            \n",
    "            for i in range(tmp.shape[-1]):\n",
    "                y.append(tmp[:, i])\n",
    "        \n",
    "        return y\n",
    "        "
   ]
  },
  {
   "cell_type": "code",
   "execution_count": 10,
   "id": "4965b33a",
   "metadata": {},
   "outputs": [],
   "source": [
    "# dataset\n",
    "\n",
    "x1 = tf.random.uniform(shape=(2500, 1), minval=-1, maxval=1)\n",
    "x2 = tf.random.uniform(shape=(2500, 1), minval=-1, maxval=1)\n",
    "x3 = tf.random.uniform(shape=(2500, 1), minval=-1, maxval=1)\n",
    "x4 = tf.random.uniform(shape=(2500, 1), minval=-1, maxval=1)\n",
    "x5 = tf.random.uniform(shape=(2500, 1), minval=-1, maxval=1)\n",
    "x6 = tf.random.uniform(shape=(2500, 1), minval=-1, maxval=1)\n",
    "x7 = tf.random.uniform(shape=(2500, 1), minval=-1, maxval=1)\n",
    "x8 = tf.random.uniform(shape=(2500, 1), minval=-1, maxval=1)\n",
    "x9 = tf.random.uniform(shape=(2500, 1), minval=-1, maxval=1)\n",
    "x10 = tf.random.uniform(shape=(2500, 1), minval=-1, maxval=1)\n",
    "\n",
    "x = np.array([x1, x2, x3, x4, x5, x6, x7, x8, x9, x10])\n",
    "x = np.reshape(x.transpose(), (x1.shape[0], 10))\n",
    "\n",
    "x = tf.Variable(x)\n",
    "y = np.array([(0.2*x[i][0]*x[i][1]*x[i][1]+x[i][2]+0.05*x[i][3]+2*x[i][4]+0.5*x[i][5]+0.1*x[i][7]\n",
    "              -12*x[i][7]+x[i][8]*x[i][9]) for i in range(x.shape[0])], dtype=float)\n",
    "\n",
    "x_train, x_test = x[:2000], x[2000:]\n",
    "y_train, y_test = y[:2000], y[2000:]"
   ]
  },
  {
   "cell_type": "code",
   "execution_count": 11,
   "id": "acfbf2db",
   "metadata": {},
   "outputs": [],
   "source": [
    "EPOCHS = 50\n",
    "name = \"Classical regression\"\n",
    "\n",
    "flag = measurements = 5\n",
    "\n",
    "static_f_hist = np.zeros(shape=[2, EPOCHS])\n",
    "adaptive_f_hist = np.zeros(shape=[2, EPOCHS])\n",
    "adaptive_nn_hist = np.zeros(shape=[2, EPOCHS])\n",
    "adaptive_conv_nn_hist = np.zeros(shape=[2, EPOCHS])\n",
    "\n",
    "static_f_test = 0\n",
    "adaptive_f_test = 0\n",
    "adaptive_nn_test = 0\n",
    "adaptive_conv_nn_test = 0"
   ]
  },
  {
   "cell_type": "code",
   "execution_count": null,
   "id": "9e99d616",
   "metadata": {},
   "outputs": [],
   "source": []
  },
  {
   "cell_type": "code",
   "execution_count": 123,
   "id": "8df7f88c",
   "metadata": {},
   "outputs": [],
   "source": [
    "static_f_model = keras.Sequential([\n",
    "    keras.layers.Dense(100, activation=\"relu\"),\n",
    "    keras.layers.Dense(1, activation=\"linear\")\n",
    "])"
   ]
  },
  {
   "cell_type": "code",
   "execution_count": 119,
   "id": "55a602e2",
   "metadata": {},
   "outputs": [],
   "source": [
    "adaptive_f_model = keras.Sequential([\n",
    "    keras.layers.Dense(100, activation=tf.nn.swish),\n",
    "    keras.layers.Dense(1, activation=\"linear\")\n",
    "])"
   ]
  },
  {
   "cell_type": "code",
   "execution_count": 127,
   "id": "99177453",
   "metadata": {},
   "outputs": [],
   "source": [
    "adaptive_nn_model = AdaptiveModel([\n",
    "    AdaptiveLayer(100, structure=[4, 2, 1], inner_hidden_activation=tf.nn.leaky_relu, \n",
    "                  inner_out_activation=tf.nn.relu, skip_w=1.7), \n",
    "    AdaptiveLayer(1, structure=[8, 4, 1], inner_hidden_activation=tf.nn.relu, skip_w=0.9) \n",
    "])"
   ]
  },
  {
   "cell_type": "code",
   "execution_count": 95,
   "id": "ddfa62fe",
   "metadata": {},
   "outputs": [],
   "source": [
    "adaptive_conv_nn_model = AdaptiveModel([\n",
    "    AdaptiveLayerConv(100, structure=[16], split=2, noise=0, skip_w=3.5, \n",
    "                      inner_hidden_activation=tf.nn.leaky_relu, inner_out_activation=tf.nn.leaky_relu), \n",
    "    AdaptiveLayerConv(1, structure=[32], split=2, noise=0, skip_w=1.5, \n",
    "                      inner_hidden_activation=tf.nn.leaky_relu) \n",
    "])"
   ]
  },
  {
   "cell_type": "code",
   "execution_count": 124,
   "id": "38652992",
   "metadata": {},
   "outputs": [],
   "source": [
    "static_f_model.compile(optimizer=tf.optimizers.Adam(learning_rate=0.001), \n",
    "                       loss=\"mse\", metrics=['mean_absolute_error'])"
   ]
  },
  {
   "cell_type": "code",
   "execution_count": 120,
   "id": "244180f9",
   "metadata": {},
   "outputs": [],
   "source": [
    "adaptive_f_model.compile(optimizer=tf.optimizers.Adam(learning_rate=0.001), \n",
    "                       loss=\"mse\", metrics=['mean_absolute_error'])"
   ]
  },
  {
   "cell_type": "code",
   "execution_count": 128,
   "id": "ca5dd089",
   "metadata": {},
   "outputs": [],
   "source": [
    "adaptive_nn_model.compile(optimizer=tf.optimizers.Adam(learning_rate=0.001), \n",
    "                       loss=\"mse\", metrics=['mean_absolute_error'])"
   ]
  },
  {
   "cell_type": "code",
   "execution_count": 99,
   "id": "dc0a4b48",
   "metadata": {},
   "outputs": [],
   "source": [
    "adaptive_conv_nn_model.compile(optimizer=tf.optimizers.Adam(learning_rate=0.001), \n",
    "                       loss=\"mse\", metrics=['mean_absolute_error'])"
   ]
  },
  {
   "cell_type": "code",
   "execution_count": 125,
   "id": "ee6ac750",
   "metadata": {
    "scrolled": true
   },
   "outputs": [
    {
     "name": "stdout",
     "output_type": "stream",
     "text": [
      "Epoch 1/50\n",
      "32/32 [==============================] - 0s 542us/step - loss: 48.2324 - mean_absolute_error: 5.9870\n",
      "Epoch 2/50\n",
      "32/32 [==============================] - 0s 532us/step - loss: 43.8060 - mean_absolute_error: 5.7043\n",
      "Epoch 3/50\n",
      "32/32 [==============================] - 0s 445us/step - loss: 35.4498 - mean_absolute_error: 5.1146\n",
      "Epoch 4/50\n",
      "32/32 [==============================] - 0s 491us/step - loss: 23.1258 - mean_absolute_error: 4.0807\n",
      "Epoch 5/50\n",
      "32/32 [==============================] - 0s 475us/step - loss: 9.8669 - mean_absolute_error: 2.5328\n",
      "Epoch 6/50\n",
      "32/32 [==============================] - 0s 493us/step - loss: 2.2475 - mean_absolute_error: 1.0433\n",
      "Epoch 7/50\n",
      "32/32 [==============================] - 0s 463us/step - loss: 0.6420 - mean_absolute_error: 0.6012\n",
      "Epoch 8/50\n",
      "32/32 [==============================] - 0s 501us/step - loss: 0.3857 - mean_absolute_error: 0.4814\n",
      "Epoch 9/50\n",
      "32/32 [==============================] - 0s 476us/step - loss: 0.2794 - mean_absolute_error: 0.4118\n",
      "Epoch 10/50\n",
      "32/32 [==============================] - 0s 498us/step - loss: 0.2272 - mean_absolute_error: 0.3755\n",
      "Epoch 11/50\n",
      "32/32 [==============================] - 0s 486us/step - loss: 0.1968 - mean_absolute_error: 0.3499\n",
      "Epoch 12/50\n",
      "32/32 [==============================] - 0s 471us/step - loss: 0.1770 - mean_absolute_error: 0.3331\n",
      "Epoch 13/50\n",
      "32/32 [==============================] - 0s 564us/step - loss: 0.1626 - mean_absolute_error: 0.3193\n",
      "Epoch 14/50\n",
      "32/32 [==============================] - 0s 499us/step - loss: 0.1484 - mean_absolute_error: 0.3043\n",
      "Epoch 15/50\n",
      "32/32 [==============================] - 0s 491us/step - loss: 0.1360 - mean_absolute_error: 0.2911\n",
      "Epoch 16/50\n",
      "32/32 [==============================] - 0s 508us/step - loss: 0.1274 - mean_absolute_error: 0.2807\n",
      "Epoch 17/50\n",
      "32/32 [==============================] - 0s 520us/step - loss: 0.1185 - mean_absolute_error: 0.2708\n",
      "Epoch 18/50\n",
      "32/32 [==============================] - 0s 506us/step - loss: 0.1129 - mean_absolute_error: 0.2635\n",
      "Epoch 19/50\n",
      "32/32 [==============================] - 0s 592us/step - loss: 0.1082 - mean_absolute_error: 0.2583\n",
      "Epoch 20/50\n",
      "32/32 [==============================] - 0s 564us/step - loss: 0.1040 - mean_absolute_error: 0.2530\n",
      "Epoch 21/50\n",
      "32/32 [==============================] - 0s 516us/step - loss: 0.1006 - mean_absolute_error: 0.2483\n",
      "Epoch 22/50\n",
      "32/32 [==============================] - 0s 489us/step - loss: 0.0982 - mean_absolute_error: 0.2461\n",
      "Epoch 23/50\n",
      "32/32 [==============================] - 0s 483us/step - loss: 0.0967 - mean_absolute_error: 0.2427\n",
      "Epoch 24/50\n",
      "32/32 [==============================] - 0s 487us/step - loss: 0.0921 - mean_absolute_error: 0.2385\n",
      "Epoch 25/50\n",
      "32/32 [==============================] - 0s 524us/step - loss: 0.0903 - mean_absolute_error: 0.2361\n",
      "Epoch 26/50\n",
      "32/32 [==============================] - 0s 445us/step - loss: 0.0878 - mean_absolute_error: 0.2315\n",
      "Epoch 27/50\n",
      "32/32 [==============================] - 0s 459us/step - loss: 0.0877 - mean_absolute_error: 0.2318\n",
      "Epoch 28/50\n",
      "32/32 [==============================] - 0s 450us/step - loss: 0.0856 - mean_absolute_error: 0.2307\n",
      "Epoch 29/50\n",
      "32/32 [==============================] - 0s 432us/step - loss: 0.0829 - mean_absolute_error: 0.2264\n",
      "Epoch 30/50\n",
      "32/32 [==============================] - 0s 497us/step - loss: 0.0815 - mean_absolute_error: 0.2229\n",
      "Epoch 31/50\n",
      "32/32 [==============================] - 0s 463us/step - loss: 0.0800 - mean_absolute_error: 0.2214\n",
      "Epoch 32/50\n",
      "32/32 [==============================] - 0s 505us/step - loss: 0.0783 - mean_absolute_error: 0.2183\n",
      "Epoch 33/50\n",
      "32/32 [==============================] - 0s 527us/step - loss: 0.0775 - mean_absolute_error: 0.2164\n",
      "Epoch 34/50\n",
      "32/32 [==============================] - 0s 456us/step - loss: 0.0767 - mean_absolute_error: 0.2153\n",
      "Epoch 35/50\n",
      "32/32 [==============================] - 0s 502us/step - loss: 0.0742 - mean_absolute_error: 0.2121\n",
      "Epoch 36/50\n",
      "32/32 [==============================] - 0s 528us/step - loss: 0.0731 - mean_absolute_error: 0.2108\n",
      "Epoch 37/50\n",
      "32/32 [==============================] - 0s 479us/step - loss: 0.0712 - mean_absolute_error: 0.2082\n",
      "Epoch 38/50\n",
      "32/32 [==============================] - 0s 517us/step - loss: 0.0705 - mean_absolute_error: 0.2062\n",
      "Epoch 39/50\n",
      "32/32 [==============================] - 0s 503us/step - loss: 0.0688 - mean_absolute_error: 0.2042\n",
      "Epoch 40/50\n",
      "32/32 [==============================] - 0s 553us/step - loss: 0.0684 - mean_absolute_error: 0.2036\n",
      "Epoch 41/50\n",
      "32/32 [==============================] - 0s 521us/step - loss: 0.0665 - mean_absolute_error: 0.2006\n",
      "Epoch 42/50\n",
      "32/32 [==============================] - 0s 499us/step - loss: 0.0657 - mean_absolute_error: 0.1994\n",
      "Epoch 43/50\n",
      "32/32 [==============================] - 0s 501us/step - loss: 0.0636 - mean_absolute_error: 0.1965\n",
      "Epoch 44/50\n",
      "32/32 [==============================] - 0s 511us/step - loss: 0.0633 - mean_absolute_error: 0.1952\n",
      "Epoch 45/50\n",
      "32/32 [==============================] - 0s 500us/step - loss: 0.0624 - mean_absolute_error: 0.1942\n",
      "Epoch 46/50\n",
      "32/32 [==============================] - 0s 526us/step - loss: 0.0608 - mean_absolute_error: 0.1916\n",
      "Epoch 47/50\n",
      "32/32 [==============================] - 0s 520us/step - loss: 0.0597 - mean_absolute_error: 0.1896\n",
      "Epoch 48/50\n",
      "32/32 [==============================] - 0s 513us/step - loss: 0.0591 - mean_absolute_error: 0.1880\n",
      "Epoch 49/50\n",
      "32/32 [==============================] - 0s 550us/step - loss: 0.0593 - mean_absolute_error: 0.1895\n",
      "Epoch 50/50\n",
      "32/32 [==============================] - 0s 510us/step - loss: 0.0560 - mean_absolute_error: 0.1840\n"
     ]
    }
   ],
   "source": [
    "hist = static_f_model.fit(x_train, y_train, epochs=EPOCHS, batch_size=64)"
   ]
  },
  {
   "cell_type": "code",
   "execution_count": 101,
   "id": "fece44b0",
   "metadata": {},
   "outputs": [],
   "source": [
    "static_f_hist[0][:] += np.array(hist.history[\"loss\"])/measurements\n",
    "static_f_hist[1][:] += np.array(hist.history[\"mean_absolute_error\"])/measurements"
   ]
  },
  {
   "cell_type": "code",
   "execution_count": 121,
   "id": "8c508df0",
   "metadata": {
    "scrolled": true
   },
   "outputs": [
    {
     "name": "stdout",
     "output_type": "stream",
     "text": [
      "Epoch 1/50\n",
      "32/32 [==============================] - 0s 522us/step - loss: 47.2514 - mean_absolute_error: 5.9259\n",
      "Epoch 2/50\n",
      "32/32 [==============================] - 0s 474us/step - loss: 41.7826 - mean_absolute_error: 5.5801\n",
      "Epoch 3/50\n",
      "32/32 [==============================] - 0s 472us/step - loss: 32.8103 - mean_absolute_error: 4.9058\n",
      "Epoch 4/50\n",
      "32/32 [==============================] - 0s 494us/step - loss: 21.8025 - mean_absolute_error: 3.8312\n",
      "Epoch 5/50\n",
      "32/32 [==============================] - 0s 497us/step - loss: 12.9521 - mean_absolute_error: 2.6605\n",
      "Epoch 6/50\n",
      "32/32 [==============================] - 0s 513us/step - loss: 7.1831 - mean_absolute_error: 1.7577\n",
      "Epoch 7/50\n",
      "32/32 [==============================] - 0s 530us/step - loss: 3.6013 - mean_absolute_error: 1.2247\n",
      "Epoch 8/50\n",
      "32/32 [==============================] - 0s 537us/step - loss: 1.8407 - mean_absolute_error: 0.9682\n",
      "Epoch 9/50\n",
      "32/32 [==============================] - 0s 528us/step - loss: 1.0688 - mean_absolute_error: 0.7793\n",
      "Epoch 10/50\n",
      "32/32 [==============================] - 0s 553us/step - loss: 0.6941 - mean_absolute_error: 0.6348\n",
      "Epoch 11/50\n",
      "32/32 [==============================] - 0s 496us/step - loss: 0.5040 - mean_absolute_error: 0.5449\n",
      "Epoch 12/50\n",
      "32/32 [==============================] - 0s 538us/step - loss: 0.4019 - mean_absolute_error: 0.4961\n",
      "Epoch 13/50\n",
      "32/32 [==============================] - 0s 532us/step - loss: 0.3420 - mean_absolute_error: 0.4639\n",
      "Epoch 14/50\n",
      "32/32 [==============================] - 0s 512us/step - loss: 0.3051 - mean_absolute_error: 0.4440\n",
      "Epoch 15/50\n",
      "32/32 [==============================] - 0s 533us/step - loss: 0.2820 - mean_absolute_error: 0.4314\n",
      "Epoch 16/50\n",
      "32/32 [==============================] - 0s 545us/step - loss: 0.2646 - mean_absolute_error: 0.4183\n",
      "Epoch 17/50\n",
      "32/32 [==============================] - 0s 551us/step - loss: 0.2509 - mean_absolute_error: 0.4120\n",
      "Epoch 18/50\n",
      "32/32 [==============================] - 0s 550us/step - loss: 0.2406 - mean_absolute_error: 0.4054\n",
      "Epoch 19/50\n",
      "32/32 [==============================] - 0s 532us/step - loss: 0.2297 - mean_absolute_error: 0.3956\n",
      "Epoch 20/50\n",
      "32/32 [==============================] - 0s 583us/step - loss: 0.2210 - mean_absolute_error: 0.3875\n",
      "Epoch 21/50\n",
      "32/32 [==============================] - 0s 572us/step - loss: 0.2115 - mean_absolute_error: 0.3814\n",
      "Epoch 22/50\n",
      "32/32 [==============================] - 0s 501us/step - loss: 0.2015 - mean_absolute_error: 0.3715\n",
      "Epoch 23/50\n",
      "32/32 [==============================] - 0s 496us/step - loss: 0.1943 - mean_absolute_error: 0.3656\n",
      "Epoch 24/50\n",
      "32/32 [==============================] - 0s 521us/step - loss: 0.1836 - mean_absolute_error: 0.3552\n",
      "Epoch 25/50\n",
      "32/32 [==============================] - 0s 481us/step - loss: 0.1747 - mean_absolute_error: 0.3485\n",
      "Epoch 26/50\n",
      "32/32 [==============================] - 0s 490us/step - loss: 0.1655 - mean_absolute_error: 0.3374\n",
      "Epoch 27/50\n",
      "32/32 [==============================] - 0s 516us/step - loss: 0.1560 - mean_absolute_error: 0.3290\n",
      "Epoch 28/50\n",
      "32/32 [==============================] - 0s 503us/step - loss: 0.1480 - mean_absolute_error: 0.3192\n",
      "Epoch 29/50\n",
      "32/32 [==============================] - 0s 491us/step - loss: 0.1370 - mean_absolute_error: 0.3069\n",
      "Epoch 30/50\n",
      "32/32 [==============================] - 0s 515us/step - loss: 0.1280 - mean_absolute_error: 0.2964\n",
      "Epoch 31/50\n",
      "32/32 [==============================] - 0s 497us/step - loss: 0.1202 - mean_absolute_error: 0.2856\n",
      "Epoch 32/50\n",
      "32/32 [==============================] - 0s 488us/step - loss: 0.1106 - mean_absolute_error: 0.2742\n",
      "Epoch 33/50\n",
      "32/32 [==============================] - 0s 501us/step - loss: 0.1013 - mean_absolute_error: 0.2611\n",
      "Epoch 34/50\n",
      "32/32 [==============================] - 0s 491us/step - loss: 0.0944 - mean_absolute_error: 0.2526\n",
      "Epoch 35/50\n",
      "32/32 [==============================] - 0s 523us/step - loss: 0.0862 - mean_absolute_error: 0.2393\n",
      "Epoch 36/50\n",
      "32/32 [==============================] - 0s 512us/step - loss: 0.0804 - mean_absolute_error: 0.2327\n",
      "Epoch 37/50\n",
      "32/32 [==============================] - 0s 497us/step - loss: 0.0722 - mean_absolute_error: 0.2168\n",
      "Epoch 38/50\n",
      "32/32 [==============================] - 0s 532us/step - loss: 0.0659 - mean_absolute_error: 0.2054\n",
      "Epoch 39/50\n",
      "32/32 [==============================] - 0s 588us/step - loss: 0.0608 - mean_absolute_error: 0.1974\n",
      "Epoch 40/50\n",
      "32/32 [==============================] - 0s 537us/step - loss: 0.0546 - mean_absolute_error: 0.1867\n",
      "Epoch 41/50\n",
      "32/32 [==============================] - 0s 519us/step - loss: 0.0506 - mean_absolute_error: 0.1795\n",
      "Epoch 42/50\n",
      "32/32 [==============================] - 0s 542us/step - loss: 0.0470 - mean_absolute_error: 0.1726\n",
      "Epoch 43/50\n",
      "32/32 [==============================] - 0s 527us/step - loss: 0.0423 - mean_absolute_error: 0.1644\n",
      "Epoch 44/50\n",
      "32/32 [==============================] - 0s 521us/step - loss: 0.0397 - mean_absolute_error: 0.1576\n",
      "Epoch 45/50\n",
      "32/32 [==============================] - 0s 558us/step - loss: 0.0364 - mean_absolute_error: 0.1503\n",
      "Epoch 46/50\n",
      "32/32 [==============================] - 0s 529us/step - loss: 0.0343 - mean_absolute_error: 0.1456\n",
      "Epoch 47/50\n",
      "32/32 [==============================] - 0s 497us/step - loss: 0.0317 - mean_absolute_error: 0.1396\n",
      "Epoch 48/50\n",
      "32/32 [==============================] - 0s 531us/step - loss: 0.0295 - mean_absolute_error: 0.1357\n",
      "Epoch 49/50\n",
      "32/32 [==============================] - 0s 530us/step - loss: 0.0278 - mean_absolute_error: 0.1309\n",
      "Epoch 50/50\n",
      "32/32 [==============================] - 0s 510us/step - loss: 0.0269 - mean_absolute_error: 0.1286\n"
     ]
    }
   ],
   "source": [
    "hist = adaptive_f_model.fit(x_train, y_train, epochs=EPOCHS, batch_size=64)"
   ]
  },
  {
   "cell_type": "code",
   "execution_count": 103,
   "id": "a562778c",
   "metadata": {},
   "outputs": [],
   "source": [
    "adaptive_f_hist[0][:] += np.array(hist.history[\"loss\"])/measurements\n",
    "adaptive_f_hist[1][:] += np.array(hist.history[\"mean_absolute_error\"])/measurements"
   ]
  },
  {
   "cell_type": "code",
   "execution_count": 129,
   "id": "61fe894f",
   "metadata": {
    "scrolled": true
   },
   "outputs": [
    {
     "name": "stdout",
     "output_type": "stream",
     "text": [
      "Epoch 1/50\n",
      "32/32 [==============================] - 0s 1ms/step - loss: 47.7877 - mean_absolute_error: 5.9591\n",
      "Epoch 2/50\n",
      "32/32 [==============================] - 0s 1ms/step - loss: 42.6438 - mean_absolute_error: 5.6335\n",
      "Epoch 3/50\n",
      "32/32 [==============================] - 0s 1ms/step - loss: 32.1062 - mean_absolute_error: 4.8787\n",
      "Epoch 4/50\n",
      "32/32 [==============================] - 0s 1ms/step - loss: 17.0858 - mean_absolute_error: 3.5315\n",
      "Epoch 5/50\n",
      "32/32 [==============================] - 0s 1ms/step - loss: 4.3115 - mean_absolute_error: 1.6767\n",
      "Epoch 6/50\n",
      "32/32 [==============================] - 0s 1ms/step - loss: 0.3122 - mean_absolute_error: 0.4093\n",
      "Epoch 7/50\n",
      "32/32 [==============================] - 0s 1ms/step - loss: 0.1610 - mean_absolute_error: 0.3144\n",
      "Epoch 8/50\n",
      "32/32 [==============================] - 0s 1ms/step - loss: 0.1411 - mean_absolute_error: 0.2884\n",
      "Epoch 9/50\n",
      "32/32 [==============================] - 0s 1ms/step - loss: 0.1324 - mean_absolute_error: 0.2790\n",
      "Epoch 10/50\n",
      "32/32 [==============================] - 0s 1ms/step - loss: 0.1258 - mean_absolute_error: 0.2740\n",
      "Epoch 11/50\n",
      "32/32 [==============================] - 0s 1ms/step - loss: 0.1196 - mean_absolute_error: 0.2667\n",
      "Epoch 12/50\n",
      "32/32 [==============================] - 0s 1ms/step - loss: 0.1141 - mean_absolute_error: 0.2595\n",
      "Epoch 13/50\n",
      "32/32 [==============================] - 0s 1ms/step - loss: 0.1101 - mean_absolute_error: 0.2557\n",
      "Epoch 14/50\n",
      "32/32 [==============================] - 0s 1ms/step - loss: 0.1041 - mean_absolute_error: 0.2473\n",
      "Epoch 15/50\n",
      "32/32 [==============================] - 0s 1ms/step - loss: 0.0988 - mean_absolute_error: 0.2404\n",
      "Epoch 16/50\n",
      "32/32 [==============================] - 0s 1ms/step - loss: 0.0924 - mean_absolute_error: 0.2331\n",
      "Epoch 17/50\n",
      "32/32 [==============================] - 0s 1ms/step - loss: 0.0843 - mean_absolute_error: 0.2203\n",
      "Epoch 18/50\n",
      "32/32 [==============================] - 0s 1ms/step - loss: 0.0733 - mean_absolute_error: 0.2045\n",
      "Epoch 19/50\n",
      "32/32 [==============================] - 0s 1ms/step - loss: 0.0616 - mean_absolute_error: 0.1881\n",
      "Epoch 20/50\n",
      "32/32 [==============================] - 0s 1ms/step - loss: 0.0494 - mean_absolute_error: 0.1671\n",
      "Epoch 21/50\n",
      "32/32 [==============================] - 0s 1ms/step - loss: 0.0365 - mean_absolute_error: 0.1431\n",
      "Epoch 22/50\n",
      "32/32 [==============================] - 0s 1ms/step - loss: 0.0261 - mean_absolute_error: 0.1189\n",
      "Epoch 23/50\n",
      "32/32 [==============================] - 0s 1ms/step - loss: 0.0177 - mean_absolute_error: 0.0991\n",
      "Epoch 24/50\n",
      "32/32 [==============================] - 0s 1ms/step - loss: 0.0133 - mean_absolute_error: 0.0875\n",
      "Epoch 25/50\n",
      "32/32 [==============================] - 0s 1ms/step - loss: 0.0108 - mean_absolute_error: 0.0798\n",
      "Epoch 26/50\n",
      "32/32 [==============================] - 0s 1ms/step - loss: 0.0096 - mean_absolute_error: 0.0752\n",
      "Epoch 27/50\n",
      "32/32 [==============================] - 0s 1ms/step - loss: 0.0087 - mean_absolute_error: 0.0720\n",
      "Epoch 28/50\n",
      "32/32 [==============================] - 0s 1ms/step - loss: 0.0081 - mean_absolute_error: 0.0698\n",
      "Epoch 29/50\n",
      "32/32 [==============================] - 0s 1ms/step - loss: 0.0076 - mean_absolute_error: 0.0680\n",
      "Epoch 30/50\n",
      "32/32 [==============================] - 0s 2ms/step - loss: 0.0071 - mean_absolute_error: 0.0656\n",
      "Epoch 31/50\n",
      "32/32 [==============================] - 0s 2ms/step - loss: 0.0067 - mean_absolute_error: 0.0642\n",
      "Epoch 32/50\n",
      "32/32 [==============================] - 0s 2ms/step - loss: 0.0064 - mean_absolute_error: 0.0625\n",
      "Epoch 33/50\n",
      "32/32 [==============================] - 0s 2ms/step - loss: 0.0063 - mean_absolute_error: 0.0620\n",
      "Epoch 34/50\n",
      "32/32 [==============================] - 0s 2ms/step - loss: 0.0058 - mean_absolute_error: 0.0597\n",
      "Epoch 35/50\n",
      "32/32 [==============================] - 0s 2ms/step - loss: 0.0059 - mean_absolute_error: 0.0601\n",
      "Epoch 36/50\n",
      "32/32 [==============================] - 0s 1ms/step - loss: 0.0056 - mean_absolute_error: 0.0589\n",
      "Epoch 37/50\n",
      "32/32 [==============================] - 0s 1ms/step - loss: 0.0055 - mean_absolute_error: 0.0585\n",
      "Epoch 38/50\n",
      "32/32 [==============================] - 0s 1ms/step - loss: 0.0054 - mean_absolute_error: 0.0575\n",
      "Epoch 39/50\n",
      "32/32 [==============================] - 0s 1ms/step - loss: 0.0051 - mean_absolute_error: 0.0560\n",
      "Epoch 40/50\n",
      "32/32 [==============================] - 0s 1ms/step - loss: 0.0049 - mean_absolute_error: 0.0552\n",
      "Epoch 41/50\n",
      "32/32 [==============================] - 0s 1ms/step - loss: 0.0048 - mean_absolute_error: 0.0549\n",
      "Epoch 42/50\n",
      "32/32 [==============================] - 0s 1ms/step - loss: 0.0047 - mean_absolute_error: 0.0538\n",
      "Epoch 43/50\n",
      "32/32 [==============================] - 0s 1ms/step - loss: 0.0046 - mean_absolute_error: 0.0532\n",
      "Epoch 44/50\n",
      "32/32 [==============================] - 0s 1ms/step - loss: 0.0045 - mean_absolute_error: 0.0530\n",
      "Epoch 45/50\n",
      "32/32 [==============================] - 0s 1ms/step - loss: 0.0044 - mean_absolute_error: 0.0519\n",
      "Epoch 46/50\n",
      "32/32 [==============================] - 0s 1ms/step - loss: 0.0043 - mean_absolute_error: 0.0512\n",
      "Epoch 47/50\n",
      "32/32 [==============================] - 0s 1ms/step - loss: 0.0045 - mean_absolute_error: 0.0532\n",
      "Epoch 48/50\n",
      "32/32 [==============================] - 0s 1ms/step - loss: 0.0041 - mean_absolute_error: 0.0506\n",
      "Epoch 49/50\n",
      "32/32 [==============================] - 0s 1ms/step - loss: 0.0039 - mean_absolute_error: 0.0495\n",
      "Epoch 50/50\n",
      "32/32 [==============================] - 0s 1ms/step - loss: 0.0039 - mean_absolute_error: 0.0494\n"
     ]
    }
   ],
   "source": [
    "hist = adaptive_nn_model.fit(x_train, y_train, epochs=EPOCHS, batch_size=64)"
   ]
  },
  {
   "cell_type": "code",
   "execution_count": 105,
   "id": "e8f541f1",
   "metadata": {},
   "outputs": [],
   "source": [
    "adaptive_nn_hist[0][:] += np.array(hist.history[\"loss\"])/measurements\n",
    "adaptive_nn_hist[1][:] += np.array(hist.history[\"mean_absolute_error\"])/measurements"
   ]
  },
  {
   "cell_type": "code",
   "execution_count": 106,
   "id": "3cfa80f9",
   "metadata": {
    "scrolled": true
   },
   "outputs": [
    {
     "name": "stdout",
     "output_type": "stream",
     "text": [
      "Epoch 1/50\n",
      "32/32 [==============================] - 0s 1ms/step - loss: 45.5868 - mean_absolute_error: 5.8138\n",
      "Epoch 2/50\n",
      "32/32 [==============================] - 0s 1ms/step - loss: 20.7833 - mean_absolute_error: 3.7005\n",
      "Epoch 3/50\n",
      "32/32 [==============================] - 0s 1ms/step - loss: 1.0703 - mean_absolute_error: 0.8596\n",
      "Epoch 4/50\n",
      "32/32 [==============================] - 0s 1ms/step - loss: 0.5184 - mean_absolute_error: 0.6043\n",
      "Epoch 5/50\n",
      "32/32 [==============================] - 0s 1ms/step - loss: 0.3975 - mean_absolute_error: 0.5244\n",
      "Epoch 6/50\n",
      "32/32 [==============================] - 0s 1ms/step - loss: 0.3133 - mean_absolute_error: 0.4680\n",
      "Epoch 7/50\n",
      "32/32 [==============================] - 0s 1ms/step - loss: 0.2478 - mean_absolute_error: 0.4124\n",
      "Epoch 8/50\n",
      "32/32 [==============================] - 0s 1ms/step - loss: 0.1906 - mean_absolute_error: 0.3592\n",
      "Epoch 9/50\n",
      "32/32 [==============================] - 0s 1ms/step - loss: 0.1472 - mean_absolute_error: 0.3115\n",
      "Epoch 10/50\n",
      "32/32 [==============================] - 0s 1ms/step - loss: 0.1148 - mean_absolute_error: 0.2737\n",
      "Epoch 11/50\n",
      "32/32 [==============================] - 0s 2ms/step - loss: 0.0848 - mean_absolute_error: 0.2334\n",
      "Epoch 12/50\n",
      "32/32 [==============================] - 0s 1ms/step - loss: 0.0677 - mean_absolute_error: 0.2034\n",
      "Epoch 13/50\n",
      "32/32 [==============================] - 0s 2ms/step - loss: 0.0534 - mean_absolute_error: 0.1798\n",
      "Epoch 14/50\n",
      "32/32 [==============================] - 0s 1ms/step - loss: 0.0420 - mean_absolute_error: 0.1589\n",
      "Epoch 15/50\n",
      "32/32 [==============================] - 0s 2ms/step - loss: 0.0377 - mean_absolute_error: 0.1490\n",
      "Epoch 16/50\n",
      "32/32 [==============================] - 0s 1ms/step - loss: 0.0305 - mean_absolute_error: 0.1341\n",
      "Epoch 17/50\n",
      "32/32 [==============================] - 0s 1ms/step - loss: 0.0269 - mean_absolute_error: 0.1265\n",
      "Epoch 18/50\n",
      "32/32 [==============================] - 0s 1ms/step - loss: 0.0226 - mean_absolute_error: 0.1149\n",
      "Epoch 19/50\n",
      "32/32 [==============================] - 0s 1ms/step - loss: 0.0196 - mean_absolute_error: 0.1076\n",
      "Epoch 20/50\n",
      "32/32 [==============================] - 0s 1ms/step - loss: 0.0176 - mean_absolute_error: 0.1020\n",
      "Epoch 21/50\n",
      "32/32 [==============================] - 0s 1ms/step - loss: 0.0167 - mean_absolute_error: 0.0996\n",
      "Epoch 22/50\n",
      "32/32 [==============================] - 0s 1ms/step - loss: 0.0159 - mean_absolute_error: 0.0982\n",
      "Epoch 23/50\n",
      "32/32 [==============================] - 0s 1ms/step - loss: 0.0147 - mean_absolute_error: 0.0947\n",
      "Epoch 24/50\n",
      "32/32 [==============================] - 0s 1ms/step - loss: 0.0144 - mean_absolute_error: 0.0940\n",
      "Epoch 25/50\n",
      "32/32 [==============================] - 0s 1ms/step - loss: 0.0129 - mean_absolute_error: 0.0885\n",
      "Epoch 26/50\n",
      "32/32 [==============================] - 0s 1ms/step - loss: 0.0129 - mean_absolute_error: 0.0885\n",
      "Epoch 27/50\n",
      "32/32 [==============================] - 0s 1ms/step - loss: 0.0126 - mean_absolute_error: 0.0883\n",
      "Epoch 28/50\n",
      "32/32 [==============================] - 0s 1ms/step - loss: 0.0121 - mean_absolute_error: 0.0860\n",
      "Epoch 29/50\n",
      "32/32 [==============================] - 0s 1ms/step - loss: 0.0108 - mean_absolute_error: 0.0815\n",
      "Epoch 30/50\n",
      "32/32 [==============================] - 0s 1ms/step - loss: 0.0105 - mean_absolute_error: 0.0797\n",
      "Epoch 31/50\n",
      "32/32 [==============================] - 0s 1ms/step - loss: 0.0103 - mean_absolute_error: 0.0794\n",
      "Epoch 32/50\n",
      "32/32 [==============================] - 0s 1ms/step - loss: 0.0103 - mean_absolute_error: 0.0803\n",
      "Epoch 33/50\n",
      "32/32 [==============================] - 0s 1ms/step - loss: 0.0093 - mean_absolute_error: 0.0754\n",
      "Epoch 34/50\n",
      "32/32 [==============================] - 0s 1ms/step - loss: 0.0091 - mean_absolute_error: 0.0751\n",
      "Epoch 35/50\n",
      "32/32 [==============================] - 0s 1ms/step - loss: 0.0083 - mean_absolute_error: 0.0719\n",
      "Epoch 36/50\n",
      "32/32 [==============================] - 0s 1ms/step - loss: 0.0083 - mean_absolute_error: 0.0711\n",
      "Epoch 37/50\n",
      "32/32 [==============================] - 0s 1ms/step - loss: 0.0085 - mean_absolute_error: 0.0719\n",
      "Epoch 38/50\n",
      "32/32 [==============================] - 0s 1ms/step - loss: 0.0080 - mean_absolute_error: 0.0704\n",
      "Epoch 39/50\n",
      "32/32 [==============================] - 0s 1ms/step - loss: 0.0077 - mean_absolute_error: 0.0690\n",
      "Epoch 40/50\n",
      "32/32 [==============================] - 0s 1ms/step - loss: 0.0072 - mean_absolute_error: 0.0673\n",
      "Epoch 41/50\n",
      "32/32 [==============================] - 0s 1ms/step - loss: 0.0075 - mean_absolute_error: 0.0679\n",
      "Epoch 42/50\n",
      "32/32 [==============================] - 0s 1ms/step - loss: 0.0073 - mean_absolute_error: 0.0667\n",
      "Epoch 43/50\n",
      "32/32 [==============================] - 0s 1ms/step - loss: 0.0072 - mean_absolute_error: 0.0669\n",
      "Epoch 44/50\n",
      "32/32 [==============================] - 0s 1ms/step - loss: 0.0068 - mean_absolute_error: 0.0645\n",
      "Epoch 45/50\n",
      "32/32 [==============================] - 0s 1ms/step - loss: 0.0064 - mean_absolute_error: 0.0633\n",
      "Epoch 46/50\n",
      "32/32 [==============================] - 0s 1ms/step - loss: 0.0070 - mean_absolute_error: 0.0654\n",
      "Epoch 47/50\n",
      "32/32 [==============================] - 0s 1ms/step - loss: 0.0071 - mean_absolute_error: 0.0668\n",
      "Epoch 48/50\n",
      "32/32 [==============================] - 0s 1ms/step - loss: 0.0059 - mean_absolute_error: 0.0608\n",
      "Epoch 49/50\n",
      "32/32 [==============================] - 0s 1ms/step - loss: 0.0063 - mean_absolute_error: 0.0628\n",
      "Epoch 50/50\n",
      "32/32 [==============================] - 0s 1ms/step - loss: 0.0060 - mean_absolute_error: 0.0612\n"
     ]
    }
   ],
   "source": [
    "hist = adaptive_conv_nn_model.fit(x_train, y_train, epochs=EPOCHS, batch_size=64)"
   ]
  },
  {
   "cell_type": "code",
   "execution_count": 107,
   "id": "cc4d7788",
   "metadata": {},
   "outputs": [],
   "source": [
    "adaptive_conv_nn_hist[0][:] += np.array(hist.history[\"loss\"])/measurements\n",
    "adaptive_conv_nn_hist[1][:] += np.array(hist.history[\"mean_absolute_error\"])/measurements"
   ]
  },
  {
   "cell_type": "code",
   "execution_count": 126,
   "id": "df20e870",
   "metadata": {},
   "outputs": [
    {
     "name": "stdout",
     "output_type": "stream",
     "text": [
      "16/16 [==============================] - 0s 441us/step - loss: 0.0749 - mean_absolute_error: 0.2093\n"
     ]
    }
   ],
   "source": [
    "static_f_test += static_f_model.evaluate(x_test, y_test)[1]/measurements"
   ]
  },
  {
   "cell_type": "code",
   "execution_count": 122,
   "id": "5cc36cc4",
   "metadata": {},
   "outputs": [
    {
     "name": "stdout",
     "output_type": "stream",
     "text": [
      "16/16 [==============================] - 0s 436us/step - loss: 0.0300 - mean_absolute_error: 0.1344\n"
     ]
    }
   ],
   "source": [
    "adaptive_f_test += adaptive_f_model.evaluate(x_test, y_test)[1]/measurements"
   ]
  },
  {
   "cell_type": "code",
   "execution_count": 130,
   "id": "19df7397",
   "metadata": {},
   "outputs": [
    {
     "name": "stdout",
     "output_type": "stream",
     "text": [
      "16/16 [==============================] - 0s 809us/step - loss: 0.0055 - mean_absolute_error: 0.0558\n"
     ]
    }
   ],
   "source": [
    "adaptive_nn_test += adaptive_nn_model.evaluate(x_test, y_test)[1]/measurements"
   ]
  },
  {
   "cell_type": "code",
   "execution_count": 111,
   "id": "ce1aae25",
   "metadata": {},
   "outputs": [
    {
     "name": "stdout",
     "output_type": "stream",
     "text": [
      "16/16 [==============================] - 0s 577us/step - loss: 0.0077 - mean_absolute_error: 0.0661\n",
      "---------FINISH---------\n"
     ]
    }
   ],
   "source": [
    "adaptive_conv_nn_test += adaptive_conv_nn_model.evaluate(x_test, y_test)[1]/measurements\n",
    "flag -= 1\n",
    "if(flag == 0):\n",
    "    print(\"---------FINISH---------\")"
   ]
  },
  {
   "cell_type": "code",
   "execution_count": null,
   "id": "45e08645",
   "metadata": {},
   "outputs": [],
   "source": []
  },
  {
   "cell_type": "code",
   "execution_count": 113,
   "id": "bc1dda17",
   "metadata": {},
   "outputs": [
    {
     "name": "stdout",
     "output_type": "stream",
     "text": [
      "Static Function model\n",
      "Test mean_absolute_error :  0.16981326043605804\n",
      "\n",
      "Adaptive Function model\n",
      "Test mean_absolute_error :  0.10132564902305603\n",
      "\n",
      "Adaptive NN model\n",
      "Test mean_absolute_error :  0.06793228834867478\n",
      "\n",
      "Adaptive Conv NN model\n",
      "Test mean_absolute_error :  0.06774483025074006\n"
     ]
    }
   ],
   "source": [
    "print(\"Static Function model\\nTest mean_absolute_error : \", static_f_test)\n",
    "print(\"\\nAdaptive Function model\\nTest mean_absolute_error : \", adaptive_f_test)\n",
    "print(\"\\nAdaptive NN model\\nTest mean_absolute_error : \", adaptive_nn_test)\n",
    "print(\"\\nAdaptive Conv NN model\\nTest mean_absolute_error : \", adaptive_conv_nn_test)"
   ]
  },
  {
   "cell_type": "code",
   "execution_count": 114,
   "id": "49fe6589",
   "metadata": {},
   "outputs": [
    {
     "data": {
      "image/png": "[encoded data removed]",
      "text/plain": [
       "<Figure size 720x504 with 1 Axes>"
      ]
     },
     "metadata": {
      "needs_background": "light"
     },
     "output_type": "display_data"
    }
   ],
   "source": [
    "illustrate_train(name+\" Training Loss\", \"Loss\", static_f_hist[0][:], \n",
    "                 adaptive_f_hist[0][:], adaptive_nn_hist[0][:], adaptive_conv_nn_hist[0][:])"
   ]
  },
  {
   "cell_type": "code",
   "execution_count": 131,
   "id": "2ed4731a",
   "metadata": {
    "scrolled": false
   },
   "outputs": [
    {
     "data": {
      "image/png": "[encoded data removed]",
      "text/plain": [
       "<Figure size 720x504 with 1 Axes>"
      ]
     },
     "metadata": {
      "needs_background": "light"
     },
     "output_type": "display_data"
    }
   ],
   "source": [
    "illustrate_train(name + \" Training Mean Absolute Error\", \"mean absolute error\", static_f_hist[1][:], \n",
    "                 adaptive_f_hist[1][:], adaptive_nn_hist[1][:], adaptive_conv_nn_hist[1][:])"
   ]
  },
  {
   "cell_type": "code",
   "execution_count": 140,
   "id": "8385dc4e",
   "metadata": {},
   "outputs": [
    {
     "data": {
      "image/png": "[encoded data removed]",
      "text/plain": [
       "<Figure size 720x504 with 1 Axes>"
      ]
     },
     "metadata": {
      "needs_background": "light"
     },
     "output_type": "display_data"
    }
   ],
   "source": [
    "illustrate_test(name + \" Test\", \n",
    "                static_f_test, adaptive_f_test, adaptive_nn_test, adaptive_conv_nn_test)"
   ]
  },
  {
   "cell_type": "code",
   "execution_count": 118,
   "id": "309eb3d1",
   "metadata": {},
   "outputs": [],
   "source": [
    "save_data(name, static_f_hist, adaptive_f_hist, adaptive_nn_hist, \n",
    "          adaptive_conv_nn_hist, static_f_test, adaptive_f_test, adaptive_nn_test, adaptive_conv_nn_test)"
   ]
  }
 ],
 "metadata": {
  "kernelspec": {
   "display_name": "Python 3 (ipykernel)",
   "language": "python",
   "name": "python3"
  },
  "language_info": {
   "codemirror_mode": {
    "name": "ipython",
    "version": 3
   },
   "file_extension": ".py",
   "mimetype": "text/x-python",
   "name": "python",
   "nbconvert_exporter": "python",
   "pygments_lexer": "ipython3",
   "version": "3.9.5"
  }
 },
 "nbformat": 4,
 "nbformat_minor": 5
}
